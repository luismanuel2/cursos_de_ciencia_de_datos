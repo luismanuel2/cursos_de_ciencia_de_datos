{
 "cells": [
  {
   "cell_type": "markdown",
   "metadata": {},
   "source": [
    "# Convolutional Neural Networks: Application\n",
    "\n",
    "Welcome to Course 4's second assignment! In this notebook, you will:\n",
    "\n",
    "- Create a mood classifer using the TF Keras Sequential API\n",
    "- Build a ConvNet to identify sign language digits using the TF Keras Functional API\n",
    "\n",
    "**After this assignment you will be able to:**\n",
    "\n",
    "- Build and train a ConvNet in TensorFlow for a __binary__ classification problem\n",
    "- Build and train a ConvNet in TensorFlow for a __multiclass__ classification problem\n",
    "- Explain different use cases for the Sequential and Functional APIs\n",
    "\n",
    "To complete this assignment, you should already be familiar with TensorFlow. If you are not, please refer back to the **TensorFlow Tutorial** of the third week of Course 2 (\"**Improving deep neural networks**\").\n",
    "\n",
    "## Important Note on Submission to the AutoGrader\n",
    "\n",
    "Before submitting your assignment to the AutoGrader, please make sure you are not doing the following:\n",
    "\n",
    "1. You have not added any _extra_ `print` statement(s) in the assignment.\n",
    "2. You have not added any _extra_ code cell(s) in the assignment.\n",
    "3. You have not changed any of the function parameters.\n",
    "4. You are not using any global variables inside your graded exercises. Unless specifically instructed to do so, please refrain from it and use the local variables instead.\n",
    "5. You are not changing the assignment code where it is not required, like creating _extra_ variables.\n",
    "\n",
    "If you do any of the following, you will get something like, `Grader not found` (or similarly unexpected) error upon submitting your assignment. Before asking for help/debugging the errors in your assignment, check for these first. If this is the case, and you don't remember the changes you have made, you can get a fresh copy of the assignment by following these [instructions](https://www.coursera.org/learn/convolutional-neural-networks/supplement/DS4yP/h-ow-to-refresh-your-workspace)."
   ]
  },
  {
   "cell_type": "markdown",
   "metadata": {},
   "source": [
    "## Table of Contents\n",
    "\n",
    "- [1 - Packages](#1)\n",
    "    - [1.1 - Load the Data and Split the Data into Train/Test Sets](#1-1)\n",
    "- [2 - Layers in TF Keras](#2)\n",
    "- [3 - The Sequential API](#3)\n",
    "    - [3.1 - Create the Sequential Model](#3-1)\n",
    "        - [Exercise 1 - happyModel](#ex-1)\n",
    "    - [3.2 - Train and Evaluate the Model](#3-2)\n",
    "- [4 - The Functional API](#4)\n",
    "    - [4.1 - Load the SIGNS Dataset](#4-1)\n",
    "    - [4.2 - Split the Data into Train/Test Sets](#4-2)\n",
    "    - [4.3 - Forward Propagation](#4-3)\n",
    "        - [Exercise 2 - convolutional_model](#ex-2)\n",
    "    - [4.4 - Train the Model](#4-4)\n",
    "- [5 - History Object](#5)\n",
    "- [6 - Bibliography](#6)"
   ]
  },
  {
   "cell_type": "markdown",
   "metadata": {},
   "source": [
    "<a name='1'></a>\n",
    "## 1 - Packages\n",
    "\n",
    "As usual, begin by loading in the packages."
   ]
  },
  {
   "cell_type": "code",
   "execution_count": 3,
   "metadata": {},
   "outputs": [],
   "source": [
    "import math\n",
    "import numpy as np\n",
    "import h5py\n",
    "import matplotlib.pyplot as plt\n",
    "from matplotlib.pyplot import imread\n",
    "import scipy\n",
    "from PIL import Image\n",
    "import pandas as pd\n",
    "import tensorflow as tf\n",
    "import tensorflow.keras.layers as tfl\n",
    "from tensorflow.python.framework import ops\n",
    "from cnn_utils import *\n",
    "from test_utils import summary, comparator\n",
    "\n",
    "%matplotlib inline\n",
    "np.random.seed(1)"
   ]
  },
  {
   "cell_type": "markdown",
   "metadata": {},
   "source": [
    "<a name='1-1'></a>\n",
    "### 1.1 - Load the Data and Split the Data into Train/Test Sets\n",
    "\n",
    "You'll be using the Happy House dataset for this part of the assignment, which contains images of peoples' faces. Your task will be to build a ConvNet that determines whether the people in the images are smiling or not -- because they only get to enter the house if they're smiling!  "
   ]
  },
  {
   "cell_type": "code",
   "execution_count": 4,
   "metadata": {},
   "outputs": [
    {
     "name": "stdout",
     "output_type": "stream",
     "text": [
      "number of training examples = 600\n",
      "number of test examples = 150\n",
      "X_train shape: (600, 64, 64, 3)\n",
      "Y_train shape: (600, 1)\n",
      "X_test shape: (150, 64, 64, 3)\n",
      "Y_test shape: (150, 1)\n"
     ]
    }
   ],
   "source": [
    "X_train_orig, Y_train_orig, X_test_orig, Y_test_orig, classes = load_happy_dataset()\n",
    "\n",
    "# Normalize image vectors\n",
    "X_train = X_train_orig/255.\n",
    "X_test = X_test_orig/255.\n",
    "\n",
    "# Reshape\n",
    "Y_train = Y_train_orig.T\n",
    "Y_test = Y_test_orig.T\n",
    "\n",
    "print (\"number of training examples = \" + str(X_train.shape[0]))\n",
    "print (\"number of test examples = \" + str(X_test.shape[0]))\n",
    "print (\"X_train shape: \" + str(X_train.shape))\n",
    "print (\"Y_train shape: \" + str(Y_train.shape))\n",
    "print (\"X_test shape: \" + str(X_test.shape))\n",
    "print (\"Y_test shape: \" + str(Y_test.shape))"
   ]
  },
  {
   "cell_type": "markdown",
   "metadata": {},
   "source": [
    "You can display the images contained in the dataset. Images are **64x64** pixels in RGB format (3 channels)."
   ]
  },
  {
   "cell_type": "code",
   "execution_count": 5,
   "metadata": {},
   "outputs": [
    {
     "data": {
      "image/png": "[encoded data removed]",
      "text/plain": [
       "<Figure size 432x288 with 1 Axes>"
      ]
     },
     "metadata": {
      "needs_background": "light"
     },
     "output_type": "display_data"
    }
   ],
   "source": [
    "index = 124\n",
    "plt.imshow(X_train_orig[index]) #display sample training image\n",
    "plt.show()"
   ]
  },
  {
   "cell_type": "markdown",
   "metadata": {},
   "source": [
    "<a name='2'></a>\n",
    "## 2 - Layers in TF Keras \n",
    "\n",
    "In the previous assignment, you created layers manually in numpy. In TF Keras, you don't have to write code directly to create layers. Rather, TF Keras has pre-defined layers you can use. \n",
    "\n",
    "When you create a layer in TF Keras, you are creating a function that takes some input and transforms it into an output you can reuse later. Nice and easy! "
   ]
  },
  {
   "cell_type": "markdown",
   "metadata": {},
   "source": [
    "<a name='3'></a>\n",
    "## 3 - The Sequential API\n",
    "\n",
    "In the previous assignment, you built helper functions using `numpy` to understand the mechanics behind convolutional neural networks. Most practical applications of deep learning today are built using programming frameworks, which have many built-in functions you can simply call. Keras is a high-level abstraction built on top of TensorFlow, which allows for even more simplified and optimized model creation and training. \n",
    "\n",
    "For the first part of this assignment, you'll create a model using TF Keras' Sequential API, which allows you to build layer by layer, and is ideal for building models where each layer has **exactly one** input tensor and **one** output tensor. \n",
    "\n",
    "As you'll see, using the Sequential API is simple and straightforward, but is only appropriate for simpler, more straightforward tasks. Later in this notebook you'll spend some time building with a more flexible, powerful alternative: the Functional API. \n",
    " "
   ]
  },
  {
   "cell_type": "markdown",
   "metadata": {},
   "source": [
    "<a name='3-1'></a>\n",
    "### 3.1 - Create the Sequential Model\n",
    "\n",
    "As mentioned earlier, the TensorFlow Keras Sequential API can be used to build simple models with layer operations that proceed in a sequential order. \n",
    "\n",
    "You can also add layers incrementally to a Sequential model with the `.add()` method, or remove them using the `.pop()` method, much like you would in a regular Python list.\n",
    "\n",
    "Actually, you can think of a Sequential model as behaving like a list of layers. Like Python lists, Sequential layers are ordered, and the order in which they are specified matters.  If your model is non-linear or contains layers with multiple inputs or outputs, a Sequential model wouldn't be the right choice!\n",
    "\n",
    "For any layer construction in Keras, you'll need to specify the input shape in advance. This is because in Keras, the shape of the weights is based on the shape of the inputs. The weights are only created when the model first sees some input data. Sequential models can be created by passing a list of layers to the Sequential constructor, like you will do in the next assignment.\n",
    "\n",
    "<a name='ex-1'></a>\n",
    "### Exercise 1 - happyModel\n",
    "\n",
    "Implement the `happyModel` function below to build the following model: `ZEROPAD2D -> CONV2D -> BATCHNORM -> RELU -> MAXPOOL -> FLATTEN -> DENSE`. Take help from [tf.keras.layers](https://www.tensorflow.org/api_docs/python/tf/keras/layers) \n",
    "\n",
    "Also, plug in the following parameters for all the steps:\n",
    "\n",
    " - [ZeroPadding2D](https://www.tensorflow.org/api_docs/python/tf/keras/layers/ZeroPadding2D): padding 3, input shape 64 x 64 x 3\n",
    " - [Conv2D](https://www.tensorflow.org/api_docs/python/tf/keras/layers/Conv2D): Use 32 7x7 filters, stride 1\n",
    " - [BatchNormalization](https://www.tensorflow.org/api_docs/python/tf/keras/layers/BatchNormalization): for axis 3\n",
    " - [ReLU](https://www.tensorflow.org/api_docs/python/tf/keras/layers/ReLU)\n",
    " - [MaxPool2D](https://www.tensorflow.org/api_docs/python/tf/keras/layers/MaxPool2D): Using default parameters\n",
    " - [Flatten](https://www.tensorflow.org/api_docs/python/tf/keras/layers/Flatten) the previous output.\n",
    " - Fully-connected ([Dense](https://www.tensorflow.org/api_docs/python/tf/keras/layers/Dense)) layer: Apply a fully connected layer with 1 neuron and a sigmoid activation. \n",
    " \n",
    " \n",
    " **Hint:**\n",
    " \n",
    " Use **tfl** as shorthand for **tensorflow.keras.layers**"
   ]
  },
  {
   "cell_type": "code",
   "execution_count": 9,
   "metadata": {
    "deletable": false,
    "nbgrader": {
     "cell_type": "code",
     "checksum": "95d28b191f257bdd5b70c7b8952559d5",
     "grade": false,
     "grade_id": "cell-0e56d3fc28b69aec",
     "locked": false,
     "schema_version": 3,
     "solution": true,
     "task": false
    }
   },
   "outputs": [],
   "source": [
    "# GRADED FUNCTION: happyModel\n",
    "\n",
    "def happyModel():\n",
    "    \"\"\"\n",
    "    Implements the forward propagation for the binary classification model:\n",
    "    ZEROPAD2D -> CONV2D -> BATCHNORM -> RELU -> MAXPOOL -> FLATTEN -> DENSE\n",
    "    \n",
    "    Note that for simplicity and grading purposes, you'll hard-code all the values\n",
    "    such as the stride and kernel (filter) sizes. \n",
    "    Normally, functions should take these values as function parameters.\n",
    "    \n",
    "    Arguments:\n",
    "    None\n",
    "\n",
    "    Returns:\n",
    "    model -- TF Keras model (object containing the information for the entire training process) \n",
    "    \"\"\"\n",
    "    input_shape = (64,64,3)\n",
    "    model = tf.keras.Sequential([\n",
    "            ## ZeroPadding2D with padding 3, input shape of 64 x 64 x 3\n",
    "            tfl.ZeroPadding2D((3,3),input_shape=input_shape),\n",
    "            ## Conv2D with 32 7x7 filters and stride of 1\n",
    "            tfl.Conv2D(filters = 32, kernel_size = (7,7),strides = (1,1)),\n",
    "            ## BatchNormalization for axis 3\n",
    "            tfl.BatchNormalization(axis = 3),\n",
    "            ## ReLU\n",
    "            tfl.ReLU(),\n",
    "            \n",
    "            ## Max Pooling 2D with default parameters\n",
    "            \n",
    "            tfl.MaxPool2D(),\n",
    "            ## Flatten layer\n",
    "            tfl.Flatten(),\n",
    "            ## Dense layer with 1 unit for output & 'sigmoid' activation\n",
    "            tfl.Dense(1,activation= 'sigmoid')\n",
    "            # YOUR CODE STARTS HERE\n",
    "            \n",
    "            \n",
    "            # YOUR CODE ENDS HERE\n",
    "        ])\n",
    "    \n",
    "    return model"
   ]
  },
  {
   "cell_type": "code",
   "execution_count": 10,
   "metadata": {
    "deletable": false,
    "editable": false,
    "nbgrader": {
     "cell_type": "code",
     "checksum": "8d3575c950e2e78149be2d05d671c80d",
     "grade": true,
     "grade_id": "cell-e3e1046e5c33d775",
     "locked": true,
     "points": 10,
     "schema_version": 3,
     "solution": false,
     "task": false
    }
   },
   "outputs": [
    {
     "name": "stdout",
     "output_type": "stream",
     "text": [
      "['ZeroPadding2D', (None, 70, 70, 3), 0, ((3, 3), (3, 3))]\n",
      "['Conv2D', (None, 64, 64, 32), 4736, 'valid', 'linear', 'GlorotUniform']\n",
      "['BatchNormalization', (None, 64, 64, 32), 128]\n",
      "['ReLU', (None, 64, 64, 32), 0]\n",
      "['MaxPooling2D', (None, 32, 32, 32), 0, (2, 2), (2, 2), 'valid']\n",
      "['Flatten', (None, 32768), 0]\n",
      "['Dense', (None, 1), 32769, 'sigmoid']\n",
      "\u001b[32mAll tests passed!\u001b[0m\n"
     ]
    }
   ],
   "source": [
    "happy_model = happyModel()\n",
    "# Print a summary for each layer\n",
    "for layer in summary(happy_model):\n",
    "    print(layer)\n",
    "    \n",
    "output = [['ZeroPadding2D', (None, 70, 70, 3), 0, ((3, 3), (3, 3))],\n",
    "            ['Conv2D', (None, 64, 64, 32), 4736, 'valid', 'linear', 'GlorotUniform'],\n",
    "            ['BatchNormalization', (None, 64, 64, 32), 128],\n",
    "            ['ReLU', (None, 64, 64, 32), 0],\n",
    "            ['MaxPooling2D', (None, 32, 32, 32), 0, (2, 2), (2, 2), 'valid'],\n",
    "            ['Flatten', (None, 32768), 0],\n",
    "            ['Dense', (None, 1), 32769, 'sigmoid']]\n",
    "    \n",
    "comparator(summary(happy_model), output)"
   ]
  },
  {
   "cell_type": "markdown",
   "metadata": {},
   "source": [
    "#### Expected Output:\n",
    "\n",
    "```\n",
    "['ZeroPadding2D', (None, 70, 70, 3), 0, ((3, 3), (3, 3))]\n",
    "['Conv2D', (None, 64, 64, 32), 4736, 'valid', 'linear', 'GlorotUniform']\n",
    "['BatchNormalization', (None, 64, 64, 32), 128]\n",
    "['ReLU', (None, 64, 64, 32), 0]\n",
    "['MaxPooling2D', (None, 32, 32, 32), 0, (2, 2), (2, 2), 'valid']\n",
    "['Flatten', (None, 32768), 0]\n",
    "['Dense', (None, 1), 32769, 'sigmoid']\n",
    "All tests passed!\n",
    "```"
   ]
  },
  {
   "cell_type": "markdown",
   "metadata": {},
   "source": [
    "Now that your model is created, you can compile it for training with an optimizer and loss of your choice. When the string `accuracy` is specified as a metric, the type of accuracy used will be automatically converted based on the loss function used. This is one of the many optimizations built into TensorFlow that make your life easier! If you'd like to read more on how the compiler operates, check the docs [here](https://www.tensorflow.org/api_docs/python/tf/keras/Model#compile)."
   ]
  },
  {
   "cell_type": "code",
   "execution_count": 11,
   "metadata": {},
   "outputs": [],
   "source": [
    "happy_model.compile(optimizer='adam',\n",
    "                   loss='binary_crossentropy',\n",
    "                   metrics=['accuracy'])"
   ]
  },
  {
   "cell_type": "markdown",
   "metadata": {},
   "source": [
    "It's time to check your model's parameters with the `.summary()` method. This will display the types of layers you have, the shape of the outputs, and how many parameters are in each layer. "
   ]
  },
  {
   "cell_type": "code",
   "execution_count": 12,
   "metadata": {},
   "outputs": [
    {
     "name": "stdout",
     "output_type": "stream",
     "text": [
      "Model: \"sequential\"\n",
      "_________________________________________________________________\n",
      "Layer (type)                 Output Shape              Param #   \n",
      "=================================================================\n",
      "zero_padding2d_2 (ZeroPaddin (None, 70, 70, 3)         0         \n",
      "_________________________________________________________________\n",
      "conv2d (Conv2D)              (None, 64, 64, 32)        4736      \n",
      "_________________________________________________________________\n",
      "batch_normalization (BatchNo (None, 64, 64, 32)        128       \n",
      "_________________________________________________________________\n",
      "re_lu (ReLU)                 (None, 64, 64, 32)        0         \n",
      "_________________________________________________________________\n",
      "max_pooling2d (MaxPooling2D) (None, 32, 32, 32)        0         \n",
      "_________________________________________________________________\n",
      "flatten (Flatten)            (None, 32768)             0         \n",
      "_________________________________________________________________\n",
      "dense (Dense)                (None, 1)                 32769     \n",
      "=================================================================\n",
      "Total params: 37,633\n",
      "Trainable params: 37,569\n",
      "Non-trainable params: 64\n",
      "_________________________________________________________________\n"
     ]
    }
   ],
   "source": [
    "happy_model.summary()"
   ]
  },
  {
   "cell_type": "markdown",
   "metadata": {},
   "source": [
    "<a name='3-2'></a>\n",
    "### 3.2 - Train and Evaluate the Model\n",
    "\n",
    "After creating the model, compiling it with your choice of optimizer and loss function, and doing a sanity check on its contents, you are now ready to build! \n",
    "\n",
    "Simply call `.fit()` to train. That's it! No need for mini-batching, saving, or complex backpropagation computations. That's all been done for you, as you're using a TensorFlow dataset with the batches specified already. You do have the option to specify epoch number or minibatch size if you like (for example, in the case of an un-batched dataset)."
   ]
  },
  {
   "cell_type": "code",
   "execution_count": 13,
   "metadata": {},
   "outputs": [
    {
     "name": "stdout",
     "output_type": "stream",
     "text": [
      "Epoch 1/10\n",
      "38/38 [==============================] - 4s 103ms/step - loss: 1.8800 - accuracy: 0.6483\n",
      "Epoch 2/10\n",
      "38/38 [==============================] - 4s 97ms/step - loss: 0.2401 - accuracy: 0.8883\n",
      "Epoch 3/10\n",
      "38/38 [==============================] - 4s 95ms/step - loss: 0.1311 - accuracy: 0.9517\n",
      "Epoch 4/10\n",
      "38/38 [==============================] - 4s 95ms/step - loss: 0.1416 - accuracy: 0.9317\n",
      "Epoch 5/10\n",
      "38/38 [==============================] - 4s 95ms/step - loss: 0.0845 - accuracy: 0.9700\n",
      "Epoch 6/10\n",
      "38/38 [==============================] - 4s 97ms/step - loss: 0.0948 - accuracy: 0.9617\n",
      "Epoch 7/10\n",
      "38/38 [==============================] - 4s 95ms/step - loss: 0.0691 - accuracy: 0.9817\n",
      "Epoch 8/10\n",
      "38/38 [==============================] - 4s 95ms/step - loss: 0.0785 - accuracy: 0.9700\n",
      "Epoch 9/10\n",
      "38/38 [==============================] - 4s 98ms/step - loss: 0.1199 - accuracy: 0.9650\n",
      "Epoch 10/10\n",
      "38/38 [==============================] - 4s 95ms/step - loss: 0.0724 - accuracy: 0.9767\n"
     ]
    },
    {
     "data": {
      "text/plain": [
       "<tensorflow.python.keras.callbacks.History at 0x7f7bf1009190>"
      ]
     },
     "execution_count": 13,
     "metadata": {},
     "output_type": "execute_result"
    }
   ],
   "source": [
    "happy_model.fit(X_train, Y_train, epochs=10, batch_size=16)"
   ]
  },
  {
   "cell_type": "markdown",
   "metadata": {},
   "source": [
    "After that completes, just use `.evaluate()` to evaluate against your test set. This function will print the value of the loss function and the performance metrics specified during the compilation of the model. In this case, the `binary_crossentropy` and the `accuracy` respectively."
   ]
  },
  {
   "cell_type": "code",
   "execution_count": 14,
   "metadata": {},
   "outputs": [
    {
     "name": "stdout",
     "output_type": "stream",
     "text": [
      "5/5 [==============================] - 0s 23ms/step - loss: 0.3022 - accuracy: 0.8667\n"
     ]
    },
    {
     "data": {
      "text/plain": [
       "[0.3022003471851349, 0.8666666746139526]"
      ]
     },
     "execution_count": 14,
     "metadata": {},
     "output_type": "execute_result"
    }
   ],
   "source": [
    "happy_model.evaluate(X_test, Y_test)"
   ]
  },
  {
   "cell_type": "markdown",
   "metadata": {},
   "source": [
    "Easy, right? But what if you need to build a model with shared layers, branches, or multiple inputs and outputs? This is where Sequential, with its beautifully simple yet limited functionality, won't be able to help you. \n",
    "\n",
    "Next up: Enter the Functional API, your slightly more complex, highly flexible friend.  "
   ]
  },
  {
   "cell_type": "markdown",
   "metadata": {},
   "source": [
    "<a name='4'></a>\n",
    "## 4 - The Functional API"
   ]
  },
  {
   "cell_type": "markdown",
   "metadata": {},
   "source": [
    "Welcome to the second half of the assignment, where you'll use Keras' flexible [Functional API](https://www.tensorflow.org/guide/keras/functional) to build a ConvNet that can differentiate between 6 sign language digits. \n",
    "\n",
    "The Functional API can handle models with non-linear topology, shared layers, as well as layers with multiple inputs or outputs. Imagine that, where the Sequential API requires the model to move in a linear fashion through its layers, the Functional API allows much more flexibility. Where Sequential is a straight line, a Functional model is a graph, where the nodes of the layers can connect in many more ways than one. \n",
    "\n",
    "In the visual example below, the one possible direction of the movement Sequential model is shown in contrast to a skip connection, which is just one of the many ways a Functional model can be constructed. A skip connection, as you might have guessed, skips some layer in the network and feeds the output to a later layer in the network. Don't worry, you'll be spending more time with skip connections very soon! "
   ]
  },
  {
   "cell_type": "markdown",
   "metadata": {},
   "source": [
    "<img src=\"images/seq_vs_func.png\" style=\"width:350px;height:200px;\">"
   ]
  },
  {
   "cell_type": "markdown",
   "metadata": {},
   "source": [
    "<a name='4-1'></a>\n",
    "### 4.1 - Load the SIGNS Dataset\n",
    "\n",
    "As a reminder, the SIGNS dataset is a collection of 6 signs representing numbers from 0 to 5."
   ]
  },
  {
   "cell_type": "code",
   "execution_count": null,
   "metadata": {},
   "outputs": [],
   "source": [
    "# Loading the data (signs)\n",
    "X_train_orig, Y_train_orig, X_test_orig, Y_test_orig, classes = load_signs_dataset()"
   ]
  },
  {
   "cell_type": "markdown",
   "metadata": {},
   "source": [
    "<img src=\"images/SIGNS.png\" style=\"width:800px;height:300px;\">\n",
    "\n",
    "The next cell will show you an example of a labelled image in the dataset. Feel free to change the value of `index` below and re-run to see different examples. "
   ]
  },
  {
   "cell_type": "code",
   "execution_count": 15,
   "metadata": {},
   "outputs": [
    {
     "name": "stdout",
     "output_type": "stream",
     "text": [
      "y = 1\n"
     ]
    },
    {
     "data": {
      "image/png": "[encoded data removed]",
      "text/plain": [
       "<Figure size 432x288 with 1 Axes>"
      ]
     },
     "metadata": {
      "needs_background": "light"
     },
     "output_type": "display_data"
    }
   ],
   "source": [
    "# Example of an image from the dataset\n",
    "index = 9\n",
    "plt.imshow(X_train_orig[index])\n",
    "print (\"y = \" + str(np.squeeze(Y_train_orig[:, index])))"
   ]
  },
  {
   "cell_type": "markdown",
   "metadata": {},
   "source": [
    "<a name='4-2'></a>\n",
    "### 4.2 - Split the Data into Train/Test Sets\n",
    "\n",
    "In Course 2, you built a fully-connected network for this dataset. But since this is an image dataset, it is more natural to apply a ConvNet to it.\n",
    "\n",
    "To get started, let's examine the shapes of your data. "
   ]
  },
  {
   "cell_type": "code",
   "execution_count": 16,
   "metadata": {},
   "outputs": [
    {
     "name": "stdout",
     "output_type": "stream",
     "text": [
      "number of training examples = 600\n",
      "number of test examples = 150\n",
      "X_train shape: (600, 64, 64, 3)\n",
      "Y_train shape: (600, 6)\n",
      "X_test shape: (150, 64, 64, 3)\n",
      "Y_test shape: (150, 6)\n"
     ]
    }
   ],
   "source": [
    "X_train = X_train_orig/255.\n",
    "X_test = X_test_orig/255.\n",
    "Y_train = convert_to_one_hot(Y_train_orig, 6).T\n",
    "Y_test = convert_to_one_hot(Y_test_orig, 6).T\n",
    "print (\"number of training examples = \" + str(X_train.shape[0]))\n",
    "print (\"number of test examples = \" + str(X_test.shape[0]))\n",
    "print (\"X_train shape: \" + str(X_train.shape))\n",
    "print (\"Y_train shape: \" + str(Y_train.shape))\n",
    "print (\"X_test shape: \" + str(X_test.shape))\n",
    "print (\"Y_test shape: \" + str(Y_test.shape))"
   ]
  },
  {
   "cell_type": "markdown",
   "metadata": {},
   "source": [
    "<a name='4-3'></a>\n",
    "### 4.3 - Forward Propagation\n",
    "\n",
    "In TensorFlow, there are built-in functions that implement the convolution steps for you. By now, you should be familiar with how TensorFlow builds computational graphs. In the [Functional API](https://www.tensorflow.org/guide/keras/functional), you create a graph of layers. This is what allows such great flexibility.\n",
    "\n",
    "However, the following model could also be defined using the Sequential API since the information flow is on a single line. But don't deviate. What we want you to learn is to use the functional API.\n",
    "\n",
    "Begin building your graph of layers by creating an input node that functions as a callable object:\n",
    "\n",
    "- **input_img = tf.keras.Input(shape=input_shape):** \n",
    "\n",
    "Then, create a new node in the graph of layers by calling a layer on the `input_img` object: \n",
    "\n",
    "- **tf.keras.layers.Conv2D(filters= ... , kernel_size= ... , padding='same')(input_img):** Read the full documentation on [Conv2D](https://www.tensorflow.org/api_docs/python/tf/keras/layers/Conv2D).\n",
    "\n",
    "- **tf.keras.layers.MaxPool2D(pool_size=(f, f), strides=(s, s), padding='same'):** `MaxPool2D()` downsamples your input using a window of size (f, f) and strides of size (s, s) to carry out max pooling over each window.  For max pooling, you usually operate on a single example at a time and a single channel at a time. Read the full documentation on [MaxPool2D](https://www.tensorflow.org/api_docs/python/tf/keras/layers/MaxPool2D).\n",
    "\n",
    "- **tf.keras.layers.ReLU():** computes the elementwise ReLU of Z (which can be any shape). You can read the full documentation on [ReLU](https://www.tensorflow.org/api_docs/python/tf/keras/layers/ReLU).\n",
    "\n",
    "- **tf.keras.layers.Flatten()**: given a tensor \"P\", this function takes each training (or test) example in the batch and flattens it into a 1D vector.  \n",
    "\n",
    "    * If a tensor P has the shape (batch_size,h,w,c), it returns a flattened tensor with shape (batch_size, k), where $k=h \\times w \\times c$.  \"k\" equals the product of all the dimension sizes other than the first dimension.\n",
    "    \n",
    "    * For example, given a tensor with dimensions [100, 2, 3, 4], it flattens the tensor to be of shape [100, 24], where 24 = 2 * 3 * 4.  You can read the full documentation on [Flatten](https://www.tensorflow.org/api_docs/python/tf/keras/layers/Flatten).\n",
    "\n",
    "- **tf.keras.layers.Dense(units= ... , activation='softmax')(F):** given the flattened input F, it returns the output computed using a fully connected layer. You can read the full documentation on [Dense](https://www.tensorflow.org/api_docs/python/tf/keras/layers/Dense).\n",
    "\n",
    "In the last function above (`tf.keras.layers.Dense()`), the fully connected layer automatically initializes weights in the graph and keeps on training them as you train the model. Hence, you did not need to initialize those weights when initializing the parameters.\n",
    "\n",
    "Lastly, before creating the model, you'll need to define the output using the last of the function's compositions (in this example, a Dense layer): \n",
    "\n",
    "- **outputs = tf.keras.layers.Dense(units=6, activation='softmax')(F)**\n",
    "\n",
    "\n",
    "#### Window, kernel, filter, pool\n",
    "\n",
    "The words \"kernel\" and \"filter\" are used to refer to the same thing. The word \"filter\" accounts for the amount of \"kernels\" that will be used in a single convolution layer. \"Pool\" is the name of the operation that takes the max or average value of the kernels. \n",
    "\n",
    "This is why the parameter `pool_size` refers to `kernel_size`, and you use `(f,f)` to refer to the filter size. \n",
    "\n",
    "Pool size and kernel size refer to the same thing in different objects - They refer to the shape of the window where the operation takes place. "
   ]
  },
  {
   "cell_type": "markdown",
   "metadata": {},
   "source": [
    "<a name='ex-2'></a>\n",
    "### Exercise 2 - convolutional_model\n",
    "\n",
    "Implement the `convolutional_model` function below to build the following model: `CONV2D -> RELU -> MAXPOOL -> CONV2D -> RELU -> MAXPOOL -> FLATTEN -> DENSE`. Use the functions above! \n",
    "\n",
    "Also, plug in the following parameters for all the steps:\n",
    "\n",
    " - [Conv2D](https://www.tensorflow.org/api_docs/python/tf/keras/layers/Conv2D): Use 8 4 by 4 filters, stride 1, padding is \"SAME\"\n",
    " - [ReLU](https://www.tensorflow.org/api_docs/python/tf/keras/layers/ReLU)\n",
    " - [MaxPool2D](https://www.tensorflow.org/api_docs/python/tf/keras/layers/MaxPool2D): Use an 8 by 8 filter size and an 8 by 8 stride, padding is \"SAME\"\n",
    " - **Conv2D**: Use 16 2 by 2 filters, stride 1, padding is \"SAME\"\n",
    " - **ReLU**\n",
    " - **MaxPool2D**: Use a 4 by 4 filter size and a 4 by 4 stride, padding is \"SAME\"\n",
    " - [Flatten](https://www.tensorflow.org/api_docs/python/tf/keras/layers/Flatten) the previous output.\n",
    " - Fully-connected ([Dense](https://www.tensorflow.org/api_docs/python/tf/keras/layers/Dense)) layer: Apply a fully connected layer with 6 neurons and a softmax activation. "
   ]
  },
  {
   "cell_type": "code",
   "execution_count": 21,
   "metadata": {
    "deletable": false,
    "nbgrader": {
     "cell_type": "code",
     "checksum": "f58643806aa8380c96225fc8b4c5e7aa",
     "grade": false,
     "grade_id": "cell-dac51744a9e03f51",
     "locked": false,
     "schema_version": 3,
     "solution": true,
     "task": false
    }
   },
   "outputs": [],
   "source": [
    "# GRADED FUNCTION: convolutional_model\n",
    "\n",
    "def convolutional_model(input_shape):\n",
    "    \"\"\"\n",
    "    Implements the forward propagation for the model:\n",
    "    CONV2D -> RELU -> MAXPOOL -> CONV2D -> RELU -> MAXPOOL -> FLATTEN -> DENSE\n",
    "    \n",
    "    Note that for simplicity and grading purposes, you'll hard-code some values\n",
    "    such as the stride and kernel (filter) sizes. \n",
    "    Normally, functions should take these values as function parameters.\n",
    "    \n",
    "    Arguments:\n",
    "    input_img -- input dataset, of shape (input_shape)\n",
    "\n",
    "    Returns:\n",
    "    model -- TF Keras model (object containing the information for the entire training process) \n",
    "    \"\"\"\n",
    "\n",
    "    input_img = tf.keras.Input(shape=input_shape)\n",
    "    ## CONV2D: 8 filters 4x4, stride of 1, padding 'SAME'\n",
    "    Z1 = tfl.Conv2D(filters = 8 , kernel_size = (4,4),  padding ='SAME')(input_img)\n",
    "    ## RELU\n",
    "    A1 = tfl.ReLU()(Z1)\n",
    "    ## MAXPOOL: window 8x8, stride 8, padding 'SAME'\n",
    "    P1 = tfl.MaxPool2D(pool_size=(8,8), strides=(8,8), padding='same')(A1)\n",
    "    ## CONV2D: 16 filters 2x2, stride 1, padding 'SAME'\n",
    "    Z2 = tfl.Conv2D(filters = 16 , kernel_size = (2,2),  padding ='SAME')(P1)\n",
    "    ## RELU\n",
    "    A2 = tfl.ReLU()(Z2)\n",
    "    ## MAXPOOL: window 4x4, stride 4, padding 'SAME'\n",
    "    P2 = tfl.MaxPool2D(pool_size=(4,4), strides=(4,4), padding='same')(A2)\n",
    "    ## FLATTEN\n",
    "    F = tfl.Flatten()(P2)\n",
    "    ## Dense layer\n",
    "    ## 6 neurons in output layer. Hint: one of the arguments should be \"activation='softmax'\" \n",
    "    outputs = tfl.Dense(6,activation = 'softmax' )(F)\n",
    "    # YOUR CODE STARTS HERE\n",
    "    \n",
    "    \n",
    "    # YOUR CODE ENDS HERE\n",
    "    model = tf.keras.Model(inputs=input_img, outputs=outputs)\n",
    "    return model"
   ]
  },
  {
   "cell_type": "code",
   "execution_count": 22,
   "metadata": {
    "deletable": false,
    "editable": false,
    "nbgrader": {
     "cell_type": "code",
     "checksum": "483d626949930a0b0ef20997e7c6ba72",
     "grade": true,
     "grade_id": "cell-45d22e92042174c9",
     "locked": true,
     "points": 10,
     "schema_version": 3,
     "solution": false,
     "task": false
    }
   },
   "outputs": [
    {
     "name": "stdout",
     "output_type": "stream",
     "text": [
      "Model: \"functional_2\"\n",
      "_________________________________________________________________\n",
      "Layer (type)                 Output Shape              Param #   \n",
      "=================================================================\n",
      "input_3 (InputLayer)         [(None, 64, 64, 3)]       0         \n",
      "_________________________________________________________________\n",
      "conv2d_5 (Conv2D)            (None, 64, 64, 8)         392       \n",
      "_________________________________________________________________\n",
      "re_lu_5 (ReLU)               (None, 64, 64, 8)         0         \n",
      "_________________________________________________________________\n",
      "max_pooling2d_5 (MaxPooling2 (None, 8, 8, 8)           0         \n",
      "_________________________________________________________________\n",
      "conv2d_6 (Conv2D)            (None, 8, 8, 16)          528       \n",
      "_________________________________________________________________\n",
      "re_lu_6 (ReLU)               (None, 8, 8, 16)          0         \n",
      "_________________________________________________________________\n",
      "max_pooling2d_6 (MaxPooling2 (None, 2, 2, 16)          0         \n",
      "_________________________________________________________________\n",
      "flatten_3 (Flatten)          (None, 64)                0         \n",
      "_________________________________________________________________\n",
      "dense_2 (Dense)              (None, 6)                 390       \n",
      "=================================================================\n",
      "Total params: 1,310\n",
      "Trainable params: 1,310\n",
      "Non-trainable params: 0\n",
      "_________________________________________________________________\n",
      "\u001b[32mAll tests passed!\u001b[0m\n"
     ]
    }
   ],
   "source": [
    "conv_model = convolutional_model((64, 64, 3))\n",
    "conv_model.compile(optimizer='adam',\n",
    "                  loss='categorical_crossentropy',\n",
    "                  metrics=['accuracy'])\n",
    "conv_model.summary()\n",
    "    \n",
    "output = [['InputLayer', [(None, 64, 64, 3)], 0],\n",
    "        ['Conv2D', (None, 64, 64, 8), 392, 'same', 'linear', 'GlorotUniform'],\n",
    "        ['ReLU', (None, 64, 64, 8), 0],\n",
    "        ['MaxPooling2D', (None, 8, 8, 8), 0, (8, 8), (8, 8), 'same'],\n",
    "        ['Conv2D', (None, 8, 8, 16), 528, 'same', 'linear', 'GlorotUniform'],\n",
    "        ['ReLU', (None, 8, 8, 16), 0],\n",
    "        ['MaxPooling2D', (None, 2, 2, 16), 0, (4, 4), (4, 4), 'same'],\n",
    "        ['Flatten', (None, 64), 0],\n",
    "        ['Dense', (None, 6), 390, 'softmax']]\n",
    "    \n",
    "comparator(summary(conv_model), output)"
   ]
  },
  {
   "cell_type": "markdown",
   "metadata": {},
   "source": [
    "Both the Sequential and Functional APIs return a TF Keras model object. The only difference is how inputs are handled inside the object model! "
   ]
  },
  {
   "cell_type": "markdown",
   "metadata": {},
   "source": [
    "<a name='4-4'></a>\n",
    "### 4.4 - Train the Model"
   ]
  },
  {
   "cell_type": "code",
   "execution_count": 23,
   "metadata": {},
   "outputs": [
    {
     "name": "stdout",
     "output_type": "stream",
     "text": [
      "Epoch 1/100\n",
      "10/10 [==============================] - 1s 110ms/step - loss: 1.9175 - accuracy: 0.4983 - val_loss: 1.6749 - val_accuracy: 0.4400\n",
      "Epoch 2/100\n",
      "10/10 [==============================] - 1s 101ms/step - loss: 1.4025 - accuracy: 0.5000 - val_loss: 1.2897 - val_accuracy: 0.4400\n",
      "Epoch 3/100\n",
      "10/10 [==============================] - 1s 100ms/step - loss: 1.1256 - accuracy: 0.5000 - val_loss: 1.0434 - val_accuracy: 0.4400\n",
      "Epoch 4/100\n",
      "10/10 [==============================] - 1s 110ms/step - loss: 0.9185 - accuracy: 0.5000 - val_loss: 0.8389 - val_accuracy: 0.4400\n",
      "Epoch 5/100\n",
      "10/10 [==============================] - 1s 101ms/step - loss: 0.7811 - accuracy: 0.4767 - val_loss: 0.7333 - val_accuracy: 0.4867\n",
      "Epoch 6/100\n",
      "10/10 [==============================] - 1s 110ms/step - loss: 0.7273 - accuracy: 0.5050 - val_loss: 0.7132 - val_accuracy: 0.4867\n",
      "Epoch 7/100\n",
      "10/10 [==============================] - 1s 109ms/step - loss: 0.7116 - accuracy: 0.4983 - val_loss: 0.7028 - val_accuracy: 0.4933\n",
      "Epoch 8/100\n",
      "10/10 [==============================] - 1s 100ms/step - loss: 0.7048 - accuracy: 0.5100 - val_loss: 0.6977 - val_accuracy: 0.5000\n",
      "Epoch 9/100\n",
      "10/10 [==============================] - 1s 110ms/step - loss: 0.7000 - accuracy: 0.5150 - val_loss: 0.6943 - val_accuracy: 0.5067\n",
      "Epoch 10/100\n",
      "10/10 [==============================] - 1s 110ms/step - loss: 0.6961 - accuracy: 0.5250 - val_loss: 0.6913 - val_accuracy: 0.5067\n",
      "Epoch 11/100\n",
      "10/10 [==============================] - 1s 100ms/step - loss: 0.6924 - accuracy: 0.5317 - val_loss: 0.6888 - val_accuracy: 0.5133\n",
      "Epoch 12/100\n",
      "10/10 [==============================] - 1s 109ms/step - loss: 0.6894 - accuracy: 0.5417 - val_loss: 0.6856 - val_accuracy: 0.5133\n",
      "Epoch 13/100\n",
      "10/10 [==============================] - 1s 110ms/step - loss: 0.6860 - accuracy: 0.5617 - val_loss: 0.6832 - val_accuracy: 0.5400\n",
      "Epoch 14/100\n",
      "10/10 [==============================] - 1s 101ms/step - loss: 0.6823 - accuracy: 0.5883 - val_loss: 0.6795 - val_accuracy: 0.5467\n",
      "Epoch 15/100\n",
      "10/10 [==============================] - 1s 100ms/step - loss: 0.6782 - accuracy: 0.6250 - val_loss: 0.6763 - val_accuracy: 0.5533\n",
      "Epoch 16/100\n",
      "10/10 [==============================] - 1s 101ms/step - loss: 0.6741 - accuracy: 0.6350 - val_loss: 0.6731 - val_accuracy: 0.5733\n",
      "Epoch 17/100\n",
      "10/10 [==============================] - 1s 100ms/step - loss: 0.6695 - accuracy: 0.6367 - val_loss: 0.6678 - val_accuracy: 0.6067\n",
      "Epoch 18/100\n",
      "10/10 [==============================] - 1s 101ms/step - loss: 0.6624 - accuracy: 0.6433 - val_loss: 0.6608 - val_accuracy: 0.6533\n",
      "Epoch 19/100\n",
      "10/10 [==============================] - 1s 100ms/step - loss: 0.6538 - accuracy: 0.6700 - val_loss: 0.6587 - val_accuracy: 0.6600\n",
      "Epoch 20/100\n",
      "10/10 [==============================] - 1s 101ms/step - loss: 0.6470 - accuracy: 0.6767 - val_loss: 0.6490 - val_accuracy: 0.6733\n",
      "Epoch 21/100\n",
      "10/10 [==============================] - 1s 100ms/step - loss: 0.6389 - accuracy: 0.6800 - val_loss: 0.6451 - val_accuracy: 0.7200\n",
      "Epoch 22/100\n",
      "10/10 [==============================] - 1s 101ms/step - loss: 0.6321 - accuracy: 0.6933 - val_loss: 0.6402 - val_accuracy: 0.7200\n",
      "Epoch 23/100\n",
      "10/10 [==============================] - 1s 100ms/step - loss: 0.6247 - accuracy: 0.7050 - val_loss: 0.6324 - val_accuracy: 0.7267\n",
      "Epoch 24/100\n",
      "10/10 [==============================] - 1s 110ms/step - loss: 0.6169 - accuracy: 0.7233 - val_loss: 0.6289 - val_accuracy: 0.7333\n",
      "Epoch 25/100\n",
      "10/10 [==============================] - 1s 110ms/step - loss: 0.6100 - accuracy: 0.7217 - val_loss: 0.6250 - val_accuracy: 0.7333\n",
      "Epoch 26/100\n",
      "10/10 [==============================] - 1s 100ms/step - loss: 0.6030 - accuracy: 0.7417 - val_loss: 0.6193 - val_accuracy: 0.7333\n",
      "Epoch 27/100\n",
      "10/10 [==============================] - 1s 101ms/step - loss: 0.5959 - accuracy: 0.7433 - val_loss: 0.6157 - val_accuracy: 0.7333\n",
      "Epoch 28/100\n",
      "10/10 [==============================] - 1s 100ms/step - loss: 0.5893 - accuracy: 0.7483 - val_loss: 0.6131 - val_accuracy: 0.7133\n",
      "Epoch 29/100\n",
      "10/10 [==============================] - 1s 100ms/step - loss: 0.5830 - accuracy: 0.7433 - val_loss: 0.6110 - val_accuracy: 0.7200\n",
      "Epoch 30/100\n",
      "10/10 [==============================] - 1s 101ms/step - loss: 0.5769 - accuracy: 0.7483 - val_loss: 0.6080 - val_accuracy: 0.7133\n",
      "Epoch 31/100\n",
      "10/10 [==============================] - 1s 109ms/step - loss: 0.5711 - accuracy: 0.7500 - val_loss: 0.6059 - val_accuracy: 0.7133\n",
      "Epoch 32/100\n",
      "10/10 [==============================] - 1s 101ms/step - loss: 0.5655 - accuracy: 0.7583 - val_loss: 0.6042 - val_accuracy: 0.7200\n",
      "Epoch 33/100\n",
      "10/10 [==============================] - 1s 100ms/step - loss: 0.5599 - accuracy: 0.7633 - val_loss: 0.6017 - val_accuracy: 0.7200\n",
      "Epoch 34/100\n",
      "10/10 [==============================] - 1s 109ms/step - loss: 0.5545 - accuracy: 0.7683 - val_loss: 0.5992 - val_accuracy: 0.7200\n",
      "Epoch 35/100\n",
      "10/10 [==============================] - 1s 101ms/step - loss: 0.5489 - accuracy: 0.7717 - val_loss: 0.5957 - val_accuracy: 0.7200\n",
      "Epoch 36/100\n",
      "10/10 [==============================] - 1s 101ms/step - loss: 0.5432 - accuracy: 0.7783 - val_loss: 0.5929 - val_accuracy: 0.7200\n",
      "Epoch 37/100\n",
      "10/10 [==============================] - 1s 101ms/step - loss: 0.5371 - accuracy: 0.7867 - val_loss: 0.5887 - val_accuracy: 0.7200\n",
      "Epoch 38/100\n",
      "10/10 [==============================] - 1s 100ms/step - loss: 0.5314 - accuracy: 0.7917 - val_loss: 0.5851 - val_accuracy: 0.7333\n",
      "Epoch 39/100\n",
      "10/10 [==============================] - 1s 101ms/step - loss: 0.5256 - accuracy: 0.7950 - val_loss: 0.5810 - val_accuracy: 0.7400\n",
      "Epoch 40/100\n",
      "10/10 [==============================] - 1s 100ms/step - loss: 0.5204 - accuracy: 0.7983 - val_loss: 0.5770 - val_accuracy: 0.7400\n",
      "Epoch 41/100\n",
      "10/10 [==============================] - 1s 110ms/step - loss: 0.5146 - accuracy: 0.8000 - val_loss: 0.5747 - val_accuracy: 0.7333\n",
      "Epoch 42/100\n",
      "10/10 [==============================] - 1s 100ms/step - loss: 0.5088 - accuracy: 0.8017 - val_loss: 0.5712 - val_accuracy: 0.7467\n",
      "Epoch 43/100\n",
      "10/10 [==============================] - 1s 100ms/step - loss: 0.5010 - accuracy: 0.8050 - val_loss: 0.5676 - val_accuracy: 0.7600\n",
      "Epoch 44/100\n",
      "10/10 [==============================] - 1s 101ms/step - loss: 0.4942 - accuracy: 0.8083 - val_loss: 0.5647 - val_accuracy: 0.7667\n",
      "Epoch 45/100\n",
      "10/10 [==============================] - 1s 101ms/step - loss: 0.4882 - accuracy: 0.8133 - val_loss: 0.5604 - val_accuracy: 0.7667\n",
      "Epoch 46/100\n",
      "10/10 [==============================] - 1s 100ms/step - loss: 0.4817 - accuracy: 0.8117 - val_loss: 0.5533 - val_accuracy: 0.7667\n",
      "Epoch 47/100\n",
      "10/10 [==============================] - 1s 101ms/step - loss: 0.4754 - accuracy: 0.8167 - val_loss: 0.5477 - val_accuracy: 0.7667\n",
      "Epoch 48/100\n",
      "10/10 [==============================] - 1s 100ms/step - loss: 0.4691 - accuracy: 0.8183 - val_loss: 0.5428 - val_accuracy: 0.7733\n",
      "Epoch 49/100\n",
      "10/10 [==============================] - 1s 110ms/step - loss: 0.4630 - accuracy: 0.8200 - val_loss: 0.5376 - val_accuracy: 0.7800\n",
      "Epoch 50/100\n",
      "10/10 [==============================] - 1s 110ms/step - loss: 0.4567 - accuracy: 0.8267 - val_loss: 0.5327 - val_accuracy: 0.7800\n",
      "Epoch 51/100\n",
      "10/10 [==============================] - 1s 110ms/step - loss: 0.4506 - accuracy: 0.8283 - val_loss: 0.5272 - val_accuracy: 0.7800\n",
      "Epoch 52/100\n",
      "10/10 [==============================] - 1s 101ms/step - loss: 0.4446 - accuracy: 0.8333 - val_loss: 0.5236 - val_accuracy: 0.7800\n",
      "Epoch 53/100\n",
      "10/10 [==============================] - 1s 100ms/step - loss: 0.4380 - accuracy: 0.8333 - val_loss: 0.5174 - val_accuracy: 0.7867\n",
      "Epoch 54/100\n",
      "10/10 [==============================] - 1s 109ms/step - loss: 0.4316 - accuracy: 0.8350 - val_loss: 0.5132 - val_accuracy: 0.7867\n",
      "Epoch 55/100\n",
      "10/10 [==============================] - 1s 100ms/step - loss: 0.4247 - accuracy: 0.8383 - val_loss: 0.5082 - val_accuracy: 0.8000\n",
      "Epoch 56/100\n",
      "10/10 [==============================] - 1s 110ms/step - loss: 0.4173 - accuracy: 0.8433 - val_loss: 0.5018 - val_accuracy: 0.8000\n",
      "Epoch 57/100\n",
      "10/10 [==============================] - 1s 110ms/step - loss: 0.4107 - accuracy: 0.8517 - val_loss: 0.4978 - val_accuracy: 0.8067\n",
      "Epoch 58/100\n",
      "10/10 [==============================] - 1s 101ms/step - loss: 0.4024 - accuracy: 0.8567 - val_loss: 0.4903 - val_accuracy: 0.8133\n",
      "Epoch 59/100\n",
      "10/10 [==============================] - 1s 100ms/step - loss: 0.3952 - accuracy: 0.8633 - val_loss: 0.4857 - val_accuracy: 0.8133\n",
      "Epoch 60/100\n",
      "10/10 [==============================] - 1s 101ms/step - loss: 0.3873 - accuracy: 0.8650 - val_loss: 0.4789 - val_accuracy: 0.8133\n",
      "Epoch 61/100\n",
      "10/10 [==============================] - 1s 100ms/step - loss: 0.3800 - accuracy: 0.8733 - val_loss: 0.4723 - val_accuracy: 0.8200\n",
      "Epoch 62/100\n",
      "10/10 [==============================] - 1s 110ms/step - loss: 0.3726 - accuracy: 0.8733 - val_loss: 0.4662 - val_accuracy: 0.8200\n",
      "Epoch 63/100\n",
      "10/10 [==============================] - 1s 110ms/step - loss: 0.3665 - accuracy: 0.8783 - val_loss: 0.4620 - val_accuracy: 0.8200\n",
      "Epoch 64/100\n",
      "10/10 [==============================] - 1s 101ms/step - loss: 0.3601 - accuracy: 0.8767 - val_loss: 0.4563 - val_accuracy: 0.8200\n",
      "Epoch 65/100\n",
      "10/10 [==============================] - 1s 101ms/step - loss: 0.3546 - accuracy: 0.8783 - val_loss: 0.4540 - val_accuracy: 0.8200\n",
      "Epoch 66/100\n",
      "10/10 [==============================] - 1s 102ms/step - loss: 0.3488 - accuracy: 0.8817 - val_loss: 0.4484 - val_accuracy: 0.8267\n",
      "Epoch 67/100\n",
      "10/10 [==============================] - 1s 101ms/step - loss: 0.3434 - accuracy: 0.8900 - val_loss: 0.4453 - val_accuracy: 0.8267\n",
      "Epoch 68/100\n",
      "10/10 [==============================] - 1s 110ms/step - loss: 0.3376 - accuracy: 0.8883 - val_loss: 0.4392 - val_accuracy: 0.8333\n",
      "Epoch 69/100\n",
      "10/10 [==============================] - 1s 101ms/step - loss: 0.3322 - accuracy: 0.8967 - val_loss: 0.4342 - val_accuracy: 0.8267\n",
      "Epoch 70/100\n",
      "10/10 [==============================] - 1s 101ms/step - loss: 0.3268 - accuracy: 0.9017 - val_loss: 0.4297 - val_accuracy: 0.8333\n",
      "Epoch 71/100\n",
      "10/10 [==============================] - 1s 109ms/step - loss: 0.3215 - accuracy: 0.8983 - val_loss: 0.4249 - val_accuracy: 0.8333\n",
      "Epoch 72/100\n",
      "10/10 [==============================] - 1s 101ms/step - loss: 0.3163 - accuracy: 0.9033 - val_loss: 0.4206 - val_accuracy: 0.8333\n",
      "Epoch 73/100\n",
      "10/10 [==============================] - 1s 100ms/step - loss: 0.3115 - accuracy: 0.9033 - val_loss: 0.4171 - val_accuracy: 0.8333\n",
      "Epoch 74/100\n",
      "10/10 [==============================] - 1s 101ms/step - loss: 0.3068 - accuracy: 0.9033 - val_loss: 0.4132 - val_accuracy: 0.8400\n",
      "Epoch 75/100\n",
      "10/10 [==============================] - 1s 100ms/step - loss: 0.3023 - accuracy: 0.9033 - val_loss: 0.4101 - val_accuracy: 0.8467\n",
      "Epoch 76/100\n",
      "10/10 [==============================] - 1s 101ms/step - loss: 0.2977 - accuracy: 0.9033 - val_loss: 0.4061 - val_accuracy: 0.8467\n",
      "Epoch 77/100\n",
      "10/10 [==============================] - 1s 101ms/step - loss: 0.2933 - accuracy: 0.9033 - val_loss: 0.4025 - val_accuracy: 0.8467\n",
      "Epoch 78/100\n",
      "10/10 [==============================] - 1s 100ms/step - loss: 0.2890 - accuracy: 0.9050 - val_loss: 0.3990 - val_accuracy: 0.8467\n",
      "Epoch 79/100\n",
      "10/10 [==============================] - 1s 110ms/step - loss: 0.2849 - accuracy: 0.9067 - val_loss: 0.3959 - val_accuracy: 0.8533\n",
      "Epoch 80/100\n",
      "10/10 [==============================] - 1s 101ms/step - loss: 0.2806 - accuracy: 0.9083 - val_loss: 0.3923 - val_accuracy: 0.8533\n",
      "Epoch 81/100\n",
      "10/10 [==============================] - 1s 109ms/step - loss: 0.2768 - accuracy: 0.9117 - val_loss: 0.3890 - val_accuracy: 0.8533\n",
      "Epoch 82/100\n",
      "10/10 [==============================] - 1s 101ms/step - loss: 0.2730 - accuracy: 0.9150 - val_loss: 0.3864 - val_accuracy: 0.8533\n",
      "Epoch 83/100\n",
      "10/10 [==============================] - 1s 100ms/step - loss: 0.2691 - accuracy: 0.9183 - val_loss: 0.3831 - val_accuracy: 0.8467\n",
      "Epoch 84/100\n",
      "10/10 [==============================] - 1s 110ms/step - loss: 0.2656 - accuracy: 0.9217 - val_loss: 0.3800 - val_accuracy: 0.8467\n",
      "Epoch 85/100\n",
      "10/10 [==============================] - 1s 100ms/step - loss: 0.2619 - accuracy: 0.9233 - val_loss: 0.3769 - val_accuracy: 0.8467\n",
      "Epoch 86/100\n",
      "10/10 [==============================] - 1s 109ms/step - loss: 0.2584 - accuracy: 0.9250 - val_loss: 0.3736 - val_accuracy: 0.8467\n",
      "Epoch 87/100\n",
      "10/10 [==============================] - 1s 101ms/step - loss: 0.2550 - accuracy: 0.9250 - val_loss: 0.3708 - val_accuracy: 0.8467\n",
      "Epoch 88/100\n",
      "10/10 [==============================] - 1s 110ms/step - loss: 0.2517 - accuracy: 0.9267 - val_loss: 0.3680 - val_accuracy: 0.8467\n",
      "Epoch 89/100\n",
      "10/10 [==============================] - 1s 109ms/step - loss: 0.2484 - accuracy: 0.9267 - val_loss: 0.3657 - val_accuracy: 0.8467\n",
      "Epoch 90/100\n",
      "10/10 [==============================] - 1s 109ms/step - loss: 0.2452 - accuracy: 0.9267 - val_loss: 0.3626 - val_accuracy: 0.8467\n",
      "Epoch 91/100\n",
      "10/10 [==============================] - 1s 101ms/step - loss: 0.2421 - accuracy: 0.9283 - val_loss: 0.3604 - val_accuracy: 0.8467\n",
      "Epoch 92/100\n",
      "10/10 [==============================] - 1s 110ms/step - loss: 0.2392 - accuracy: 0.9283 - val_loss: 0.3581 - val_accuracy: 0.8467\n",
      "Epoch 93/100\n",
      "10/10 [==============================] - 1s 101ms/step - loss: 0.2364 - accuracy: 0.9283 - val_loss: 0.3570 - val_accuracy: 0.8467\n",
      "Epoch 94/100\n",
      "10/10 [==============================] - 1s 100ms/step - loss: 0.2335 - accuracy: 0.9283 - val_loss: 0.3547 - val_accuracy: 0.8467\n",
      "Epoch 95/100\n",
      "10/10 [==============================] - 1s 109ms/step - loss: 0.2308 - accuracy: 0.9300 - val_loss: 0.3535 - val_accuracy: 0.8600\n",
      "Epoch 96/100\n",
      "10/10 [==============================] - 1s 101ms/step - loss: 0.2280 - accuracy: 0.9317 - val_loss: 0.3509 - val_accuracy: 0.8600\n",
      "Epoch 97/100\n",
      "10/10 [==============================] - 1s 100ms/step - loss: 0.2252 - accuracy: 0.9317 - val_loss: 0.3491 - val_accuracy: 0.8600\n",
      "Epoch 98/100\n",
      "10/10 [==============================] - 1s 101ms/step - loss: 0.2226 - accuracy: 0.9333 - val_loss: 0.3480 - val_accuracy: 0.8600\n",
      "Epoch 99/100\n",
      "10/10 [==============================] - 1s 100ms/step - loss: 0.2199 - accuracy: 0.9333 - val_loss: 0.3453 - val_accuracy: 0.8667\n",
      "Epoch 100/100\n",
      "10/10 [==============================] - 1s 112ms/step - loss: 0.2174 - accuracy: 0.9333 - val_loss: 0.3428 - val_accuracy: 0.8667\n"
     ]
    }
   ],
   "source": [
    "train_dataset = tf.data.Dataset.from_tensor_slices((X_train, Y_train)).batch(64)\n",
    "test_dataset = tf.data.Dataset.from_tensor_slices((X_test, Y_test)).batch(64)\n",
    "history = conv_model.fit(train_dataset, epochs=100, validation_data=test_dataset)"
   ]
  },
  {
   "cell_type": "markdown",
   "metadata": {},
   "source": [
    "<a name='5'></a>\n",
    "## 5 - History Object \n",
    "\n",
    "The history object is an output of the `.fit()` operation, and provides a record of all the loss and metric values in memory. It's stored as a dictionary that you can retrieve at `history.history`: "
   ]
  },
  {
   "cell_type": "code",
   "execution_count": 24,
   "metadata": {},
   "outputs": [
    {
     "data": {
      "text/plain": [
       "{'loss': [1.9174940586090088,\n",
       "  1.402529239654541,\n",
       "  1.125563621520996,\n",
       "  0.9184592962265015,\n",
       "  0.7811474204063416,\n",
       "  0.7273329496383667,\n",
       "  0.7115800380706787,\n",
       "  0.7048254013061523,\n",
       "  0.6999942660331726,\n",
       "  0.6960617303848267,\n",
       "  0.6924240589141846,\n",
       "  0.6894139647483826,\n",
       "  0.6859645843505859,\n",
       "  0.6822788119316101,\n",
       "  0.6782352924346924,\n",
       "  0.6740770936012268,\n",
       "  0.6695038080215454,\n",
       "  0.6624022126197815,\n",
       "  0.6538203358650208,\n",
       "  0.6470152139663696,\n",
       "  0.6389169096946716,\n",
       "  0.6320853233337402,\n",
       "  0.6247263550758362,\n",
       "  0.6169153451919556,\n",
       "  0.61004239320755,\n",
       "  0.6030207276344299,\n",
       "  0.5959166884422302,\n",
       "  0.5892714262008667,\n",
       "  0.5830070972442627,\n",
       "  0.5769405364990234,\n",
       "  0.5710811614990234,\n",
       "  0.5654752850532532,\n",
       "  0.5599214434623718,\n",
       "  0.5544643402099609,\n",
       "  0.5489072799682617,\n",
       "  0.5431575179100037,\n",
       "  0.5371358394622803,\n",
       "  0.5313696265220642,\n",
       "  0.5256443023681641,\n",
       "  0.5203949213027954,\n",
       "  0.5146055817604065,\n",
       "  0.5087594389915466,\n",
       "  0.5009687542915344,\n",
       "  0.49416762590408325,\n",
       "  0.48824283480644226,\n",
       "  0.4816870093345642,\n",
       "  0.47541937232017517,\n",
       "  0.46907278895378113,\n",
       "  0.4629872143268585,\n",
       "  0.4567394554615021,\n",
       "  0.4505976736545563,\n",
       "  0.4445570409297943,\n",
       "  0.43804383277893066,\n",
       "  0.4316260814666748,\n",
       "  0.42474475502967834,\n",
       "  0.41732046008110046,\n",
       "  0.41071876883506775,\n",
       "  0.4024047255516052,\n",
       "  0.39523881673812866,\n",
       "  0.38726234436035156,\n",
       "  0.3800424337387085,\n",
       "  0.3726279139518738,\n",
       "  0.36648476123809814,\n",
       "  0.36013031005859375,\n",
       "  0.3546392321586609,\n",
       "  0.34884679317474365,\n",
       "  0.3434358239173889,\n",
       "  0.337623655796051,\n",
       "  0.3321601450443268,\n",
       "  0.3268473446369171,\n",
       "  0.321456640958786,\n",
       "  0.31633955240249634,\n",
       "  0.31149134039878845,\n",
       "  0.306790292263031,\n",
       "  0.302313894033432,\n",
       "  0.29770147800445557,\n",
       "  0.2932707369327545,\n",
       "  0.2889809310436249,\n",
       "  0.28487053513526917,\n",
       "  0.28063929080963135,\n",
       "  0.27677854895591736,\n",
       "  0.27302947640419006,\n",
       "  0.26914170384407043,\n",
       "  0.2655586004257202,\n",
       "  0.26194193959236145,\n",
       "  0.25842300057411194,\n",
       "  0.25504931807518005,\n",
       "  0.25168201327323914,\n",
       "  0.24836619198322296,\n",
       "  0.24518488347530365,\n",
       "  0.24214237928390503,\n",
       "  0.2391790747642517,\n",
       "  0.23641017079353333,\n",
       "  0.23353850841522217,\n",
       "  0.23082096874713898,\n",
       "  0.2280006855726242,\n",
       "  0.22523310780525208,\n",
       "  0.22260314226150513,\n",
       "  0.21986490488052368,\n",
       "  0.2174118608236313],\n",
       " 'accuracy': [0.4983333349227905,\n",
       "  0.5,\n",
       "  0.5,\n",
       "  0.5,\n",
       "  0.476666659116745,\n",
       "  0.5049999952316284,\n",
       "  0.4983333349227905,\n",
       "  0.5099999904632568,\n",
       "  0.5149999856948853,\n",
       "  0.5249999761581421,\n",
       "  0.5316666960716248,\n",
       "  0.5416666865348816,\n",
       "  0.5616666674613953,\n",
       "  0.5883333086967468,\n",
       "  0.625,\n",
       "  0.6349999904632568,\n",
       "  0.6366666555404663,\n",
       "  0.6433333158493042,\n",
       "  0.6700000166893005,\n",
       "  0.6766666769981384,\n",
       "  0.6800000071525574,\n",
       "  0.6933333277702332,\n",
       "  0.7049999833106995,\n",
       "  0.7233333587646484,\n",
       "  0.721666693687439,\n",
       "  0.7416666746139526,\n",
       "  0.7433333396911621,\n",
       "  0.7483333349227905,\n",
       "  0.7433333396911621,\n",
       "  0.7483333349227905,\n",
       "  0.75,\n",
       "  0.7583333253860474,\n",
       "  0.7633333206176758,\n",
       "  0.7683333158493042,\n",
       "  0.7716666460037231,\n",
       "  0.778333306312561,\n",
       "  0.7866666913032532,\n",
       "  0.7916666865348816,\n",
       "  0.7950000166893005,\n",
       "  0.7983333468437195,\n",
       "  0.800000011920929,\n",
       "  0.8016666769981384,\n",
       "  0.8050000071525574,\n",
       "  0.8083333373069763,\n",
       "  0.8133333325386047,\n",
       "  0.8116666674613953,\n",
       "  0.8166666626930237,\n",
       "  0.8183333277702332,\n",
       "  0.8199999928474426,\n",
       "  0.8266666531562805,\n",
       "  0.82833331823349,\n",
       "  0.8333333134651184,\n",
       "  0.8333333134651184,\n",
       "  0.8349999785423279,\n",
       "  0.8383333086967468,\n",
       "  0.8433333039283752,\n",
       "  0.8516666889190674,\n",
       "  0.8566666841506958,\n",
       "  0.8633333444595337,\n",
       "  0.8650000095367432,\n",
       "  0.8733333349227905,\n",
       "  0.8733333349227905,\n",
       "  0.878333330154419,\n",
       "  0.8766666650772095,\n",
       "  0.878333330154419,\n",
       "  0.8816666603088379,\n",
       "  0.8899999856948853,\n",
       "  0.8883333206176758,\n",
       "  0.8966666460037231,\n",
       "  0.9016666412353516,\n",
       "  0.8983333110809326,\n",
       "  0.903333306312561,\n",
       "  0.903333306312561,\n",
       "  0.903333306312561,\n",
       "  0.903333306312561,\n",
       "  0.903333306312561,\n",
       "  0.903333306312561,\n",
       "  0.9049999713897705,\n",
       "  0.9066666960716248,\n",
       "  0.9083333611488342,\n",
       "  0.9116666913032532,\n",
       "  0.9150000214576721,\n",
       "  0.9183333516120911,\n",
       "  0.92166668176651,\n",
       "  0.9233333468437195,\n",
       "  0.925000011920929,\n",
       "  0.925000011920929,\n",
       "  0.9266666769981384,\n",
       "  0.9266666769981384,\n",
       "  0.9266666769981384,\n",
       "  0.9283333420753479,\n",
       "  0.9283333420753479,\n",
       "  0.9283333420753479,\n",
       "  0.9283333420753479,\n",
       "  0.9300000071525574,\n",
       "  0.9316666722297668,\n",
       "  0.9316666722297668,\n",
       "  0.9333333373069763,\n",
       "  0.9333333373069763,\n",
       "  0.9333333373069763],\n",
       " 'val_loss': [1.6749151945114136,\n",
       "  1.2896947860717773,\n",
       "  1.043377161026001,\n",
       "  0.8389085531234741,\n",
       "  0.7332543730735779,\n",
       "  0.71315997838974,\n",
       "  0.7028289437294006,\n",
       "  0.6977065801620483,\n",
       "  0.6943478584289551,\n",
       "  0.6913093328475952,\n",
       "  0.6887966990470886,\n",
       "  0.6855676770210266,\n",
       "  0.6832091808319092,\n",
       "  0.6795268058776855,\n",
       "  0.676295280456543,\n",
       "  0.6730664968490601,\n",
       "  0.6677910089492798,\n",
       "  0.6608142852783203,\n",
       "  0.6587024331092834,\n",
       "  0.6490442752838135,\n",
       "  0.645077109336853,\n",
       "  0.6401578783988953,\n",
       "  0.6323840618133545,\n",
       "  0.628890335559845,\n",
       "  0.6249881982803345,\n",
       "  0.6192710995674133,\n",
       "  0.6157370209693909,\n",
       "  0.6131489276885986,\n",
       "  0.6109585165977478,\n",
       "  0.6080325245857239,\n",
       "  0.6058996915817261,\n",
       "  0.6041566729545593,\n",
       "  0.6017141342163086,\n",
       "  0.5991770029067993,\n",
       "  0.5957078337669373,\n",
       "  0.5929281115531921,\n",
       "  0.5886937975883484,\n",
       "  0.5851432681083679,\n",
       "  0.581020712852478,\n",
       "  0.577008843421936,\n",
       "  0.5746688842773438,\n",
       "  0.571159839630127,\n",
       "  0.5676019787788391,\n",
       "  0.5647165179252625,\n",
       "  0.5604466795921326,\n",
       "  0.553270161151886,\n",
       "  0.5476614832878113,\n",
       "  0.5428096652030945,\n",
       "  0.5376197099685669,\n",
       "  0.5327295064926147,\n",
       "  0.5271657109260559,\n",
       "  0.5236221551895142,\n",
       "  0.5174031853675842,\n",
       "  0.5131711363792419,\n",
       "  0.5082474946975708,\n",
       "  0.5017603039741516,\n",
       "  0.497773140668869,\n",
       "  0.4903162717819214,\n",
       "  0.48573607206344604,\n",
       "  0.4789107143878937,\n",
       "  0.47231724858283997,\n",
       "  0.4662001430988312,\n",
       "  0.461954802274704,\n",
       "  0.456337571144104,\n",
       "  0.4540244936943054,\n",
       "  0.4483589231967926,\n",
       "  0.4453447461128235,\n",
       "  0.439184308052063,\n",
       "  0.4342275559902191,\n",
       "  0.429665744304657,\n",
       "  0.4248630106449127,\n",
       "  0.420625776052475,\n",
       "  0.4170520007610321,\n",
       "  0.41321417689323425,\n",
       "  0.41006743907928467,\n",
       "  0.40608933568000793,\n",
       "  0.4024503231048584,\n",
       "  0.39903461933135986,\n",
       "  0.3958549499511719,\n",
       "  0.3922509253025055,\n",
       "  0.38904112577438354,\n",
       "  0.3863602578639984,\n",
       "  0.38308966159820557,\n",
       "  0.37999221682548523,\n",
       "  0.37685486674308777,\n",
       "  0.3735882639884949,\n",
       "  0.3707876205444336,\n",
       "  0.36804914474487305,\n",
       "  0.36571216583251953,\n",
       "  0.3626282215118408,\n",
       "  0.36035940051078796,\n",
       "  0.35807526111602783,\n",
       "  0.3569723665714264,\n",
       "  0.3547118008136749,\n",
       "  0.35348984599113464,\n",
       "  0.3508608639240265,\n",
       "  0.3490928113460541,\n",
       "  0.34801000356674194,\n",
       "  0.3452707827091217,\n",
       "  0.3428005874156952],\n",
       " 'val_accuracy': [0.4399999976158142,\n",
       "  0.4399999976158142,\n",
       "  0.4399999976158142,\n",
       "  0.4399999976158142,\n",
       "  0.4866666793823242,\n",
       "  0.4866666793823242,\n",
       "  0.4933333396911621,\n",
       "  0.5,\n",
       "  0.5066666603088379,\n",
       "  0.5066666603088379,\n",
       "  0.5133333206176758,\n",
       "  0.5133333206176758,\n",
       "  0.5400000214576721,\n",
       "  0.54666668176651,\n",
       "  0.5533333420753479,\n",
       "  0.5733333230018616,\n",
       "  0.6066666841506958,\n",
       "  0.653333306312561,\n",
       "  0.6600000262260437,\n",
       "  0.6733333468437195,\n",
       "  0.7200000286102295,\n",
       "  0.7200000286102295,\n",
       "  0.7266666889190674,\n",
       "  0.7333333492279053,\n",
       "  0.7333333492279053,\n",
       "  0.7333333492279053,\n",
       "  0.7333333492279053,\n",
       "  0.7133333086967468,\n",
       "  0.7200000286102295,\n",
       "  0.7133333086967468,\n",
       "  0.7133333086967468,\n",
       "  0.7200000286102295,\n",
       "  0.7200000286102295,\n",
       "  0.7200000286102295,\n",
       "  0.7200000286102295,\n",
       "  0.7200000286102295,\n",
       "  0.7200000286102295,\n",
       "  0.7333333492279053,\n",
       "  0.7400000095367432,\n",
       "  0.7400000095367432,\n",
       "  0.7333333492279053,\n",
       "  0.746666669845581,\n",
       "  0.7599999904632568,\n",
       "  0.7666666507720947,\n",
       "  0.7666666507720947,\n",
       "  0.7666666507720947,\n",
       "  0.7666666507720947,\n",
       "  0.7733333110809326,\n",
       "  0.7799999713897705,\n",
       "  0.7799999713897705,\n",
       "  0.7799999713897705,\n",
       "  0.7799999713897705,\n",
       "  0.7866666913032532,\n",
       "  0.7866666913032532,\n",
       "  0.800000011920929,\n",
       "  0.800000011920929,\n",
       "  0.8066666722297668,\n",
       "  0.8133333325386047,\n",
       "  0.8133333325386047,\n",
       "  0.8133333325386047,\n",
       "  0.8199999928474426,\n",
       "  0.8199999928474426,\n",
       "  0.8199999928474426,\n",
       "  0.8199999928474426,\n",
       "  0.8199999928474426,\n",
       "  0.8266666531562805,\n",
       "  0.8266666531562805,\n",
       "  0.8333333134651184,\n",
       "  0.8266666531562805,\n",
       "  0.8333333134651184,\n",
       "  0.8333333134651184,\n",
       "  0.8333333134651184,\n",
       "  0.8333333134651184,\n",
       "  0.8399999737739563,\n",
       "  0.846666693687439,\n",
       "  0.846666693687439,\n",
       "  0.846666693687439,\n",
       "  0.846666693687439,\n",
       "  0.8533333539962769,\n",
       "  0.8533333539962769,\n",
       "  0.8533333539962769,\n",
       "  0.8533333539962769,\n",
       "  0.846666693687439,\n",
       "  0.846666693687439,\n",
       "  0.846666693687439,\n",
       "  0.846666693687439,\n",
       "  0.846666693687439,\n",
       "  0.846666693687439,\n",
       "  0.846666693687439,\n",
       "  0.846666693687439,\n",
       "  0.846666693687439,\n",
       "  0.846666693687439,\n",
       "  0.846666693687439,\n",
       "  0.846666693687439,\n",
       "  0.8600000143051147,\n",
       "  0.8600000143051147,\n",
       "  0.8600000143051147,\n",
       "  0.8600000143051147,\n",
       "  0.8666666746139526,\n",
       "  0.8666666746139526]}"
      ]
     },
     "execution_count": 24,
     "metadata": {},
     "output_type": "execute_result"
    }
   ],
   "source": [
    "history.history"
   ]
  },
  {
   "cell_type": "markdown",
   "metadata": {},
   "source": [
    "Now visualize the loss over time using `history.history`: "
   ]
  },
  {
   "cell_type": "code",
   "execution_count": 25,
   "metadata": {},
   "outputs": [
    {
     "data": {
      "text/plain": [
       "[Text(0, 0.5, 'Accuracy'), Text(0.5, 0, 'Epoch')]"
      ]
     },
     "execution_count": 25,
     "metadata": {},
     "output_type": "execute_result"
    },
    {
     "data": {
      "image/png": "[encoded data removed]",
      "text/plain": [
       "<Figure size 864x576 with 1 Axes>"
      ]
     },
     "metadata": {
      "needs_background": "light"
     },
     "output_type": "display_data"
    },
    {
     "data": {
      "image/png": "[encoded data removed]",
      "text/plain": [
       "<Figure size 864x576 with 1 Axes>"
      ]
     },
     "metadata": {
      "needs_background": "light"
     },
     "output_type": "display_data"
    }
   ],
   "source": [
    "# The history.history[\"loss\"] entry is a dictionary with as many values as epochs that the\n",
    "# model was trained on. \n",
    "df_loss_acc = pd.DataFrame(history.history)\n",
    "df_loss= df_loss_acc[['loss','val_loss']]\n",
    "df_loss.rename(columns={'loss':'train','val_loss':'validation'},inplace=True)\n",
    "df_acc= df_loss_acc[['accuracy','val_accuracy']]\n",
    "df_acc.rename(columns={'accuracy':'train','val_accuracy':'validation'},inplace=True)\n",
    "df_loss.plot(title='Model loss',figsize=(12,8)).set(xlabel='Epoch',ylabel='Loss')\n",
    "df_acc.plot(title='Model Accuracy',figsize=(12,8)).set(xlabel='Epoch',ylabel='Accuracy')"
   ]
  },
  {
   "cell_type": "markdown",
   "metadata": {},
   "source": [
    "**Congratulations**! You've finished the assignment and built two models: One that recognizes  smiles, and another that recognizes SIGN language with almost 80% accuracy on the test set. In addition to that, you now also understand the applications of two Keras APIs: Sequential and Functional. Nicely done! \n",
    "\n",
    "By now, you know a bit about how the Functional API works and may have glimpsed the possibilities. In your next assignment, you'll really get a feel for its power when you get the opportunity to build a very deep ConvNet, using ResNets! "
   ]
  },
  {
   "cell_type": "markdown",
   "metadata": {},
   "source": [
    "<a name='6'></a>\n",
    "## 6 - Bibliography\n",
    "\n",
    "You're always encouraged to read the official documentation. To that end, you can find the docs for the Sequential and Functional APIs here: \n",
    "\n",
    "https://www.tensorflow.org/guide/keras/sequential_model\n",
    "\n",
    "https://www.tensorflow.org/guide/keras/functional"
   ]
  }
 ],
 "metadata": {
  "coursera": {
   "course_slug": "convolutional-neural-networks",
   "graded_item_id": "bwbJV",
   "launcher_item_id": "0TkXB"
  },
  "kernelspec": {
   "display_name": "Python 3",
   "language": "python",
   "name": "python3"
  },
  "language_info": {
   "codemirror_mode": {
    "name": "ipython",
    "version": 3
   },
   "file_extension": ".py",
   "mimetype": "text/x-python",
   "name": "python",
   "nbconvert_exporter": "python",
   "pygments_lexer": "ipython3",
   "version": "3.7.6"
  }
 },
 "nbformat": 4,
 "nbformat_minor": 2
}
