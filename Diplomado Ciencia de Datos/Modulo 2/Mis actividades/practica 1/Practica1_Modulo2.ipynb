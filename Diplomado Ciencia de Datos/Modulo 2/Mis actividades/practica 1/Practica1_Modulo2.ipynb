{
 "cells": [
  {
   "cell_type": "markdown",
   "id": "1eaea9ce",
   "metadata": {},
   "source": [
    "# Modulo II Practica 1 "
   ]
  },
  {
   "cell_type": "code",
   "execution_count": 1,
   "id": "d84dc51a",
   "metadata": {},
   "outputs": [
    {
     "name": "stdout",
     "output_type": "stream",
     "text": [
      "Warning: Your Kaggle API key is readable by other users on this system! To fix this, you can run 'chmod 600 /home/acer/.kaggle/kaggle.json'\n"
     ]
    }
   ],
   "source": [
    "import pickle\n",
    "import association_metrics as am\n",
    "import pandas as pd\n",
    "\n",
    "import os\n",
    "from kaggle.api.kaggle_api_extended import KaggleApi\n",
    "import opendatasets as od\n",
    "import session_info\n",
    "\n",
    "import matplotlib.pyplot as plt\n",
    "import seaborn as sns\n",
    "import plotly.express as px\n",
    "import plotly.io as pio\n",
    "\n",
    "import numpy as np\n",
    "from scipy import stats\n",
    "from scipy.stats import ks_2samp\n",
    "from scipy.stats import chi2_contingency\n",
    "import statsmodels.api as sm\n",
    "import statsmodels.formula.api as smf\n",
    "\n",
    "from sklearn import set_config\n",
    "from sklearn.compose import ColumnTransformer\n",
    "from sklearn.preprocessing import StandardScaler, OneHotEncoder, PowerTransformer\n",
    "from sklearn.preprocessing import PolynomialFeatures\n",
    "from sklearn.pipeline import Pipeline\n",
    "from sklearn.metrics import RocCurveDisplay\n",
    "from sklearn.linear_model import LogisticRegression\n",
    "\n",
    "from sklearn.model_selection import train_test_split, RepeatedKFold, cross_val_score, cross_validate\n",
    "from sklearn.metrics import confusion_matrix, accuracy_score, precision_score, recall_score, f1_score, roc_auc_score\n",
    "from sklearn.compose import ColumnTransformer\n",
    "from sklearn.preprocessing import OneHotEncoder, StandardScaler, PolynomialFeatures"
   ]
  },
  {
   "cell_type": "code",
   "execution_count": 2,
   "id": "93ec9725",
   "metadata": {},
   "outputs": [],
   "source": [
    "with open('COVID19MEXICO.pkl', 'rb') as file:\n",
    "    df = pickle.load(file)"
   ]
  },
  {
   "cell_type": "code",
   "execution_count": 3,
   "id": "bbbe9264",
   "metadata": {},
   "outputs": [
    {
     "data": {
      "text/html": [
       "<div>\n",
       "<style scoped>\n",
       "    .dataframe tbody tr th:only-of-type {\n",
       "        vertical-align: middle;\n",
       "    }\n",
       "\n",
       "    .dataframe tbody tr th {\n",
       "        vertical-align: top;\n",
       "    }\n",
       "\n",
       "    .dataframe thead th {\n",
       "        text-align: right;\n",
       "    }\n",
       "</style>\n",
       "<table border=\"1\" class=\"dataframe\">\n",
       "  <thead>\n",
       "    <tr style=\"text-align: right;\">\n",
       "      <th></th>\n",
       "      <th>FECHA_ACTUALIZACION</th>\n",
       "      <th>ID_REGISTRO</th>\n",
       "      <th>ORIGEN</th>\n",
       "      <th>SECTOR</th>\n",
       "      <th>ENTIDAD_UM</th>\n",
       "      <th>SEXO</th>\n",
       "      <th>ENTIDAD_NAC</th>\n",
       "      <th>ENTIDAD_RES</th>\n",
       "      <th>MUNICIPIO_RES</th>\n",
       "      <th>TIPO_PACIENTE</th>\n",
       "      <th>...</th>\n",
       "      <th>OTRO_CASO</th>\n",
       "      <th>TOMA_MUESTRA_LAB</th>\n",
       "      <th>RESULTADO_LAB</th>\n",
       "      <th>TOMA_MUESTRA_ANTIGENO</th>\n",
       "      <th>RESULTADO_ANTIGENO</th>\n",
       "      <th>CLASIFICACION_FINAL</th>\n",
       "      <th>MIGRANTE</th>\n",
       "      <th>PAIS_NACIONALIDAD</th>\n",
       "      <th>PAIS_ORIGEN</th>\n",
       "      <th>UCI</th>\n",
       "    </tr>\n",
       "  </thead>\n",
       "  <tbody>\n",
       "    <tr>\n",
       "      <th>0</th>\n",
       "      <td>2023-09-19</td>\n",
       "      <td>0ed066</td>\n",
       "      <td>2</td>\n",
       "      <td>12</td>\n",
       "      <td>16</td>\n",
       "      <td>2</td>\n",
       "      <td>16</td>\n",
       "      <td>16</td>\n",
       "      <td>41</td>\n",
       "      <td>1</td>\n",
       "      <td>...</td>\n",
       "      <td>2</td>\n",
       "      <td>2</td>\n",
       "      <td>97</td>\n",
       "      <td>1</td>\n",
       "      <td>2</td>\n",
       "      <td>7</td>\n",
       "      <td>99</td>\n",
       "      <td>México</td>\n",
       "      <td>97</td>\n",
       "      <td>97</td>\n",
       "    </tr>\n",
       "    <tr>\n",
       "      <th>1</th>\n",
       "      <td>2023-09-19</td>\n",
       "      <td>b4071e</td>\n",
       "      <td>2</td>\n",
       "      <td>12</td>\n",
       "      <td>9</td>\n",
       "      <td>1</td>\n",
       "      <td>9</td>\n",
       "      <td>9</td>\n",
       "      <td>3</td>\n",
       "      <td>1</td>\n",
       "      <td>...</td>\n",
       "      <td>2</td>\n",
       "      <td>2</td>\n",
       "      <td>97</td>\n",
       "      <td>1</td>\n",
       "      <td>2</td>\n",
       "      <td>7</td>\n",
       "      <td>99</td>\n",
       "      <td>México</td>\n",
       "      <td>97</td>\n",
       "      <td>97</td>\n",
       "    </tr>\n",
       "    <tr>\n",
       "      <th>2</th>\n",
       "      <td>2023-09-19</td>\n",
       "      <td>a5442c</td>\n",
       "      <td>2</td>\n",
       "      <td>12</td>\n",
       "      <td>9</td>\n",
       "      <td>1</td>\n",
       "      <td>9</td>\n",
       "      <td>9</td>\n",
       "      <td>4</td>\n",
       "      <td>1</td>\n",
       "      <td>...</td>\n",
       "      <td>2</td>\n",
       "      <td>2</td>\n",
       "      <td>97</td>\n",
       "      <td>1</td>\n",
       "      <td>2</td>\n",
       "      <td>7</td>\n",
       "      <td>99</td>\n",
       "      <td>México</td>\n",
       "      <td>97</td>\n",
       "      <td>97</td>\n",
       "    </tr>\n",
       "    <tr>\n",
       "      <th>3</th>\n",
       "      <td>2023-09-19</td>\n",
       "      <td>dacb2c</td>\n",
       "      <td>2</td>\n",
       "      <td>12</td>\n",
       "      <td>7</td>\n",
       "      <td>1</td>\n",
       "      <td>7</td>\n",
       "      <td>7</td>\n",
       "      <td>108</td>\n",
       "      <td>1</td>\n",
       "      <td>...</td>\n",
       "      <td>2</td>\n",
       "      <td>2</td>\n",
       "      <td>97</td>\n",
       "      <td>2</td>\n",
       "      <td>97</td>\n",
       "      <td>6</td>\n",
       "      <td>99</td>\n",
       "      <td>México</td>\n",
       "      <td>97</td>\n",
       "      <td>97</td>\n",
       "    </tr>\n",
       "    <tr>\n",
       "      <th>4</th>\n",
       "      <td>2023-09-19</td>\n",
       "      <td>6cef7b</td>\n",
       "      <td>2</td>\n",
       "      <td>12</td>\n",
       "      <td>7</td>\n",
       "      <td>1</td>\n",
       "      <td>7</td>\n",
       "      <td>7</td>\n",
       "      <td>108</td>\n",
       "      <td>1</td>\n",
       "      <td>...</td>\n",
       "      <td>2</td>\n",
       "      <td>2</td>\n",
       "      <td>97</td>\n",
       "      <td>2</td>\n",
       "      <td>97</td>\n",
       "      <td>6</td>\n",
       "      <td>99</td>\n",
       "      <td>México</td>\n",
       "      <td>97</td>\n",
       "      <td>97</td>\n",
       "    </tr>\n",
       "    <tr>\n",
       "      <th>...</th>\n",
       "      <td>...</td>\n",
       "      <td>...</td>\n",
       "      <td>...</td>\n",
       "      <td>...</td>\n",
       "      <td>...</td>\n",
       "      <td>...</td>\n",
       "      <td>...</td>\n",
       "      <td>...</td>\n",
       "      <td>...</td>\n",
       "      <td>...</td>\n",
       "      <td>...</td>\n",
       "      <td>...</td>\n",
       "      <td>...</td>\n",
       "      <td>...</td>\n",
       "      <td>...</td>\n",
       "      <td>...</td>\n",
       "      <td>...</td>\n",
       "      <td>...</td>\n",
       "      <td>...</td>\n",
       "      <td>...</td>\n",
       "      <td>...</td>\n",
       "    </tr>\n",
       "    <tr>\n",
       "      <th>1137994</th>\n",
       "      <td>2023-09-19</td>\n",
       "      <td>m00ee10</td>\n",
       "      <td>2</td>\n",
       "      <td>12</td>\n",
       "      <td>15</td>\n",
       "      <td>2</td>\n",
       "      <td>30</td>\n",
       "      <td>15</td>\n",
       "      <td>33</td>\n",
       "      <td>1</td>\n",
       "      <td>...</td>\n",
       "      <td>99</td>\n",
       "      <td>2</td>\n",
       "      <td>97</td>\n",
       "      <td>1</td>\n",
       "      <td>2</td>\n",
       "      <td>7</td>\n",
       "      <td>99</td>\n",
       "      <td>México</td>\n",
       "      <td>97</td>\n",
       "      <td>97</td>\n",
       "    </tr>\n",
       "    <tr>\n",
       "      <th>1137995</th>\n",
       "      <td>2023-09-19</td>\n",
       "      <td>m1cc581</td>\n",
       "      <td>2</td>\n",
       "      <td>3</td>\n",
       "      <td>15</td>\n",
       "      <td>1</td>\n",
       "      <td>20</td>\n",
       "      <td>15</td>\n",
       "      <td>999</td>\n",
       "      <td>1</td>\n",
       "      <td>...</td>\n",
       "      <td>99</td>\n",
       "      <td>2</td>\n",
       "      <td>97</td>\n",
       "      <td>1</td>\n",
       "      <td>2</td>\n",
       "      <td>7</td>\n",
       "      <td>99</td>\n",
       "      <td>México</td>\n",
       "      <td>97</td>\n",
       "      <td>97</td>\n",
       "    </tr>\n",
       "    <tr>\n",
       "      <th>1137996</th>\n",
       "      <td>2023-09-19</td>\n",
       "      <td>m0b0348</td>\n",
       "      <td>2</td>\n",
       "      <td>12</td>\n",
       "      <td>15</td>\n",
       "      <td>1</td>\n",
       "      <td>9</td>\n",
       "      <td>15</td>\n",
       "      <td>999</td>\n",
       "      <td>1</td>\n",
       "      <td>...</td>\n",
       "      <td>99</td>\n",
       "      <td>2</td>\n",
       "      <td>97</td>\n",
       "      <td>1</td>\n",
       "      <td>2</td>\n",
       "      <td>7</td>\n",
       "      <td>99</td>\n",
       "      <td>México</td>\n",
       "      <td>97</td>\n",
       "      <td>97</td>\n",
       "    </tr>\n",
       "    <tr>\n",
       "      <th>1137997</th>\n",
       "      <td>2023-09-19</td>\n",
       "      <td>m08f43c</td>\n",
       "      <td>2</td>\n",
       "      <td>3</td>\n",
       "      <td>15</td>\n",
       "      <td>2</td>\n",
       "      <td>15</td>\n",
       "      <td>15</td>\n",
       "      <td>999</td>\n",
       "      <td>1</td>\n",
       "      <td>...</td>\n",
       "      <td>99</td>\n",
       "      <td>2</td>\n",
       "      <td>97</td>\n",
       "      <td>1</td>\n",
       "      <td>2</td>\n",
       "      <td>7</td>\n",
       "      <td>99</td>\n",
       "      <td>México</td>\n",
       "      <td>97</td>\n",
       "      <td>97</td>\n",
       "    </tr>\n",
       "    <tr>\n",
       "      <th>1137998</th>\n",
       "      <td>2023-09-19</td>\n",
       "      <td>m1325ff</td>\n",
       "      <td>2</td>\n",
       "      <td>3</td>\n",
       "      <td>15</td>\n",
       "      <td>1</td>\n",
       "      <td>15</td>\n",
       "      <td>15</td>\n",
       "      <td>999</td>\n",
       "      <td>1</td>\n",
       "      <td>...</td>\n",
       "      <td>99</td>\n",
       "      <td>2</td>\n",
       "      <td>97</td>\n",
       "      <td>1</td>\n",
       "      <td>2</td>\n",
       "      <td>7</td>\n",
       "      <td>99</td>\n",
       "      <td>México</td>\n",
       "      <td>97</td>\n",
       "      <td>97</td>\n",
       "    </tr>\n",
       "  </tbody>\n",
       "</table>\n",
       "<p>1137999 rows × 40 columns</p>\n",
       "</div>"
      ],
      "text/plain": [
       "        FECHA_ACTUALIZACION ID_REGISTRO  ORIGEN  SECTOR  ENTIDAD_UM  SEXO  \\\n",
       "0                2023-09-19      0ed066       2      12          16     2   \n",
       "1                2023-09-19      b4071e       2      12           9     1   \n",
       "2                2023-09-19      a5442c       2      12           9     1   \n",
       "3                2023-09-19      dacb2c       2      12           7     1   \n",
       "4                2023-09-19      6cef7b       2      12           7     1   \n",
       "...                     ...         ...     ...     ...         ...   ...   \n",
       "1137994          2023-09-19     m00ee10       2      12          15     2   \n",
       "1137995          2023-09-19     m1cc581       2       3          15     1   \n",
       "1137996          2023-09-19     m0b0348       2      12          15     1   \n",
       "1137997          2023-09-19     m08f43c       2       3          15     2   \n",
       "1137998          2023-09-19     m1325ff       2       3          15     1   \n",
       "\n",
       "         ENTIDAD_NAC  ENTIDAD_RES  MUNICIPIO_RES  TIPO_PACIENTE  ...  \\\n",
       "0                 16           16             41              1  ...   \n",
       "1                  9            9              3              1  ...   \n",
       "2                  9            9              4              1  ...   \n",
       "3                  7            7            108              1  ...   \n",
       "4                  7            7            108              1  ...   \n",
       "...              ...          ...            ...            ...  ...   \n",
       "1137994           30           15             33              1  ...   \n",
       "1137995           20           15            999              1  ...   \n",
       "1137996            9           15            999              1  ...   \n",
       "1137997           15           15            999              1  ...   \n",
       "1137998           15           15            999              1  ...   \n",
       "\n",
       "        OTRO_CASO TOMA_MUESTRA_LAB RESULTADO_LAB  TOMA_MUESTRA_ANTIGENO  \\\n",
       "0               2                2            97                      1   \n",
       "1               2                2            97                      1   \n",
       "2               2                2            97                      1   \n",
       "3               2                2            97                      2   \n",
       "4               2                2            97                      2   \n",
       "...           ...              ...           ...                    ...   \n",
       "1137994        99                2            97                      1   \n",
       "1137995        99                2            97                      1   \n",
       "1137996        99                2            97                      1   \n",
       "1137997        99                2            97                      1   \n",
       "1137998        99                2            97                      1   \n",
       "\n",
       "         RESULTADO_ANTIGENO  CLASIFICACION_FINAL  MIGRANTE  PAIS_NACIONALIDAD  \\\n",
       "0                         2                    7        99             México   \n",
       "1                         2                    7        99             México   \n",
       "2                         2                    7        99             México   \n",
       "3                        97                    6        99             México   \n",
       "4                        97                    6        99             México   \n",
       "...                     ...                  ...       ...                ...   \n",
       "1137994                   2                    7        99             México   \n",
       "1137995                   2                    7        99             México   \n",
       "1137996                   2                    7        99             México   \n",
       "1137997                   2                    7        99             México   \n",
       "1137998                   2                    7        99             México   \n",
       "\n",
       "         PAIS_ORIGEN  UCI  \n",
       "0                 97   97  \n",
       "1                 97   97  \n",
       "2                 97   97  \n",
       "3                 97   97  \n",
       "4                 97   97  \n",
       "...              ...  ...  \n",
       "1137994           97   97  \n",
       "1137995           97   97  \n",
       "1137996           97   97  \n",
       "1137997           97   97  \n",
       "1137998           97   97  \n",
       "\n",
       "[1137999 rows x 40 columns]"
      ]
     },
     "execution_count": 3,
     "metadata": {},
     "output_type": "execute_result"
    }
   ],
   "source": [
    "df"
   ]
  },
  {
   "cell_type": "code",
   "execution_count": 4,
   "id": "6fe864fe",
   "metadata": {},
   "outputs": [
    {
     "name": "stdout",
     "output_type": "stream",
     "text": [
      "<class 'pandas.core.frame.DataFrame'>\n",
      "RangeIndex: 1137999 entries, 0 to 1137998\n",
      "Data columns (total 40 columns):\n",
      " #   Column                 Non-Null Count    Dtype \n",
      "---  ------                 --------------    ----- \n",
      " 0   FECHA_ACTUALIZACION    1137999 non-null  object\n",
      " 1   ID_REGISTRO            1137999 non-null  object\n",
      " 2   ORIGEN                 1137999 non-null  int64 \n",
      " 3   SECTOR                 1137999 non-null  int64 \n",
      " 4   ENTIDAD_UM             1137999 non-null  int64 \n",
      " 5   SEXO                   1137999 non-null  int64 \n",
      " 6   ENTIDAD_NAC            1137999 non-null  int64 \n",
      " 7   ENTIDAD_RES            1137999 non-null  int64 \n",
      " 8   MUNICIPIO_RES          1137999 non-null  int64 \n",
      " 9   TIPO_PACIENTE          1137999 non-null  int64 \n",
      " 10  FECHA_INGRESO          1137999 non-null  object\n",
      " 11  FECHA_SINTOMAS         1137999 non-null  object\n",
      " 12  FECHA_DEF              1137999 non-null  object\n",
      " 13  INTUBADO               1137999 non-null  int64 \n",
      " 14  NEUMONIA               1137999 non-null  int64 \n",
      " 15  EDAD                   1137999 non-null  int64 \n",
      " 16  NACIONALIDAD           1137999 non-null  int64 \n",
      " 17  EMBARAZO               1137999 non-null  int64 \n",
      " 18  HABLA_LENGUA_INDIG     1137999 non-null  int64 \n",
      " 19  INDIGENA               1137999 non-null  int64 \n",
      " 20  DIABETES               1137999 non-null  int64 \n",
      " 21  EPOC                   1137999 non-null  int64 \n",
      " 22  ASMA                   1137999 non-null  int64 \n",
      " 23  INMUSUPR               1137999 non-null  int64 \n",
      " 24  HIPERTENSION           1137999 non-null  int64 \n",
      " 25  OTRA_COM               1137999 non-null  int64 \n",
      " 26  CARDIOVASCULAR         1137999 non-null  int64 \n",
      " 27  OBESIDAD               1137999 non-null  int64 \n",
      " 28  RENAL_CRONICA          1137999 non-null  int64 \n",
      " 29  TABAQUISMO             1137999 non-null  int64 \n",
      " 30  OTRO_CASO              1137999 non-null  int64 \n",
      " 31  TOMA_MUESTRA_LAB       1137999 non-null  int64 \n",
      " 32  RESULTADO_LAB          1137999 non-null  int64 \n",
      " 33  TOMA_MUESTRA_ANTIGENO  1137999 non-null  int64 \n",
      " 34  RESULTADO_ANTIGENO     1137999 non-null  int64 \n",
      " 35  CLASIFICACION_FINAL    1137999 non-null  int64 \n",
      " 36  MIGRANTE               1137999 non-null  int64 \n",
      " 37  PAIS_NACIONALIDAD      1137999 non-null  object\n",
      " 38  PAIS_ORIGEN            1137999 non-null  object\n",
      " 39  UCI                    1137999 non-null  int64 \n",
      "dtypes: int64(33), object(7)\n",
      "memory usage: 347.3+ MB\n"
     ]
    }
   ],
   "source": [
    "df.info()"
   ]
  },
  {
   "cell_type": "code",
   "execution_count": 5,
   "id": "85052934",
   "metadata": {},
   "outputs": [],
   "source": [
    "df=df.drop(columns = [\"FECHA_DEF\",\"FECHA_INGRESO\",\"INTUBADO\",\"UCI\"])"
   ]
  },
  {
   "cell_type": "code",
   "execution_count": 6,
   "id": "212ec338",
   "metadata": {},
   "outputs": [],
   "source": [
    "#Haciendo nuestra target dummy\n",
    "df.loc[df['TIPO_PACIENTE']== 2,'TIPO_PACIENTE']  = 0\n",
    "df.loc[df['TIPO_PACIENTE']== 1,'TIPO_PACIENTE']  = 1"
   ]
  },
  {
   "cell_type": "code",
   "execution_count": 7,
   "id": "0aa0e8a3",
   "metadata": {
    "scrolled": true
   },
   "outputs": [
    {
     "data": {
      "text/plain": [
       "TIPO_PACIENTE\n",
       "1    0.922579\n",
       "0    0.077421\n",
       "Name: proportion, dtype: float64"
      ]
     },
     "execution_count": 7,
     "metadata": {},
     "output_type": "execute_result"
    }
   ],
   "source": [
    "df['TIPO_PACIENTE'].value_counts(1)"
   ]
  },
  {
   "cell_type": "code",
   "execution_count": 8,
   "id": "641ef62c",
   "metadata": {},
   "outputs": [
    {
     "data": {
      "text/plain": [
       "array([1, 0])"
      ]
     },
     "execution_count": 8,
     "metadata": {},
     "output_type": "execute_result"
    }
   ],
   "source": [
    "df['TIPO_PACIENTE'].unique()"
   ]
  },
  {
   "cell_type": "code",
   "execution_count": 9,
   "id": "92c0240f",
   "metadata": {
    "scrolled": true
   },
   "outputs": [
    {
     "name": "stdout",
     "output_type": "stream",
     "text": [
      "FECHA_ACTUALIZACION\n"
     ]
    },
    {
     "data": {
      "text/plain": [
       "FECHA_ACTUALIZACION\n",
       "2023-09-19    1.0\n",
       "Name: proportion, dtype: float64"
      ]
     },
     "metadata": {},
     "output_type": "display_data"
    },
    {
     "name": "stdout",
     "output_type": "stream",
     "text": [
      "\n",
      "\n",
      "ID_REGISTRO\n"
     ]
    },
    {
     "data": {
      "text/plain": [
       "ID_REGISTRO\n",
       "0ed066     8.787354e-07\n",
       "g3dc7a6    8.787354e-07\n",
       "g2327ac    8.787354e-07\n",
       "g2d6dab    8.787354e-07\n",
       "g2d4e80    8.787354e-07\n",
       "               ...     \n",
       "g3e3dcc    8.787354e-07\n",
       "g441930    8.787354e-07\n",
       "g3808fe    8.787354e-07\n",
       "g352c92    8.787354e-07\n",
       "m1325ff    8.787354e-07\n",
       "Name: proportion, Length: 1137999, dtype: float64"
      ]
     },
     "metadata": {},
     "output_type": "display_data"
    },
    {
     "name": "stdout",
     "output_type": "stream",
     "text": [
      "\n",
      "\n",
      "ORIGEN\n"
     ]
    },
    {
     "data": {
      "text/plain": [
       "ORIGEN\n",
       "2    0.707139\n",
       "1    0.292861\n",
       "Name: proportion, dtype: float64"
      ]
     },
     "metadata": {},
     "output_type": "display_data"
    },
    {
     "name": "stdout",
     "output_type": "stream",
     "text": [
      "\n",
      "\n",
      "SECTOR\n"
     ]
    },
    {
     "data": {
      "text/plain": [
       "SECTOR\n",
       "4     0.536894\n",
       "12    0.314426\n",
       "9     0.076382\n",
       "6     0.049733\n",
       "3     0.014549\n",
       "8     0.002559\n",
       "5     0.002470\n",
       "13    0.001137\n",
       "7     0.000633\n",
       "11    0.000424\n",
       "10    0.000358\n",
       "2     0.000257\n",
       "99    0.000155\n",
       "1     0.000022\n",
       "Name: proportion, dtype: float64"
      ]
     },
     "metadata": {},
     "output_type": "display_data"
    },
    {
     "name": "stdout",
     "output_type": "stream",
     "text": [
      "\n",
      "\n",
      "ENTIDAD_UM\n"
     ]
    },
    {
     "data": {
      "text/plain": [
       "ENTIDAD_UM\n",
       "9     0.282709\n",
       "15    0.073077\n",
       "11    0.055650\n",
       "19    0.054474\n",
       "21    0.035472\n",
       "22    0.030977\n",
       "2     0.030257\n",
       "24    0.029904\n",
       "7     0.029866\n",
       "20    0.026471\n",
       "14    0.025026\n",
       "30    0.023658\n",
       "28    0.023563\n",
       "5     0.022990\n",
       "17    0.021832\n",
       "13    0.020234\n",
       "25    0.020033\n",
       "26    0.019352\n",
       "16    0.018926\n",
       "3     0.016931\n",
       "31    0.015608\n",
       "12    0.014750\n",
       "1     0.014292\n",
       "27    0.013591\n",
       "18    0.013430\n",
       "29    0.011953\n",
       "8     0.011759\n",
       "6     0.011040\n",
       "32    0.010292\n",
       "23    0.009637\n",
       "10    0.007999\n",
       "4     0.004245\n",
       "Name: proportion, dtype: float64"
      ]
     },
     "metadata": {},
     "output_type": "display_data"
    },
    {
     "name": "stdout",
     "output_type": "stream",
     "text": [
      "\n",
      "\n",
      "SEXO\n"
     ]
    },
    {
     "data": {
      "text/plain": [
       "SEXO\n",
       "1    0.588361\n",
       "2    0.411639\n",
       "Name: proportion, dtype: float64"
      ]
     },
     "metadata": {},
     "output_type": "display_data"
    },
    {
     "name": "stdout",
     "output_type": "stream",
     "text": [
      "\n",
      "\n",
      "ENTIDAD_NAC\n"
     ]
    },
    {
     "data": {
      "text/plain": [
       "ENTIDAD_NAC\n",
       "9     0.259743\n",
       "15    0.094761\n",
       "11    0.056439\n",
       "19    0.046097\n",
       "21    0.037459\n",
       "30    0.034488\n",
       "7     0.033208\n",
       "20    0.030848\n",
       "24    0.029960\n",
       "14    0.026461\n",
       "5     0.023314\n",
       "25    0.023284\n",
       "28    0.022629\n",
       "16    0.022540\n",
       "12    0.022358\n",
       "17    0.020802\n",
       "22    0.020727\n",
       "26    0.019586\n",
       "13    0.019503\n",
       "2     0.017810\n",
       "31    0.016482\n",
       "27    0.014830\n",
       "1     0.014025\n",
       "18    0.013095\n",
       "29    0.011930\n",
       "8     0.011840\n",
       "32    0.011401\n",
       "3     0.011133\n",
       "6     0.009746\n",
       "10    0.009473\n",
       "23    0.005304\n",
       "4     0.004451\n",
       "99    0.004277\n",
       "Name: proportion, dtype: float64"
      ]
     },
     "metadata": {},
     "output_type": "display_data"
    },
    {
     "name": "stdout",
     "output_type": "stream",
     "text": [
      "\n",
      "\n",
      "ENTIDAD_RES\n"
     ]
    },
    {
     "data": {
      "text/plain": [
       "ENTIDAD_RES\n",
       "9     0.254280\n",
       "15    0.096835\n",
       "11    0.055816\n",
       "19    0.054396\n",
       "21    0.035698\n",
       "22    0.031200\n",
       "2     0.030467\n",
       "7     0.030212\n",
       "24    0.029578\n",
       "20    0.026846\n",
       "14    0.025250\n",
       "30    0.024482\n",
       "28    0.023596\n",
       "5     0.023019\n",
       "17    0.022284\n",
       "13    0.020714\n",
       "25    0.019756\n",
       "26    0.019450\n",
       "16    0.019352\n",
       "3     0.016934\n",
       "31    0.015621\n",
       "12    0.015320\n",
       "1     0.014320\n",
       "27    0.013496\n",
       "18    0.013443\n",
       "29    0.012216\n",
       "8     0.011849\n",
       "6     0.010981\n",
       "32    0.010362\n",
       "23    0.009782\n",
       "10    0.008182\n",
       "4     0.004265\n",
       "Name: proportion, dtype: float64"
      ]
     },
     "metadata": {},
     "output_type": "display_data"
    },
    {
     "name": "stdout",
     "output_type": "stream",
     "text": [
      "\n",
      "\n",
      "MUNICIPIO_RES\n"
     ]
    },
    {
     "data": {
      "text/plain": [
       "MUNICIPIO_RES\n",
       "7      5.255980e-02\n",
       "5      4.568106e-02\n",
       "14     3.724081e-02\n",
       "2      3.669599e-02\n",
       "10     3.653167e-02\n",
       "           ...     \n",
       "289    8.787354e-07\n",
       "230    8.787354e-07\n",
       "240    8.787354e-07\n",
       "249    8.787354e-07\n",
       "281    8.787354e-07\n",
       "Name: proportion, Length: 471, dtype: float64"
      ]
     },
     "metadata": {},
     "output_type": "display_data"
    },
    {
     "name": "stdout",
     "output_type": "stream",
     "text": [
      "\n",
      "\n",
      "TIPO_PACIENTE\n"
     ]
    },
    {
     "data": {
      "text/plain": [
       "TIPO_PACIENTE\n",
       "1    0.922579\n",
       "0    0.077421\n",
       "Name: proportion, dtype: float64"
      ]
     },
     "metadata": {},
     "output_type": "display_data"
    },
    {
     "name": "stdout",
     "output_type": "stream",
     "text": [
      "\n",
      "\n",
      "FECHA_SINTOMAS\n"
     ]
    },
    {
     "data": {
      "text/plain": [
       "FECHA_SINTOMAS\n",
       "2023-01-02    0.011999\n",
       "2023-01-09    0.011698\n",
       "2023-01-01    0.011267\n",
       "2023-01-03    0.010449\n",
       "2023-01-16    0.010017\n",
       "                ...   \n",
       "2023-07-13    0.000978\n",
       "2023-09-15    0.000821\n",
       "2023-09-16    0.000625\n",
       "2023-09-17    0.000497\n",
       "2023-09-18    0.000185\n",
       "Name: proportion, Length: 261, dtype: float64"
      ]
     },
     "metadata": {},
     "output_type": "display_data"
    },
    {
     "name": "stdout",
     "output_type": "stream",
     "text": [
      "\n",
      "\n",
      "NEUMONIA\n"
     ]
    },
    {
     "data": {
      "text/plain": [
       "NEUMONIA\n",
       "2     0.966211\n",
       "1     0.028711\n",
       "99    0.005078\n",
       "Name: proportion, dtype: float64"
      ]
     },
     "metadata": {},
     "output_type": "display_data"
    },
    {
     "name": "stdout",
     "output_type": "stream",
     "text": [
      "\n",
      "\n",
      "EDAD\n"
     ]
    },
    {
     "data": {
      "text/plain": [
       "EDAD\n",
       "29     2.361250e-02\n",
       "28     2.360108e-02\n",
       "31     2.328297e-02\n",
       "30     2.311338e-02\n",
       "27     2.265116e-02\n",
       "           ...     \n",
       "116    1.757471e-06\n",
       "121    1.757471e-06\n",
       "141    8.787354e-07\n",
       "154    8.787354e-07\n",
       "125    8.787354e-07\n",
       "Name: proportion, Length: 124, dtype: float64"
      ]
     },
     "metadata": {},
     "output_type": "display_data"
    },
    {
     "name": "stdout",
     "output_type": "stream",
     "text": [
      "\n",
      "\n",
      "NACIONALIDAD\n"
     ]
    },
    {
     "data": {
      "text/plain": [
       "NACIONALIDAD\n",
       "1    0.995732\n",
       "2    0.004268\n",
       "Name: proportion, dtype: float64"
      ]
     },
     "metadata": {},
     "output_type": "display_data"
    },
    {
     "name": "stdout",
     "output_type": "stream",
     "text": [
      "\n",
      "\n",
      "EMBARAZO\n"
     ]
    },
    {
     "data": {
      "text/plain": [
       "EMBARAZO\n",
       "2     0.566206\n",
       "97    0.411639\n",
       "1     0.017380\n",
       "98    0.004771\n",
       "99    0.000004\n",
       "Name: proportion, dtype: float64"
      ]
     },
     "metadata": {},
     "output_type": "display_data"
    },
    {
     "name": "stdout",
     "output_type": "stream",
     "text": [
      "\n",
      "\n",
      "HABLA_LENGUA_INDIG\n"
     ]
    },
    {
     "data": {
      "text/plain": [
       "HABLA_LENGUA_INDIG\n",
       "2     0.947268\n",
       "99    0.043968\n",
       "1     0.008765\n",
       "Name: proportion, dtype: float64"
      ]
     },
     "metadata": {},
     "output_type": "display_data"
    },
    {
     "name": "stdout",
     "output_type": "stream",
     "text": [
      "\n",
      "\n",
      "INDIGENA\n"
     ]
    },
    {
     "data": {
      "text/plain": [
       "INDIGENA\n",
       "2     0.946444\n",
       "99    0.042817\n",
       "1     0.010739\n",
       "Name: proportion, dtype: float64"
      ]
     },
     "metadata": {},
     "output_type": "display_data"
    },
    {
     "name": "stdout",
     "output_type": "stream",
     "text": [
      "\n",
      "\n",
      "DIABETES\n"
     ]
    },
    {
     "data": {
      "text/plain": [
       "DIABETES\n",
       "2     0.920018\n",
       "1     0.078937\n",
       "98    0.001045\n",
       "Name: proportion, dtype: float64"
      ]
     },
     "metadata": {},
     "output_type": "display_data"
    },
    {
     "name": "stdout",
     "output_type": "stream",
     "text": [
      "\n",
      "\n",
      "EPOC\n"
     ]
    },
    {
     "data": {
      "text/plain": [
       "EPOC\n",
       "2     0.989244\n",
       "1     0.009805\n",
       "98    0.000951\n",
       "Name: proportion, dtype: float64"
      ]
     },
     "metadata": {},
     "output_type": "display_data"
    },
    {
     "name": "stdout",
     "output_type": "stream",
     "text": [
      "\n",
      "\n",
      "ASMA\n"
     ]
    },
    {
     "data": {
      "text/plain": [
       "ASMA\n",
       "2     0.975678\n",
       "1     0.023410\n",
       "98    0.000912\n",
       "Name: proportion, dtype: float64"
      ]
     },
     "metadata": {},
     "output_type": "display_data"
    },
    {
     "name": "stdout",
     "output_type": "stream",
     "text": [
      "\n",
      "\n",
      "INMUSUPR\n"
     ]
    },
    {
     "data": {
      "text/plain": [
       "INMUSUPR\n",
       "2     0.990051\n",
       "1     0.009061\n",
       "98    0.000888\n",
       "Name: proportion, dtype: float64"
      ]
     },
     "metadata": {},
     "output_type": "display_data"
    },
    {
     "name": "stdout",
     "output_type": "stream",
     "text": [
      "\n",
      "\n",
      "HIPERTENSION\n"
     ]
    },
    {
     "data": {
      "text/plain": [
       "HIPERTENSION\n",
       "2     0.889296\n",
       "1     0.109780\n",
       "98    0.000924\n",
       "Name: proportion, dtype: float64"
      ]
     },
     "metadata": {},
     "output_type": "display_data"
    },
    {
     "name": "stdout",
     "output_type": "stream",
     "text": [
      "\n",
      "\n",
      "OTRA_COM\n"
     ]
    },
    {
     "data": {
      "text/plain": [
       "OTRA_COM\n",
       "2     0.975580\n",
       "1     0.017446\n",
       "98    0.006974\n",
       "Name: proportion, dtype: float64"
      ]
     },
     "metadata": {},
     "output_type": "display_data"
    },
    {
     "name": "stdout",
     "output_type": "stream",
     "text": [
      "\n",
      "\n",
      "CARDIOVASCULAR\n"
     ]
    },
    {
     "data": {
      "text/plain": [
       "CARDIOVASCULAR\n",
       "2     0.986266\n",
       "1     0.012807\n",
       "98    0.000927\n",
       "Name: proportion, dtype: float64"
      ]
     },
     "metadata": {},
     "output_type": "display_data"
    },
    {
     "name": "stdout",
     "output_type": "stream",
     "text": [
      "\n",
      "\n",
      "OBESIDAD\n"
     ]
    },
    {
     "data": {
      "text/plain": [
       "OBESIDAD\n",
       "2     0.922642\n",
       "1     0.076518\n",
       "98    0.000840\n",
       "Name: proportion, dtype: float64"
      ]
     },
     "metadata": {},
     "output_type": "display_data"
    },
    {
     "name": "stdout",
     "output_type": "stream",
     "text": [
      "\n",
      "\n",
      "RENAL_CRONICA\n"
     ]
    },
    {
     "data": {
      "text/plain": [
       "RENAL_CRONICA\n",
       "2     0.988032\n",
       "1     0.011049\n",
       "98    0.000919\n",
       "Name: proportion, dtype: float64"
      ]
     },
     "metadata": {},
     "output_type": "display_data"
    },
    {
     "name": "stdout",
     "output_type": "stream",
     "text": [
      "\n",
      "\n",
      "TABAQUISMO\n"
     ]
    },
    {
     "data": {
      "text/plain": [
       "TABAQUISMO\n",
       "2     0.958217\n",
       "1     0.040819\n",
       "98    0.000964\n",
       "Name: proportion, dtype: float64"
      ]
     },
     "metadata": {},
     "output_type": "display_data"
    },
    {
     "name": "stdout",
     "output_type": "stream",
     "text": [
      "\n",
      "\n",
      "OTRO_CASO\n"
     ]
    },
    {
     "data": {
      "text/plain": [
       "OTRO_CASO\n",
       "2     0.849252\n",
       "1     0.134983\n",
       "99    0.015765\n",
       "Name: proportion, dtype: float64"
      ]
     },
     "metadata": {},
     "output_type": "display_data"
    },
    {
     "name": "stdout",
     "output_type": "stream",
     "text": [
      "\n",
      "\n",
      "TOMA_MUESTRA_LAB\n"
     ]
    },
    {
     "data": {
      "text/plain": [
       "TOMA_MUESTRA_LAB\n",
       "2    0.815736\n",
       "1    0.184264\n",
       "Name: proportion, dtype: float64"
      ]
     },
     "metadata": {},
     "output_type": "display_data"
    },
    {
     "name": "stdout",
     "output_type": "stream",
     "text": [
      "\n",
      "\n",
      "RESULTADO_LAB\n"
     ]
    },
    {
     "data": {
      "text/plain": [
       "RESULTADO_LAB\n",
       "97    0.815736\n",
       "2     0.135398\n",
       "1     0.036615\n",
       "4     0.010729\n",
       "3     0.001521\n",
       "Name: proportion, dtype: float64"
      ]
     },
     "metadata": {},
     "output_type": "display_data"
    },
    {
     "name": "stdout",
     "output_type": "stream",
     "text": [
      "\n",
      "\n",
      "TOMA_MUESTRA_ANTIGENO\n"
     ]
    },
    {
     "data": {
      "text/plain": [
       "TOMA_MUESTRA_ANTIGENO\n",
       "1    0.878111\n",
       "2    0.121889\n",
       "Name: proportion, dtype: float64"
      ]
     },
     "metadata": {},
     "output_type": "display_data"
    },
    {
     "name": "stdout",
     "output_type": "stream",
     "text": [
      "\n",
      "\n",
      "RESULTADO_ANTIGENO\n"
     ]
    },
    {
     "data": {
      "text/plain": [
       "RESULTADO_ANTIGENO\n",
       "2     0.540789\n",
       "1     0.337322\n",
       "97    0.121889\n",
       "Name: proportion, dtype: float64"
      ]
     },
     "metadata": {},
     "output_type": "display_data"
    },
    {
     "name": "stdout",
     "output_type": "stream",
     "text": [
      "\n",
      "\n",
      "CLASIFICACION_FINAL\n"
     ]
    },
    {
     "data": {
      "text/plain": [
       "CLASIFICACION_FINAL\n",
       "7    0.587839\n",
       "3    0.360521\n",
       "6    0.043124\n",
       "1    0.006996\n",
       "5    0.001385\n",
       "4    0.000110\n",
       "2    0.000025\n",
       "Name: proportion, dtype: float64"
      ]
     },
     "metadata": {},
     "output_type": "display_data"
    },
    {
     "name": "stdout",
     "output_type": "stream",
     "text": [
      "\n",
      "\n",
      "MIGRANTE\n"
     ]
    },
    {
     "data": {
      "text/plain": [
       "MIGRANTE\n",
       "99    0.996544\n",
       "2     0.002131\n",
       "1     0.001325\n",
       "Name: proportion, dtype: float64"
      ]
     },
     "metadata": {},
     "output_type": "display_data"
    },
    {
     "name": "stdout",
     "output_type": "stream",
     "text": [
      "\n",
      "\n",
      "PAIS_NACIONALIDAD\n"
     ]
    },
    {
     "data": {
      "text/plain": [
       "PAIS_NACIONALIDAD\n",
       "México                       9.957320e-01\n",
       "Estados Unidos de América    8.435860e-04\n",
       "Venezuela                    5.413010e-04\n",
       "República de Honduras        3.145873e-04\n",
       "China                        2.943764e-04\n",
       "                                 ...     \n",
       "Austria                      8.787354e-07\n",
       "República Centro Africana    8.787354e-07\n",
       "Níger                        8.787354e-07\n",
       "Marruecos                    8.787354e-07\n",
       "Bielorrusia                  8.787354e-07\n",
       "Name: proportion, Length: 102, dtype: float64"
      ]
     },
     "metadata": {},
     "output_type": "display_data"
    },
    {
     "name": "stdout",
     "output_type": "stream",
     "text": [
      "\n",
      "\n",
      "PAIS_ORIGEN\n"
     ]
    },
    {
     "data": {
      "text/plain": [
       "PAIS_ORIGEN\n",
       "97                                      9.986775e-01\n",
       "Venezuela                               2.495609e-04\n",
       "República de Honduras                   2.117752e-04\n",
       "Haití                                   1.291741e-04\n",
       "Nicaragua                               1.177505e-04\n",
       "Guatemala                               7.205630e-05\n",
       "Brasil                                  6.678389e-05\n",
       "Estados Unidos de América               6.151148e-05\n",
       "China                                   5.623907e-05\n",
       "El Salvador                             5.360286e-05\n",
       "Colombia                                5.184539e-05\n",
       "Ecuador                                 5.096665e-05\n",
       "Chile                                   4.569424e-05\n",
       "Cuba                                    3.690689e-05\n",
       "Otro                                    2.460459e-05\n",
       "Afganistán                              1.054482e-05\n",
       "Perú                                    8.787354e-06\n",
       "Rusia                                   7.908619e-06\n",
       "Bolivia                                 7.029883e-06\n",
       "Argentina                               7.029883e-06\n",
       "España                                  5.272412e-06\n",
       "Italia                                  4.393677e-06\n",
       "Canadá                                  4.393677e-06\n",
       "Japón                                   3.514942e-06\n",
       "República de Angola                     2.636206e-06\n",
       "República de Costa Rica                 2.636206e-06\n",
       "Belice                                  2.636206e-06\n",
       "Hungría                                 1.757471e-06\n",
       "Surinam                                 1.757471e-06\n",
       "Australia                               1.757471e-06\n",
       "Alemania                                1.757471e-06\n",
       "Nigeria                                 1.757471e-06\n",
       "República Dominicana                    1.757471e-06\n",
       "Guyana Francesa                         1.757471e-06\n",
       "Siria                                   8.787354e-07\n",
       "Bangladesh                              8.787354e-07\n",
       "Holanda                                 8.787354e-07\n",
       "Mauritania                              8.787354e-07\n",
       "República de Corea                      8.787354e-07\n",
       "Gran Bretaña (Reino Unido)              8.787354e-07\n",
       "Estado Libre Asociado de Puerto Rico    8.787354e-07\n",
       "República de Panamá                     8.787354e-07\n",
       "República Oriental del Uruguay          8.787354e-07\n",
       "Senegal                                 8.787354e-07\n",
       "Níger                                   8.787354e-07\n",
       "República Centro Africana               8.787354e-07\n",
       "Reino Hachemita de Jordania             8.787354e-07\n",
       "República de Guyana                     8.787354e-07\n",
       "India                                   8.787354e-07\n",
       "Austria                                 8.787354e-07\n",
       "Guinea                                  8.787354e-07\n",
       "Name: proportion, dtype: float64"
      ]
     },
     "metadata": {},
     "output_type": "display_data"
    },
    {
     "name": "stdout",
     "output_type": "stream",
     "text": [
      "\n",
      "\n"
     ]
    }
   ],
   "source": [
    "#Como todas nuestras variables \n",
    "for i in df:\n",
    "  print(i)\n",
    "  values = df[i].value_counts(1)\n",
    "  display(values)\n",
    "  print(\"\\n\")"
   ]
  },
  {
   "cell_type": "code",
   "execution_count": 10,
   "id": "5b4998ac",
   "metadata": {},
   "outputs": [],
   "source": [
    "#Normalización de Sector menores a .01 se agruparán en otra categoria\n",
    "df['SECTOR']=df[\"SECTOR\"].map(lambda \n",
    "                                    x: 0 if x== 8 \n",
    "                                    or x== 5 \n",
    "                                    or x== 13 \n",
    "                                    or x== 7\n",
    "                                    or x== 11\n",
    "                                    or x== 10\n",
    "                                    or x== 2\n",
    "                                    or x== 99\n",
    "                                    or x== 1\n",
    "                                    else x)"
   ]
  },
  {
   "cell_type": "code",
   "execution_count": 11,
   "id": "38d4a11f",
   "metadata": {},
   "outputs": [
    {
     "data": {
      "text/plain": [
       "SECTOR\n",
       "4     0.536894\n",
       "12    0.314426\n",
       "9     0.076382\n",
       "6     0.049733\n",
       "3     0.014549\n",
       "0     0.008015\n",
       "Name: proportion, dtype: float64"
      ]
     },
     "execution_count": 11,
     "metadata": {},
     "output_type": "execute_result"
    }
   ],
   "source": [
    "df['SECTOR'].value_counts(1)"
   ]
  },
  {
   "cell_type": "code",
   "execution_count": 12,
   "id": "620722e7",
   "metadata": {},
   "outputs": [],
   "source": [
    "df['ENTIDAD_NAC'] = df['ENTIDAD_NAC'].astype(str)\n",
    "df['ENTIDAD_UM'] = df['ENTIDAD_UM'].astype(str)\n",
    "df['ENTIDAD_RES'] = df['ENTIDAD_RES'].astype(str)"
   ]
  },
  {
   "cell_type": "code",
   "execution_count": 13,
   "id": "a0a15144",
   "metadata": {},
   "outputs": [],
   "source": [
    "#ENTIDAD_NAC\n",
    "diccionario_region = {\n",
    "    \"1\": \"Centro de Mexico\",  # AGUASCALIENTES\n",
    "    \"2\": \"Norte de Mexico\",    # BAJA CALIFORNIA\n",
    "    \"3\": \"Norte de Mexico\",    # BAJA CALIFORNIA SUR\n",
    "    \"4\": \"Sur de Mexico\",      # CAMPECHE\n",
    "    \"5\": \"Norte de Mexico\",    # COAHUILA DE ZARAGOZA\n",
    "    \"6\": \"Occidente de Mexico\", # COLIMA\n",
    "    \"7\": \"Sur de Mexico\",      # CHIAPAS\n",
    "    \"8\": \"Norte de Mexico\",    # CHIHUAHUA\n",
    "    \"9\": \"Centro de Mexico\",   # CIUDAD DE MÉXICO\n",
    "    \"10\": \"Norte de Mexico\",    # DURANGO\n",
    "    \"11\": \"Centro de Mexico\",   # GUANAJUATO\n",
    "    \"12\": \"Sur de Mexico\",      # GUERRERO\n",
    "    \"13\": \"Centro de Mexico\",   # HIDALGO\n",
    "    \"14\": \"Occidente de Mexico\", # JALISCO\n",
    "    \"15\": \"Centro de Mexico\",   # MÉXICO\n",
    "    \"16\": \"Occidente de Mexico\", # MICHOACÁN DE OCAMPO\n",
    "    \"17\": \"Centro de Mexico\",   # MORELOS\n",
    "    \"18\": \"Occidente de Mexico\", # NAYARIT\n",
    "    \"19\": \"Norte de Mexico\",    # NUEVO LEÓN\n",
    "    \"20\": \"Sur de Mexico\",      # OAXACA\n",
    "    \"21\": \"Bajio de Mexico\", # PUEBLA\n",
    "    \"22\": \"Centro de Mexico\",   # QUERÉTARO\n",
    "    \"23\": \"Sur de Mexico\",      # QUINTANA ROO\n",
    "    \"24\": \"Centro de Mexico\",   # SAN LUIS POTOSÍ\n",
    "    \"25\": \"Norte de Mexico\",    # SINALOA\n",
    "    \"26\": \"Norte de Mexico\",    # SONORA\n",
    "    \"27\": \"Sur de Mexico\",      # TABASCO\n",
    "    \"28\": \"Norte de Mexico\",    # TAMAULIPAS\n",
    "    \"29\": \"Bajio de Mexico\", # TLAXCALA\n",
    "    \"30\": \"Sur de Mexico\",      # VERACRUZ DE IGNACIO DE LA LLAVE\n",
    "    \"31\": \"Sur de Mexico\",      # YUCATÁN\n",
    "    \"32\": \"Norte de Mexico\" ,    # ZACATECAS\n",
    "    \"36\": 'Estados Unidos',\n",
    "    \"97\": \"No aplica\",\n",
    "    \"98\": \"Se ignora\",\n",
    "    \"99\": \"No especifico\"\n",
    "}"
   ]
  },
  {
   "cell_type": "code",
   "execution_count": 14,
   "id": "6d2f2a37",
   "metadata": {},
   "outputs": [],
   "source": [
    "df[\"ENTIDAD_NAC\"]=df[\"ENTIDAD_NAC\"].replace(diccionario_region)\n",
    "df[\"ENTIDAD_UM\"]=df[\"ENTIDAD_UM\"].replace(diccionario_region)\n",
    "df[\"ENTIDAD_RES\"]=df[\"ENTIDAD_RES\"].replace(diccionario_region)"
   ]
  },
  {
   "cell_type": "code",
   "execution_count": 15,
   "id": "33a40746",
   "metadata": {},
   "outputs": [
    {
     "data": {
      "text/plain": [
       "ENTIDAD_NAC\n",
       "Centro de Mexico       0.515959\n",
       "Norte de Mexico        0.196566\n",
       "Sur de Mexico          0.161968\n",
       "Occidente de Mexico    0.071842\n",
       "Bajio de Mexico        0.049388\n",
       "No especifico          0.004277\n",
       "Name: proportion, dtype: float64"
      ]
     },
     "execution_count": 15,
     "metadata": {},
     "output_type": "execute_result"
    }
   ],
   "source": [
    "df[\"ENTIDAD_NAC\"].value_counts(1)"
   ]
  },
  {
   "cell_type": "code",
   "execution_count": 16,
   "id": "db8e0dcf",
   "metadata": {
    "scrolled": true
   },
   "outputs": [
    {
     "data": {
      "text/plain": [
       "ENTIDAD_UM\n",
       "Centro de Mexico       0.528675\n",
       "Norte de Mexico        0.217650\n",
       "Sur de Mexico          0.137826\n",
       "Occidente de Mexico    0.068423\n",
       "Bajio de Mexico        0.047425\n",
       "Name: proportion, dtype: float64"
      ]
     },
     "execution_count": 16,
     "metadata": {},
     "output_type": "execute_result"
    }
   ],
   "source": [
    "df[\"ENTIDAD_UM\"].value_counts(1)"
   ]
  },
  {
   "cell_type": "code",
   "execution_count": 17,
   "id": "8a29d876",
   "metadata": {},
   "outputs": [
    {
     "data": {
      "text/plain": [
       "ENTIDAD_RES\n",
       "Centro de Mexico       0.525026\n",
       "Norte de Mexico        0.218011\n",
       "Sur de Mexico          0.140023\n",
       "Occidente de Mexico    0.069026\n",
       "Bajio de Mexico        0.047914\n",
       "Name: proportion, dtype: float64"
      ]
     },
     "execution_count": 17,
     "metadata": {},
     "output_type": "execute_result"
    }
   ],
   "source": [
    "df[\"ENTIDAD_RES\"].value_counts(1)"
   ]
  },
  {
   "cell_type": "code",
   "execution_count": 18,
   "id": "fb1e60a3",
   "metadata": {},
   "outputs": [],
   "source": [
    "categorizar_edad = lambda edad: \"mayores a 60\" if edad > 60 else f\"{(edad // 10) * 10}-{(edad // 10) * 10 + 9}\"\n",
    "df['EDAD'] = df['EDAD'].apply(categorizar_edad)"
   ]
  },
  {
   "cell_type": "code",
   "execution_count": 19,
   "id": "912ee761",
   "metadata": {},
   "outputs": [
    {
     "data": {
      "text/plain": [
       "EDAD\n",
       "30-39           0.205497\n",
       "20-29           0.201568\n",
       "40-49           0.164238\n",
       "mayores a 60    0.136159\n",
       "50-59           0.135570\n",
       "0-9             0.078125\n",
       "10-19           0.068646\n",
       "60-69           0.010198\n",
       "Name: proportion, dtype: float64"
      ]
     },
     "execution_count": 19,
     "metadata": {},
     "output_type": "execute_result"
    }
   ],
   "source": [
    "df['EDAD'].value_counts(1)"
   ]
  },
  {
   "cell_type": "code",
   "execution_count": 20,
   "id": "a6f85d68",
   "metadata": {},
   "outputs": [],
   "source": [
    "paises = {\n",
    "    \"Africa\": [\n",
    "        \"Argelia\", \"Angola\", \"Benín\", \"Botsuana\", \"Burkina Faso\", \"Burundi\", \"Cabo Verde\", \n",
    "        \"Camerún\", \"Chad\", \"Comoras\", \"Costa de Marfil\", \"Egipto\", \"Eritrea\", \"Etiopía\", \n",
    "        \"Gabón\", \"Gambia\", \"Ghana\", \"Guinea\", \"Guinea-Bisáu\", \"Guinea Ecuatorial\", \n",
    "        \"Kenia\", \"Lesoto\", \"Liberia\", \"Libia\", \"Madagascar\", \"Malaui\", \"Malí\", \"Marruecos\", \n",
    "        \"Mauricio\", \"Mauritania\", \"Mozambique\", \"Namibia\", \"Níger\", \"Nigeria\", \n",
    "        \"República Centroafricana\", \"República del Congo\", \"República Democrática del Congo\", \n",
    "        \"Ruanda\", \"Santo Tomé y Príncipe\", \"Senegal\", \"Seychelles\", \"Sierra Leona\", \"Somalia\", \n",
    "        \"Suazilandia (Esuatini)\", \"Sudáfrica\", \"Sudán\", \"Sudán del Sur\", \"Tanzania\", \"Togo\", \n",
    "        \"Túnez\", \"Uganda\", \"Yibuti\", \"Zambia\", \"Zimbabue\",\"República de Angola\",\"Reino de Swazilandia\",\n",
    "        \"República Centro Africana\",\"Congo\"\n",
    "    ],\n",
    "    \"America\": [\n",
    "        \"Canadá\", \"Estados Unidos de América\", \"México\", \"Argentina\", \"Bolivia\", \"Brasil\", \"Chile\", \n",
    "        \"Colombia\", \"Ecuador\", \"Guyana\", \"Paraguay\", \"Perú\", \"Surinam\", \"Uruguay\", \"Venezuela\",\"República de Honduras\",\n",
    "        \"Guatemala\",\"Nicaragua\",\"Cuba\",\"Haití\",\"El Salvador\",\"Belice\",\"República de Costa Rica\",\n",
    "        \"República de Panamá\",\"República Oriental del Uruguay\",\"Jamaica\", \"República de Trinidad y Tobago\",\n",
    "        \"Estado Libre Asociado de Puerto Rico\",\"República Dominicana\",\"República de Guyana\"\n",
    "    ],\n",
    "    \"Asia\": [\n",
    "        \"Afganistán\", \"Arabia Saudita\", \"Armenia\", \"Azerbaiyán\", \"Bangladés\", \"Baréin\", \n",
    "        \"Birmania (Myanmar)\", \"Brunéi\", \"Bután\", \"Camboya\", \"Catar\", \"China\", \"Chipre\", \n",
    "        \"Corea del Norte\", \"Corea del Sur\", \"Emiratos Árabes Unidos\", \"Filipinas\", \n",
    "        \"Georgia\", \"India\", \"Indonesia\", \"Irak\", \"Irán\", \"Israel\", \"Japón\", \"Jordania\", \n",
    "        \"Kazajistán\", \"Kirguistán\", \"Kuwait\", \"Laos\", \"Líbano\", \"Malasia\", \"Maldivas\", \n",
    "        \"Mongolia\", \"Nepal\", \"Omán\", \"Pakistán\", \"Palestina\", \"Qatar\", \"Rusia\", \"Singapur\", \n",
    "        \"Siria\", \"Sri Lanka\", \"Tailandia\", \"Tayikistán\", \"Timor Oriental\", \"Turkmenistán\", \n",
    "        \"Turquía\", \"Uzbekistán\", \"Vietnam\", \"Yemen\",\"República de Corea\",\"Macao\",\"Bangladesh\",\n",
    "        \"República Democrática de Corea\",\"Reino Hachemita de Jordania\",\"Iraq\",\"Hong Kong\"\n",
    "    ],\n",
    "    \"Europa\": [\n",
    "        \"Albania\", \"Alemania\", \"Andorra\", \"Austria\", \"Bélgica\", \"Bielorrusia\", \n",
    "        \"Bosnia y Herzegovina\", \"Bulgaria\", \"Chipre\", \"Croacia\", \"Dinamarca\", \n",
    "        \"Eslovaquia\", \"Eslovenia\", \"España\", \"Estonia\", \"Finlandia\", \"Francia\", \n",
    "        \"Grecia\", \"Hungría\", \"Irlanda\", \"Islandia\", \"Italia\", \"Letonia\", \n",
    "        \"Liechtenstein\", \"Lituania\", \"Luxemburgo\", \"Macedonia del Norte\", \n",
    "        \"Malta\", \"Moldavia\", \"Mónaco\", \"Montenegro\", \"Noruega\", \"Países Bajos\", \n",
    "        \"Polonia\", \"Portugal\", \"Reino Unido\", \"República Checa\", \"Rumanía\", \n",
    "        \"Rusia (parte europea)\", \"San Marino\", \"Serbia\", \"Suecia\", \"Suiza\", \n",
    "        \"Ucrania\", \"Vaticano\",\"Gran Bretaña (Reino Unido)\",\"Holanda\",\"Rumania\",\"Guyana Francesa\",\n",
    "        \"Países de la Ex-Yugoslavia\",\"República Checa y República Eslovaca\",\"El Vaticano\"\n",
    "    ],\n",
    "    \"Oceania\": [\n",
    "        \"Australia\", \"Fiyi\", \"Islas Marshall\", \"Islas Salomón\",\"Kiribati\",\"Micronesia\",\"Nauru\",\"Nueva Zelanda\",\"Palau\",\n",
    "        \"Papúa Nueva Guinea\",\"Samoa\",\"Tonga\",\"Tuvalu\",\"Vanuatu\"],\n",
    "    \"NO APLICA\": [\n",
    "        \"97\"],\n",
    "    \"SE IGNORA\": [\n",
    "        \"98\",\"SE DESCONOCE\"],\n",
    "    \"NO ESPECIFICADO\": [\n",
    "        \"99\",\"Otro\",\"Zona Neutral\"]\n",
    "}\n",
    "diccio_continente = {continente:  pais for pais, continentes in paises.items() for continente in continentes}"
   ]
  },
  {
   "cell_type": "code",
   "execution_count": 21,
   "id": "d80ee915",
   "metadata": {},
   "outputs": [],
   "source": [
    "df[\"PAIS_NACIONALIDAD\"]=df[\"PAIS_NACIONALIDAD\"].replace(diccio_continente)\n",
    "df[\"PAIS_ORIGEN\"]=df[\"PAIS_ORIGEN\"].replace(diccio_continente)"
   ]
  },
  {
   "cell_type": "code",
   "execution_count": 22,
   "id": "75967989",
   "metadata": {},
   "outputs": [
    {
     "data": {
      "text/plain": [
       "PAIS_NACIONALIDAD\n",
       "America            0.999102\n",
       "Asia               0.000484\n",
       "Europa             0.000196\n",
       "NO ESPECIFICADO    0.000181\n",
       "Africa             0.000031\n",
       "Oceania            0.000004\n",
       "SE IGNORA          0.000003\n",
       "Name: proportion, dtype: float64"
      ]
     },
     "execution_count": 22,
     "metadata": {},
     "output_type": "execute_result"
    }
   ],
   "source": [
    "df[\"PAIS_NACIONALIDAD\"].value_counts(1)"
   ]
  },
  {
   "cell_type": "code",
   "execution_count": 23,
   "id": "67da0e83",
   "metadata": {},
   "outputs": [
    {
     "data": {
      "text/plain": [
       "PAIS_ORIGEN\n",
       "NO APLICA          0.998678\n",
       "America            0.001187\n",
       "Asia               0.000083\n",
       "NO ESPECIFICADO    0.000025\n",
       "Europa             0.000018\n",
       "Africa             0.000009\n",
       "Oceania            0.000002\n",
       "Name: proportion, dtype: float64"
      ]
     },
     "execution_count": 23,
     "metadata": {},
     "output_type": "execute_result"
    }
   ],
   "source": [
    "df[\"PAIS_ORIGEN\"].value_counts(1)"
   ]
  },
  {
   "cell_type": "code",
   "execution_count": 24,
   "id": "0533bddc",
   "metadata": {},
   "outputs": [
    {
     "name": "stdout",
     "output_type": "stream",
     "text": [
      "<class 'pandas.core.frame.DataFrame'>\n",
      "RangeIndex: 1137999 entries, 0 to 1137998\n",
      "Data columns (total 36 columns):\n",
      " #   Column                 Non-Null Count    Dtype \n",
      "---  ------                 --------------    ----- \n",
      " 0   FECHA_ACTUALIZACION    1137999 non-null  object\n",
      " 1   ID_REGISTRO            1137999 non-null  object\n",
      " 2   ORIGEN                 1137999 non-null  int64 \n",
      " 3   SECTOR                 1137999 non-null  int64 \n",
      " 4   ENTIDAD_UM             1137999 non-null  object\n",
      " 5   SEXO                   1137999 non-null  int64 \n",
      " 6   ENTIDAD_NAC            1137999 non-null  object\n",
      " 7   ENTIDAD_RES            1137999 non-null  object\n",
      " 8   MUNICIPIO_RES          1137999 non-null  int64 \n",
      " 9   TIPO_PACIENTE          1137999 non-null  int64 \n",
      " 10  FECHA_SINTOMAS         1137999 non-null  object\n",
      " 11  NEUMONIA               1137999 non-null  int64 \n",
      " 12  EDAD                   1137999 non-null  object\n",
      " 13  NACIONALIDAD           1137999 non-null  int64 \n",
      " 14  EMBARAZO               1137999 non-null  int64 \n",
      " 15  HABLA_LENGUA_INDIG     1137999 non-null  int64 \n",
      " 16  INDIGENA               1137999 non-null  int64 \n",
      " 17  DIABETES               1137999 non-null  int64 \n",
      " 18  EPOC                   1137999 non-null  int64 \n",
      " 19  ASMA                   1137999 non-null  int64 \n",
      " 20  INMUSUPR               1137999 non-null  int64 \n",
      " 21  HIPERTENSION           1137999 non-null  int64 \n",
      " 22  OTRA_COM               1137999 non-null  int64 \n",
      " 23  CARDIOVASCULAR         1137999 non-null  int64 \n",
      " 24  OBESIDAD               1137999 non-null  int64 \n",
      " 25  RENAL_CRONICA          1137999 non-null  int64 \n",
      " 26  TABAQUISMO             1137999 non-null  int64 \n",
      " 27  OTRO_CASO              1137999 non-null  int64 \n",
      " 28  TOMA_MUESTRA_LAB       1137999 non-null  int64 \n",
      " 29  RESULTADO_LAB          1137999 non-null  int64 \n",
      " 30  TOMA_MUESTRA_ANTIGENO  1137999 non-null  int64 \n",
      " 31  RESULTADO_ANTIGENO     1137999 non-null  int64 \n",
      " 32  CLASIFICACION_FINAL    1137999 non-null  int64 \n",
      " 33  MIGRANTE               1137999 non-null  int64 \n",
      " 34  PAIS_NACIONALIDAD      1137999 non-null  object\n",
      " 35  PAIS_ORIGEN            1137999 non-null  object\n",
      "dtypes: int64(27), object(9)\n",
      "memory usage: 312.6+ MB\n"
     ]
    }
   ],
   "source": [
    "df.info()"
   ]
  },
  {
   "cell_type": "code",
   "execution_count": 25,
   "id": "b14fbff2",
   "metadata": {},
   "outputs": [],
   "source": [
    "#Considero que es mejor quedarnos con el mes y no con toda la fecha, igual no considero relevante mantener la fecha de actualización\n",
    "df[\"FECHA_SINTOMAS\"] = pd.to_datetime(df[\"FECHA_SINTOMAS\"])\n",
    "df[\"MES_SINTOMAS\"] = df[\"FECHA_SINTOMAS\"].dt.month\n",
    "df=df.drop(columns=[\"FECHA_ACTUALIZACION\",\"FECHA_SINTOMAS\"])"
   ]
  },
  {
   "cell_type": "code",
   "execution_count": 26,
   "id": "35a22ea9",
   "metadata": {},
   "outputs": [
    {
     "data": {
      "text/plain": [
       "(1137999, 35)"
      ]
     },
     "execution_count": 26,
     "metadata": {},
     "output_type": "execute_result"
    }
   ],
   "source": [
    "df.shape"
   ]
  },
  {
   "cell_type": "code",
   "execution_count": 27,
   "id": "8bd7ec7d",
   "metadata": {},
   "outputs": [],
   "source": [
    "df_c=df.copy()"
   ]
  },
  {
   "cell_type": "code",
   "execution_count": null,
   "id": "5f2f59bd",
   "metadata": {},
   "outputs": [],
   "source": [
    "#Esta parte es para la correlación entre variables\n",
    "cramersv = am.CramersV(df_c.astype('category')) \n",
    "cramersv.fit()"
   ]
  },
  {
   "cell_type": "code",
   "execution_count": 25,
   "id": "3ddc7a7c",
   "metadata": {},
   "outputs": [],
   "source": [
    "df=df.drop(columns=[\"ENTIDAD_UM\",\"ENTIDAD_RES\",\"MUNICIPIO_RES\",\"PAIS_NACIONALIDAD\",\"RESULTADO_ANTIGENO\",\"INDIGENA\"])"
   ]
  },
  {
   "cell_type": "code",
   "execution_count": 29,
   "id": "0de010d8",
   "metadata": {},
   "outputs": [],
   "source": [
    "df_c=df_c.drop(columns=[\"ENTIDAD_UM\",\"ENTIDAD_RES\",\"MUNICIPIO_RES\",\"PAIS_NACIONALIDAD\",\"RESULTADO_ANTIGENO\",\"INDIGENA\"])"
   ]
  },
  {
   "cell_type": "code",
   "execution_count": 30,
   "id": "e3f407bb",
   "metadata": {},
   "outputs": [],
   "source": [
    "X = df_c.drop('TIPO_PACIENTE',axis=1)\n",
    "y = df_c['TIPO_PACIENTE']\n",
    "\n",
    "X_train, X_test, y_train, y_test = train_test_split(X,y,\n",
    "                                                    train_size=0.7,\n",
    "                                                    random_state=333,\n",
    "                                                    shuffle=True,\n",
    "                                                    stratify = df_c['TIPO_PACIENTE'])"
   ]
  },
  {
   "cell_type": "code",
   "execution_count": 31,
   "id": "f476f2f9",
   "metadata": {},
   "outputs": [
    {
     "data": {
      "text/html": [
       "<div>\n",
       "<style scoped>\n",
       "    .dataframe tbody tr th:only-of-type {\n",
       "        vertical-align: middle;\n",
       "    }\n",
       "\n",
       "    .dataframe tbody tr th {\n",
       "        vertical-align: top;\n",
       "    }\n",
       "\n",
       "    .dataframe thead th {\n",
       "        text-align: right;\n",
       "    }\n",
       "</style>\n",
       "<table border=\"1\" class=\"dataframe\">\n",
       "  <thead>\n",
       "    <tr style=\"text-align: right;\">\n",
       "      <th></th>\n",
       "      <th>ORIGEN</th>\n",
       "      <th>SECTOR</th>\n",
       "      <th>SEXO</th>\n",
       "      <th>NEUMONIA</th>\n",
       "      <th>NACIONALIDAD</th>\n",
       "      <th>EMBARAZO</th>\n",
       "      <th>HABLA_LENGUA_INDIG</th>\n",
       "      <th>DIABETES</th>\n",
       "      <th>EPOC</th>\n",
       "      <th>ASMA</th>\n",
       "      <th>...</th>\n",
       "      <th>CARDIOVASCULAR</th>\n",
       "      <th>OBESIDAD</th>\n",
       "      <th>RENAL_CRONICA</th>\n",
       "      <th>TABAQUISMO</th>\n",
       "      <th>OTRO_CASO</th>\n",
       "      <th>TOMA_MUESTRA_LAB</th>\n",
       "      <th>RESULTADO_LAB</th>\n",
       "      <th>TOMA_MUESTRA_ANTIGENO</th>\n",
       "      <th>CLASIFICACION_FINAL</th>\n",
       "      <th>MIGRANTE</th>\n",
       "    </tr>\n",
       "  </thead>\n",
       "  <tbody>\n",
       "    <tr>\n",
       "      <th>count</th>\n",
       "      <td>796599.000000</td>\n",
       "      <td>796599.000000</td>\n",
       "      <td>796599.000000</td>\n",
       "      <td>796599.000000</td>\n",
       "      <td>796599.000000</td>\n",
       "      <td>796599.000000</td>\n",
       "      <td>796599.000000</td>\n",
       "      <td>796599.000000</td>\n",
       "      <td>796599.000000</td>\n",
       "      <td>796599.000000</td>\n",
       "      <td>...</td>\n",
       "      <td>796599.000000</td>\n",
       "      <td>796599.000000</td>\n",
       "      <td>796599.000000</td>\n",
       "      <td>796599.000000</td>\n",
       "      <td>796599.000000</td>\n",
       "      <td>796599.000000</td>\n",
       "      <td>796599.000000</td>\n",
       "      <td>796599.000000</td>\n",
       "      <td>796599.000000</td>\n",
       "      <td>796599.000000</td>\n",
       "    </tr>\n",
       "    <tr>\n",
       "      <th>mean</th>\n",
       "      <td>1.706994</td>\n",
       "      <td>6.955177</td>\n",
       "      <td>1.411528</td>\n",
       "      <td>2.461822</td>\n",
       "      <td>1.004238</td>\n",
       "      <td>41.537117</td>\n",
       "      <td>6.250106</td>\n",
       "      <td>2.021396</td>\n",
       "      <td>2.080495</td>\n",
       "      <td>2.063546</td>\n",
       "      <td>...</td>\n",
       "      <td>2.076724</td>\n",
       "      <td>2.003895</td>\n",
       "      <td>2.076779</td>\n",
       "      <td>2.052954</td>\n",
       "      <td>3.386437</td>\n",
       "      <td>1.815906</td>\n",
       "      <td>79.497657</td>\n",
       "      <td>1.121961</td>\n",
       "      <td>5.469783</td>\n",
       "      <td>98.665168</td>\n",
       "    </tr>\n",
       "    <tr>\n",
       "      <th>std</th>\n",
       "      <td>0.455141</td>\n",
       "      <td>3.698056</td>\n",
       "      <td>0.492111</td>\n",
       "      <td>6.885052</td>\n",
       "      <td>0.064962</td>\n",
       "      <td>46.850508</td>\n",
       "      <td>19.875909</td>\n",
       "      <td>3.116998</td>\n",
       "      <td>2.944252</td>\n",
       "      <td>2.891487</td>\n",
       "      <td>...</td>\n",
       "      <td>2.935053</td>\n",
       "      <td>2.795801</td>\n",
       "      <td>2.905017</td>\n",
       "      <td>3.006466</td>\n",
       "      <td>12.076630</td>\n",
       "      <td>0.387561</td>\n",
       "      <td>36.847640</td>\n",
       "      <td>0.327241</td>\n",
       "      <td>1.930853</td>\n",
       "      <td>5.700446</td>\n",
       "    </tr>\n",
       "    <tr>\n",
       "      <th>min</th>\n",
       "      <td>1.000000</td>\n",
       "      <td>0.000000</td>\n",
       "      <td>1.000000</td>\n",
       "      <td>1.000000</td>\n",
       "      <td>1.000000</td>\n",
       "      <td>1.000000</td>\n",
       "      <td>1.000000</td>\n",
       "      <td>1.000000</td>\n",
       "      <td>1.000000</td>\n",
       "      <td>1.000000</td>\n",
       "      <td>...</td>\n",
       "      <td>1.000000</td>\n",
       "      <td>1.000000</td>\n",
       "      <td>1.000000</td>\n",
       "      <td>1.000000</td>\n",
       "      <td>1.000000</td>\n",
       "      <td>1.000000</td>\n",
       "      <td>1.000000</td>\n",
       "      <td>1.000000</td>\n",
       "      <td>1.000000</td>\n",
       "      <td>1.000000</td>\n",
       "    </tr>\n",
       "    <tr>\n",
       "      <th>25%</th>\n",
       "      <td>1.000000</td>\n",
       "      <td>4.000000</td>\n",
       "      <td>1.000000</td>\n",
       "      <td>2.000000</td>\n",
       "      <td>1.000000</td>\n",
       "      <td>2.000000</td>\n",
       "      <td>2.000000</td>\n",
       "      <td>2.000000</td>\n",
       "      <td>2.000000</td>\n",
       "      <td>2.000000</td>\n",
       "      <td>...</td>\n",
       "      <td>2.000000</td>\n",
       "      <td>2.000000</td>\n",
       "      <td>2.000000</td>\n",
       "      <td>2.000000</td>\n",
       "      <td>2.000000</td>\n",
       "      <td>2.000000</td>\n",
       "      <td>97.000000</td>\n",
       "      <td>1.000000</td>\n",
       "      <td>3.000000</td>\n",
       "      <td>99.000000</td>\n",
       "    </tr>\n",
       "    <tr>\n",
       "      <th>50%</th>\n",
       "      <td>2.000000</td>\n",
       "      <td>4.000000</td>\n",
       "      <td>1.000000</td>\n",
       "      <td>2.000000</td>\n",
       "      <td>1.000000</td>\n",
       "      <td>2.000000</td>\n",
       "      <td>2.000000</td>\n",
       "      <td>2.000000</td>\n",
       "      <td>2.000000</td>\n",
       "      <td>2.000000</td>\n",
       "      <td>...</td>\n",
       "      <td>2.000000</td>\n",
       "      <td>2.000000</td>\n",
       "      <td>2.000000</td>\n",
       "      <td>2.000000</td>\n",
       "      <td>2.000000</td>\n",
       "      <td>2.000000</td>\n",
       "      <td>97.000000</td>\n",
       "      <td>1.000000</td>\n",
       "      <td>7.000000</td>\n",
       "      <td>99.000000</td>\n",
       "    </tr>\n",
       "    <tr>\n",
       "      <th>75%</th>\n",
       "      <td>2.000000</td>\n",
       "      <td>12.000000</td>\n",
       "      <td>2.000000</td>\n",
       "      <td>2.000000</td>\n",
       "      <td>1.000000</td>\n",
       "      <td>97.000000</td>\n",
       "      <td>2.000000</td>\n",
       "      <td>2.000000</td>\n",
       "      <td>2.000000</td>\n",
       "      <td>2.000000</td>\n",
       "      <td>...</td>\n",
       "      <td>2.000000</td>\n",
       "      <td>2.000000</td>\n",
       "      <td>2.000000</td>\n",
       "      <td>2.000000</td>\n",
       "      <td>2.000000</td>\n",
       "      <td>2.000000</td>\n",
       "      <td>97.000000</td>\n",
       "      <td>1.000000</td>\n",
       "      <td>7.000000</td>\n",
       "      <td>99.000000</td>\n",
       "    </tr>\n",
       "    <tr>\n",
       "      <th>max</th>\n",
       "      <td>2.000000</td>\n",
       "      <td>12.000000</td>\n",
       "      <td>2.000000</td>\n",
       "      <td>99.000000</td>\n",
       "      <td>2.000000</td>\n",
       "      <td>99.000000</td>\n",
       "      <td>99.000000</td>\n",
       "      <td>98.000000</td>\n",
       "      <td>98.000000</td>\n",
       "      <td>98.000000</td>\n",
       "      <td>...</td>\n",
       "      <td>98.000000</td>\n",
       "      <td>98.000000</td>\n",
       "      <td>98.000000</td>\n",
       "      <td>98.000000</td>\n",
       "      <td>99.000000</td>\n",
       "      <td>2.000000</td>\n",
       "      <td>97.000000</td>\n",
       "      <td>2.000000</td>\n",
       "      <td>7.000000</td>\n",
       "      <td>99.000000</td>\n",
       "    </tr>\n",
       "  </tbody>\n",
       "</table>\n",
       "<p>8 rows × 23 columns</p>\n",
       "</div>"
      ],
      "text/plain": [
       "              ORIGEN         SECTOR           SEXO       NEUMONIA  \\\n",
       "count  796599.000000  796599.000000  796599.000000  796599.000000   \n",
       "mean        1.706994       6.955177       1.411528       2.461822   \n",
       "std         0.455141       3.698056       0.492111       6.885052   \n",
       "min         1.000000       0.000000       1.000000       1.000000   \n",
       "25%         1.000000       4.000000       1.000000       2.000000   \n",
       "50%         2.000000       4.000000       1.000000       2.000000   \n",
       "75%         2.000000      12.000000       2.000000       2.000000   \n",
       "max         2.000000      12.000000       2.000000      99.000000   \n",
       "\n",
       "        NACIONALIDAD       EMBARAZO  HABLA_LENGUA_INDIG       DIABETES  \\\n",
       "count  796599.000000  796599.000000       796599.000000  796599.000000   \n",
       "mean        1.004238      41.537117            6.250106       2.021396   \n",
       "std         0.064962      46.850508           19.875909       3.116998   \n",
       "min         1.000000       1.000000            1.000000       1.000000   \n",
       "25%         1.000000       2.000000            2.000000       2.000000   \n",
       "50%         1.000000       2.000000            2.000000       2.000000   \n",
       "75%         1.000000      97.000000            2.000000       2.000000   \n",
       "max         2.000000      99.000000           99.000000      98.000000   \n",
       "\n",
       "                EPOC           ASMA  ...  CARDIOVASCULAR       OBESIDAD  \\\n",
       "count  796599.000000  796599.000000  ...   796599.000000  796599.000000   \n",
       "mean        2.080495       2.063546  ...        2.076724       2.003895   \n",
       "std         2.944252       2.891487  ...        2.935053       2.795801   \n",
       "min         1.000000       1.000000  ...        1.000000       1.000000   \n",
       "25%         2.000000       2.000000  ...        2.000000       2.000000   \n",
       "50%         2.000000       2.000000  ...        2.000000       2.000000   \n",
       "75%         2.000000       2.000000  ...        2.000000       2.000000   \n",
       "max        98.000000      98.000000  ...       98.000000      98.000000   \n",
       "\n",
       "       RENAL_CRONICA     TABAQUISMO      OTRO_CASO  TOMA_MUESTRA_LAB  \\\n",
       "count  796599.000000  796599.000000  796599.000000     796599.000000   \n",
       "mean        2.076779       2.052954       3.386437          1.815906   \n",
       "std         2.905017       3.006466      12.076630          0.387561   \n",
       "min         1.000000       1.000000       1.000000          1.000000   \n",
       "25%         2.000000       2.000000       2.000000          2.000000   \n",
       "50%         2.000000       2.000000       2.000000          2.000000   \n",
       "75%         2.000000       2.000000       2.000000          2.000000   \n",
       "max        98.000000      98.000000      99.000000          2.000000   \n",
       "\n",
       "       RESULTADO_LAB  TOMA_MUESTRA_ANTIGENO  CLASIFICACION_FINAL  \\\n",
       "count  796599.000000          796599.000000        796599.000000   \n",
       "mean       79.497657               1.121961             5.469783   \n",
       "std        36.847640               0.327241             1.930853   \n",
       "min         1.000000               1.000000             1.000000   \n",
       "25%        97.000000               1.000000             3.000000   \n",
       "50%        97.000000               1.000000             7.000000   \n",
       "75%        97.000000               1.000000             7.000000   \n",
       "max        97.000000               2.000000             7.000000   \n",
       "\n",
       "            MIGRANTE  \n",
       "count  796599.000000  \n",
       "mean       98.665168  \n",
       "std         5.700446  \n",
       "min         1.000000  \n",
       "25%        99.000000  \n",
       "50%        99.000000  \n",
       "75%        99.000000  \n",
       "max        99.000000  \n",
       "\n",
       "[8 rows x 23 columns]"
      ]
     },
     "execution_count": 31,
     "metadata": {},
     "output_type": "execute_result"
    }
   ],
   "source": [
    "X_train.describe()"
   ]
  },
  {
   "cell_type": "code",
   "execution_count": 41,
   "id": "b0c92b2e",
   "metadata": {
    "scrolled": true
   },
   "outputs": [
    {
     "ename": "ValueError",
     "evalue": "No valid specification of the columns. Only a scalar, list or slice of all integers or all strings, or boolean mask is allowed",
     "output_type": "error",
     "traceback": [
      "\u001b[0;31m---------------------------------------------------------------------------\u001b[0m",
      "\u001b[0;31mValueError\u001b[0m                                Traceback (most recent call last)",
      "Cell \u001b[0;32mIn[41], line 9\u001b[0m\n\u001b[1;32m      1\u001b[0m preprocesado \u001b[38;5;241m=\u001b[39m ColumnTransformer([\n\u001b[1;32m      2\u001b[0m      (\u001b[38;5;124m'\u001b[39m\u001b[38;5;124mone\u001b[39m\u001b[38;5;124m'\u001b[39m, OneHotEncoder(sparse\u001b[38;5;241m=\u001b[39m\u001b[38;5;28;01mFalse\u001b[39;00m, drop\u001b[38;5;241m=\u001b[39m\u001b[38;5;124m'\u001b[39m\u001b[38;5;124mfirst\u001b[39m\u001b[38;5;124m'\u001b[39m), df_c)\n\u001b[1;32m      3\u001b[0m ], remainder\u001b[38;5;241m=\u001b[39m\u001b[38;5;124m'\u001b[39m\u001b[38;5;124mdrop\u001b[39m\u001b[38;5;124m'\u001b[39m)\n\u001b[1;32m      5\u001b[0m pipeline \u001b[38;5;241m=\u001b[39m Pipeline([\n\u001b[1;32m      6\u001b[0m     (\u001b[38;5;124m'\u001b[39m\u001b[38;5;124mprepross\u001b[39m\u001b[38;5;124m'\u001b[39m, preprocesado)\n\u001b[1;32m      7\u001b[0m ])\n\u001b[0;32m----> 9\u001b[0m X_train_pp \u001b[38;5;241m=\u001b[39m \u001b[43mpipeline\u001b[49m\u001b[38;5;241;43m.\u001b[39;49m\u001b[43mfit_transform\u001b[49m\u001b[43m(\u001b[49m\u001b[43mX_train\u001b[49m\u001b[43m,\u001b[49m\u001b[43m \u001b[49m\u001b[43my_train\u001b[49m\u001b[43m)\u001b[49m\n\u001b[1;32m     10\u001b[0m X_test_pp \u001b[38;5;241m=\u001b[39m pipeline\u001b[38;5;241m.\u001b[39mtransform(X_test)\n",
      "File \u001b[0;32m~/diplom/lib/python3.11/site-packages/sklearn/base.py:1151\u001b[0m, in \u001b[0;36m_fit_context.<locals>.decorator.<locals>.wrapper\u001b[0;34m(estimator, *args, **kwargs)\u001b[0m\n\u001b[1;32m   1144\u001b[0m     estimator\u001b[38;5;241m.\u001b[39m_validate_params()\n\u001b[1;32m   1146\u001b[0m \u001b[38;5;28;01mwith\u001b[39;00m config_context(\n\u001b[1;32m   1147\u001b[0m     skip_parameter_validation\u001b[38;5;241m=\u001b[39m(\n\u001b[1;32m   1148\u001b[0m         prefer_skip_nested_validation \u001b[38;5;129;01mor\u001b[39;00m global_skip_validation\n\u001b[1;32m   1149\u001b[0m     )\n\u001b[1;32m   1150\u001b[0m ):\n\u001b[0;32m-> 1151\u001b[0m     \u001b[38;5;28;01mreturn\u001b[39;00m \u001b[43mfit_method\u001b[49m\u001b[43m(\u001b[49m\u001b[43mestimator\u001b[49m\u001b[43m,\u001b[49m\u001b[43m \u001b[49m\u001b[38;5;241;43m*\u001b[39;49m\u001b[43margs\u001b[49m\u001b[43m,\u001b[49m\u001b[43m \u001b[49m\u001b[38;5;241;43m*\u001b[39;49m\u001b[38;5;241;43m*\u001b[39;49m\u001b[43mkwargs\u001b[49m\u001b[43m)\u001b[49m\n",
      "File \u001b[0;32m~/diplom/lib/python3.11/site-packages/sklearn/pipeline.py:472\u001b[0m, in \u001b[0;36mPipeline.fit_transform\u001b[0;34m(self, X, y, **fit_params)\u001b[0m\n\u001b[1;32m    470\u001b[0m fit_params_last_step \u001b[38;5;241m=\u001b[39m fit_params_steps[\u001b[38;5;28mself\u001b[39m\u001b[38;5;241m.\u001b[39msteps[\u001b[38;5;241m-\u001b[39m\u001b[38;5;241m1\u001b[39m][\u001b[38;5;241m0\u001b[39m]]\n\u001b[1;32m    471\u001b[0m \u001b[38;5;28;01mif\u001b[39;00m \u001b[38;5;28mhasattr\u001b[39m(last_step, \u001b[38;5;124m\"\u001b[39m\u001b[38;5;124mfit_transform\u001b[39m\u001b[38;5;124m\"\u001b[39m):\n\u001b[0;32m--> 472\u001b[0m     \u001b[38;5;28;01mreturn\u001b[39;00m \u001b[43mlast_step\u001b[49m\u001b[38;5;241;43m.\u001b[39;49m\u001b[43mfit_transform\u001b[49m\u001b[43m(\u001b[49m\u001b[43mXt\u001b[49m\u001b[43m,\u001b[49m\u001b[43m \u001b[49m\u001b[43my\u001b[49m\u001b[43m,\u001b[49m\u001b[43m \u001b[49m\u001b[38;5;241;43m*\u001b[39;49m\u001b[38;5;241;43m*\u001b[39;49m\u001b[43mfit_params_last_step\u001b[49m\u001b[43m)\u001b[49m\n\u001b[1;32m    473\u001b[0m \u001b[38;5;28;01melse\u001b[39;00m:\n\u001b[1;32m    474\u001b[0m     \u001b[38;5;28;01mreturn\u001b[39;00m last_step\u001b[38;5;241m.\u001b[39mfit(Xt, y, \u001b[38;5;241m*\u001b[39m\u001b[38;5;241m*\u001b[39mfit_params_last_step)\u001b[38;5;241m.\u001b[39mtransform(Xt)\n",
      "File \u001b[0;32m~/diplom/lib/python3.11/site-packages/sklearn/utils/_set_output.py:140\u001b[0m, in \u001b[0;36m_wrap_method_output.<locals>.wrapped\u001b[0;34m(self, X, *args, **kwargs)\u001b[0m\n\u001b[1;32m    138\u001b[0m \u001b[38;5;129m@wraps\u001b[39m(f)\n\u001b[1;32m    139\u001b[0m \u001b[38;5;28;01mdef\u001b[39;00m \u001b[38;5;21mwrapped\u001b[39m(\u001b[38;5;28mself\u001b[39m, X, \u001b[38;5;241m*\u001b[39margs, \u001b[38;5;241m*\u001b[39m\u001b[38;5;241m*\u001b[39mkwargs):\n\u001b[0;32m--> 140\u001b[0m     data_to_wrap \u001b[38;5;241m=\u001b[39m \u001b[43mf\u001b[49m\u001b[43m(\u001b[49m\u001b[38;5;28;43mself\u001b[39;49m\u001b[43m,\u001b[49m\u001b[43m \u001b[49m\u001b[43mX\u001b[49m\u001b[43m,\u001b[49m\u001b[43m \u001b[49m\u001b[38;5;241;43m*\u001b[39;49m\u001b[43margs\u001b[49m\u001b[43m,\u001b[49m\u001b[43m \u001b[49m\u001b[38;5;241;43m*\u001b[39;49m\u001b[38;5;241;43m*\u001b[39;49m\u001b[43mkwargs\u001b[49m\u001b[43m)\u001b[49m\n\u001b[1;32m    141\u001b[0m     \u001b[38;5;28;01mif\u001b[39;00m \u001b[38;5;28misinstance\u001b[39m(data_to_wrap, \u001b[38;5;28mtuple\u001b[39m):\n\u001b[1;32m    142\u001b[0m         \u001b[38;5;66;03m# only wrap the first output for cross decomposition\u001b[39;00m\n\u001b[1;32m    143\u001b[0m         return_tuple \u001b[38;5;241m=\u001b[39m (\n\u001b[1;32m    144\u001b[0m             _wrap_data_with_container(method, data_to_wrap[\u001b[38;5;241m0\u001b[39m], X, \u001b[38;5;28mself\u001b[39m),\n\u001b[1;32m    145\u001b[0m             \u001b[38;5;241m*\u001b[39mdata_to_wrap[\u001b[38;5;241m1\u001b[39m:],\n\u001b[1;32m    146\u001b[0m         )\n",
      "File \u001b[0;32m~/diplom/lib/python3.11/site-packages/sklearn/base.py:1151\u001b[0m, in \u001b[0;36m_fit_context.<locals>.decorator.<locals>.wrapper\u001b[0;34m(estimator, *args, **kwargs)\u001b[0m\n\u001b[1;32m   1144\u001b[0m     estimator\u001b[38;5;241m.\u001b[39m_validate_params()\n\u001b[1;32m   1146\u001b[0m \u001b[38;5;28;01mwith\u001b[39;00m config_context(\n\u001b[1;32m   1147\u001b[0m     skip_parameter_validation\u001b[38;5;241m=\u001b[39m(\n\u001b[1;32m   1148\u001b[0m         prefer_skip_nested_validation \u001b[38;5;129;01mor\u001b[39;00m global_skip_validation\n\u001b[1;32m   1149\u001b[0m     )\n\u001b[1;32m   1150\u001b[0m ):\n\u001b[0;32m-> 1151\u001b[0m     \u001b[38;5;28;01mreturn\u001b[39;00m \u001b[43mfit_method\u001b[49m\u001b[43m(\u001b[49m\u001b[43mestimator\u001b[49m\u001b[43m,\u001b[49m\u001b[43m \u001b[49m\u001b[38;5;241;43m*\u001b[39;49m\u001b[43margs\u001b[49m\u001b[43m,\u001b[49m\u001b[43m \u001b[49m\u001b[38;5;241;43m*\u001b[39;49m\u001b[38;5;241;43m*\u001b[39;49m\u001b[43mkwargs\u001b[49m\u001b[43m)\u001b[49m\n",
      "File \u001b[0;32m~/diplom/lib/python3.11/site-packages/sklearn/compose/_column_transformer.py:740\u001b[0m, in \u001b[0;36mColumnTransformer.fit_transform\u001b[0;34m(self, X, y)\u001b[0m\n\u001b[1;32m    738\u001b[0m \u001b[38;5;28mself\u001b[39m\u001b[38;5;241m.\u001b[39m_check_n_features(X, reset\u001b[38;5;241m=\u001b[39m\u001b[38;5;28;01mTrue\u001b[39;00m)\n\u001b[1;32m    739\u001b[0m \u001b[38;5;28mself\u001b[39m\u001b[38;5;241m.\u001b[39m_validate_transformers()\n\u001b[0;32m--> 740\u001b[0m \u001b[38;5;28;43mself\u001b[39;49m\u001b[38;5;241;43m.\u001b[39;49m\u001b[43m_validate_column_callables\u001b[49m\u001b[43m(\u001b[49m\u001b[43mX\u001b[49m\u001b[43m)\u001b[49m\n\u001b[1;32m    741\u001b[0m \u001b[38;5;28mself\u001b[39m\u001b[38;5;241m.\u001b[39m_validate_remainder(X)\n\u001b[1;32m    743\u001b[0m result \u001b[38;5;241m=\u001b[39m \u001b[38;5;28mself\u001b[39m\u001b[38;5;241m.\u001b[39m_fit_transform(X, y, _fit_transform_one)\n",
      "File \u001b[0;32m~/diplom/lib/python3.11/site-packages/sklearn/compose/_column_transformer.py:448\u001b[0m, in \u001b[0;36mColumnTransformer._validate_column_callables\u001b[0;34m(self, X)\u001b[0m\n\u001b[1;32m    446\u001b[0m         columns \u001b[38;5;241m=\u001b[39m columns(X)\n\u001b[1;32m    447\u001b[0m     all_columns\u001b[38;5;241m.\u001b[39mappend(columns)\n\u001b[0;32m--> 448\u001b[0m     transformer_to_input_indices[name] \u001b[38;5;241m=\u001b[39m \u001b[43m_get_column_indices\u001b[49m\u001b[43m(\u001b[49m\u001b[43mX\u001b[49m\u001b[43m,\u001b[49m\u001b[43m \u001b[49m\u001b[43mcolumns\u001b[49m\u001b[43m)\u001b[49m\n\u001b[1;32m    450\u001b[0m \u001b[38;5;28mself\u001b[39m\u001b[38;5;241m.\u001b[39m_columns \u001b[38;5;241m=\u001b[39m all_columns\n\u001b[1;32m    451\u001b[0m \u001b[38;5;28mself\u001b[39m\u001b[38;5;241m.\u001b[39m_transformer_to_input_indices \u001b[38;5;241m=\u001b[39m transformer_to_input_indices\n",
      "File \u001b[0;32m~/diplom/lib/python3.11/site-packages/sklearn/utils/__init__.py:405\u001b[0m, in \u001b[0;36m_get_column_indices\u001b[0;34m(X, key)\u001b[0m\n\u001b[1;32m    398\u001b[0m \u001b[38;5;250m\u001b[39m\u001b[38;5;124;03m\"\"\"Get feature column indices for input data X and key.\u001b[39;00m\n\u001b[1;32m    399\u001b[0m \n\u001b[1;32m    400\u001b[0m \u001b[38;5;124;03mFor accepted values of `key`, see the docstring of\u001b[39;00m\n\u001b[1;32m    401\u001b[0m \u001b[38;5;124;03m:func:`_safe_indexing_column`.\u001b[39;00m\n\u001b[1;32m    402\u001b[0m \u001b[38;5;124;03m\"\"\"\u001b[39;00m\n\u001b[1;32m    403\u001b[0m n_columns \u001b[38;5;241m=\u001b[39m X\u001b[38;5;241m.\u001b[39mshape[\u001b[38;5;241m1\u001b[39m]\n\u001b[0;32m--> 405\u001b[0m key_dtype \u001b[38;5;241m=\u001b[39m \u001b[43m_determine_key_type\u001b[49m\u001b[43m(\u001b[49m\u001b[43mkey\u001b[49m\u001b[43m)\u001b[49m\n\u001b[1;32m    407\u001b[0m \u001b[38;5;28;01mif\u001b[39;00m \u001b[38;5;28misinstance\u001b[39m(key, (\u001b[38;5;28mlist\u001b[39m, \u001b[38;5;28mtuple\u001b[39m)) \u001b[38;5;129;01mand\u001b[39;00m \u001b[38;5;129;01mnot\u001b[39;00m key:\n\u001b[1;32m    408\u001b[0m     \u001b[38;5;66;03m# we get an empty list\u001b[39;00m\n\u001b[1;32m    409\u001b[0m     \u001b[38;5;28;01mreturn\u001b[39;00m []\n",
      "File \u001b[0;32m~/diplom/lib/python3.11/site-packages/sklearn/utils/__init__.py:281\u001b[0m, in \u001b[0;36m_determine_key_type\u001b[0;34m(key, accept_slice)\u001b[0m\n\u001b[1;32m    279\u001b[0m     \u001b[38;5;28;01mexcept\u001b[39;00m \u001b[38;5;167;01mKeyError\u001b[39;00m:\n\u001b[1;32m    280\u001b[0m         \u001b[38;5;28;01mraise\u001b[39;00m \u001b[38;5;167;01mValueError\u001b[39;00m(err_msg)\n\u001b[0;32m--> 281\u001b[0m \u001b[38;5;28;01mraise\u001b[39;00m \u001b[38;5;167;01mValueError\u001b[39;00m(err_msg)\n",
      "\u001b[0;31mValueError\u001b[0m: No valid specification of the columns. Only a scalar, list or slice of all integers or all strings, or boolean mask is allowed"
     ]
    }
   ],
   "source": [
    "preprocesado = ColumnTransformer([\n",
    "     ('one', OneHotEncoder(sparse=False, drop='first'), df_c)\n",
    "], remainder='drop')\n",
    "\n",
    "pipeline = Pipeline([\n",
    "    ('prepross', preprocesado)\n",
    "])\n",
    "\n",
    "X_train_pp = pipeline.fit_transform(X_train, y_train)\n",
    "X_test_pp = pipeline.transform(X_test)"
   ]
  },
  {
   "cell_type": "code",
   "execution_count": null,
   "id": "c6940202",
   "metadata": {},
   "outputs": [],
   "source": []
  }
 ],
 "metadata": {
  "kernelspec": {
   "display_name": "env",
   "language": "python",
   "name": "env"
  },
  "language_info": {
   "codemirror_mode": {
    "name": "ipython",
    "version": 3
   },
   "file_extension": ".py",
   "mimetype": "text/x-python",
   "name": "python",
   "nbconvert_exporter": "python",
   "pygments_lexer": "ipython3",
   "version": "3.8.10"
  }
 },
 "nbformat": 4,
 "nbformat_minor": 5
}
