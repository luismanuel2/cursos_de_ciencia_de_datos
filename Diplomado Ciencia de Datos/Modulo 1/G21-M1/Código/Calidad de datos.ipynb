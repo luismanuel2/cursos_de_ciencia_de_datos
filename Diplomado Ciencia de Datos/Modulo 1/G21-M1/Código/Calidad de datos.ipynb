{
 "cells": [
  {
   "cell_type": "markdown",
   "metadata": {
    "id": "xsNHbQElHZ_w"
   },
   "source": [
    "## <span style=\"background:#b4b564\"> LIBRERIAS </span> "
   ]
  },
  {
   "cell_type": "code",
   "execution_count": 1,
   "metadata": {
    "ExecuteTime": {
     "end_time": "2023-08-09T00:13:23.576244Z",
     "start_time": "2023-08-09T00:13:23.077898Z"
    },
    "id": "tvaqLohhHZ_9"
   },
   "outputs": [],
   "source": [
    "import pandas as pd\n",
    "#https://pandas.pydata.org/docs/reference/api/pandas.DataFrame.empty.html\n",
    "import numpy as np\n",
    "import seaborn as sns\n",
    "import matplotlib.pyplot as plt\n",
    "import emoji\n",
    "#definir eñlnumero de columnas visibles en un dataframe\n",
    "pd.set_option(\"display.max_columns\",200)\n",
    "#definir el numero de filas visibles en un dataframe\n",
    "pd.set_option(\"display.max_rows\",100)"
   ]
  },
  {
   "cell_type": "markdown",
   "metadata": {},
   "source": [
    "##   <span style=\"background:#b4b564\"> OBJETIVO </span> "
   ]
  },
  {
   "cell_type": "markdown",
   "metadata": {},
   "source": [
    "- Aplicar las técnicas de calidad de datos en información de apoyos en el estado de Jalisco de diversos programas donde la unidad muestral de la tabla es beneficiario y programa"
   ]
  },
  {
   "cell_type": "markdown",
   "metadata": {
    "heading_collapsed": true,
    "id": "5CTpYhzEHaAC"
   },
   "source": [
    "##  <span style=\"background:#fe7f00\"> Dataset </span> "
   ]
  },
  {
   "cell_type": "code",
   "execution_count": 2,
   "metadata": {
    "ExecuteTime": {
     "end_time": "2023-08-09T00:13:23.902822Z",
     "start_time": "2023-08-09T00:13:23.897130Z"
    },
    "hidden": true,
    "id": "se95huNEHaAE"
   },
   "outputs": [],
   "source": [
    "#catalogos\n",
    "sexo=pd.read_csv(\"../data/calidad_datos/cat_sexo.csv\",encoding=\"utf-8\",)\n",
    "ocupacion=pd.read_csv(\"../data/calidad_datos/cat_ocupacion.csv\",encoding=\"utf-8\")\n",
    "escolaridad=pd.read_csv(\"../data/calidad_datos/cat_escolaridad.csv\",encoding=\"utf-8\")\n",
    "edad=pd.read_csv(\"../data/calidad_datos/cat_edad.csv\",encoding=\"utf-8\")"
   ]
  },
  {
   "cell_type": "code",
   "execution_count": 3,
   "metadata": {
    "ExecuteTime": {
     "end_time": "2023-08-09T00:13:24.098682Z",
     "start_time": "2023-08-09T00:13:24.094141Z"
    },
    "hidden": true
   },
   "outputs": [
    {
     "data": {
      "text/html": [
       "<div>\n",
       "<style scoped>\n",
       "    .dataframe tbody tr th:only-of-type {\n",
       "        vertical-align: middle;\n",
       "    }\n",
       "\n",
       "    .dataframe tbody tr th {\n",
       "        vertical-align: top;\n",
       "    }\n",
       "\n",
       "    .dataframe thead th {\n",
       "        text-align: right;\n",
       "    }\n",
       "</style>\n",
       "<table border=\"1\" class=\"dataframe\">\n",
       "  <thead>\n",
       "    <tr style=\"text-align: right;\">\n",
       "      <th></th>\n",
       "      <th>CVE</th>\n",
       "      <th>DESCRIP</th>\n",
       "    </tr>\n",
       "  </thead>\n",
       "  <tbody>\n",
       "    <tr>\n",
       "      <th>0</th>\n",
       "      <td>1001</td>\n",
       "      <td>Una hora</td>\n",
       "    </tr>\n",
       "    <tr>\n",
       "      <th>1</th>\n",
       "      <td>1002</td>\n",
       "      <td>Dos horas</td>\n",
       "    </tr>\n",
       "    <tr>\n",
       "      <th>2</th>\n",
       "      <td>1003</td>\n",
       "      <td>Tres horas</td>\n",
       "    </tr>\n",
       "    <tr>\n",
       "      <th>3</th>\n",
       "      <td>1004</td>\n",
       "      <td>Cuatro horas</td>\n",
       "    </tr>\n",
       "    <tr>\n",
       "      <th>4</th>\n",
       "      <td>1005</td>\n",
       "      <td>Cinco horas</td>\n",
       "    </tr>\n",
       "    <tr>\n",
       "      <th>5</th>\n",
       "      <td>1006</td>\n",
       "      <td>Seis horas</td>\n",
       "    </tr>\n",
       "  </tbody>\n",
       "</table>\n",
       "</div>"
      ],
      "text/plain": [
       "    CVE                          DESCRIP\n",
       "0  1001  Una hora                       \n",
       "1  1002  Dos horas                      \n",
       "2  1003  Tres horas                     \n",
       "3  1004  Cuatro horas                   \n",
       "4  1005  Cinco horas                    \n",
       "5  1006  Seis horas                     "
      ]
     },
     "execution_count": 3,
     "metadata": {},
     "output_type": "execute_result"
    }
   ],
   "source": [
    "edad.head(6)"
   ]
  },
  {
   "cell_type": "code",
   "execution_count": 4,
   "metadata": {
    "ExecuteTime": {
     "end_time": "2023-08-09T00:13:24.285617Z",
     "start_time": "2023-08-09T00:13:24.280973Z"
    },
    "hidden": true
   },
   "outputs": [
    {
     "data": {
      "text/html": [
       "<div>\n",
       "<style scoped>\n",
       "    .dataframe tbody tr th:only-of-type {\n",
       "        vertical-align: middle;\n",
       "    }\n",
       "\n",
       "    .dataframe tbody tr th {\n",
       "        vertical-align: top;\n",
       "    }\n",
       "\n",
       "    .dataframe thead th {\n",
       "        text-align: right;\n",
       "    }\n",
       "</style>\n",
       "<table border=\"1\" class=\"dataframe\">\n",
       "  <thead>\n",
       "    <tr style=\"text-align: right;\">\n",
       "      <th></th>\n",
       "      <th>CVE</th>\n",
       "      <th>DESCRIP</th>\n",
       "    </tr>\n",
       "  </thead>\n",
       "  <tbody>\n",
       "    <tr>\n",
       "      <th>0</th>\n",
       "      <td>1</td>\n",
       "      <td>Funcionarios, directores y jefes</td>\n",
       "    </tr>\n",
       "    <tr>\n",
       "      <th>1</th>\n",
       "      <td>2</td>\n",
       "      <td>Profesionistas y técnicos</td>\n",
       "    </tr>\n",
       "    <tr>\n",
       "      <th>2</th>\n",
       "      <td>3</td>\n",
       "      <td>Trabajadores auxiliares en actividades adminis...</td>\n",
       "    </tr>\n",
       "    <tr>\n",
       "      <th>3</th>\n",
       "      <td>4</td>\n",
       "      <td>Comerciantes, empleados en ventas y agentes de...</td>\n",
       "    </tr>\n",
       "    <tr>\n",
       "      <th>4</th>\n",
       "      <td>5</td>\n",
       "      <td>Trabajadores en servicios personales y vigilancia</td>\n",
       "    </tr>\n",
       "    <tr>\n",
       "      <th>5</th>\n",
       "      <td>6</td>\n",
       "      <td>Trabajadores en actividades agrícolas, ganader...</td>\n",
       "    </tr>\n",
       "  </tbody>\n",
       "</table>\n",
       "</div>"
      ],
      "text/plain": [
       "   CVE                                            DESCRIP\n",
       "0    1                   Funcionarios, directores y jefes\n",
       "1    2                          Profesionistas y técnicos\n",
       "2    3  Trabajadores auxiliares en actividades adminis...\n",
       "3    4  Comerciantes, empleados en ventas y agentes de...\n",
       "4    5  Trabajadores en servicios personales y vigilancia\n",
       "5    6  Trabajadores en actividades agrícolas, ganader..."
      ]
     },
     "execution_count": 4,
     "metadata": {},
     "output_type": "execute_result"
    }
   ],
   "source": [
    "ocupacion.head(6)"
   ]
  },
  {
   "cell_type": "code",
   "execution_count": 5,
   "metadata": {
    "ExecuteTime": {
     "end_time": "2023-08-09T00:13:24.480018Z",
     "start_time": "2023-08-09T00:13:24.475749Z"
    },
    "hidden": true
   },
   "outputs": [
    {
     "data": {
      "text/html": [
       "<div>\n",
       "<style scoped>\n",
       "    .dataframe tbody tr th:only-of-type {\n",
       "        vertical-align: middle;\n",
       "    }\n",
       "\n",
       "    .dataframe tbody tr th {\n",
       "        vertical-align: top;\n",
       "    }\n",
       "\n",
       "    .dataframe thead th {\n",
       "        text-align: right;\n",
       "    }\n",
       "</style>\n",
       "<table border=\"1\" class=\"dataframe\">\n",
       "  <thead>\n",
       "    <tr style=\"text-align: right;\">\n",
       "      <th></th>\n",
       "      <th>CVE</th>\n",
       "      <th>DESCRIP</th>\n",
       "    </tr>\n",
       "  </thead>\n",
       "  <tbody>\n",
       "    <tr>\n",
       "      <th>0</th>\n",
       "      <td>1</td>\n",
       "      <td>Sin escolaridad</td>\n",
       "    </tr>\n",
       "    <tr>\n",
       "      <th>1</th>\n",
       "      <td>2</td>\n",
       "      <td>Preescolar</td>\n",
       "    </tr>\n",
       "    <tr>\n",
       "      <th>2</th>\n",
       "      <td>3</td>\n",
       "      <td>Primaria incompleta</td>\n",
       "    </tr>\n",
       "    <tr>\n",
       "      <th>3</th>\n",
       "      <td>4</td>\n",
       "      <td>Primaria completa</td>\n",
       "    </tr>\n",
       "    <tr>\n",
       "      <th>4</th>\n",
       "      <td>5</td>\n",
       "      <td>Secundaria incompleta</td>\n",
       "    </tr>\n",
       "    <tr>\n",
       "      <th>5</th>\n",
       "      <td>6</td>\n",
       "      <td>Secundaria completa</td>\n",
       "    </tr>\n",
       "  </tbody>\n",
       "</table>\n",
       "</div>"
      ],
      "text/plain": [
       "   CVE                DESCRIP\n",
       "0    1        Sin escolaridad\n",
       "1    2             Preescolar\n",
       "2    3    Primaria incompleta\n",
       "3    4      Primaria completa\n",
       "4    5  Secundaria incompleta\n",
       "5    6    Secundaria completa"
      ]
     },
     "execution_count": 5,
     "metadata": {},
     "output_type": "execute_result"
    }
   ],
   "source": [
    "escolaridad.head(6)"
   ]
  },
  {
   "cell_type": "code",
   "execution_count": 6,
   "metadata": {
    "ExecuteTime": {
     "end_time": "2023-08-09T00:13:25.777189Z",
     "start_time": "2023-08-09T00:13:24.655986Z"
    },
    "hidden": true,
    "id": "fDneCutTHaAG",
    "outputId": "1cb396f1-f9fb-4933-a44f-4c6e7adc796e"
   },
   "outputs": [
    {
     "name": "stderr",
     "output_type": "stream",
     "text": [
      "/tmp/ipykernel_34525/3063656338.py:2: DtypeWarning: Columns (2,10) have mixed types. Specify dtype option on import or set low_memory=False.\n",
      "  df=pd.read_csv(\"../data/calidad_datos/data_jalisco.csv\",encoding=\"utf-8\")\n"
     ]
    }
   ],
   "source": [
    "#Tabla con infomación de apoyos en el estado de Jalisco de distintos programas, la unidad muestral de la tabla es beneficiado y programa\n",
    "df=pd.read_csv(\"../data/calidad_datos/data_jalisco.csv\",encoding=\"utf-8\")"
   ]
  },
  {
   "cell_type": "code",
   "execution_count": 7,
   "metadata": {
    "ExecuteTime": {
     "end_time": "2023-08-09T00:13:25.821291Z",
     "start_time": "2023-08-09T00:13:25.813150Z"
    },
    "hidden": true,
    "id": "tB9neyj_HaAY",
    "outputId": "5600fc04-a9ac-4020-c0b2-d26e1bb0fbab"
   },
   "outputs": [
    {
     "data": {
      "text/html": [
       "<div>\n",
       "<style scoped>\n",
       "    .dataframe tbody tr th:only-of-type {\n",
       "        vertical-align: middle;\n",
       "    }\n",
       "\n",
       "    .dataframe tbody tr th {\n",
       "        vertical-align: top;\n",
       "    }\n",
       "\n",
       "    .dataframe thead th {\n",
       "        text-align: right;\n",
       "    }\n",
       "</style>\n",
       "<table border=\"1\" class=\"dataframe\">\n",
       "  <thead>\n",
       "    <tr style=\"text-align: right;\">\n",
       "      <th></th>\n",
       "      <th>edad</th>\n",
       "      <th>minutos</th>\n",
       "      <th>monto_de_apoyo</th>\n",
       "      <th>horas</th>\n",
       "      <th>ent_regis</th>\n",
       "      <th>mun_regis</th>\n",
       "      <th>ent_resid</th>\n",
       "      <th>mun_resid</th>\n",
       "      <th>ent_ocurr</th>\n",
       "      <th>mun_ocurr</th>\n",
       "      <th>sexo</th>\n",
       "      <th>ocupacion</th>\n",
       "      <th>edo_civil</th>\n",
       "      <th>lugar_ocur</th>\n",
       "      <th>sitio_ocur</th>\n",
       "      <th>nacionalid</th>\n",
       "      <th>grupo</th>\n",
       "      <th>lengua</th>\n",
       "      <th>clave</th>\n",
       "      <th>escolarida</th>\n",
       "      <th>fecha_nac</th>\n",
       "      <th>fecha_ocurr</th>\n",
       "      <th>programa_fondo</th>\n",
       "      <th>nombre_del_proyecto</th>\n",
       "      <th>nombre_del_beneficiario</th>\n",
       "      <th>salario</th>\n",
       "    </tr>\n",
       "  </thead>\n",
       "  <tbody>\n",
       "    <tr>\n",
       "      <th>0</th>\n",
       "      <td>4069</td>\n",
       "      <td>27</td>\n",
       "      <td>NaN</td>\n",
       "      <td>16</td>\n",
       "      <td>1.0</td>\n",
       "      <td>1</td>\n",
       "      <td>1</td>\n",
       "      <td>1</td>\n",
       "      <td>NaN</td>\n",
       "      <td>1</td>\n",
       "      <td>NaN</td>\n",
       "      <td>11</td>\n",
       "      <td>NaN</td>\n",
       "      <td>88</td>\n",
       "      <td>3</td>\n",
       "      <td>1</td>\n",
       "      <td>7</td>\n",
       "      <td>2.0</td>\n",
       "      <td>6343</td>\n",
       "      <td>1</td>\n",
       "      <td>1946-06-30</td>\n",
       "      <td>2015-05-25</td>\n",
       "      <td>Programa Jalisciense de Fomento a la Propieda...</td>\n",
       "      <td>MX - SISTEMA MECATRÓNICO PARA EL CONTROL DE IN...</td>\n",
       "      <td>RICARDO MERCADO CORTÉS\\n</td>\n",
       "      <td>2700</td>\n",
       "    </tr>\n",
       "    <tr>\n",
       "      <th>1</th>\n",
       "      <td>4093</td>\n",
       "      <td>0</td>\n",
       "      <td>31446.48</td>\n",
       "      <td>6</td>\n",
       "      <td>NaN</td>\n",
       "      <td>1</td>\n",
       "      <td>1</td>\n",
       "      <td>1</td>\n",
       "      <td>NaN</td>\n",
       "      <td>1</td>\n",
       "      <td>1</td>\n",
       "      <td>6</td>\n",
       "      <td>NaN</td>\n",
       "      <td>88</td>\n",
       "      <td>11</td>\n",
       "      <td>1</td>\n",
       "      <td>8</td>\n",
       "      <td>NaN</td>\n",
       "      <td>6344</td>\n",
       "      <td>3</td>\n",
       "      <td>1921-08-25</td>\n",
       "      <td>2015-09-26</td>\n",
       "      <td>Programa Jalisciense de Fomento a la Propieda...</td>\n",
       "      <td>PCT - SISTEMA MECATRÓNICO PARA EL CONTROL DE I...</td>\n",
       "      <td>RICARDO MERCADO CORTÉS\\n</td>\n",
       "      <td>0</td>\n",
       "    </tr>\n",
       "    <tr>\n",
       "      <th>2</th>\n",
       "      <td>4092</td>\n",
       "      <td>30</td>\n",
       "      <td>65673.63</td>\n",
       "      <td>16</td>\n",
       "      <td>1.0</td>\n",
       "      <td>1</td>\n",
       "      <td>1</td>\n",
       "      <td>1</td>\n",
       "      <td>NaN</td>\n",
       "      <td>1</td>\n",
       "      <td>1</td>\n",
       "      <td>7</td>\n",
       "      <td>NaN</td>\n",
       "      <td>88</td>\n",
       "      <td>11</td>\n",
       "      <td>1</td>\n",
       "      <td>2</td>\n",
       "      <td>NaN</td>\n",
       "      <td>6345</td>\n",
       "      <td>3</td>\n",
       "      <td>1922-06-12</td>\n",
       "      <td>2015-12-14</td>\n",
       "      <td>Programa Jalisciense de Fomento a la Propieda...</td>\n",
       "      <td>MX-EMPAQUE CÓNICO PARA LA CONEXIÓN \\nDE MANGUE...</td>\n",
       "      <td>CORPORATIVO BORO S.A. DE C.V.</td>\n",
       "      <td>3000</td>\n",
       "    </tr>\n",
       "    <tr>\n",
       "      <th>3</th>\n",
       "      <td>4047</td>\n",
       "      <td>58</td>\n",
       "      <td>Sistema Tecnológico de Jalisco, A.C.</td>\n",
       "      <td>3</td>\n",
       "      <td>NaN</td>\n",
       "      <td>1</td>\n",
       "      <td>1</td>\n",
       "      <td>1</td>\n",
       "      <td>NaN</td>\n",
       "      <td>1</td>\n",
       "      <td>Sistema Tecnológico de Jalisco, A.C.</td>\n",
       "      <td>7</td>\n",
       "      <td>NaN</td>\n",
       "      <td>88</td>\n",
       "      <td>9</td>\n",
       "      <td>1</td>\n",
       "      <td>13</td>\n",
       "      <td>1.0</td>\n",
       "      <td>6346</td>\n",
       "      <td>6</td>\n",
       "      <td>1967-08-28</td>\n",
       "      <td>2015-01-03</td>\n",
       "      <td>Programa Jalisciense de Fomento a la Propieda...</td>\n",
       "      <td>MX-PASTA BIODEGRADABLE PARA USOS MÚLTIPLES\\n</td>\n",
       "      <td>CORPORATIVO BORO S.A. DE C.V.\\n</td>\n",
       "      <td>5800</td>\n",
       "    </tr>\n",
       "    <tr>\n",
       "      <th>4</th>\n",
       "      <td>4040</td>\n",
       "      <td>50</td>\n",
       "      <td>30254.04</td>\n",
       "      <td>6</td>\n",
       "      <td>1.0</td>\n",
       "      <td>1</td>\n",
       "      <td>1</td>\n",
       "      <td>1</td>\n",
       "      <td>NaN</td>\n",
       "      <td>1</td>\n",
       "      <td>2</td>\n",
       "      <td>11</td>\n",
       "      <td>NaN</td>\n",
       "      <td>88</td>\n",
       "      <td>1</td>\n",
       "      <td>1</td>\n",
       "      <td>7</td>\n",
       "      <td>NaN</td>\n",
       "      <td>6364</td>\n",
       "      <td>4</td>\n",
       "      <td>1974-12-17</td>\n",
       "      <td>2015-07-16</td>\n",
       "      <td>Programa Jalisciense de Fomento a la Propieda...</td>\n",
       "      <td>DISPOSITIVO PERSONAL DE COMUNICACIÓN REMOTA PA...</td>\n",
       "      <td>GERALDINA  VEGA GAMBOA\\n</td>\n",
       "      <td>5000</td>\n",
       "    </tr>\n",
       "  </tbody>\n",
       "</table>\n",
       "</div>"
      ],
      "text/plain": [
       "   edad  minutos                        monto_de_apoyo  horas  ent_regis  \\\n",
       "0  4069       27                                   NaN     16        1.0   \n",
       "1  4093        0                              31446.48      6        NaN   \n",
       "2  4092       30                              65673.63     16        1.0   \n",
       "3  4047       58  Sistema Tecnológico de Jalisco, A.C.      3        NaN   \n",
       "4  4040       50                              30254.04      6        1.0   \n",
       "\n",
       "   mun_regis  ent_resid  mun_resid  ent_ocurr  mun_ocurr  \\\n",
       "0          1          1          1        NaN          1   \n",
       "1          1          1          1        NaN          1   \n",
       "2          1          1          1        NaN          1   \n",
       "3          1          1          1        NaN          1   \n",
       "4          1          1          1        NaN          1   \n",
       "\n",
       "                                   sexo  ocupacion  edo_civil  lugar_ocur  \\\n",
       "0                                   NaN         11        NaN          88   \n",
       "1                                     1          6        NaN          88   \n",
       "2                                     1          7        NaN          88   \n",
       "3  Sistema Tecnológico de Jalisco, A.C.          7        NaN          88   \n",
       "4                                     2         11        NaN          88   \n",
       "\n",
       "   sitio_ocur  nacionalid  grupo  lengua  clave  escolarida   fecha_nac  \\\n",
       "0           3           1      7     2.0   6343           1  1946-06-30   \n",
       "1          11           1      8     NaN   6344           3  1921-08-25   \n",
       "2          11           1      2     NaN   6345           3  1922-06-12   \n",
       "3           9           1     13     1.0   6346           6  1967-08-28   \n",
       "4           1           1      7     NaN   6364           4  1974-12-17   \n",
       "\n",
       "  fecha_ocurr                                     programa_fondo  \\\n",
       "0  2015-05-25   Programa Jalisciense de Fomento a la Propieda...   \n",
       "1  2015-09-26   Programa Jalisciense de Fomento a la Propieda...   \n",
       "2  2015-12-14   Programa Jalisciense de Fomento a la Propieda...   \n",
       "3  2015-01-03   Programa Jalisciense de Fomento a la Propieda...   \n",
       "4  2015-07-16   Programa Jalisciense de Fomento a la Propieda...   \n",
       "\n",
       "                                 nombre_del_proyecto  \\\n",
       "0  MX - SISTEMA MECATRÓNICO PARA EL CONTROL DE IN...   \n",
       "1  PCT - SISTEMA MECATRÓNICO PARA EL CONTROL DE I...   \n",
       "2  MX-EMPAQUE CÓNICO PARA LA CONEXIÓN \\nDE MANGUE...   \n",
       "3       MX-PASTA BIODEGRADABLE PARA USOS MÚLTIPLES\\n   \n",
       "4  DISPOSITIVO PERSONAL DE COMUNICACIÓN REMOTA PA...   \n",
       "\n",
       "           nombre_del_beneficiario  salario  \n",
       "0         RICARDO MERCADO CORTÉS\\n     2700  \n",
       "1         RICARDO MERCADO CORTÉS\\n        0  \n",
       "2    CORPORATIVO BORO S.A. DE C.V.     3000  \n",
       "3  CORPORATIVO BORO S.A. DE C.V.\\n     5800  \n",
       "4         GERALDINA  VEGA GAMBOA\\n     5000  "
      ]
     },
     "execution_count": 7,
     "metadata": {},
     "output_type": "execute_result"
    }
   ],
   "source": [
    "df.head()"
   ]
  },
  {
   "cell_type": "code",
   "execution_count": 8,
   "metadata": {
    "ExecuteTime": {
     "end_time": "2023-08-09T00:13:25.858920Z",
     "start_time": "2023-08-09T00:13:25.856597Z"
    },
    "hidden": true,
    "id": "7QM9ShzSHaAc",
    "outputId": "b62d084e-4d12-48b3-f66d-75268c88a128",
    "scrolled": true
   },
   "outputs": [
    {
     "data": {
      "text/plain": [
       "edad                         int64\n",
       "minutos                      int64\n",
       "monto_de_apoyo              object\n",
       "horas                        int64\n",
       "ent_regis                  float64\n",
       "mun_regis                    int64\n",
       "ent_resid                    int64\n",
       "mun_resid                    int64\n",
       "ent_ocurr                  float64\n",
       "mun_ocurr                    int64\n",
       "sexo                        object\n",
       "ocupacion                    int64\n",
       "edo_civil                  float64\n",
       "lugar_ocur                   int64\n",
       "sitio_ocur                   int64\n",
       "nacionalid                   int64\n",
       "grupo                        int64\n",
       "lengua                     float64\n",
       "clave                        int64\n",
       "escolarida                   int64\n",
       "fecha_nac                   object\n",
       "fecha_ocurr                 object\n",
       "programa_fondo              object\n",
       "nombre_del_proyecto         object\n",
       "nombre_del_beneficiario     object\n",
       "salario                      int64\n",
       "dtype: object"
      ]
     },
     "execution_count": 8,
     "metadata": {},
     "output_type": "execute_result"
    }
   ],
   "source": [
    "#Esto devuelve una Serie con el tipo de datos de cada columna. \n",
    "df.dtypes"
   ]
  },
  {
   "cell_type": "markdown",
   "metadata": {
    "hidden": true
   },
   "source": [
    "- float--float64\n",
    "- int--int64\n",
    "- datetime--datetime64[ns]\n",
    "- string--object"
   ]
  },
  {
   "cell_type": "code",
   "execution_count": 9,
   "metadata": {
    "ExecuteTime": {
     "end_time": "2023-08-09T00:13:25.893399Z",
     "start_time": "2023-08-09T00:13:25.891161Z"
    },
    "hidden": true,
    "id": "ygYrk0IVHaAe",
    "outputId": "df5fac2d-554b-40ba-a554-32534e9e6c77"
   },
   "outputs": [
    {
     "data": {
      "text/plain": [
       "(655341, 26)"
      ]
     },
     "execution_count": 9,
     "metadata": {},
     "output_type": "execute_result"
    }
   ],
   "source": [
    "#Número de registros\n",
    "df.shape"
   ]
  },
  {
   "cell_type": "markdown",
   "metadata": {
    "heading_collapsed": true,
    "id": "R0JOJpeWHaAg"
   },
   "source": [
    "## <span style=\"background:#fe7f00\"> Etiquetado de variables </span> "
   ]
  },
  {
   "cell_type": "code",
   "execution_count": 10,
   "metadata": {
    "ExecuteTime": {
     "end_time": "2023-08-09T00:13:26.231670Z",
     "start_time": "2023-08-09T00:13:25.932084Z"
    },
    "hidden": true,
    "scrolled": true
   },
   "outputs": [
    {
     "name": "stdout",
     "output_type": "stream",
     "text": [
      "<class 'pandas.core.frame.DataFrame'>\n",
      "RangeIndex: 655341 entries, 0 to 655340\n",
      "Data columns (total 26 columns):\n",
      " #   Column                   Non-Null Count   Dtype  \n",
      "---  ------                   --------------   -----  \n",
      " 0   edad                     655341 non-null  int64  \n",
      " 1   minutos                  655341 non-null  int64  \n",
      " 2   monto_de_apoyo           655339 non-null  object \n",
      " 3   horas                    655341 non-null  int64  \n",
      " 4   ent_regis                458945 non-null  float64\n",
      " 5   mun_regis                655341 non-null  int64  \n",
      " 6   ent_resid                655341 non-null  int64  \n",
      " 7   mun_resid                655341 non-null  int64  \n",
      " 8   ent_ocurr                0 non-null       float64\n",
      " 9   mun_ocurr                655341 non-null  int64  \n",
      " 10  sexo                     655339 non-null  object \n",
      " 11  ocupacion                655341 non-null  int64  \n",
      " 12  edo_civil                0 non-null       float64\n",
      " 13  lugar_ocur               655341 non-null  int64  \n",
      " 14  sitio_ocur               655341 non-null  int64  \n",
      " 15  nacionalid               655341 non-null  int64  \n",
      " 16  grupo                    655341 non-null  int64  \n",
      " 17  lengua                   151167 non-null  float64\n",
      " 18  clave                    655341 non-null  int64  \n",
      " 19  escolarida               655341 non-null  int64  \n",
      " 20  fecha_nac                644963 non-null  object \n",
      " 21  fecha_ocurr              655199 non-null  object \n",
      " 22  programa_fondo           655341 non-null  object \n",
      " 23  nombre_del_proyecto      655341 non-null  object \n",
      " 24  nombre_del_beneficiario  655341 non-null  object \n",
      " 25  salario                  655341 non-null  int64  \n",
      "dtypes: float64(4), int64(15), object(7)\n",
      "memory usage: 130.0+ MB\n"
     ]
    }
   ],
   "source": [
    "#Este método imprime información sobre un DataFrame, incluido el tipo de índice y las columnas, \n",
    "#los valores no nulos y el uso de la memoria.\n",
    "df.info()"
   ]
  },
  {
   "cell_type": "markdown",
   "metadata": {
    "hidden": true
   },
   "source": [
    "**Contamos con:**\n",
    "- 4 columnas de tipo float64\n",
    "- 15 columnas de tipo int64\n",
    "- 7 columnas de tipo object"
   ]
  },
  {
   "cell_type": "code",
   "execution_count": 11,
   "metadata": {
    "ExecuteTime": {
     "end_time": "2023-08-09T00:13:26.289508Z",
     "start_time": "2023-08-09T00:13:26.264588Z"
    },
    "hidden": true
   },
   "outputs": [
    {
     "data": {
      "text/html": [
       "<div>\n",
       "<style scoped>\n",
       "    .dataframe tbody tr th:only-of-type {\n",
       "        vertical-align: middle;\n",
       "    }\n",
       "\n",
       "    .dataframe tbody tr th {\n",
       "        vertical-align: top;\n",
       "    }\n",
       "\n",
       "    .dataframe thead th {\n",
       "        text-align: right;\n",
       "    }\n",
       "</style>\n",
       "<table border=\"1\" class=\"dataframe\">\n",
       "  <thead>\n",
       "    <tr style=\"text-align: right;\">\n",
       "      <th></th>\n",
       "      <th>edad</th>\n",
       "      <th>minutos</th>\n",
       "      <th>horas</th>\n",
       "      <th>ent_regis</th>\n",
       "      <th>mun_regis</th>\n",
       "      <th>ent_resid</th>\n",
       "      <th>mun_resid</th>\n",
       "      <th>ent_ocurr</th>\n",
       "      <th>mun_ocurr</th>\n",
       "      <th>ocupacion</th>\n",
       "      <th>edo_civil</th>\n",
       "      <th>lugar_ocur</th>\n",
       "      <th>sitio_ocur</th>\n",
       "      <th>nacionalid</th>\n",
       "      <th>grupo</th>\n",
       "      <th>lengua</th>\n",
       "      <th>clave</th>\n",
       "      <th>escolarida</th>\n",
       "      <th>salario</th>\n",
       "    </tr>\n",
       "  </thead>\n",
       "  <tbody>\n",
       "    <tr>\n",
       "      <th>171885</th>\n",
       "      <td>4046</td>\n",
       "      <td>50</td>\n",
       "      <td>11</td>\n",
       "      <td>10.0</td>\n",
       "      <td>5</td>\n",
       "      <td>10</td>\n",
       "      <td>5</td>\n",
       "      <td>NaN</td>\n",
       "      <td>5</td>\n",
       "      <td>7</td>\n",
       "      <td>NaN</td>\n",
       "      <td>88</td>\n",
       "      <td>11</td>\n",
       "      <td>1</td>\n",
       "      <td>8</td>\n",
       "      <td>NaN</td>\n",
       "      <td>6492</td>\n",
       "      <td>4</td>\n",
       "      <td>5000</td>\n",
       "    </tr>\n",
       "    <tr>\n",
       "      <th>608714</th>\n",
       "      <td>4069</td>\n",
       "      <td>0</td>\n",
       "      <td>19</td>\n",
       "      <td>30.0</td>\n",
       "      <td>73</td>\n",
       "      <td>30</td>\n",
       "      <td>73</td>\n",
       "      <td>NaN</td>\n",
       "      <td>73</td>\n",
       "      <td>11</td>\n",
       "      <td>NaN</td>\n",
       "      <td>88</td>\n",
       "      <td>11</td>\n",
       "      <td>1</td>\n",
       "      <td>8</td>\n",
       "      <td>2.0</td>\n",
       "      <td>6574</td>\n",
       "      <td>1</td>\n",
       "      <td>0</td>\n",
       "    </tr>\n",
       "    <tr>\n",
       "      <th>6878</th>\n",
       "      <td>4033</td>\n",
       "      <td>35</td>\n",
       "      <td>20</td>\n",
       "      <td>2.0</td>\n",
       "      <td>2</td>\n",
       "      <td>2</td>\n",
       "      <td>2</td>\n",
       "      <td>NaN</td>\n",
       "      <td>2</td>\n",
       "      <td>98</td>\n",
       "      <td>NaN</td>\n",
       "      <td>9</td>\n",
       "      <td>3</td>\n",
       "      <td>1</td>\n",
       "      <td>19</td>\n",
       "      <td>NaN</td>\n",
       "      <td>6499</td>\n",
       "      <td>6</td>\n",
       "      <td>3500</td>\n",
       "    </tr>\n",
       "    <tr>\n",
       "      <th>392318</th>\n",
       "      <td>4075</td>\n",
       "      <td>15</td>\n",
       "      <td>1</td>\n",
       "      <td>NaN</td>\n",
       "      <td>7</td>\n",
       "      <td>17</td>\n",
       "      <td>7</td>\n",
       "      <td>NaN</td>\n",
       "      <td>11</td>\n",
       "      <td>7</td>\n",
       "      <td>NaN</td>\n",
       "      <td>88</td>\n",
       "      <td>5</td>\n",
       "      <td>1</td>\n",
       "      <td>6</td>\n",
       "      <td>NaN</td>\n",
       "      <td>6564</td>\n",
       "      <td>4</td>\n",
       "      <td>1500</td>\n",
       "    </tr>\n",
       "    <tr>\n",
       "      <th>177588</th>\n",
       "      <td>4075</td>\n",
       "      <td>49</td>\n",
       "      <td>7</td>\n",
       "      <td>NaN</td>\n",
       "      <td>5</td>\n",
       "      <td>10</td>\n",
       "      <td>32</td>\n",
       "      <td>NaN</td>\n",
       "      <td>32</td>\n",
       "      <td>99</td>\n",
       "      <td>NaN</td>\n",
       "      <td>88</td>\n",
       "      <td>99</td>\n",
       "      <td>1</td>\n",
       "      <td>13</td>\n",
       "      <td>NaN</td>\n",
       "      <td>6443</td>\n",
       "      <td>99</td>\n",
       "      <td>4900</td>\n",
       "    </tr>\n",
       "    <tr>\n",
       "      <th>26430</th>\n",
       "      <td>4057</td>\n",
       "      <td>0</td>\n",
       "      <td>22</td>\n",
       "      <td>4.0</td>\n",
       "      <td>3</td>\n",
       "      <td>4</td>\n",
       "      <td>3</td>\n",
       "      <td>NaN</td>\n",
       "      <td>3</td>\n",
       "      <td>11</td>\n",
       "      <td>NaN</td>\n",
       "      <td>88</td>\n",
       "      <td>1</td>\n",
       "      <td>1</td>\n",
       "      <td>4</td>\n",
       "      <td>NaN</td>\n",
       "      <td>6354</td>\n",
       "      <td>4</td>\n",
       "      <td>0</td>\n",
       "    </tr>\n",
       "    <tr>\n",
       "      <th>308542</th>\n",
       "      <td>4051</td>\n",
       "      <td>0</td>\n",
       "      <td>16</td>\n",
       "      <td>15.0</td>\n",
       "      <td>33</td>\n",
       "      <td>15</td>\n",
       "      <td>33</td>\n",
       "      <td>NaN</td>\n",
       "      <td>33</td>\n",
       "      <td>11</td>\n",
       "      <td>NaN</td>\n",
       "      <td>88</td>\n",
       "      <td>11</td>\n",
       "      <td>1</td>\n",
       "      <td>10</td>\n",
       "      <td>NaN</td>\n",
       "      <td>6382</td>\n",
       "      <td>6</td>\n",
       "      <td>0</td>\n",
       "    </tr>\n",
       "    <tr>\n",
       "      <th>366795</th>\n",
       "      <td>4064</td>\n",
       "      <td>45</td>\n",
       "      <td>21</td>\n",
       "      <td>NaN</td>\n",
       "      <td>52</td>\n",
       "      <td>16</td>\n",
       "      <td>52</td>\n",
       "      <td>NaN</td>\n",
       "      <td>52</td>\n",
       "      <td>11</td>\n",
       "      <td>NaN</td>\n",
       "      <td>88</td>\n",
       "      <td>3</td>\n",
       "      <td>1</td>\n",
       "      <td>2</td>\n",
       "      <td>NaN</td>\n",
       "      <td>6564</td>\n",
       "      <td>3</td>\n",
       "      <td>4500</td>\n",
       "    </tr>\n",
       "    <tr>\n",
       "      <th>318152</th>\n",
       "      <td>4071</td>\n",
       "      <td>0</td>\n",
       "      <td>13</td>\n",
       "      <td>NaN</td>\n",
       "      <td>57</td>\n",
       "      <td>15</td>\n",
       "      <td>13</td>\n",
       "      <td>NaN</td>\n",
       "      <td>57</td>\n",
       "      <td>11</td>\n",
       "      <td>NaN</td>\n",
       "      <td>88</td>\n",
       "      <td>9</td>\n",
       "      <td>1</td>\n",
       "      <td>2</td>\n",
       "      <td>NaN</td>\n",
       "      <td>6493</td>\n",
       "      <td>3</td>\n",
       "      <td>0</td>\n",
       "    </tr>\n",
       "    <tr>\n",
       "      <th>252054</th>\n",
       "      <td>4017</td>\n",
       "      <td>6</td>\n",
       "      <td>20</td>\n",
       "      <td>NaN</td>\n",
       "      <td>98</td>\n",
       "      <td>14</td>\n",
       "      <td>98</td>\n",
       "      <td>NaN</td>\n",
       "      <td>98</td>\n",
       "      <td>98</td>\n",
       "      <td>NaN</td>\n",
       "      <td>0</td>\n",
       "      <td>11</td>\n",
       "      <td>1</td>\n",
       "      <td>26</td>\n",
       "      <td>NaN</td>\n",
       "      <td>6870</td>\n",
       "      <td>99</td>\n",
       "      <td>600</td>\n",
       "    </tr>\n",
       "  </tbody>\n",
       "</table>\n",
       "</div>"
      ],
      "text/plain": [
       "        edad  minutos  horas  ent_regis  mun_regis  ent_resid  mun_resid  \\\n",
       "171885  4046       50     11       10.0          5         10          5   \n",
       "608714  4069        0     19       30.0         73         30         73   \n",
       "6878    4033       35     20        2.0          2          2          2   \n",
       "392318  4075       15      1        NaN          7         17          7   \n",
       "177588  4075       49      7        NaN          5         10         32   \n",
       "26430   4057        0     22        4.0          3          4          3   \n",
       "308542  4051        0     16       15.0         33         15         33   \n",
       "366795  4064       45     21        NaN         52         16         52   \n",
       "318152  4071        0     13        NaN         57         15         13   \n",
       "252054  4017        6     20        NaN         98         14         98   \n",
       "\n",
       "        ent_ocurr  mun_ocurr  ocupacion  edo_civil  lugar_ocur  sitio_ocur  \\\n",
       "171885        NaN          5          7        NaN          88          11   \n",
       "608714        NaN         73         11        NaN          88          11   \n",
       "6878          NaN          2         98        NaN           9           3   \n",
       "392318        NaN         11          7        NaN          88           5   \n",
       "177588        NaN         32         99        NaN          88          99   \n",
       "26430         NaN          3         11        NaN          88           1   \n",
       "308542        NaN         33         11        NaN          88          11   \n",
       "366795        NaN         52         11        NaN          88           3   \n",
       "318152        NaN         57         11        NaN          88           9   \n",
       "252054        NaN         98         98        NaN           0          11   \n",
       "\n",
       "        nacionalid  grupo  lengua  clave  escolarida  salario  \n",
       "171885           1      8     NaN   6492           4     5000  \n",
       "608714           1      8     2.0   6574           1        0  \n",
       "6878             1     19     NaN   6499           6     3500  \n",
       "392318           1      6     NaN   6564           4     1500  \n",
       "177588           1     13     NaN   6443          99     4900  \n",
       "26430            1      4     NaN   6354           4        0  \n",
       "308542           1     10     NaN   6382           6        0  \n",
       "366795           1      2     NaN   6564           3     4500  \n",
       "318152           1      2     NaN   6493           3        0  \n",
       "252054           1     26     NaN   6870          99      600  "
      ]
     },
     "execution_count": 11,
     "metadata": {},
     "output_type": "execute_result"
    }
   ],
   "source": [
    "#Conocer el tipo de dato es un buen indicador para conocer el tipo de variables y posteriormente etiquetarlas\n",
    "#Asi como nos puede dar indicios si una variable tiene valores fuera de la naturaleza de la variable\n",
    "df.select_dtypes(include=['int64',\"float64\"]).sample(10)"
   ]
  },
  {
   "cell_type": "code",
   "execution_count": 12,
   "metadata": {
    "ExecuteTime": {
     "end_time": "2023-08-09T00:13:26.361606Z",
     "start_time": "2023-08-09T00:13:26.327576Z"
    },
    "hidden": true,
    "scrolled": true
   },
   "outputs": [
    {
     "data": {
      "text/html": [
       "<div>\n",
       "<style scoped>\n",
       "    .dataframe tbody tr th:only-of-type {\n",
       "        vertical-align: middle;\n",
       "    }\n",
       "\n",
       "    .dataframe tbody tr th {\n",
       "        vertical-align: top;\n",
       "    }\n",
       "\n",
       "    .dataframe thead th {\n",
       "        text-align: right;\n",
       "    }\n",
       "</style>\n",
       "<table border=\"1\" class=\"dataframe\">\n",
       "  <thead>\n",
       "    <tr style=\"text-align: right;\">\n",
       "      <th></th>\n",
       "      <th>monto_de_apoyo</th>\n",
       "      <th>sexo</th>\n",
       "      <th>fecha_nac</th>\n",
       "      <th>fecha_ocurr</th>\n",
       "      <th>programa_fondo</th>\n",
       "      <th>nombre_del_proyecto</th>\n",
       "      <th>nombre_del_beneficiario</th>\n",
       "    </tr>\n",
       "  </thead>\n",
       "  <tbody>\n",
       "    <tr>\n",
       "      <th>505586</th>\n",
       "      <td>380000.0</td>\n",
       "      <td>1</td>\n",
       "      <td>1939-10-07</td>\n",
       "      <td>2015-09-08</td>\n",
       "      <td>Programa Estatal para el Desarrollo de la Indu...</td>\n",
       "      <td>Desarrollo de software especializado para la i...</td>\n",
       "      <td>Eslinga Vikingo S.A. de C.V.</td>\n",
       "    </tr>\n",
       "    <tr>\n",
       "      <th>87057</th>\n",
       "      <td>120000.0</td>\n",
       "      <td>1</td>\n",
       "      <td>1936-01-03</td>\n",
       "      <td>2015-10-27</td>\n",
       "      <td>Programa de Incorporación de Maestros y Doctor...</td>\n",
       "      <td>Maestra en Ciencias de la Floricultura</td>\n",
       "      <td>Jocelyn Maira Velazquez Hernandez</td>\n",
       "    </tr>\n",
       "    <tr>\n",
       "      <th>141487</th>\n",
       "      <td>50336.83</td>\n",
       "      <td>2</td>\n",
       "      <td>1925-08-07</td>\n",
       "      <td>2015-01-16</td>\n",
       "      <td>Programa Jalisciense de Fomento a la Propieda...</td>\n",
       "      <td>BIO-REACTOR COMBINADO (CBR), CON BIO-REACTORES...</td>\n",
       "      <td>FRANCISCO XAVIER VALDÉS SIMANCAS\\n</td>\n",
       "    </tr>\n",
       "    <tr>\n",
       "      <th>47379</th>\n",
       "      <td>5251.0</td>\n",
       "      <td>1</td>\n",
       "      <td>1959-06-21</td>\n",
       "      <td>2015-07-25</td>\n",
       "      <td>Programa Jalisciense de Fomento a la Propieda...</td>\n",
       "      <td>SOFTWARE AIRE AMG PARA ANDROID\\n</td>\n",
       "      <td>INSTITUTO TECNOLÓGICO Y DE ESTUDIOS SUPERIORES...</td>\n",
       "    </tr>\n",
       "    <tr>\n",
       "      <th>579790</th>\n",
       "      <td>50000.0</td>\n",
       "      <td>2</td>\n",
       "      <td>1950-12-12</td>\n",
       "      <td>2015-06-13</td>\n",
       "      <td>Programa de Difusión y Divulgación de la Cien...</td>\n",
       "      <td>Laboratorio de Innovación Ciudadana y Diseño S...</td>\n",
       "      <td>CONSEJO PROMOTOR DE LA INNOVACIÓN Y EL DISEÑO ...</td>\n",
       "    </tr>\n",
       "    <tr>\n",
       "      <th>274097</th>\n",
       "      <td>30632.55</td>\n",
       "      <td>2</td>\n",
       "      <td>1989-11-05</td>\n",
       "      <td>2015-01-22</td>\n",
       "      <td>Programa Jalisciense de Fomento a la Propieda...</td>\n",
       "      <td>TARIMA PARA CARGA CON SOPORTE BASTIDOR Y CUBIE...</td>\n",
       "      <td>GERARDO  TORNEL  LEAÑOS\\n</td>\n",
       "    </tr>\n",
       "    <tr>\n",
       "      <th>641406</th>\n",
       "      <td>12254.04</td>\n",
       "      <td>1</td>\n",
       "      <td>1940-06-09</td>\n",
       "      <td>2015-10-13</td>\n",
       "      <td>Programa Jalisciense de Fomento a la Propieda...</td>\n",
       "      <td>MODELO INDUSTRIAL DE MUEBLE\\n</td>\n",
       "      <td>BRIAN ALEJANDRO FRANCO CEJA\\n</td>\n",
       "    </tr>\n",
       "    <tr>\n",
       "      <th>59363</th>\n",
       "      <td>380000.0</td>\n",
       "      <td>1</td>\n",
       "      <td>1950-04-15</td>\n",
       "      <td>2015-03-07</td>\n",
       "      <td>Programa Estatal para el Desarrollo de la Indu...</td>\n",
       "      <td>Desarrollo de software especializado para la i...</td>\n",
       "      <td>Eslinga Vikingo S.A. de C.V.</td>\n",
       "    </tr>\n",
       "    <tr>\n",
       "      <th>54789</th>\n",
       "      <td>534650.0</td>\n",
       "      <td>2</td>\n",
       "      <td>1997-08-21</td>\n",
       "      <td>2015-08-22</td>\n",
       "      <td>Programa para el Fomento de Recursos Humanos ...</td>\n",
       "      <td>Becas Singularity U México Summit 4.0 INDUSTRI...</td>\n",
       "      <td>4.0 INDUSTRIAL CLUSTER AC</td>\n",
       "    </tr>\n",
       "    <tr>\n",
       "      <th>104432</th>\n",
       "      <td>5251.0</td>\n",
       "      <td>1</td>\n",
       "      <td>1939-04-10</td>\n",
       "      <td>2015-11-21</td>\n",
       "      <td>Programa Jalisciense de Fomento a la Propieda...</td>\n",
       "      <td>AIRE AMG PARA IOS</td>\n",
       "      <td>INSTITUTO TECNOLÓGICO Y \\nDE ESTUDIOS SUPERIOR...</td>\n",
       "    </tr>\n",
       "  </tbody>\n",
       "</table>\n",
       "</div>"
      ],
      "text/plain": [
       "       monto_de_apoyo sexo   fecha_nac fecha_ocurr  \\\n",
       "505586       380000.0    1  1939-10-07  2015-09-08   \n",
       "87057        120000.0    1  1936-01-03  2015-10-27   \n",
       "141487       50336.83    2  1925-08-07  2015-01-16   \n",
       "47379          5251.0    1  1959-06-21  2015-07-25   \n",
       "579790        50000.0    2  1950-12-12  2015-06-13   \n",
       "274097       30632.55    2  1989-11-05  2015-01-22   \n",
       "641406       12254.04    1  1940-06-09  2015-10-13   \n",
       "59363        380000.0    1  1950-04-15  2015-03-07   \n",
       "54789        534650.0    2  1997-08-21  2015-08-22   \n",
       "104432         5251.0    1  1939-04-10  2015-11-21   \n",
       "\n",
       "                                           programa_fondo  \\\n",
       "505586  Programa Estatal para el Desarrollo de la Indu...   \n",
       "87057   Programa de Incorporación de Maestros y Doctor...   \n",
       "141487   Programa Jalisciense de Fomento a la Propieda...   \n",
       "47379    Programa Jalisciense de Fomento a la Propieda...   \n",
       "579790   Programa de Difusión y Divulgación de la Cien...   \n",
       "274097   Programa Jalisciense de Fomento a la Propieda...   \n",
       "641406   Programa Jalisciense de Fomento a la Propieda...   \n",
       "59363   Programa Estatal para el Desarrollo de la Indu...   \n",
       "54789    Programa para el Fomento de Recursos Humanos ...   \n",
       "104432   Programa Jalisciense de Fomento a la Propieda...   \n",
       "\n",
       "                                      nombre_del_proyecto  \\\n",
       "505586  Desarrollo de software especializado para la i...   \n",
       "87057             Maestra en Ciencias de la Floricultura    \n",
       "141487  BIO-REACTOR COMBINADO (CBR), CON BIO-REACTORES...   \n",
       "47379                    SOFTWARE AIRE AMG PARA ANDROID\\n   \n",
       "579790  Laboratorio de Innovación Ciudadana y Diseño S...   \n",
       "274097  TARIMA PARA CARGA CON SOPORTE BASTIDOR Y CUBIE...   \n",
       "641406                      MODELO INDUSTRIAL DE MUEBLE\\n   \n",
       "59363   Desarrollo de software especializado para la i...   \n",
       "54789   Becas Singularity U México Summit 4.0 INDUSTRI...   \n",
       "104432                                  AIRE AMG PARA IOS   \n",
       "\n",
       "                                  nombre_del_beneficiario  \n",
       "505586                       Eslinga Vikingo S.A. de C.V.  \n",
       "87057                   Jocelyn Maira Velazquez Hernandez  \n",
       "141487                 FRANCISCO XAVIER VALDÉS SIMANCAS\\n  \n",
       "47379   INSTITUTO TECNOLÓGICO Y DE ESTUDIOS SUPERIORES...  \n",
       "579790  CONSEJO PROMOTOR DE LA INNOVACIÓN Y EL DISEÑO ...  \n",
       "274097                          GERARDO  TORNEL  LEAÑOS\\n  \n",
       "641406                      BRIAN ALEJANDRO FRANCO CEJA\\n  \n",
       "59363                        Eslinga Vikingo S.A. de C.V.  \n",
       "54789                           4.0 INDUSTRIAL CLUSTER AC  \n",
       "104432  INSTITUTO TECNOLÓGICO Y \\nDE ESTUDIOS SUPERIOR...  "
      ]
     },
     "execution_count": 12,
     "metadata": {},
     "output_type": "execute_result"
    }
   ],
   "source": [
    "df.select_dtypes(exclude=['int64',\"float64\"]).sample(10)\n",
    "#monto_apoyo se identifica como variable de texto - indicador de que existen datos que no corresponden a un flotante"
   ]
  },
  {
   "cell_type": "code",
   "execution_count": 13,
   "metadata": {
    "ExecuteTime": {
     "end_time": "2023-08-09T00:13:26.517101Z",
     "start_time": "2023-08-09T00:13:26.515152Z"
    },
    "hidden": true,
    "id": "0Ll6zVv1HaAh"
   },
   "outputs": [],
   "source": [
    "#Prefijos para los tipos de variables\n",
    "#La siguiente nomenclatura se trabajara en el módulo\n",
    "# \"c_\"  - Variables numericas : Discretas y continuas\n",
    "# \"v_\"  - Variables categoricas\n",
    "# \"d_\"  - Variables tipo fecha\n",
    "# \"t_\"  - Variables de texto : comentarios, descripciones, url\n",
    "# \"g_\"  - Variables geograficas\n",
    "\n",
    "\n",
    "c_feats=[\"edad\",\"monto_de_apoyo\",\"horas\",\"minutos\",\"salario\",\"n_hijos\"]\n",
    "v_feats=[\"ent_regis\",\"mun_regis\",\"ent_resid\",\"mun_resid\",\"ent_ocurr\",\"mun_ocurr\",\"sexo\",\"ocupacion\",\"edo_civil\",\n",
    "        \"lugar_ocur\",\"sitio_ocur\",\"nacionalid\",\"grupo\",\"lengua\",\"clave\",\"escolarida\"]\n",
    "d_feats=[\"fecha_nac\",\"fecha_ocurr\"]\n",
    "t_feats=[\"programa_fondo\",\"nombre_del_beneficiario\",\"nombre_del_proyecto\"]"
   ]
  },
  {
   "cell_type": "code",
   "execution_count": 14,
   "metadata": {
    "ExecuteTime": {
     "end_time": "2023-08-09T00:13:26.712460Z",
     "start_time": "2023-08-09T00:13:26.710149Z"
    },
    "hidden": true,
    "id": "vz2LHNjcHaAi"
   },
   "outputs": [],
   "source": [
    "c_feats_new=[\"c_\"+x for x in c_feats]\n",
    "v_feats_new=[\"v_\"+x for x in v_feats]\n",
    "d_feats_new=[\"d_\"+x for x in d_feats]\n",
    "t_feats_new=[\"t_\"+x for x in t_feats]"
   ]
  },
  {
   "cell_type": "code",
   "execution_count": 15,
   "metadata": {
    "ExecuteTime": {
     "end_time": "2023-08-09T00:13:26.908634Z",
     "start_time": "2023-08-09T00:13:26.905641Z"
    },
    "hidden": true,
    "id": "ilXWGKnOHaAk",
    "outputId": "e1f53269-eb7d-411d-a94c-1bc897024e54"
   },
   "outputs": [
    {
     "data": {
      "text/plain": [
       "['edad', 'monto_de_apoyo', 'horas', 'minutos', 'salario', 'n_hijos']"
      ]
     },
     "execution_count": 15,
     "metadata": {},
     "output_type": "execute_result"
    }
   ],
   "source": [
    "c_feats"
   ]
  },
  {
   "cell_type": "code",
   "execution_count": 16,
   "metadata": {
    "ExecuteTime": {
     "end_time": "2023-08-09T00:13:27.089719Z",
     "start_time": "2023-08-09T00:13:27.086782Z"
    },
    "hidden": true,
    "id": "NT1hdebqHaAl",
    "outputId": "3a00b67a-2f42-4258-a7f4-78c92163334c"
   },
   "outputs": [
    {
     "data": {
      "text/plain": [
       "['c_edad',\n",
       " 'c_monto_de_apoyo',\n",
       " 'c_horas',\n",
       " 'c_minutos',\n",
       " 'c_salario',\n",
       " 'c_n_hijos']"
      ]
     },
     "execution_count": 16,
     "metadata": {},
     "output_type": "execute_result"
    }
   ],
   "source": [
    "c_feats_new"
   ]
  },
  {
   "cell_type": "code",
   "execution_count": 17,
   "metadata": {
    "ExecuteTime": {
     "end_time": "2023-08-09T00:13:27.292403Z",
     "start_time": "2023-08-09T00:13:27.288899Z"
    },
    "hidden": true,
    "id": "CTsgJyN4HaAn"
   },
   "outputs": [],
   "source": [
    "df.rename(columns=dict(zip(d_feats,d_feats_new)),inplace=True)\n",
    "df.rename(columns=dict(zip(v_feats,v_feats_new)),inplace=True)\n",
    "df.rename(columns=dict(zip(t_feats,t_feats_new)),inplace=True)\n",
    "df.rename(columns=dict(zip(c_feats,c_feats_new)),inplace=True)"
   ]
  },
  {
   "cell_type": "code",
   "execution_count": 18,
   "metadata": {
    "ExecuteTime": {
     "end_time": "2023-08-09T00:13:27.478872Z",
     "start_time": "2023-08-09T00:13:27.467995Z"
    },
    "hidden": true
   },
   "outputs": [
    {
     "data": {
      "text/html": [
       "<div>\n",
       "<style scoped>\n",
       "    .dataframe tbody tr th:only-of-type {\n",
       "        vertical-align: middle;\n",
       "    }\n",
       "\n",
       "    .dataframe tbody tr th {\n",
       "        vertical-align: top;\n",
       "    }\n",
       "\n",
       "    .dataframe thead th {\n",
       "        text-align: right;\n",
       "    }\n",
       "</style>\n",
       "<table border=\"1\" class=\"dataframe\">\n",
       "  <thead>\n",
       "    <tr style=\"text-align: right;\">\n",
       "      <th></th>\n",
       "      <th>d_fecha_nac</th>\n",
       "      <th>d_fecha_ocurr</th>\n",
       "    </tr>\n",
       "  </thead>\n",
       "  <tbody>\n",
       "    <tr>\n",
       "      <th>0</th>\n",
       "      <td>1946-06-30</td>\n",
       "      <td>2015-05-25</td>\n",
       "    </tr>\n",
       "    <tr>\n",
       "      <th>1</th>\n",
       "      <td>1921-08-25</td>\n",
       "      <td>2015-09-26</td>\n",
       "    </tr>\n",
       "    <tr>\n",
       "      <th>2</th>\n",
       "      <td>1922-06-12</td>\n",
       "      <td>2015-12-14</td>\n",
       "    </tr>\n",
       "    <tr>\n",
       "      <th>3</th>\n",
       "      <td>1967-08-28</td>\n",
       "      <td>2015-01-03</td>\n",
       "    </tr>\n",
       "    <tr>\n",
       "      <th>4</th>\n",
       "      <td>1974-12-17</td>\n",
       "      <td>2015-07-16</td>\n",
       "    </tr>\n",
       "    <tr>\n",
       "      <th>...</th>\n",
       "      <td>...</td>\n",
       "      <td>...</td>\n",
       "    </tr>\n",
       "    <tr>\n",
       "      <th>655336</th>\n",
       "      <td>1996-03-20</td>\n",
       "      <td>2015-03-01</td>\n",
       "    </tr>\n",
       "    <tr>\n",
       "      <th>655337</th>\n",
       "      <td>1955-07-09</td>\n",
       "      <td>2015-02-25</td>\n",
       "    </tr>\n",
       "    <tr>\n",
       "      <th>655338</th>\n",
       "      <td>1990-02-18</td>\n",
       "      <td>2015-06-06</td>\n",
       "    </tr>\n",
       "    <tr>\n",
       "      <th>655339</th>\n",
       "      <td>1934-02-18</td>\n",
       "      <td>2015-08-13</td>\n",
       "    </tr>\n",
       "    <tr>\n",
       "      <th>655340</th>\n",
       "      <td>1928-03-18</td>\n",
       "      <td>2015-10-04</td>\n",
       "    </tr>\n",
       "  </tbody>\n",
       "</table>\n",
       "<p>655341 rows × 2 columns</p>\n",
       "</div>"
      ],
      "text/plain": [
       "       d_fecha_nac d_fecha_ocurr\n",
       "0       1946-06-30    2015-05-25\n",
       "1       1921-08-25    2015-09-26\n",
       "2       1922-06-12    2015-12-14\n",
       "3       1967-08-28    2015-01-03\n",
       "4       1974-12-17    2015-07-16\n",
       "...            ...           ...\n",
       "655336  1996-03-20    2015-03-01\n",
       "655337  1955-07-09    2015-02-25\n",
       "655338  1990-02-18    2015-06-06\n",
       "655339  1934-02-18    2015-08-13\n",
       "655340  1928-03-18    2015-10-04\n",
       "\n",
       "[655341 rows x 2 columns]"
      ]
     },
     "execution_count": 18,
     "metadata": {},
     "output_type": "execute_result"
    }
   ],
   "source": [
    "df.filter(like=\"d_\")"
   ]
  },
  {
   "cell_type": "markdown",
   "metadata": {
    "id": "RQwGSHQyHaAo"
   },
   "source": [
    "## <span style=\"background:#fe7f00\"> Duplicados </span> "
   ]
  },
  {
   "cell_type": "markdown",
   "metadata": {
    "heading_collapsed": true,
    "id": "20fndIhAHaAo"
   },
   "source": [
    "###  <span style=\"background:#759566\"> Duplicados general </span> "
   ]
  },
  {
   "cell_type": "code",
   "execution_count": 19,
   "metadata": {
    "ExecuteTime": {
     "end_time": "2023-08-09T00:13:28.055615Z",
     "start_time": "2023-08-09T00:13:28.053795Z"
    },
    "hidden": true,
    "id": "wkYnA96SHaAp"
   },
   "outputs": [],
   "source": [
    "n_rows=df.shape[0]"
   ]
  },
  {
   "cell_type": "code",
   "execution_count": 20,
   "metadata": {
    "ExecuteTime": {
     "end_time": "2023-08-09T00:13:28.256569Z",
     "start_time": "2023-08-09T00:13:28.248435Z"
    },
    "hidden": true,
    "id": "uL0al8G1HaAq",
    "outputId": "cc4c93ec-1973-48ba-9e14-c2350a872826",
    "scrolled": true
   },
   "outputs": [
    {
     "data": {
      "text/html": [
       "<div>\n",
       "<style scoped>\n",
       "    .dataframe tbody tr th:only-of-type {\n",
       "        vertical-align: middle;\n",
       "    }\n",
       "\n",
       "    .dataframe tbody tr th {\n",
       "        vertical-align: top;\n",
       "    }\n",
       "\n",
       "    .dataframe thead th {\n",
       "        text-align: right;\n",
       "    }\n",
       "</style>\n",
       "<table border=\"1\" class=\"dataframe\">\n",
       "  <thead>\n",
       "    <tr style=\"text-align: right;\">\n",
       "      <th></th>\n",
       "      <th>c_edad</th>\n",
       "      <th>c_minutos</th>\n",
       "      <th>c_monto_de_apoyo</th>\n",
       "      <th>c_horas</th>\n",
       "      <th>v_ent_regis</th>\n",
       "      <th>v_mun_regis</th>\n",
       "      <th>v_ent_resid</th>\n",
       "      <th>v_mun_resid</th>\n",
       "      <th>v_ent_ocurr</th>\n",
       "      <th>v_mun_ocurr</th>\n",
       "      <th>v_sexo</th>\n",
       "      <th>v_ocupacion</th>\n",
       "      <th>v_edo_civil</th>\n",
       "      <th>v_lugar_ocur</th>\n",
       "      <th>v_sitio_ocur</th>\n",
       "      <th>v_nacionalid</th>\n",
       "      <th>v_grupo</th>\n",
       "      <th>v_lengua</th>\n",
       "      <th>v_clave</th>\n",
       "      <th>v_escolarida</th>\n",
       "      <th>d_fecha_nac</th>\n",
       "      <th>d_fecha_ocurr</th>\n",
       "      <th>t_programa_fondo</th>\n",
       "      <th>t_nombre_del_proyecto</th>\n",
       "      <th>t_nombre_del_beneficiario</th>\n",
       "      <th>c_salario</th>\n",
       "    </tr>\n",
       "  </thead>\n",
       "  <tbody>\n",
       "    <tr>\n",
       "      <th>0</th>\n",
       "      <td>4069</td>\n",
       "      <td>27</td>\n",
       "      <td>NaN</td>\n",
       "      <td>16</td>\n",
       "      <td>1.0</td>\n",
       "      <td>1</td>\n",
       "      <td>1</td>\n",
       "      <td>1</td>\n",
       "      <td>NaN</td>\n",
       "      <td>1</td>\n",
       "      <td>NaN</td>\n",
       "      <td>11</td>\n",
       "      <td>NaN</td>\n",
       "      <td>88</td>\n",
       "      <td>3</td>\n",
       "      <td>1</td>\n",
       "      <td>7</td>\n",
       "      <td>2.0</td>\n",
       "      <td>6343</td>\n",
       "      <td>1</td>\n",
       "      <td>1946-06-30</td>\n",
       "      <td>2015-05-25</td>\n",
       "      <td>Programa Jalisciense de Fomento a la Propieda...</td>\n",
       "      <td>MX - SISTEMA MECATRÓNICO PARA EL CONTROL DE IN...</td>\n",
       "      <td>RICARDO MERCADO CORTÉS\\n</td>\n",
       "      <td>2700</td>\n",
       "    </tr>\n",
       "    <tr>\n",
       "      <th>1</th>\n",
       "      <td>4093</td>\n",
       "      <td>0</td>\n",
       "      <td>31446.48</td>\n",
       "      <td>6</td>\n",
       "      <td>NaN</td>\n",
       "      <td>1</td>\n",
       "      <td>1</td>\n",
       "      <td>1</td>\n",
       "      <td>NaN</td>\n",
       "      <td>1</td>\n",
       "      <td>1</td>\n",
       "      <td>6</td>\n",
       "      <td>NaN</td>\n",
       "      <td>88</td>\n",
       "      <td>11</td>\n",
       "      <td>1</td>\n",
       "      <td>8</td>\n",
       "      <td>NaN</td>\n",
       "      <td>6344</td>\n",
       "      <td>3</td>\n",
       "      <td>1921-08-25</td>\n",
       "      <td>2015-09-26</td>\n",
       "      <td>Programa Jalisciense de Fomento a la Propieda...</td>\n",
       "      <td>PCT - SISTEMA MECATRÓNICO PARA EL CONTROL DE I...</td>\n",
       "      <td>RICARDO MERCADO CORTÉS\\n</td>\n",
       "      <td>0</td>\n",
       "    </tr>\n",
       "    <tr>\n",
       "      <th>2</th>\n",
       "      <td>4092</td>\n",
       "      <td>30</td>\n",
       "      <td>65673.63</td>\n",
       "      <td>16</td>\n",
       "      <td>1.0</td>\n",
       "      <td>1</td>\n",
       "      <td>1</td>\n",
       "      <td>1</td>\n",
       "      <td>NaN</td>\n",
       "      <td>1</td>\n",
       "      <td>1</td>\n",
       "      <td>7</td>\n",
       "      <td>NaN</td>\n",
       "      <td>88</td>\n",
       "      <td>11</td>\n",
       "      <td>1</td>\n",
       "      <td>2</td>\n",
       "      <td>NaN</td>\n",
       "      <td>6345</td>\n",
       "      <td>3</td>\n",
       "      <td>1922-06-12</td>\n",
       "      <td>2015-12-14</td>\n",
       "      <td>Programa Jalisciense de Fomento a la Propieda...</td>\n",
       "      <td>MX-EMPAQUE CÓNICO PARA LA CONEXIÓN \\nDE MANGUE...</td>\n",
       "      <td>CORPORATIVO BORO S.A. DE C.V.</td>\n",
       "      <td>3000</td>\n",
       "    </tr>\n",
       "    <tr>\n",
       "      <th>3</th>\n",
       "      <td>4047</td>\n",
       "      <td>58</td>\n",
       "      <td>Sistema Tecnológico de Jalisco, A.C.</td>\n",
       "      <td>3</td>\n",
       "      <td>NaN</td>\n",
       "      <td>1</td>\n",
       "      <td>1</td>\n",
       "      <td>1</td>\n",
       "      <td>NaN</td>\n",
       "      <td>1</td>\n",
       "      <td>Sistema Tecnológico de Jalisco, A.C.</td>\n",
       "      <td>7</td>\n",
       "      <td>NaN</td>\n",
       "      <td>88</td>\n",
       "      <td>9</td>\n",
       "      <td>1</td>\n",
       "      <td>13</td>\n",
       "      <td>1.0</td>\n",
       "      <td>6346</td>\n",
       "      <td>6</td>\n",
       "      <td>1967-08-28</td>\n",
       "      <td>2015-01-03</td>\n",
       "      <td>Programa Jalisciense de Fomento a la Propieda...</td>\n",
       "      <td>MX-PASTA BIODEGRADABLE PARA USOS MÚLTIPLES\\n</td>\n",
       "      <td>CORPORATIVO BORO S.A. DE C.V.\\n</td>\n",
       "      <td>5800</td>\n",
       "    </tr>\n",
       "    <tr>\n",
       "      <th>4</th>\n",
       "      <td>4040</td>\n",
       "      <td>50</td>\n",
       "      <td>30254.04</td>\n",
       "      <td>6</td>\n",
       "      <td>1.0</td>\n",
       "      <td>1</td>\n",
       "      <td>1</td>\n",
       "      <td>1</td>\n",
       "      <td>NaN</td>\n",
       "      <td>1</td>\n",
       "      <td>2</td>\n",
       "      <td>11</td>\n",
       "      <td>NaN</td>\n",
       "      <td>88</td>\n",
       "      <td>1</td>\n",
       "      <td>1</td>\n",
       "      <td>7</td>\n",
       "      <td>NaN</td>\n",
       "      <td>6364</td>\n",
       "      <td>4</td>\n",
       "      <td>1974-12-17</td>\n",
       "      <td>2015-07-16</td>\n",
       "      <td>Programa Jalisciense de Fomento a la Propieda...</td>\n",
       "      <td>DISPOSITIVO PERSONAL DE COMUNICACIÓN REMOTA PA...</td>\n",
       "      <td>GERALDINA  VEGA GAMBOA\\n</td>\n",
       "      <td>5000</td>\n",
       "    </tr>\n",
       "  </tbody>\n",
       "</table>\n",
       "</div>"
      ],
      "text/plain": [
       "   c_edad  c_minutos                      c_monto_de_apoyo  c_horas  \\\n",
       "0    4069         27                                   NaN       16   \n",
       "1    4093          0                              31446.48        6   \n",
       "2    4092         30                              65673.63       16   \n",
       "3    4047         58  Sistema Tecnológico de Jalisco, A.C.        3   \n",
       "4    4040         50                              30254.04        6   \n",
       "\n",
       "   v_ent_regis  v_mun_regis  v_ent_resid  v_mun_resid  v_ent_ocurr  \\\n",
       "0          1.0            1            1            1          NaN   \n",
       "1          NaN            1            1            1          NaN   \n",
       "2          1.0            1            1            1          NaN   \n",
       "3          NaN            1            1            1          NaN   \n",
       "4          1.0            1            1            1          NaN   \n",
       "\n",
       "   v_mun_ocurr                                v_sexo  v_ocupacion  \\\n",
       "0            1                                   NaN           11   \n",
       "1            1                                     1            6   \n",
       "2            1                                     1            7   \n",
       "3            1  Sistema Tecnológico de Jalisco, A.C.            7   \n",
       "4            1                                     2           11   \n",
       "\n",
       "   v_edo_civil  v_lugar_ocur  v_sitio_ocur  v_nacionalid  v_grupo  v_lengua  \\\n",
       "0          NaN            88             3             1        7       2.0   \n",
       "1          NaN            88            11             1        8       NaN   \n",
       "2          NaN            88            11             1        2       NaN   \n",
       "3          NaN            88             9             1       13       1.0   \n",
       "4          NaN            88             1             1        7       NaN   \n",
       "\n",
       "   v_clave  v_escolarida d_fecha_nac d_fecha_ocurr  \\\n",
       "0     6343             1  1946-06-30    2015-05-25   \n",
       "1     6344             3  1921-08-25    2015-09-26   \n",
       "2     6345             3  1922-06-12    2015-12-14   \n",
       "3     6346             6  1967-08-28    2015-01-03   \n",
       "4     6364             4  1974-12-17    2015-07-16   \n",
       "\n",
       "                                    t_programa_fondo  \\\n",
       "0   Programa Jalisciense de Fomento a la Propieda...   \n",
       "1   Programa Jalisciense de Fomento a la Propieda...   \n",
       "2   Programa Jalisciense de Fomento a la Propieda...   \n",
       "3   Programa Jalisciense de Fomento a la Propieda...   \n",
       "4   Programa Jalisciense de Fomento a la Propieda...   \n",
       "\n",
       "                               t_nombre_del_proyecto  \\\n",
       "0  MX - SISTEMA MECATRÓNICO PARA EL CONTROL DE IN...   \n",
       "1  PCT - SISTEMA MECATRÓNICO PARA EL CONTROL DE I...   \n",
       "2  MX-EMPAQUE CÓNICO PARA LA CONEXIÓN \\nDE MANGUE...   \n",
       "3       MX-PASTA BIODEGRADABLE PARA USOS MÚLTIPLES\\n   \n",
       "4  DISPOSITIVO PERSONAL DE COMUNICACIÓN REMOTA PA...   \n",
       "\n",
       "         t_nombre_del_beneficiario  c_salario  \n",
       "0         RICARDO MERCADO CORTÉS\\n       2700  \n",
       "1         RICARDO MERCADO CORTÉS\\n          0  \n",
       "2    CORPORATIVO BORO S.A. DE C.V.       3000  \n",
       "3  CORPORATIVO BORO S.A. DE C.V.\\n       5800  \n",
       "4         GERALDINA  VEGA GAMBOA\\n       5000  "
      ]
     },
     "execution_count": 20,
     "metadata": {},
     "output_type": "execute_result"
    }
   ],
   "source": [
    "df.head()"
   ]
  },
  {
   "cell_type": "code",
   "execution_count": 21,
   "metadata": {
    "ExecuteTime": {
     "end_time": "2023-08-09T00:13:28.957936Z",
     "start_time": "2023-08-09T00:13:28.442512Z"
    },
    "hidden": true,
    "id": "KW91FuMMHaAs",
    "outputId": "1eacf972-535f-4bda-ef66-81f8ed6e81df"
   },
   "outputs": [
    {
     "data": {
      "text/plain": [
       "0         False\n",
       "1         False\n",
       "2         False\n",
       "3         False\n",
       "4         False\n",
       "          ...  \n",
       "655336     True\n",
       "655337     True\n",
       "655338     True\n",
       "655339     True\n",
       "655340     True\n",
       "Length: 655341, dtype: bool"
      ]
     },
     "execution_count": 21,
     "metadata": {},
     "output_type": "execute_result"
    }
   ],
   "source": [
    "df.duplicated()"
   ]
  },
  {
   "cell_type": "code",
   "execution_count": 22,
   "metadata": {
    "ExecuteTime": {
     "end_time": "2023-08-09T00:13:29.525754Z",
     "start_time": "2023-08-09T00:13:28.992890Z"
    },
    "hidden": true,
    "id": "FOfAQEzbHaAt",
    "outputId": "51321696-e7f4-42e9-c4a5-60e99770189f",
    "scrolled": true
   },
   "outputs": [
    {
     "data": {
      "text/html": [
       "<div>\n",
       "<style scoped>\n",
       "    .dataframe tbody tr th:only-of-type {\n",
       "        vertical-align: middle;\n",
       "    }\n",
       "\n",
       "    .dataframe tbody tr th {\n",
       "        vertical-align: top;\n",
       "    }\n",
       "\n",
       "    .dataframe thead th {\n",
       "        text-align: right;\n",
       "    }\n",
       "</style>\n",
       "<table border=\"1\" class=\"dataframe\">\n",
       "  <thead>\n",
       "    <tr style=\"text-align: right;\">\n",
       "      <th></th>\n",
       "      <th>c_edad</th>\n",
       "      <th>c_minutos</th>\n",
       "      <th>c_monto_de_apoyo</th>\n",
       "      <th>c_horas</th>\n",
       "      <th>v_ent_regis</th>\n",
       "      <th>v_mun_regis</th>\n",
       "      <th>v_ent_resid</th>\n",
       "      <th>v_mun_resid</th>\n",
       "      <th>v_ent_ocurr</th>\n",
       "      <th>v_mun_ocurr</th>\n",
       "      <th>v_sexo</th>\n",
       "      <th>v_ocupacion</th>\n",
       "      <th>v_edo_civil</th>\n",
       "      <th>v_lugar_ocur</th>\n",
       "      <th>v_sitio_ocur</th>\n",
       "      <th>v_nacionalid</th>\n",
       "      <th>v_grupo</th>\n",
       "      <th>v_lengua</th>\n",
       "      <th>v_clave</th>\n",
       "      <th>v_escolarida</th>\n",
       "      <th>d_fecha_nac</th>\n",
       "      <th>d_fecha_ocurr</th>\n",
       "      <th>t_programa_fondo</th>\n",
       "      <th>t_nombre_del_proyecto</th>\n",
       "      <th>t_nombre_del_beneficiario</th>\n",
       "      <th>c_salario</th>\n",
       "    </tr>\n",
       "  </thead>\n",
       "  <tbody>\n",
       "    <tr>\n",
       "      <th>655333</th>\n",
       "      <td>4093</td>\n",
       "      <td>0</td>\n",
       "      <td>31446.48</td>\n",
       "      <td>6</td>\n",
       "      <td>NaN</td>\n",
       "      <td>1</td>\n",
       "      <td>1</td>\n",
       "      <td>1</td>\n",
       "      <td>NaN</td>\n",
       "      <td>1</td>\n",
       "      <td>1</td>\n",
       "      <td>6</td>\n",
       "      <td>NaN</td>\n",
       "      <td>88</td>\n",
       "      <td>11</td>\n",
       "      <td>1</td>\n",
       "      <td>8</td>\n",
       "      <td>NaN</td>\n",
       "      <td>6344</td>\n",
       "      <td>3</td>\n",
       "      <td>1921-08-25</td>\n",
       "      <td>2015-09-26</td>\n",
       "      <td>Programa Jalisciense de Fomento a la Propieda...</td>\n",
       "      <td>PCT - SISTEMA MECATRÓNICO PARA EL CONTROL DE I...</td>\n",
       "      <td>RICARDO MERCADO CORTÉS\\n</td>\n",
       "      <td>0</td>\n",
       "    </tr>\n",
       "    <tr>\n",
       "      <th>655334</th>\n",
       "      <td>4004</td>\n",
       "      <td>10</td>\n",
       "      <td>50336.83</td>\n",
       "      <td>16</td>\n",
       "      <td>1.0</td>\n",
       "      <td>7</td>\n",
       "      <td>1</td>\n",
       "      <td>7</td>\n",
       "      <td>NaN</td>\n",
       "      <td>1</td>\n",
       "      <td>2</td>\n",
       "      <td>97</td>\n",
       "      <td>NaN</td>\n",
       "      <td>88</td>\n",
       "      <td>3</td>\n",
       "      <td>1</td>\n",
       "      <td>6</td>\n",
       "      <td>2.0</td>\n",
       "      <td>6472</td>\n",
       "      <td>1</td>\n",
       "      <td>2010-09-14</td>\n",
       "      <td>2015-08-23</td>\n",
       "      <td>Programa Jalisciense de Fomento a la Propieda...</td>\n",
       "      <td>PRENDA ÍNTIMA DE MATERIAL ABSORBENTE CON MEDIO...</td>\n",
       "      <td>SILVIA MARIBEL BARCIA TAPIA\\n</td>\n",
       "      <td>1000</td>\n",
       "    </tr>\n",
       "    <tr>\n",
       "      <th>655335</th>\n",
       "      <td>4071</td>\n",
       "      <td>55</td>\n",
       "      <td>Molina Pasquel Y Henriquez</td>\n",
       "      <td>9</td>\n",
       "      <td>NaN</td>\n",
       "      <td>1</td>\n",
       "      <td>1</td>\n",
       "      <td>1</td>\n",
       "      <td>NaN</td>\n",
       "      <td>1</td>\n",
       "      <td>Molina Pasquel Y Henriquez</td>\n",
       "      <td>11</td>\n",
       "      <td>NaN</td>\n",
       "      <td>88</td>\n",
       "      <td>3</td>\n",
       "      <td>1</td>\n",
       "      <td>2</td>\n",
       "      <td>9.0</td>\n",
       "      <td>6488</td>\n",
       "      <td>6</td>\n",
       "      <td>1943-08-03</td>\n",
       "      <td>2015-01-28</td>\n",
       "      <td>Programa Jalisciense de Fomento a la Propieda...</td>\n",
       "      <td>MODELO INDUSTRIAL DE MUEBLE\\n</td>\n",
       "      <td>BRIAN ALEJANDRO FRANCO CEJA\\n</td>\n",
       "      <td>5500</td>\n",
       "    </tr>\n",
       "    <tr>\n",
       "      <th>655336</th>\n",
       "      <td>4019</td>\n",
       "      <td>2</td>\n",
       "      <td>30884.1</td>\n",
       "      <td>8</td>\n",
       "      <td>NaN</td>\n",
       "      <td>1</td>\n",
       "      <td>1</td>\n",
       "      <td>1</td>\n",
       "      <td>NaN</td>\n",
       "      <td>1</td>\n",
       "      <td>2</td>\n",
       "      <td>11</td>\n",
       "      <td>NaN</td>\n",
       "      <td>88</td>\n",
       "      <td>3</td>\n",
       "      <td>1</td>\n",
       "      <td>3</td>\n",
       "      <td>NaN</td>\n",
       "      <td>6500</td>\n",
       "      <td>7</td>\n",
       "      <td>1996-03-20</td>\n",
       "      <td>2015-03-01</td>\n",
       "      <td>Programa Jalisciense de Fomento a la Propieda...</td>\n",
       "      <td>PCT DE SISTEMA Y APARATO INALÁMBRICO PARA REGI...</td>\n",
       "      <td>DANIEL ARAGÓN HAN\\n</td>\n",
       "      <td>200</td>\n",
       "    </tr>\n",
       "    <tr>\n",
       "      <th>655337</th>\n",
       "      <td>4059</td>\n",
       "      <td>55</td>\n",
       "      <td>31209.56</td>\n",
       "      <td>17</td>\n",
       "      <td>2.0</td>\n",
       "      <td>4</td>\n",
       "      <td>2</td>\n",
       "      <td>4</td>\n",
       "      <td>NaN</td>\n",
       "      <td>4</td>\n",
       "      <td>1</td>\n",
       "      <td>11</td>\n",
       "      <td>NaN</td>\n",
       "      <td>88</td>\n",
       "      <td>1</td>\n",
       "      <td>1</td>\n",
       "      <td>4</td>\n",
       "      <td>NaN</td>\n",
       "      <td>6567</td>\n",
       "      <td>99</td>\n",
       "      <td>1955-07-09</td>\n",
       "      <td>2015-02-25</td>\n",
       "      <td>Programa Jalisciense de Fomento a la Propieda...</td>\n",
       "      <td>MANIQUI PARA SEÑALIZACIÓN VIAL DE FORMA VISUAL...</td>\n",
       "      <td>LUIS DAVID ALDAS ROBLES\\n</td>\n",
       "      <td>5500</td>\n",
       "    </tr>\n",
       "    <tr>\n",
       "      <th>655338</th>\n",
       "      <td>4025</td>\n",
       "      <td>5</td>\n",
       "      <td>62113.6</td>\n",
       "      <td>0</td>\n",
       "      <td>1.0</td>\n",
       "      <td>5</td>\n",
       "      <td>1</td>\n",
       "      <td>5</td>\n",
       "      <td>NaN</td>\n",
       "      <td>1</td>\n",
       "      <td>2</td>\n",
       "      <td>11</td>\n",
       "      <td>NaN</td>\n",
       "      <td>88</td>\n",
       "      <td>1</td>\n",
       "      <td>1</td>\n",
       "      <td>2</td>\n",
       "      <td>2.0</td>\n",
       "      <td>6515</td>\n",
       "      <td>8</td>\n",
       "      <td>1990-02-18</td>\n",
       "      <td>2015-06-06</td>\n",
       "      <td>Programa Jalisciense de Fomento a la Propieda...</td>\n",
       "      <td>PCT DE COMPOSICIÓN VEGETARIANA Y BIODEGRADABLE...</td>\n",
       "      <td>INSTITUTO TECNOLÓGICO Y DE ESTUDIOS SUPERIORES...</td>\n",
       "      <td>500</td>\n",
       "    </tr>\n",
       "    <tr>\n",
       "      <th>655339</th>\n",
       "      <td>4080</td>\n",
       "      <td>30</td>\n",
       "      <td>12254.04</td>\n",
       "      <td>11</td>\n",
       "      <td>1.0</td>\n",
       "      <td>11</td>\n",
       "      <td>1</td>\n",
       "      <td>11</td>\n",
       "      <td>NaN</td>\n",
       "      <td>11</td>\n",
       "      <td>1</td>\n",
       "      <td>11</td>\n",
       "      <td>NaN</td>\n",
       "      <td>88</td>\n",
       "      <td>11</td>\n",
       "      <td>1</td>\n",
       "      <td>5</td>\n",
       "      <td>NaN</td>\n",
       "      <td>6487</td>\n",
       "      <td>3</td>\n",
       "      <td>1934-02-18</td>\n",
       "      <td>2015-08-13</td>\n",
       "      <td>Programa Jalisciense de Fomento a la Propieda...</td>\n",
       "      <td>MODELO INDUSTRIAL DE MUEBLE\\n</td>\n",
       "      <td>BRIAN ALEJANDRO FRANCO CEJA\\n</td>\n",
       "      <td>3000</td>\n",
       "    </tr>\n",
       "    <tr>\n",
       "      <th>655340</th>\n",
       "      <td>4087</td>\n",
       "      <td>15</td>\n",
       "      <td>12254.04</td>\n",
       "      <td>10</td>\n",
       "      <td>NaN</td>\n",
       "      <td>5</td>\n",
       "      <td>1</td>\n",
       "      <td>1</td>\n",
       "      <td>NaN</td>\n",
       "      <td>1</td>\n",
       "      <td>2</td>\n",
       "      <td>11</td>\n",
       "      <td>NaN</td>\n",
       "      <td>88</td>\n",
       "      <td>9</td>\n",
       "      <td>1</td>\n",
       "      <td>6</td>\n",
       "      <td>NaN</td>\n",
       "      <td>6517</td>\n",
       "      <td>3</td>\n",
       "      <td>1928-03-18</td>\n",
       "      <td>2015-10-04</td>\n",
       "      <td>Programa Jalisciense de Fomento a la Propieda...</td>\n",
       "      <td>MODELO INDUSTRIAL DE MUEBLE\\n</td>\n",
       "      <td>BRIAN ALEJANDRO FRANCO CEJA\\n</td>\n",
       "      <td>1500</td>\n",
       "    </tr>\n",
       "  </tbody>\n",
       "</table>\n",
       "</div>"
      ],
      "text/plain": [
       "        c_edad  c_minutos            c_monto_de_apoyo  c_horas  v_ent_regis  \\\n",
       "655333    4093          0                    31446.48        6          NaN   \n",
       "655334    4004         10                    50336.83       16          1.0   \n",
       "655335    4071         55  Molina Pasquel Y Henriquez        9          NaN   \n",
       "655336    4019          2                     30884.1        8          NaN   \n",
       "655337    4059         55                    31209.56       17          2.0   \n",
       "655338    4025          5                     62113.6        0          1.0   \n",
       "655339    4080         30                    12254.04       11          1.0   \n",
       "655340    4087         15                    12254.04       10          NaN   \n",
       "\n",
       "        v_mun_regis  v_ent_resid  v_mun_resid  v_ent_ocurr  v_mun_ocurr  \\\n",
       "655333            1            1            1          NaN            1   \n",
       "655334            7            1            7          NaN            1   \n",
       "655335            1            1            1          NaN            1   \n",
       "655336            1            1            1          NaN            1   \n",
       "655337            4            2            4          NaN            4   \n",
       "655338            5            1            5          NaN            1   \n",
       "655339           11            1           11          NaN           11   \n",
       "655340            5            1            1          NaN            1   \n",
       "\n",
       "                            v_sexo  v_ocupacion  v_edo_civil  v_lugar_ocur  \\\n",
       "655333                           1            6          NaN            88   \n",
       "655334                           2           97          NaN            88   \n",
       "655335  Molina Pasquel Y Henriquez           11          NaN            88   \n",
       "655336                           2           11          NaN            88   \n",
       "655337                           1           11          NaN            88   \n",
       "655338                           2           11          NaN            88   \n",
       "655339                           1           11          NaN            88   \n",
       "655340                           2           11          NaN            88   \n",
       "\n",
       "        v_sitio_ocur  v_nacionalid  v_grupo  v_lengua  v_clave  v_escolarida  \\\n",
       "655333            11             1        8       NaN     6344             3   \n",
       "655334             3             1        6       2.0     6472             1   \n",
       "655335             3             1        2       9.0     6488             6   \n",
       "655336             3             1        3       NaN     6500             7   \n",
       "655337             1             1        4       NaN     6567            99   \n",
       "655338             1             1        2       2.0     6515             8   \n",
       "655339            11             1        5       NaN     6487             3   \n",
       "655340             9             1        6       NaN     6517             3   \n",
       "\n",
       "       d_fecha_nac d_fecha_ocurr  \\\n",
       "655333  1921-08-25    2015-09-26   \n",
       "655334  2010-09-14    2015-08-23   \n",
       "655335  1943-08-03    2015-01-28   \n",
       "655336  1996-03-20    2015-03-01   \n",
       "655337  1955-07-09    2015-02-25   \n",
       "655338  1990-02-18    2015-06-06   \n",
       "655339  1934-02-18    2015-08-13   \n",
       "655340  1928-03-18    2015-10-04   \n",
       "\n",
       "                                         t_programa_fondo  \\\n",
       "655333   Programa Jalisciense de Fomento a la Propieda...   \n",
       "655334   Programa Jalisciense de Fomento a la Propieda...   \n",
       "655335   Programa Jalisciense de Fomento a la Propieda...   \n",
       "655336   Programa Jalisciense de Fomento a la Propieda...   \n",
       "655337   Programa Jalisciense de Fomento a la Propieda...   \n",
       "655338   Programa Jalisciense de Fomento a la Propieda...   \n",
       "655339   Programa Jalisciense de Fomento a la Propieda...   \n",
       "655340   Programa Jalisciense de Fomento a la Propieda...   \n",
       "\n",
       "                                    t_nombre_del_proyecto  \\\n",
       "655333  PCT - SISTEMA MECATRÓNICO PARA EL CONTROL DE I...   \n",
       "655334  PRENDA ÍNTIMA DE MATERIAL ABSORBENTE CON MEDIO...   \n",
       "655335                      MODELO INDUSTRIAL DE MUEBLE\\n   \n",
       "655336  PCT DE SISTEMA Y APARATO INALÁMBRICO PARA REGI...   \n",
       "655337  MANIQUI PARA SEÑALIZACIÓN VIAL DE FORMA VISUAL...   \n",
       "655338  PCT DE COMPOSICIÓN VEGETARIANA Y BIODEGRADABLE...   \n",
       "655339                      MODELO INDUSTRIAL DE MUEBLE\\n   \n",
       "655340                      MODELO INDUSTRIAL DE MUEBLE\\n   \n",
       "\n",
       "                                t_nombre_del_beneficiario  c_salario  \n",
       "655333                           RICARDO MERCADO CORTÉS\\n          0  \n",
       "655334                      SILVIA MARIBEL BARCIA TAPIA\\n       1000  \n",
       "655335                      BRIAN ALEJANDRO FRANCO CEJA\\n       5500  \n",
       "655336                                DANIEL ARAGÓN HAN\\n        200  \n",
       "655337                          LUIS DAVID ALDAS ROBLES\\n       5500  \n",
       "655338  INSTITUTO TECNOLÓGICO Y DE ESTUDIOS SUPERIORES...        500  \n",
       "655339                      BRIAN ALEJANDRO FRANCO CEJA\\n       3000  \n",
       "655340                      BRIAN ALEJANDRO FRANCO CEJA\\n       1500  "
      ]
     },
     "execution_count": 22,
     "metadata": {},
     "output_type": "execute_result"
    }
   ],
   "source": [
    "df[df.duplicated()]"
   ]
  },
  {
   "cell_type": "code",
   "execution_count": 23,
   "metadata": {
    "ExecuteTime": {
     "end_time": "2023-08-09T00:13:29.563089Z",
     "start_time": "2023-08-09T00:13:29.561049Z"
    },
    "hidden": true
   },
   "outputs": [
    {
     "data": {
      "text/plain": [
       "(655341, 26)"
      ]
     },
     "execution_count": 23,
     "metadata": {},
     "output_type": "execute_result"
    }
   ],
   "source": [
    "df.shape"
   ]
  },
  {
   "cell_type": "code",
   "execution_count": 24,
   "metadata": {
    "ExecuteTime": {
     "end_time": "2023-08-09T00:13:30.121019Z",
     "start_time": "2023-08-09T00:13:29.598303Z"
    },
    "hidden": true,
    "id": "Ui1uZfOrHaAu",
    "outputId": "3057c075-8ab3-47db-9c5e-26986eb0bfac"
   },
   "outputs": [
    {
     "data": {
      "text/plain": [
       "8"
      ]
     },
     "execution_count": 24,
     "metadata": {},
     "output_type": "execute_result"
    }
   ],
   "source": [
    "df.duplicated().sum()#Total de registros duplicados"
   ]
  },
  {
   "cell_type": "code",
   "execution_count": 25,
   "metadata": {
    "ExecuteTime": {
     "end_time": "2023-08-09T00:13:30.769514Z",
     "start_time": "2023-08-09T00:13:30.154882Z"
    },
    "hidden": true,
    "id": "SNk8pgYzHaAv"
   },
   "outputs": [],
   "source": [
    "df.drop_duplicates(inplace=True)#Eliminamos duplicados de la tabla"
   ]
  },
  {
   "cell_type": "code",
   "execution_count": 26,
   "metadata": {
    "ExecuteTime": {
     "end_time": "2023-08-09T00:13:31.344411Z",
     "start_time": "2023-08-09T00:13:30.804231Z"
    },
    "hidden": true,
    "id": "5ZubfSdaHaAw",
    "outputId": "2b06ca69-d971-4671-f718-8bb1ea165685"
   },
   "outputs": [
    {
     "data": {
      "text/plain": [
       "0"
      ]
     },
     "execution_count": 26,
     "metadata": {},
     "output_type": "execute_result"
    }
   ],
   "source": [
    "df.duplicated().sum()#Verificamos"
   ]
  },
  {
   "cell_type": "code",
   "execution_count": 27,
   "metadata": {
    "ExecuteTime": {
     "end_time": "2023-08-09T00:13:31.380907Z",
     "start_time": "2023-08-09T00:13:31.379516Z"
    },
    "hidden": true,
    "id": "EqW7cFDRHaAw"
   },
   "outputs": [],
   "source": [
    "df.reset_index(drop=True,inplace=True)#Creamos un nuevo indice y eliminamos el anterior"
   ]
  },
  {
   "cell_type": "code",
   "execution_count": 28,
   "metadata": {
    "ExecuteTime": {
     "end_time": "2023-08-09T00:13:31.415233Z",
     "start_time": "2023-08-09T00:13:31.413699Z"
    },
    "hidden": true,
    "id": "176v8QRKHaAx"
   },
   "outputs": [],
   "source": [
    "n_duplicados=n_rows-df.shape[0]"
   ]
  },
  {
   "cell_type": "code",
   "execution_count": 29,
   "metadata": {
    "ExecuteTime": {
     "end_time": "2023-08-09T00:13:31.450639Z",
     "start_time": "2023-08-09T00:13:31.449061Z"
    },
    "hidden": true,
    "id": "Uf7DsVNkHaAy",
    "outputId": "04054d54-d1bb-44bf-bc30-d12b7b8a677a"
   },
   "outputs": [
    {
     "name": "stdout",
     "output_type": "stream",
     "text": [
      "Número de duplicados general : 8\n"
     ]
    }
   ],
   "source": [
    "print(f\"Número de duplicados general : { n_duplicados}\")"
   ]
  },
  {
   "cell_type": "markdown",
   "metadata": {
    "id": "WQS9repfHaAz"
   },
   "source": [
    "###  <span style=\"background:#759566\"> Duplicados por ID </span> "
   ]
  },
  {
   "cell_type": "code",
   "execution_count": 30,
   "metadata": {
    "ExecuteTime": {
     "end_time": "2023-08-09T00:13:31.484740Z",
     "start_time": "2023-08-09T00:13:31.483428Z"
    },
    "id": "4LaObLmKHaAz"
   },
   "outputs": [],
   "source": [
    "#Verificamos que no existan duplicados por las siguientes variables:\n",
    "#\"t_nombre_del_beneficiario\"\n",
    "#\"t_nombre_del_proyecto\"\n",
    "#\"t_programa_fondo\" \n",
    "#\"d_fecha_ocurr\"\n",
    "\n",
    "#Es importante conocer la unidad muestral para verificar la duplicidad"
   ]
  },
  {
   "cell_type": "code",
   "execution_count": 31,
   "metadata": {
    "ExecuteTime": {
     "end_time": "2023-08-09T00:13:31.521082Z",
     "start_time": "2023-08-09T00:13:31.518908Z"
    },
    "id": "0wDn3me0HaA0",
    "outputId": "95f9f006-a9f0-4538-9e0c-f9013f750df0",
    "scrolled": true
   },
   "outputs": [
    {
     "data": {
      "text/plain": [
       "(655333, 26)"
      ]
     },
     "execution_count": 31,
     "metadata": {},
     "output_type": "execute_result"
    }
   ],
   "source": [
    "df.shape"
   ]
  },
  {
   "cell_type": "code",
   "execution_count": 32,
   "metadata": {
    "ExecuteTime": {
     "end_time": "2023-08-09T00:13:31.592109Z",
     "start_time": "2023-08-09T00:13:31.557775Z"
    },
    "id": "Ku8niYxuHaA2"
   },
   "outputs": [],
   "source": [
    "df=df.reset_index(drop=True)"
   ]
  },
  {
   "cell_type": "markdown",
   "metadata": {
    "heading_collapsed": true,
    "id": "r2y7a1w8HaA4"
   },
   "source": [
    "####  <span style=\"background:#e1d486\"> LIMPIEZA DE TEXTO - FUNCION </span> "
   ]
  },
  {
   "cell_type": "code",
   "execution_count": 33,
   "metadata": {
    "ExecuteTime": {
     "end_time": "2023-08-09T00:13:31.627810Z",
     "start_time": "2023-08-09T00:13:31.626403Z"
    },
    "hidden": true,
    "id": "QsfgyaonHaA4"
   },
   "outputs": [],
   "source": [
    "import unicodedata\n",
    "import re\n",
    "#https://es.py4e.com/html3/11-regex"
   ]
  },
  {
   "cell_type": "markdown",
   "metadata": {
    "hidden": true
   },
   "source": [
    "- UNIDECODEDATA: Libreria que tiene como objetivo representar texto en unicode (Unicode es un estándar de codificación de caracteres diseñado para facilitar el tratamiento informático, transmisión y visualización de textos de numerosos idiomas) para representarlo en ASCII (es un código de caracteres basado en el alfabeto latino, tal como se usa en inglés moderno.)"
   ]
  },
  {
   "cell_type": "markdown",
   "metadata": {
    "hidden": true,
    "id": "R1AIMey7HaA5"
   },
   "source": [
    "**Existe un método \"Normalize\" el cual devuelve la forma normal para una cadena de texto y tenemos distintos métodos :**\n",
    "- NFC - Aplica primero una descomposición y luego vuelve a componer los carateres combinados previamente\n",
    "- NFD - Aplica una descomposicion y traduce cada caracter a su forma descompuesta \n",
    "https://towardsdatascience.com/difference-between-nfd-nfc-nfkd-and-nfkc-explained-with-python-code-e2631f96ae6c\n",
    "\n",
    "- ENCODE (a,b) - Método con el cúal codificamos los carácteres, el primer parámetro indica como se van a codificar y el segundo parámetro indica que se hará con los caracteres que no se puedan codificar (se van a ignorar)\n",
    "- re.sub : Escanea una cadena en busca de coincidencias de expresiones regulares, reemplaza las partes coincidentes de la cadena con la cadena de reemplazo especificada y devuelve el resultado.\n",
    "- UTF-8  “Formato de Transformación Unicode” (en inglés), y el número 8 a los bits. Este formato es considerado el más idóneo para web y e-mail.\n",
    "- Las flags modifican el comportamiento de análisis de expresiones regulares, lo que le permite refinar aún más la coincidencia de patrones.  \n",
    "- re.UNICODE Especifica la codificación Unicode para la clasificación de caracteres (para manejar cualquier idioma de forma correctamente)\n",
    "\n",
    "- [^ : Coincide con cualquier CARACTER que no esté en el conjunto.\n",
    "- ASCII : https://elcodigoascii.com.ar/"
   ]
  },
  {
   "cell_type": "markdown",
   "metadata": {
    "hidden": true,
    "id": "h26-UFFKHaA6"
   },
   "source": [
    "ASCII : https://elcodigoascii.com.ar/"
   ]
  },
  {
   "cell_type": "code",
   "execution_count": 34,
   "metadata": {
    "ExecuteTime": {
     "end_time": "2023-08-09T00:13:32.133166Z",
     "start_time": "2023-08-09T00:13:32.130069Z"
    },
    "hidden": true
   },
   "outputs": [
    {
     "data": {
      "text/plain": [
       "14"
      ]
     },
     "execution_count": 34,
     "metadata": {},
     "output_type": "execute_result"
    }
   ],
   "source": [
    "len(\"FELIZ BUEN DÍA\")"
   ]
  },
  {
   "cell_type": "code",
   "execution_count": 35,
   "metadata": {
    "ExecuteTime": {
     "end_time": "2023-08-09T00:13:32.352864Z",
     "start_time": "2023-08-09T00:13:32.349844Z"
    },
    "hidden": true
   },
   "outputs": [
    {
     "data": {
      "text/plain": [
       "'FELIZ BUEN DÍA'"
      ]
     },
     "execution_count": 35,
     "metadata": {},
     "output_type": "execute_result"
    }
   ],
   "source": [
    "unicodedata.normalize('NFC', \"FELIZ BUEN DÍA\")"
   ]
  },
  {
   "cell_type": "code",
   "execution_count": 36,
   "metadata": {
    "ExecuteTime": {
     "end_time": "2023-08-09T00:13:32.570942Z",
     "start_time": "2023-08-09T00:13:32.567705Z"
    },
    "hidden": true
   },
   "outputs": [
    {
     "data": {
      "text/plain": [
       "14"
      ]
     },
     "execution_count": 36,
     "metadata": {},
     "output_type": "execute_result"
    }
   ],
   "source": [
    "len(unicodedata.normalize('NFC', \"FELIZ BUEN DÍA\"))"
   ]
  },
  {
   "cell_type": "code",
   "execution_count": 37,
   "metadata": {
    "ExecuteTime": {
     "end_time": "2023-08-09T00:13:32.788127Z",
     "start_time": "2023-08-09T00:13:32.785066Z"
    },
    "hidden": true
   },
   "outputs": [
    {
     "data": {
      "text/plain": [
       "'FELIZ BUEN DÍA'"
      ]
     },
     "execution_count": 37,
     "metadata": {},
     "output_type": "execute_result"
    }
   ],
   "source": [
    "unicodedata.normalize('NFD', \"FELIZ BUEN DÍA\")"
   ]
  },
  {
   "cell_type": "code",
   "execution_count": 38,
   "metadata": {
    "ExecuteTime": {
     "end_time": "2023-08-09T00:13:32.997607Z",
     "start_time": "2023-08-09T00:13:32.994787Z"
    },
    "hidden": true
   },
   "outputs": [
    {
     "data": {
      "text/plain": [
       "15"
      ]
     },
     "execution_count": 38,
     "metadata": {},
     "output_type": "execute_result"
    }
   ],
   "source": [
    "len(unicodedata.normalize('NFD', \"FELIZ BUEN DÍA\"))"
   ]
  },
  {
   "cell_type": "code",
   "execution_count": 39,
   "metadata": {
    "ExecuteTime": {
     "end_time": "2023-08-09T00:13:33.212765Z",
     "start_time": "2023-08-09T00:13:33.209625Z"
    },
    "hidden": true
   },
   "outputs": [
    {
     "data": {
      "text/plain": [
       "b'FELIZ BUEN DA'"
      ]
     },
     "execution_count": 39,
     "metadata": {},
     "output_type": "execute_result"
    }
   ],
   "source": [
    "unicodedata.normalize('NFC', \"FELIZ BUEN DÍA\").encode('ascii', 'ignore')"
   ]
  },
  {
   "cell_type": "code",
   "execution_count": 40,
   "metadata": {
    "ExecuteTime": {
     "end_time": "2023-08-09T00:13:33.418903Z",
     "start_time": "2023-08-09T00:13:33.415642Z"
    },
    "hidden": true
   },
   "outputs": [
    {
     "data": {
      "text/plain": [
       "b'FELIZ BUEN DIA'"
      ]
     },
     "execution_count": 40,
     "metadata": {},
     "output_type": "execute_result"
    }
   ],
   "source": [
    "unicodedata.normalize('NFD', \"FELIZ BUEN DÍA\").encode('ascii', 'ignore')"
   ]
  },
  {
   "cell_type": "code",
   "execution_count": 41,
   "metadata": {
    "ExecuteTime": {
     "end_time": "2023-08-09T00:13:33.628074Z",
     "start_time": "2023-08-09T00:13:33.625186Z"
    },
    "hidden": true
   },
   "outputs": [
    {
     "data": {
      "text/plain": [
       "b'FELIZ BUEN D\\xc3\\x8dA'"
      ]
     },
     "execution_count": 41,
     "metadata": {},
     "output_type": "execute_result"
    }
   ],
   "source": [
    "unicodedata.normalize('NFC', \"FELIZ BUEN DÍA\").encode('utf-8', 'ignore')"
   ]
  },
  {
   "cell_type": "code",
   "execution_count": 42,
   "metadata": {
    "ExecuteTime": {
     "end_time": "2023-08-09T00:13:33.824084Z",
     "start_time": "2023-08-09T00:13:33.821593Z"
    },
    "hidden": true
   },
   "outputs": [
    {
     "name": "stdout",
     "output_type": "stream",
     "text": [
      "FELIZ BUEN DÍA \n",
      "\n"
     ]
    }
   ],
   "source": [
    "print(\"FELIZ BUEN DÍA \\n\")"
   ]
  },
  {
   "cell_type": "code",
   "execution_count": 43,
   "metadata": {
    "ExecuteTime": {
     "end_time": "2023-08-09T00:13:34.034100Z",
     "start_time": "2023-08-09T00:13:34.031862Z"
    },
    "hidden": true
   },
   "outputs": [
    {
     "name": "stdout",
     "output_type": "stream",
     "text": [
      "FELIZ BUEN DÍA \\n\n"
     ]
    }
   ],
   "source": [
    "print(r\"FELIZ BUEN DÍA \\n\")"
   ]
  },
  {
   "cell_type": "code",
   "execution_count": 44,
   "metadata": {
    "ExecuteTime": {
     "end_time": "2023-08-09T00:13:34.279269Z",
     "start_time": "2023-08-09T00:13:34.276146Z"
    },
    "hidden": true
   },
   "outputs": [
    {
     "data": {
      "text/plain": [
       "'FELIZ BUEN DÍA \\n'"
      ]
     },
     "execution_count": 44,
     "metadata": {},
     "output_type": "execute_result"
    }
   ],
   "source": [
    "unicodedata.normalize('NFD', \"FELIZ BUEN DÍA \\n\")"
   ]
  },
  {
   "cell_type": "code",
   "execution_count": 45,
   "metadata": {
    "ExecuteTime": {
     "end_time": "2023-08-09T00:13:34.545382Z",
     "start_time": "2023-08-09T00:13:34.542110Z"
    },
    "hidden": true
   },
   "outputs": [
    {
     "data": {
      "text/plain": [
       "b'FELIZ BUEN DI\\xcc\\x81A'"
      ]
     },
     "execution_count": 45,
     "metadata": {},
     "output_type": "execute_result"
    }
   ],
   "source": [
    "unicodedata.normalize('NFD', \"FELIZ BUEN DÍA\").encode('utf-8', 'ignore')"
   ]
  },
  {
   "cell_type": "code",
   "execution_count": 46,
   "metadata": {
    "ExecuteTime": {
     "end_time": "2023-08-09T00:13:34.776103Z",
     "start_time": "2023-08-09T00:13:34.774001Z"
    },
    "hidden": true
   },
   "outputs": [],
   "source": [
    "eje=unicodedata.normalize('NFD', \"FELIZ BUEN DÍA\").encode('ascii', 'ignore')"
   ]
  },
  {
   "cell_type": "code",
   "execution_count": 47,
   "metadata": {
    "ExecuteTime": {
     "end_time": "2023-08-09T00:13:34.985817Z",
     "start_time": "2023-08-09T00:13:34.983127Z"
    },
    "hidden": true
   },
   "outputs": [
    {
     "data": {
      "text/plain": [
       "b'FELIZ BUEN DIA'"
      ]
     },
     "execution_count": 47,
     "metadata": {},
     "output_type": "execute_result"
    }
   ],
   "source": [
    "eje"
   ]
  },
  {
   "cell_type": "code",
   "execution_count": 48,
   "metadata": {
    "ExecuteTime": {
     "end_time": "2023-08-09T00:13:35.196268Z",
     "start_time": "2023-08-09T00:13:35.194446Z"
    },
    "hidden": true
   },
   "outputs": [],
   "source": [
    "#pattern=\"[^a-zA-Z0-9 ]\"\n",
    "pattern=\"[^a-zA-Z0-9]\" #reconoce todos los elementos que no sean letras o numeros\n",
    "#[] definen un set de caracteres\n",
    "# ^ Puede complementar (invertir) el conjunto de caracteres utilizando ^el símbolo de intercalación al \n",
    "#comienzo de un corchete"
   ]
  },
  {
   "cell_type": "code",
   "execution_count": 49,
   "metadata": {
    "ExecuteTime": {
     "end_time": "2023-08-09T00:13:35.410050Z",
     "start_time": "2023-08-09T00:13:35.407456Z"
    },
    "hidden": true
   },
   "outputs": [
    {
     "data": {
      "text/plain": [
       "'FELIZ BUEN DIA'"
      ]
     },
     "execution_count": 49,
     "metadata": {},
     "output_type": "execute_result"
    }
   ],
   "source": [
    "eje.decode(\"ascii\")"
   ]
  },
  {
   "cell_type": "code",
   "execution_count": 50,
   "metadata": {
    "ExecuteTime": {
     "end_time": "2023-08-09T00:13:35.628613Z",
     "start_time": "2023-08-09T00:13:35.626395Z"
    },
    "hidden": true
   },
   "outputs": [],
   "source": [
    "eje = re.sub(pattern, \" \", eje.decode(\"ascii\"), flags=re.UNICODE)"
   ]
  },
  {
   "cell_type": "code",
   "execution_count": 51,
   "metadata": {
    "ExecuteTime": {
     "end_time": "2023-08-09T00:13:35.846732Z",
     "start_time": "2023-08-09T00:13:35.844105Z"
    },
    "hidden": true
   },
   "outputs": [
    {
     "data": {
      "text/plain": [
       "'FELIZ BUEN DIA'"
      ]
     },
     "execution_count": 51,
     "metadata": {},
     "output_type": "execute_result"
    }
   ],
   "source": [
    "eje"
   ]
  },
  {
   "cell_type": "code",
   "execution_count": 52,
   "metadata": {
    "ExecuteTime": {
     "end_time": "2023-08-09T00:13:36.073744Z",
     "start_time": "2023-08-09T00:13:36.071087Z"
    },
    "hidden": true
   },
   "outputs": [
    {
     "data": {
      "text/plain": [
       "'hola'"
      ]
     },
     "execution_count": 52,
     "metadata": {},
     "output_type": "execute_result"
    }
   ],
   "source": [
    "\"hola \".strip()"
   ]
  },
  {
   "cell_type": "code",
   "execution_count": 53,
   "metadata": {
    "ExecuteTime": {
     "end_time": "2023-08-09T00:13:36.291939Z",
     "start_time": "2023-08-09T00:13:36.289267Z"
    },
    "hidden": true
   },
   "outputs": [
    {
     "data": {
      "text/plain": [
       "['hola', 'hola']"
      ]
     },
     "execution_count": 53,
     "metadata": {},
     "output_type": "execute_result"
    }
   ],
   "source": [
    "\" hola        hola\".lstrip().split()"
   ]
  },
  {
   "cell_type": "code",
   "execution_count": 54,
   "metadata": {
    "ExecuteTime": {
     "end_time": "2023-08-09T00:13:36.522131Z",
     "start_time": "2023-08-09T00:13:36.519168Z"
    },
    "hidden": true
   },
   "outputs": [
    {
     "data": {
      "text/plain": [
       "'hola hola'"
      ]
     },
     "execution_count": 54,
     "metadata": {},
     "output_type": "execute_result"
    }
   ],
   "source": [
    "\" \".join(\"hola     hola\".lstrip().split())"
   ]
  },
  {
   "cell_type": "code",
   "execution_count": 55,
   "metadata": {
    "ExecuteTime": {
     "end_time": "2023-08-09T00:13:36.740838Z",
     "start_time": "2023-08-09T00:13:36.738778Z"
    },
    "hidden": true,
    "id": "mcyKH5sbHaA7",
    "scrolled": true
   },
   "outputs": [],
   "source": [
    "def clean_text(text, pattern=\"[^a-zA-Z0-9]\"):\n",
    "    cleaned_text = unicodedata.normalize('NFD', text).encode('ascii', 'ignore')\n",
    "    cleaned_text = re.sub(pattern, \" \", cleaned_text.decode(\"ascii\"), flags=re.UNICODE)\n",
    "    cleaned_text = u' '.join(cleaned_text.lower().lstrip().strip().split())\n",
    "    return cleaned_text"
   ]
  },
  {
   "cell_type": "code",
   "execution_count": 56,
   "metadata": {
    "ExecuteTime": {
     "end_time": "2023-08-09T00:13:36.951102Z",
     "start_time": "2023-08-09T00:13:36.949111Z"
    },
    "hidden": true,
    "id": "CtMVp_LxHaA7"
   },
   "outputs": [],
   "source": [
    "text='¡Feliz nuevo día, México!'"
   ]
  },
  {
   "cell_type": "code",
   "execution_count": 57,
   "metadata": {
    "ExecuteTime": {
     "end_time": "2023-08-09T00:13:37.184181Z",
     "start_time": "2023-08-09T00:13:37.181526Z"
    },
    "hidden": true,
    "id": "WF84Z3WBHaA8"
   },
   "outputs": [],
   "source": [
    "pattern=\"[^a-zA-Z0-9]\"\n",
    "cleaned_text = unicodedata.normalize('NFD', text).encode('ascii', 'ignore')\n",
    "cleaned_text = re.sub(pattern, \" \", cleaned_text.decode(\"ascii\"), flags=re.UNICODE)"
   ]
  },
  {
   "cell_type": "code",
   "execution_count": 58,
   "metadata": {
    "ExecuteTime": {
     "end_time": "2023-08-09T00:13:37.415880Z",
     "start_time": "2023-08-09T00:13:37.413487Z"
    },
    "hidden": true,
    "id": "XjrEz4pqHaA9",
    "outputId": "1863c8d0-733e-415f-f794-05380a13790c"
   },
   "outputs": [
    {
     "data": {
      "text/plain": [
       "'Feliz nuevo dia  Mexico '"
      ]
     },
     "execution_count": 58,
     "metadata": {},
     "output_type": "execute_result"
    }
   ],
   "source": [
    "cleaned_text"
   ]
  },
  {
   "cell_type": "code",
   "execution_count": 59,
   "metadata": {
    "ExecuteTime": {
     "end_time": "2023-08-09T00:13:37.640681Z",
     "start_time": "2023-08-09T00:13:37.638193Z"
    },
    "hidden": true,
    "id": "mOgqU_iRHaA9"
   },
   "outputs": [],
   "source": [
    "cleaned_text = u' '.join(cleaned_text.lower().strip().split())"
   ]
  },
  {
   "cell_type": "code",
   "execution_count": 60,
   "metadata": {
    "ExecuteTime": {
     "end_time": "2023-08-09T00:13:37.881395Z",
     "start_time": "2023-08-09T00:13:37.878265Z"
    },
    "hidden": true,
    "id": "bWg_s7hlHaA-",
    "outputId": "9cde76ed-32df-430a-9ff8-f979bfbe3ada"
   },
   "outputs": [
    {
     "data": {
      "text/plain": [
       "'feliz nuevo dia mexico'"
      ]
     },
     "execution_count": 60,
     "metadata": {},
     "output_type": "execute_result"
    }
   ],
   "source": [
    "cleaned_text"
   ]
  },
  {
   "cell_type": "markdown",
   "metadata": {
    "ExecuteTime": {
     "end_time": "2021-05-13T20:57:45.841828Z",
     "start_time": "2021-05-13T20:57:45.708131Z"
    },
    "heading_collapsed": true,
    "id": "PEpjEwwYHaA_"
   },
   "source": [
    "#### <span style=\"background:#e1d486\">  LIMPIEZA \"NOMBRE DEL BENEFICIARIO\" </span> "
   ]
  },
  {
   "cell_type": "code",
   "execution_count": 61,
   "metadata": {
    "ExecuteTime": {
     "end_time": "2023-08-09T00:13:38.356561Z",
     "start_time": "2023-08-09T00:13:38.352098Z"
    },
    "hidden": true,
    "id": "AP_3UVgnHaA_",
    "outputId": "c9373ec4-98ab-4c78-c582-2d27bbbd4150"
   },
   "outputs": [
    {
     "data": {
      "text/plain": [
       "0                       RICARDO MERCADO CORTÉS\\n\n",
       "1                       RICARDO MERCADO CORTÉS\\n\n",
       "2                  CORPORATIVO BORO S.A. DE C.V.\n",
       "3                CORPORATIVO BORO S.A. DE C.V.\\n\n",
       "4                       GERALDINA  VEGA GAMBOA\\n\n",
       "                           ...                  \n",
       "655328         Compañia Power Tools S.A. de C.V.\n",
       "655329         Complejo Industrial RM S.A de C.V\n",
       "655330    Microalgas Oleas de México S.A de C.V.\n",
       "655331                Universidad de Guadalajara\n",
       "655332                     Consire, S.A. de C.V.\n",
       "Name: t_nombre_del_beneficiario, Length: 655333, dtype: object"
      ]
     },
     "execution_count": 61,
     "metadata": {},
     "output_type": "execute_result"
    }
   ],
   "source": [
    "df[\"t_nombre_del_beneficiario\"]"
   ]
  },
  {
   "cell_type": "code",
   "execution_count": 62,
   "metadata": {
    "ExecuteTime": {
     "end_time": "2023-08-09T00:13:39.959635Z",
     "start_time": "2023-08-09T00:13:38.576017Z"
    },
    "hidden": true,
    "id": "P0GXlKOlHaBA"
   },
   "outputs": [],
   "source": [
    "df[\"t_nombre_del_beneficiario\"]=df[\"t_nombre_del_beneficiario\"].map(lambda x:clean_text(x.lower()).replace(\"\\n\",\"\"))"
   ]
  },
  {
   "cell_type": "code",
   "execution_count": 63,
   "metadata": {
    "ExecuteTime": {
     "end_time": "2023-08-09T00:13:40.031575Z",
     "start_time": "2023-08-09T00:13:39.995665Z"
    },
    "hidden": true
   },
   "outputs": [
    {
     "data": {
      "text/plain": [
       "brian alejandro franco ceja                                                                                                        72811\n",
       "erick eduardo guzman quezada                                                                                                       29134\n",
       "instituto tecnologico y de estudios superiores de occidente a c                                                                    25487\n",
       "francisco xavier valdes simancas                                                                                                   21850\n",
       "active financial sa de cv                                                                                                          18207\n",
       "maricela lopez cepeda                                                                                                              18205\n",
       "gerardo tornel leanos                                                                                                              14566\n",
       "eduardo arciniega vazquez                                                                                                          14563\n",
       "instituto superior autonomo de occidente a c                                                                                       14562\n",
       "seerauber automotive de mexico sapi de c v                                                                                         14561\n",
       "universidad de guadalajara                                                                                                         14561\n",
       "corporativo boro s a de c v                                                                                                        14560\n",
       "sistema tecnologico de jalisco a c                                                                                                 14559\n",
       "marcos andres ochoa molina                                                                                                         10926\n",
       "alexis izquierdo collins                                                                                                           10923\n",
       "consire s a de c v                                                                                                                 10923\n",
       "mariana pieck lomeli                                                                                                               10920\n",
       "instituto tecnologico jose mario molina pasquel y henriquez                                                                        10919\n",
       "microalgas oleas de mexico s a de c v                                                                                              10918\n",
       "4 0 industrial cluster ac                                                                                                           7285\n",
       "katia saucedo fernandez                                                                                                             7285\n",
       "isaac jesus romero gonzalez                                                                                                         7284\n",
       "daniel aragon han                                                                                                                   7283\n",
       "ruth araceli de celis carrillo                                                                                                      7283\n",
       "emergys mexico s a de c v                                                                                                           7283\n",
       "instituto tecnologico de estudios superiores de monterrey                                                                           7282\n",
       "ricardo mercado cortes                                                                                                              7282\n",
       "laboratorio futuro innovacion s a p i de c v                                                                                        7282\n",
       "dennis sheridan plasencia                                                                                                           7282\n",
       "luis david aldas robles                                                                                                             7282\n",
       "compania power tools s a de c v                                                                                                     7281\n",
       "centros culturales de mexico a c                                                                                                    7281\n",
       "oracle de mexico s a de c v                                                                                                         7280\n",
       "active financial s a de c v                                                                                                         7279\n",
       "servando soto velasco                                                                                                               7279\n",
       "humberto gonzalez calleja                                                                                                           7278\n",
       "miriam alejandra carlos mancilla                                                                                                    3643\n",
       "complejo industrial rm s a de c v                                                                                                   3643\n",
       "nestor emmanuel diaz martinez                                                                                                       3643\n",
       "luis fernando luque vega                                                                                                            3643\n",
       "eslinga vikingo s a de c v                                                                                                          3642\n",
       "gyroscopik studios s a de c v                                                                                                       3642\n",
       "silvia maribel barcia tapia                                                                                                         3642\n",
       "logica global positioning system s a de c v                                                                                         3642\n",
       "cclp s a de c v                                                                                                                     3642\n",
       "it consultant s c                                                                                                                   3642\n",
       "sociedad latinoamericana de ciencia y tecnologia aplicada ac                                                                        3642\n",
       "universidad tecnologica de jalisco                                                                                                  3641\n",
       "camara nacional de la industria electronica de telecomunicaciones y tecnologias de la informacion delegacion regional occidente     3641\n",
       "jorge manuel ortega ibarra                                                                                                          3641\n",
       "jocelyn maira velazquez hernandez                                                                                                   3641\n",
       "grupo kantesa de mexico s a de c v                                                                                                  3641\n",
       "continental automotive guadalajara mexico sa de cv                                                                                  3641\n",
       "soluciones kenko s a de c v                                                                                                         3641\n",
       "luisa edurne ortega silva                                                                                                           3641\n",
       "camara de la industria alimenticia de jalisco                                                                                       3641\n",
       "hidro plata s a de c v                                                                                                              3641\n",
       "jorge rodrigo sanchez sanchez                                                                                                       3641\n",
       "emmanuel lopez neri                                                                                                                 3641\n",
       "jorge alberto cardenas magana                                                                                                       3641\n",
       "biomentum s a p i de c v                                                                                                            3640\n",
       "francisco javier luis juan barragan mario molina                                                                                    3640\n",
       "4 0 industrial cluster a c                                                                                                          3640\n",
       "unosquare s a de c v                                                                                                                3640\n",
       "intel tecnologia de mexico s a de c v                                                                                               3640\n",
       "julio cesar chavez novoa                                                                                                            3640\n",
       "frg internacional s de r l de c v                                                                                                   3640\n",
       "productos sane de chapala s a de c v                                                                                                3640\n",
       "centro de innovacion ciencia y tecnologia jalisco a c                                                                               3640\n",
       "sociedad latinoamericana de ciencia y tecnologia aplicada a c                                                                       3640\n",
       "roberto ibarra rabadan                                                                                                              3640\n",
       "emmanuel vega negrete mario molina                                                                                                  3640\n",
       "consejo promotor de la innovacion y el diseno jalisco a c                                                                           3640\n",
       "piensa tepa sc                                                                                                                      3640\n",
       "omar ricardo fonseca cervantes                                                                                                      3639\n",
       "im master capital s a p i s a de c v                                                                                                3639\n",
       "eduardo jacobo arroyo                                                                                                               3639\n",
       "sanmina sci systems de mexico s a de c v                                                                                            3639\n",
       "centro de ensenanza tecnica industrial                                                                                              3639\n",
       "tecnologia y productos biomedicos de occidente s a de c v                                                                           3639\n",
       "repstronics s a de c v                                                                                                              3639\n",
       "fleximatic s a de c v                                                                                                               3639\n",
       "instituto ciatt s c                                                                                                                 3639\n",
       "sferp s c                                                                                                                           3639\n",
       "geraldina vega gamboa                                                                                                               3638\n",
       "Name: t_nombre_del_beneficiario, dtype: int64"
      ]
     },
     "execution_count": 63,
     "metadata": {},
     "output_type": "execute_result"
    }
   ],
   "source": [
    "df[\"t_nombre_del_beneficiario\"].value_counts()"
   ]
  },
  {
   "cell_type": "markdown",
   "metadata": {
    "ExecuteTime": {
     "end_time": "2022-04-29T19:15:22.851952Z",
     "start_time": "2022-04-29T19:15:22.847432Z"
    },
    "hidden": true
   },
   "source": [
    "##### Distancia en texto\n",
    "- https://pypi.org/project/jellyfish/"
   ]
  },
  {
   "cell_type": "markdown",
   "metadata": {
    "hidden": true
   },
   "source": [
    "**Jellyfish es una biblioteca para coincidencias aproximadas y fonéticas de cadenas.**\n",
    "- Comparación de cadenas:\n",
    "\n",
    "- Distancia de Levenstein\n",
    "- Distancia Damerau-Levenshtein\n",
    "- Distancia Jaró\n",
    "- Distancia Jaro-Winkler\n",
    "- Comparación de enfoque de calificación de coincidencia\n",
    "- Distancia de Hamming\n"
   ]
  },
  {
   "cell_type": "code",
   "execution_count": 64,
   "metadata": {
    "ExecuteTime": {
     "end_time": "2023-08-09T00:13:40.072252Z",
     "start_time": "2023-08-09T00:13:40.065733Z"
    },
    "hidden": true
   },
   "outputs": [],
   "source": [
    "#pip install jellyfish\n",
    "import jellyfish as jf"
   ]
  },
  {
   "cell_type": "markdown",
   "metadata": {
    "ExecuteTime": {
     "end_time": "2022-04-29T20:46:15.854176Z",
     "start_time": "2022-04-29T20:46:15.851452Z"
    },
    "hidden": true
   },
   "source": [
    "###### Levenshtein Distance"
   ]
  },
  {
   "cell_type": "code",
   "execution_count": 65,
   "metadata": {
    "ExecuteTime": {
     "end_time": "2023-08-09T00:13:40.109649Z",
     "start_time": "2023-08-09T00:13:40.107670Z"
    },
    "hidden": true
   },
   "outputs": [
    {
     "data": {
      "text/plain": [
       "3"
      ]
     },
     "execution_count": 65,
     "metadata": {},
     "output_type": "execute_result"
    }
   ],
   "source": [
    "##Ejemplos\n",
    "jf.levenshtein_distance(\"kitten\",\"sitting\")"
   ]
  },
  {
   "cell_type": "markdown",
   "metadata": {
    "ExecuteTime": {
     "end_time": "2022-04-29T20:43:10.724183Z",
     "start_time": "2022-04-29T20:43:10.718989Z"
    },
    "hidden": true
   },
   "source": [
    "###### Damerau Levenshtein\n",
    "\n",
    "- La distancia Damerau-Levenshtein difiere de la distancia clásica de Levenshtein al incluir la operación de transposición entre sus operaciones permitidas además de las tres operaciones de edición de un solo carácter (inserciones, eliminaciones y sustituciones)"
   ]
  },
  {
   "cell_type": "code",
   "execution_count": 66,
   "metadata": {
    "ExecuteTime": {
     "end_time": "2023-08-09T00:13:40.501869Z",
     "start_time": "2023-08-09T00:13:40.500295Z"
    },
    "hidden": true
   },
   "outputs": [],
   "source": [
    "a=\"ag qwe\"\n",
    "b=\"a wqe\""
   ]
  },
  {
   "cell_type": "markdown",
   "metadata": {
    "hidden": true
   },
   "source": [
    "- Operation 1: eliminar g en el indice 1\n",
    "- Operation 2: eliminar q en el indice 4\n",
    "- Operation 3: insertar q en el indice 5\n",
    "\n",
    "**Levenshtein distance = 3**"
   ]
  },
  {
   "cell_type": "code",
   "execution_count": 67,
   "metadata": {
    "ExecuteTime": {
     "end_time": "2023-08-09T00:13:40.985529Z",
     "start_time": "2023-08-09T00:13:40.982479Z"
    },
    "hidden": true
   },
   "outputs": [
    {
     "data": {
      "text/plain": [
       "3"
      ]
     },
     "execution_count": 67,
     "metadata": {},
     "output_type": "execute_result"
    }
   ],
   "source": [
    "jf.levenshtein_distance(a,b)"
   ]
  },
  {
   "cell_type": "code",
   "execution_count": 68,
   "metadata": {
    "ExecuteTime": {
     "end_time": "2023-08-09T00:13:41.233342Z",
     "start_time": "2023-08-09T00:13:41.231293Z"
    },
    "hidden": true
   },
   "outputs": [],
   "source": [
    "# Operaciones en distancia de Levenshtein con operación de transposición"
   ]
  },
  {
   "cell_type": "markdown",
   "metadata": {
    "hidden": true
   },
   "source": [
    "- Operacion 1: Eliminar g en el indice 1\n",
    "- Operacion 2: Transposición: intercambiar caracteres en el índice 4 y 5\n",
    "\n",
    "**Distancia de Levenshtein con operación de transposición = 2**"
   ]
  },
  {
   "cell_type": "code",
   "execution_count": 69,
   "metadata": {
    "ExecuteTime": {
     "end_time": "2023-08-09T00:13:41.704986Z",
     "start_time": "2023-08-09T00:13:41.702104Z"
    },
    "hidden": true
   },
   "outputs": [
    {
     "data": {
      "text/plain": [
       "2"
      ]
     },
     "execution_count": 69,
     "metadata": {},
     "output_type": "execute_result"
    }
   ],
   "source": [
    "jf.damerau_levenshtein_distance(a,b)"
   ]
  },
  {
   "cell_type": "markdown",
   "metadata": {
    "hidden": true
   },
   "source": [
    "###### Jaro Distance\n",
    "- Jaro Similarity es la medida de similitud entre dos cadenas. El valor de la distancia de Jaro varía de 0 a 1, donde 1 significa que las cadenas son iguales y 0 significa que no hay similitud entre las dos cadenas. "
   ]
  },
  {
   "cell_type": "code",
   "execution_count": 70,
   "metadata": {
    "ExecuteTime": {
     "end_time": "2023-08-09T00:13:42.185913Z",
     "start_time": "2023-08-09T00:13:42.183494Z"
    },
    "hidden": true
   },
   "outputs": [],
   "source": [
    "a=\"arnab\"\n",
    "b=\"raanb\""
   ]
  },
  {
   "cell_type": "markdown",
   "metadata": {
    "hidden": true
   },
   "source": [
    "- Es evidente que ambas cadenas tienen 5 caracteres coincidentes, pero el orden no es el mismo, por lo que el número de caracteres que no están en orden es 4, por lo que el número de transposiciones es 2.\n",
    "- La unica letra que esta en orden es la \"b\""
   ]
  },
  {
   "cell_type": "markdown",
   "metadata": {
    "hidden": true
   },
   "source": [
    "- Similitud de Jaro = (1/3) * {(5/5) + (5/5) + (5-2)/5 } = 0.86667"
   ]
  },
  {
   "cell_type": "code",
   "execution_count": 71,
   "metadata": {
    "ExecuteTime": {
     "end_time": "2023-08-09T00:13:42.905080Z",
     "start_time": "2023-08-09T00:13:42.901657Z"
    },
    "hidden": true
   },
   "outputs": [
    {
     "data": {
      "text/plain": [
       "0.8666666666666667"
      ]
     },
     "execution_count": 71,
     "metadata": {},
     "output_type": "execute_result"
    }
   ],
   "source": [
    "jf.jaro_distance(a,b)"
   ]
  },
  {
   "cell_type": "code",
   "execution_count": 72,
   "metadata": {
    "ExecuteTime": {
     "end_time": "2023-08-09T00:13:43.201139Z",
     "start_time": "2023-08-09T00:13:43.158193Z"
    },
    "hidden": true,
    "scrolled": true
   },
   "outputs": [],
   "source": [
    "nombres=pd.DataFrame(df[\"t_nombre_del_beneficiario\"].value_counts()).reset_index()\n",
    "\n",
    "nombres.columns=[\"nombre\",\"#\"]\n",
    "nombres=nombres[[\"nombre\"]]"
   ]
  },
  {
   "cell_type": "code",
   "execution_count": 74,
   "metadata": {
    "ExecuteTime": {
     "end_time": "2023-08-09T00:13:43.671881Z",
     "start_time": "2023-08-09T00:13:43.645610Z"
    },
    "hidden": true
   },
   "outputs": [],
   "source": [
    "nombres=list(df[\"t_nombre_del_beneficiario\"].value_counts().index)"
   ]
  },
  {
   "cell_type": "code",
   "execution_count": 75,
   "metadata": {
    "ExecuteTime": {
     "end_time": "2023-08-09T00:13:43.896863Z",
     "start_time": "2023-08-09T00:13:43.893754Z"
    },
    "hidden": true
   },
   "outputs": [
    {
     "data": {
      "text/plain": [
       "['brian alejandro franco ceja',\n",
       " 'erick eduardo guzman quezada',\n",
       " 'instituto tecnologico y de estudios superiores de occidente a c',\n",
       " 'francisco xavier valdes simancas',\n",
       " 'active financial sa de cv',\n",
       " 'maricela lopez cepeda',\n",
       " 'gerardo tornel leanos',\n",
       " 'eduardo arciniega vazquez',\n",
       " 'instituto superior autonomo de occidente a c',\n",
       " 'seerauber automotive de mexico sapi de c v',\n",
       " 'universidad de guadalajara',\n",
       " 'corporativo boro s a de c v',\n",
       " 'sistema tecnologico de jalisco a c',\n",
       " 'marcos andres ochoa molina',\n",
       " 'alexis izquierdo collins',\n",
       " 'consire s a de c v',\n",
       " 'mariana pieck lomeli',\n",
       " 'instituto tecnologico jose mario molina pasquel y henriquez',\n",
       " 'microalgas oleas de mexico s a de c v',\n",
       " '4 0 industrial cluster ac',\n",
       " 'katia saucedo fernandez',\n",
       " 'isaac jesus romero gonzalez',\n",
       " 'daniel aragon han',\n",
       " 'ruth araceli de celis carrillo',\n",
       " 'emergys mexico s a de c v',\n",
       " 'instituto tecnologico de estudios superiores de monterrey',\n",
       " 'ricardo mercado cortes',\n",
       " 'laboratorio futuro innovacion s a p i de c v',\n",
       " 'dennis sheridan plasencia',\n",
       " 'luis david aldas robles',\n",
       " 'compania power tools s a de c v',\n",
       " 'centros culturales de mexico a c',\n",
       " 'oracle de mexico s a de c v',\n",
       " 'active financial s a de c v',\n",
       " 'servando soto velasco',\n",
       " 'humberto gonzalez calleja',\n",
       " 'miriam alejandra carlos mancilla',\n",
       " 'complejo industrial rm s a de c v',\n",
       " 'nestor emmanuel diaz martinez',\n",
       " 'luis fernando luque vega',\n",
       " 'eslinga vikingo s a de c v',\n",
       " 'gyroscopik studios s a de c v',\n",
       " 'silvia maribel barcia tapia',\n",
       " 'logica global positioning system s a de c v',\n",
       " 'cclp s a de c v',\n",
       " 'it consultant s c',\n",
       " 'sociedad latinoamericana de ciencia y tecnologia aplicada ac',\n",
       " 'universidad tecnologica de jalisco',\n",
       " 'camara nacional de la industria electronica de telecomunicaciones y tecnologias de la informacion delegacion regional occidente',\n",
       " 'jorge manuel ortega ibarra',\n",
       " 'jocelyn maira velazquez hernandez',\n",
       " 'grupo kantesa de mexico s a de c v',\n",
       " 'continental automotive guadalajara mexico sa de cv',\n",
       " 'soluciones kenko s a de c v',\n",
       " 'luisa edurne ortega silva',\n",
       " 'camara de la industria alimenticia de jalisco',\n",
       " 'hidro plata s a de c v',\n",
       " 'jorge rodrigo sanchez sanchez',\n",
       " 'emmanuel lopez neri',\n",
       " 'jorge alberto cardenas magana',\n",
       " 'biomentum s a p i de c v',\n",
       " 'francisco javier luis juan barragan mario molina',\n",
       " '4 0 industrial cluster a c',\n",
       " 'unosquare s a de c v',\n",
       " 'intel tecnologia de mexico s a de c v',\n",
       " 'julio cesar chavez novoa',\n",
       " 'frg internacional s de r l de c v',\n",
       " 'productos sane de chapala s a de c v',\n",
       " 'centro de innovacion ciencia y tecnologia jalisco a c',\n",
       " 'sociedad latinoamericana de ciencia y tecnologia aplicada a c',\n",
       " 'roberto ibarra rabadan',\n",
       " 'emmanuel vega negrete mario molina',\n",
       " 'consejo promotor de la innovacion y el diseno jalisco a c',\n",
       " 'piensa tepa sc',\n",
       " 'omar ricardo fonseca cervantes',\n",
       " 'im master capital s a p i s a de c v',\n",
       " 'eduardo jacobo arroyo',\n",
       " 'sanmina sci systems de mexico s a de c v',\n",
       " 'centro de ensenanza tecnica industrial',\n",
       " 'tecnologia y productos biomedicos de occidente s a de c v',\n",
       " 'repstronics s a de c v',\n",
       " 'fleximatic s a de c v',\n",
       " 'instituto ciatt s c',\n",
       " 'sferp s c',\n",
       " 'geraldina vega gamboa']"
      ]
     },
     "execution_count": 75,
     "metadata": {},
     "output_type": "execute_result"
    }
   ],
   "source": [
    "nombres"
   ]
  },
  {
   "cell_type": "markdown",
   "metadata": {
    "heading_collapsed": true
   },
   "source": [
    "####   <span style=\"background:#e1d486\"> DUPLICIDAD EN NOMBRES </span> "
   ]
  },
  {
   "cell_type": "code",
   "execution_count": 76,
   "metadata": {
    "ExecuteTime": {
     "end_time": "2023-08-09T00:13:54.263790Z",
     "start_time": "2023-08-09T00:13:54.260322Z"
    },
    "hidden": true
   },
   "outputs": [],
   "source": [
    "def diff_nombres(texto,nombres):\n",
    "    nombres=list(filter(lambda x:x!=texto,nombres))\n",
    "    diff=[jf.levenshtein_distance(x,str(texto)) for x in nombres]\n",
    "  \n",
    "    if len(diff)>0:\n",
    "        similitud=nombres[diff.index(min(diff))]\n",
    "\n",
    "    else:\n",
    "        similitud=\"\"\n",
    "    return [similitud,min(diff)]\n"
   ]
  },
  {
   "cell_type": "code",
   "execution_count": 77,
   "metadata": {
    "ExecuteTime": {
     "end_time": "2023-08-09T00:15:33.989124Z",
     "start_time": "2023-08-09T00:13:54.550907Z"
    },
    "hidden": true
   },
   "outputs": [],
   "source": [
    "df[\"t_nombre_del_beneficiario_lev_dist\"]=df[\"t_nombre_del_beneficiario\"].map(lambda x:diff_nombres(x,nombres))"
   ]
  },
  {
   "cell_type": "code",
   "execution_count": 78,
   "metadata": {
    "ExecuteTime": {
     "end_time": "2023-08-09T00:15:34.135237Z",
     "start_time": "2023-08-09T00:15:34.027521Z"
    },
    "hidden": true
   },
   "outputs": [
    {
     "data": {
      "text/plain": [
       "15    83738\n",
       "17    65542\n",
       "12    61887\n",
       "13    58251\n",
       "14    47321\n",
       "19    43692\n",
       "18    40055\n",
       "11    36410\n",
       "16    29122\n",
       "2     25486\n",
       "9     25482\n",
       "27    21841\n",
       "20    18208\n",
       "1     18207\n",
       "6     18205\n",
       "24    14565\n",
       "10    10920\n",
       "29    10919\n",
       "21     7281\n",
       "30     7279\n",
       "26     3641\n",
       "82     3641\n",
       "28     3640\n",
       "Name: t_nombre_del_beneficiario_lev_dist, dtype: int64"
      ]
     },
     "execution_count": 78,
     "metadata": {},
     "output_type": "execute_result"
    }
   ],
   "source": [
    "df[\"t_nombre_del_beneficiario_lev_dist\"].map(lambda x:x[1]).value_counts()"
   ]
  },
  {
   "cell_type": "code",
   "execution_count": 79,
   "metadata": {
    "ExecuteTime": {
     "end_time": "2023-08-09T00:15:34.323027Z",
     "start_time": "2023-08-09T00:15:34.173124Z"
    },
    "hidden": true,
    "scrolled": true
   },
   "outputs": [
    {
     "data": {
      "text/plain": [
       "active financial sa de cv                                        18207\n",
       "4 0 industrial cluster ac                                         7285\n",
       "active financial s a de c v                                       7279\n",
       "sociedad latinoamericana de ciencia y tecnologia aplicada ac      3642\n",
       "sociedad latinoamericana de ciencia y tecnologia aplicada a c     3640\n",
       "4 0 industrial cluster a c                                        3640\n",
       "Name: t_nombre_del_beneficiario, dtype: int64"
      ]
     },
     "execution_count": 79,
     "metadata": {},
     "output_type": "execute_result"
    }
   ],
   "source": [
    "df[df[\"t_nombre_del_beneficiario_lev_dist\"].map(lambda x:x[1]<5)][\"t_nombre_del_beneficiario\"].value_counts()"
   ]
  },
  {
   "cell_type": "code",
   "execution_count": 80,
   "metadata": {
    "ExecuteTime": {
     "end_time": "2023-08-09T00:15:34.443730Z",
     "start_time": "2023-08-09T00:15:34.362711Z"
    },
    "hidden": true
   },
   "outputs": [
    {
     "data": {
      "text/plain": [
       "active financial s a de c v                                      18207\n",
       "4 0 industrial cluster a c                                        7285\n",
       "active financial sa de cv                                         7279\n",
       "sociedad latinoamericana de ciencia y tecnologia aplicada a c     3642\n",
       "sociedad latinoamericana de ciencia y tecnologia aplicada ac      3640\n",
       "4 0 industrial cluster ac                                         3640\n",
       "Name: t_nombre_del_beneficiario_lev_dist, dtype: int64"
      ]
     },
     "execution_count": 80,
     "metadata": {},
     "output_type": "execute_result"
    }
   ],
   "source": [
    "df[df[\"t_nombre_del_beneficiario_lev_dist\"].map(lambda x:x[1]<5)][\"t_nombre_del_beneficiario_lev_dist\"].map(lambda x:x[0]).value_counts()"
   ]
  },
  {
   "cell_type": "code",
   "execution_count": 81,
   "metadata": {
    "ExecuteTime": {
     "end_time": "2023-08-09T00:15:34.485321Z",
     "start_time": "2023-08-09T00:15:34.483621Z"
    },
    "hidden": true
   },
   "outputs": [],
   "source": [
    "dictio_nombres=dict(zip(['active financial sa de cv', '4 0 industrial cluster ac',\n",
    "       'active financial s a de c v',\n",
    "       'sociedad latinoamericana de ciencia y tecnologia aplicada ac',\n",
    "       'sociedad latinoamericana de ciencia y tecnologia aplicada a c',\n",
    "       '4 0 industrial cluster a c'],['active financial s a de c v', '4 0 industrial cluster a c',\n",
    "       'active financial sa de cv',\n",
    "       'sociedad latinoamericana de ciencia y tecnologia aplicada a c',\n",
    "       'sociedad latinoamericana de ciencia y tecnologia aplicada ac',\n",
    "       '4 0 industrial cluster ac']))"
   ]
  },
  {
   "cell_type": "code",
   "execution_count": 82,
   "metadata": {
    "ExecuteTime": {
     "end_time": "2023-08-09T00:15:34.690509Z",
     "start_time": "2023-08-09T00:15:34.522550Z"
    },
    "hidden": true,
    "id": "Ipgt6XTJHaBA",
    "outputId": "888e5009-10ef-4de0-ec7b-c61b030bc849"
   },
   "outputs": [],
   "source": [
    "df[\"t_nombre_del_beneficiario\"]=df[\"t_nombre_del_beneficiario\"].replace(dictio_nombres)"
   ]
  },
  {
   "cell_type": "code",
   "execution_count": 83,
   "metadata": {
    "ExecuteTime": {
     "end_time": "2023-08-09T00:15:34.781633Z",
     "start_time": "2023-08-09T00:15:34.728444Z"
    },
    "hidden": true
   },
   "outputs": [],
   "source": [
    "df=df.drop(columns=[\"t_nombre_del_beneficiario_lev_dist\"])"
   ]
  },
  {
   "cell_type": "code",
   "execution_count": null,
   "metadata": {
    "hidden": true
   },
   "outputs": [],
   "source": []
  },
  {
   "cell_type": "markdown",
   "metadata": {
    "ExecuteTime": {
     "end_time": "2021-05-13T20:57:49.131610Z",
     "start_time": "2021-05-13T20:57:47.997610Z"
    },
    "heading_collapsed": true,
    "id": "oGoZVexoHaBB"
   },
   "source": [
    "####  <span style=\"background:#e1d486\"> LIMPIEZA \"NOMBRE DEL PROYECTO\"  </span> "
   ]
  },
  {
   "cell_type": "code",
   "execution_count": 84,
   "metadata": {
    "ExecuteTime": {
     "end_time": "2023-08-09T00:15:34.822142Z",
     "start_time": "2023-08-09T00:15:34.819500Z"
    },
    "hidden": true,
    "id": "c4APAwnUHaBB",
    "outputId": "00c37c81-141a-4371-ca48-c6bc173fba27"
   },
   "outputs": [
    {
     "data": {
      "text/plain": [
       "0         MX - SISTEMA MECATRÓNICO PARA EL CONTROL DE IN...\n",
       "1         PCT - SISTEMA MECATRÓNICO PARA EL CONTROL DE I...\n",
       "2         MX-EMPAQUE CÓNICO PARA LA CONEXIÓN \\nDE MANGUE...\n",
       "3              MX-PASTA BIODEGRADABLE PARA USOS MÚLTIPLES\\n\n",
       "4         DISPOSITIVO PERSONAL DE COMUNICACIÓN REMOTA PA...\n",
       "                                ...                        \n",
       "655328    Dispositivo de prototipo de gravedad cero para...\n",
       "655329    Desarrollo tecnológico de un prototipo de bebi...\n",
       "655330    Piloto de filtración tangencial para purificac...\n",
       "655331    Máquina tribológica para medir el desgaste en ...\n",
       "655332    Interfaz USB Aislada para Conexión de Instrume...\n",
       "Name: t_nombre_del_proyecto, Length: 655333, dtype: object"
      ]
     },
     "execution_count": 84,
     "metadata": {},
     "output_type": "execute_result"
    }
   ],
   "source": [
    "df[\"t_nombre_del_proyecto\"]"
   ]
  },
  {
   "cell_type": "code",
   "execution_count": 85,
   "metadata": {
    "ExecuteTime": {
     "end_time": "2023-08-09T00:15:37.373804Z",
     "start_time": "2023-08-09T00:15:34.857581Z"
    },
    "hidden": true,
    "id": "CnI650W5HaBC"
   },
   "outputs": [],
   "source": [
    "df[\"t_nombre_del_proyecto\"]=df[\"t_nombre_del_proyecto\"].map(lambda x:clean_text(x.lower()).strip().replace(\"\\n\",\"\"))"
   ]
  },
  {
   "cell_type": "code",
   "execution_count": 86,
   "metadata": {
    "ExecuteTime": {
     "end_time": "2023-08-09T00:15:37.464802Z",
     "start_time": "2023-08-09T00:15:37.410852Z"
    },
    "hidden": true,
    "id": "cWTOdiKaHaBC",
    "outputId": "27e3a5b1-e93e-4963-8ba9-85fbc5678519"
   },
   "outputs": [
    {
     "data": {
      "text/plain": [
       "modelo industrial de mueble                                                                                                     29121\n",
       "modelo industrial de una base cuadrada para mesa                                                                                18210\n",
       "modelo industrial de una base para mesa                                                                                         14557\n",
       "modelo industrial de una base rectangular para mesa                                                                             10923\n",
       "dispositivo para calibrar los parametros de un generador de senales electronicas                                                 7281\n",
       "                                                                                                                                ...  \n",
       "3er encuentro de investigacion en comportamiento y salud                                                                         3638\n",
       "simposio de cianobacterias y cianotoxinas impacto ambiental implicaciones en salud publica y potencial biofarmaceutico           3638\n",
       "pct sistema de ensamble para muebles y estructuras armables desarmables                                                          3638\n",
       "fortalecimiento del ecosistema de innovacion ciencia y tecnologia a traves de la red epicentro 2018                              3638\n",
       "prototipo de bioestimulante agricola a base de la cianobacteria nostoc sp y su validacion in vivo sobre plantulas de berries     3637\n",
       "Name: t_nombre_del_proyecto, Length: 162, dtype: int64"
      ]
     },
     "execution_count": 86,
     "metadata": {},
     "output_type": "execute_result"
    }
   ],
   "source": [
    "df[\"t_nombre_del_proyecto\"].value_counts()"
   ]
  },
  {
   "cell_type": "markdown",
   "metadata": {
    "ExecuteTime": {
     "end_time": "2021-05-13T20:57:52.721677Z",
     "start_time": "2021-05-13T20:57:52.524389Z"
    },
    "heading_collapsed": true,
    "id": "tazBqt9mHaBD"
   },
   "source": [
    "####  <span style=\"background:#e1d486\"> LIMPIEZA \"PROGRAMA FONDO\"  </span> "
   ]
  },
  {
   "cell_type": "code",
   "execution_count": 87,
   "metadata": {
    "ExecuteTime": {
     "end_time": "2023-08-09T00:15:39.585207Z",
     "start_time": "2023-08-09T00:15:37.498867Z"
    },
    "hidden": true,
    "id": "f1cZStU9HaBD"
   },
   "outputs": [],
   "source": [
    "df[\"t_programa_fondo\"]=df[\"t_programa_fondo\"].map(lambda x:clean_text(x.lower()).strip().replace(\"\\n\",\"\"))"
   ]
  },
  {
   "cell_type": "code",
   "execution_count": 88,
   "metadata": {
    "ExecuteTime": {
     "end_time": "2023-08-09T00:15:39.663358Z",
     "start_time": "2023-08-09T00:15:39.622613Z"
    },
    "hidden": true,
    "id": "5WQ2JmSCHaBE",
    "outputId": "2bee8ab6-a478-4db1-8c5a-d3ee2367e060"
   },
   "outputs": [
    {
     "data": {
      "text/plain": [
       "programa jalisciense de fomento a la propiedad intelectual propin 2018                                                                                                     356813\n",
       "programa para el fomento de recursos humanos de alto nivel becas singularity mexico summit 2018                                                                             69180\n",
       "programa estatal para el desarrollo de la industria del sofware jalisco 2018                                                                                                65526\n",
       "programa de difusion y divulgacion de la ciencia tecnologia e innovacion dyd jalisco 2018                                                                                   61885\n",
       "programa de desarrollo de prototipos 2018                                                                                                                                   58248\n",
       "programa de difusion y divulgacion de la ciencia tecnologia e innovacion para la administracion y otorgamiento de becas para asistir al evento talend land jalisco 2018     18201\n",
       "programa de incorporacion de maestros y doctores en la industria para fomentar la competitividad y la innovacion jalisco 2018                                               10921\n",
       "programa cluster de ciencia tecnologia e innovacion 2018                                                                                                                     3642\n",
       "programa de difusion y divulgacion de impulso a la innovacion en la ninez y juventud jalisco 2018                                                                            3640\n",
       "programa de formacion de desarrollo de competencias para la innovacion tecnologica de maestros y doctores 2018                                                               3639\n",
       "programa de difusion y divulgacion de la innovacion social y tecnologica 2018                                                                                                3638\n",
       "Name: t_programa_fondo, dtype: int64"
      ]
     },
     "execution_count": 88,
     "metadata": {},
     "output_type": "execute_result"
    }
   ],
   "source": [
    "df[\"t_programa_fondo\"].value_counts()"
   ]
  },
  {
   "cell_type": "code",
   "execution_count": 89,
   "metadata": {
    "ExecuteTime": {
     "end_time": "2023-08-09T00:15:39.707265Z",
     "start_time": "2023-08-09T00:15:39.699621Z"
    },
    "hidden": true,
    "id": "hZGhQTluHaBE",
    "outputId": "b25cedfc-b61f-4eb3-b7af-87367cab925a"
   },
   "outputs": [
    {
     "data": {
      "text/html": [
       "<div>\n",
       "<style scoped>\n",
       "    .dataframe tbody tr th:only-of-type {\n",
       "        vertical-align: middle;\n",
       "    }\n",
       "\n",
       "    .dataframe tbody tr th {\n",
       "        vertical-align: top;\n",
       "    }\n",
       "\n",
       "    .dataframe thead th {\n",
       "        text-align: right;\n",
       "    }\n",
       "</style>\n",
       "<table border=\"1\" class=\"dataframe\">\n",
       "  <thead>\n",
       "    <tr style=\"text-align: right;\">\n",
       "      <th></th>\n",
       "      <th>c_edad</th>\n",
       "      <th>c_minutos</th>\n",
       "      <th>c_monto_de_apoyo</th>\n",
       "      <th>c_horas</th>\n",
       "      <th>v_ent_regis</th>\n",
       "      <th>v_mun_regis</th>\n",
       "      <th>v_ent_resid</th>\n",
       "      <th>v_mun_resid</th>\n",
       "      <th>v_ent_ocurr</th>\n",
       "      <th>v_mun_ocurr</th>\n",
       "      <th>v_sexo</th>\n",
       "      <th>v_ocupacion</th>\n",
       "      <th>v_edo_civil</th>\n",
       "      <th>v_lugar_ocur</th>\n",
       "      <th>v_sitio_ocur</th>\n",
       "      <th>v_nacionalid</th>\n",
       "      <th>v_grupo</th>\n",
       "      <th>v_lengua</th>\n",
       "      <th>v_clave</th>\n",
       "      <th>v_escolarida</th>\n",
       "      <th>d_fecha_nac</th>\n",
       "      <th>d_fecha_ocurr</th>\n",
       "      <th>t_programa_fondo</th>\n",
       "      <th>t_nombre_del_proyecto</th>\n",
       "      <th>t_nombre_del_beneficiario</th>\n",
       "      <th>c_salario</th>\n",
       "    </tr>\n",
       "  </thead>\n",
       "  <tbody>\n",
       "    <tr>\n",
       "      <th>0</th>\n",
       "      <td>4069</td>\n",
       "      <td>27</td>\n",
       "      <td>NaN</td>\n",
       "      <td>16</td>\n",
       "      <td>1.0</td>\n",
       "      <td>1</td>\n",
       "      <td>1</td>\n",
       "      <td>1</td>\n",
       "      <td>NaN</td>\n",
       "      <td>1</td>\n",
       "      <td>NaN</td>\n",
       "      <td>11</td>\n",
       "      <td>NaN</td>\n",
       "      <td>88</td>\n",
       "      <td>3</td>\n",
       "      <td>1</td>\n",
       "      <td>7</td>\n",
       "      <td>2.0</td>\n",
       "      <td>6343</td>\n",
       "      <td>1</td>\n",
       "      <td>1946-06-30</td>\n",
       "      <td>2015-05-25</td>\n",
       "      <td>programa jalisciense de fomento a la propiedad...</td>\n",
       "      <td>mx sistema mecatronico para el control de inve...</td>\n",
       "      <td>ricardo mercado cortes</td>\n",
       "      <td>2700</td>\n",
       "    </tr>\n",
       "    <tr>\n",
       "      <th>1</th>\n",
       "      <td>4093</td>\n",
       "      <td>0</td>\n",
       "      <td>31446.48</td>\n",
       "      <td>6</td>\n",
       "      <td>NaN</td>\n",
       "      <td>1</td>\n",
       "      <td>1</td>\n",
       "      <td>1</td>\n",
       "      <td>NaN</td>\n",
       "      <td>1</td>\n",
       "      <td>1</td>\n",
       "      <td>6</td>\n",
       "      <td>NaN</td>\n",
       "      <td>88</td>\n",
       "      <td>11</td>\n",
       "      <td>1</td>\n",
       "      <td>8</td>\n",
       "      <td>NaN</td>\n",
       "      <td>6344</td>\n",
       "      <td>3</td>\n",
       "      <td>1921-08-25</td>\n",
       "      <td>2015-09-26</td>\n",
       "      <td>programa jalisciense de fomento a la propiedad...</td>\n",
       "      <td>pct sistema mecatronico para el control de inv...</td>\n",
       "      <td>ricardo mercado cortes</td>\n",
       "      <td>0</td>\n",
       "    </tr>\n",
       "    <tr>\n",
       "      <th>2</th>\n",
       "      <td>4092</td>\n",
       "      <td>30</td>\n",
       "      <td>65673.63</td>\n",
       "      <td>16</td>\n",
       "      <td>1.0</td>\n",
       "      <td>1</td>\n",
       "      <td>1</td>\n",
       "      <td>1</td>\n",
       "      <td>NaN</td>\n",
       "      <td>1</td>\n",
       "      <td>1</td>\n",
       "      <td>7</td>\n",
       "      <td>NaN</td>\n",
       "      <td>88</td>\n",
       "      <td>11</td>\n",
       "      <td>1</td>\n",
       "      <td>2</td>\n",
       "      <td>NaN</td>\n",
       "      <td>6345</td>\n",
       "      <td>3</td>\n",
       "      <td>1922-06-12</td>\n",
       "      <td>2015-12-14</td>\n",
       "      <td>programa jalisciense de fomento a la propiedad...</td>\n",
       "      <td>mx empaque conico para la conexion de manguera...</td>\n",
       "      <td>corporativo boro s a de c v</td>\n",
       "      <td>3000</td>\n",
       "    </tr>\n",
       "    <tr>\n",
       "      <th>3</th>\n",
       "      <td>4047</td>\n",
       "      <td>58</td>\n",
       "      <td>Sistema Tecnológico de Jalisco, A.C.</td>\n",
       "      <td>3</td>\n",
       "      <td>NaN</td>\n",
       "      <td>1</td>\n",
       "      <td>1</td>\n",
       "      <td>1</td>\n",
       "      <td>NaN</td>\n",
       "      <td>1</td>\n",
       "      <td>Sistema Tecnológico de Jalisco, A.C.</td>\n",
       "      <td>7</td>\n",
       "      <td>NaN</td>\n",
       "      <td>88</td>\n",
       "      <td>9</td>\n",
       "      <td>1</td>\n",
       "      <td>13</td>\n",
       "      <td>1.0</td>\n",
       "      <td>6346</td>\n",
       "      <td>6</td>\n",
       "      <td>1967-08-28</td>\n",
       "      <td>2015-01-03</td>\n",
       "      <td>programa jalisciense de fomento a la propiedad...</td>\n",
       "      <td>mx pasta biodegradable para usos multiples</td>\n",
       "      <td>corporativo boro s a de c v</td>\n",
       "      <td>5800</td>\n",
       "    </tr>\n",
       "    <tr>\n",
       "      <th>4</th>\n",
       "      <td>4040</td>\n",
       "      <td>50</td>\n",
       "      <td>30254.04</td>\n",
       "      <td>6</td>\n",
       "      <td>1.0</td>\n",
       "      <td>1</td>\n",
       "      <td>1</td>\n",
       "      <td>1</td>\n",
       "      <td>NaN</td>\n",
       "      <td>1</td>\n",
       "      <td>2</td>\n",
       "      <td>11</td>\n",
       "      <td>NaN</td>\n",
       "      <td>88</td>\n",
       "      <td>1</td>\n",
       "      <td>1</td>\n",
       "      <td>7</td>\n",
       "      <td>NaN</td>\n",
       "      <td>6364</td>\n",
       "      <td>4</td>\n",
       "      <td>1974-12-17</td>\n",
       "      <td>2015-07-16</td>\n",
       "      <td>programa jalisciense de fomento a la propiedad...</td>\n",
       "      <td>dispositivo personal de comunicacion remota pa...</td>\n",
       "      <td>geraldina vega gamboa</td>\n",
       "      <td>5000</td>\n",
       "    </tr>\n",
       "  </tbody>\n",
       "</table>\n",
       "</div>"
      ],
      "text/plain": [
       "   c_edad  c_minutos                      c_monto_de_apoyo  c_horas  \\\n",
       "0    4069         27                                   NaN       16   \n",
       "1    4093          0                              31446.48        6   \n",
       "2    4092         30                              65673.63       16   \n",
       "3    4047         58  Sistema Tecnológico de Jalisco, A.C.        3   \n",
       "4    4040         50                              30254.04        6   \n",
       "\n",
       "   v_ent_regis  v_mun_regis  v_ent_resid  v_mun_resid  v_ent_ocurr  \\\n",
       "0          1.0            1            1            1          NaN   \n",
       "1          NaN            1            1            1          NaN   \n",
       "2          1.0            1            1            1          NaN   \n",
       "3          NaN            1            1            1          NaN   \n",
       "4          1.0            1            1            1          NaN   \n",
       "\n",
       "   v_mun_ocurr                                v_sexo  v_ocupacion  \\\n",
       "0            1                                   NaN           11   \n",
       "1            1                                     1            6   \n",
       "2            1                                     1            7   \n",
       "3            1  Sistema Tecnológico de Jalisco, A.C.            7   \n",
       "4            1                                     2           11   \n",
       "\n",
       "   v_edo_civil  v_lugar_ocur  v_sitio_ocur  v_nacionalid  v_grupo  v_lengua  \\\n",
       "0          NaN            88             3             1        7       2.0   \n",
       "1          NaN            88            11             1        8       NaN   \n",
       "2          NaN            88            11             1        2       NaN   \n",
       "3          NaN            88             9             1       13       1.0   \n",
       "4          NaN            88             1             1        7       NaN   \n",
       "\n",
       "   v_clave  v_escolarida d_fecha_nac d_fecha_ocurr  \\\n",
       "0     6343             1  1946-06-30    2015-05-25   \n",
       "1     6344             3  1921-08-25    2015-09-26   \n",
       "2     6345             3  1922-06-12    2015-12-14   \n",
       "3     6346             6  1967-08-28    2015-01-03   \n",
       "4     6364             4  1974-12-17    2015-07-16   \n",
       "\n",
       "                                    t_programa_fondo  \\\n",
       "0  programa jalisciense de fomento a la propiedad...   \n",
       "1  programa jalisciense de fomento a la propiedad...   \n",
       "2  programa jalisciense de fomento a la propiedad...   \n",
       "3  programa jalisciense de fomento a la propiedad...   \n",
       "4  programa jalisciense de fomento a la propiedad...   \n",
       "\n",
       "                               t_nombre_del_proyecto  \\\n",
       "0  mx sistema mecatronico para el control de inve...   \n",
       "1  pct sistema mecatronico para el control de inv...   \n",
       "2  mx empaque conico para la conexion de manguera...   \n",
       "3         mx pasta biodegradable para usos multiples   \n",
       "4  dispositivo personal de comunicacion remota pa...   \n",
       "\n",
       "     t_nombre_del_beneficiario  c_salario  \n",
       "0       ricardo mercado cortes       2700  \n",
       "1       ricardo mercado cortes          0  \n",
       "2  corporativo boro s a de c v       3000  \n",
       "3  corporativo boro s a de c v       5800  \n",
       "4        geraldina vega gamboa       5000  "
      ]
     },
     "execution_count": 89,
     "metadata": {},
     "output_type": "execute_result"
    }
   ],
   "source": [
    "df.head()"
   ]
  },
  {
   "cell_type": "code",
   "execution_count": 90,
   "metadata": {
    "ExecuteTime": {
     "end_time": "2023-08-09T00:15:39.745783Z",
     "start_time": "2023-08-09T00:15:39.743810Z"
    },
    "hidden": true,
    "id": "5lQfGHBMHaBF",
    "outputId": "69ee339a-5bbe-4d43-bb61-5cf46c1e9f21"
   },
   "outputs": [
    {
     "data": {
      "text/plain": [
       "(655333, 26)"
      ]
     },
     "execution_count": 90,
     "metadata": {},
     "output_type": "execute_result"
    }
   ],
   "source": [
    "df.shape"
   ]
  },
  {
   "cell_type": "markdown",
   "metadata": {
    "ExecuteTime": {
     "end_time": "2021-05-13T20:57:55.718907Z",
     "start_time": "2021-05-13T20:57:55.650707Z"
    },
    "id": "Ry6S1hvTHaBF"
   },
   "source": [
    "####  <span style=\"background:#e1d486\"> LIMPIEZA \"FECHA OCURRENCIA\"  </span> "
   ]
  },
  {
   "cell_type": "code",
   "execution_count": 91,
   "metadata": {
    "ExecuteTime": {
     "end_time": "2023-08-09T00:15:39.814335Z",
     "start_time": "2023-08-09T00:15:39.779558Z"
    },
    "id": "HB4j5-hAHaBG",
    "outputId": "5498e990-f65d-4188-f705-f6a2d592585c"
   },
   "outputs": [
    {
     "data": {
      "text/plain": [
       "0        2015-05-25\n",
       "1        2015-09-26\n",
       "2        2015-12-14\n",
       "3        2015-01-03\n",
       "4        2015-07-16\n",
       "            ...    \n",
       "655328   2015-10-28\n",
       "655329   2015-10-02\n",
       "655330   2015-10-06\n",
       "655331   2015-12-08\n",
       "655332   2015-06-04\n",
       "Name: d_fecha_ocurr, Length: 655333, dtype: datetime64[ns]"
      ]
     },
     "execution_count": 91,
     "metadata": {},
     "output_type": "execute_result"
    }
   ],
   "source": [
    "#dayfirst =True\n",
    "#yearfirst=True\n",
    "#format =\n",
    "#Formatos : https://stackabuse.com/how-to-format-dates-in-python/\n",
    "#Formatos : https://rico-schmidt.name/pymotw-3/datetime/\n",
    "pd.to_datetime(df[\"d_fecha_ocurr\"])"
   ]
  },
  {
   "cell_type": "markdown",
   "metadata": {},
   "source": [
    "#####  <span style=\"background:#e1d486\"> EJEMPLOS FORMATOS  </span> "
   ]
  },
  {
   "cell_type": "code",
   "execution_count": 92,
   "metadata": {
    "ExecuteTime": {
     "end_time": "2023-08-09T00:15:39.853982Z",
     "start_time": "2023-08-09T00:15:39.851213Z"
    },
    "id": "1Qhj8e_4HaBG",
    "outputId": "92cb5327-f4e4-4553-fb7a-a6db98fa9a29"
   },
   "outputs": [
    {
     "name": "stdout",
     "output_type": "stream",
     "text": [
      "ISO     : 2023-08-08 18:15:39.852173\n",
      "strftime: Tue Aug 08 18:15:39 2023\n",
      "strptime: Tue Aug 08 18:15:39 2023\n"
     ]
    }
   ],
   "source": [
    "#EJEMPLO FORMATOS\n",
    "import datetime\n",
    "#%a - 'Wed'\n",
    "#%b - \"May\" (nombre dle mes abreviado)\n",
    "#%d - '13' (día del mes)\n",
    "\n",
    "format = \"%a %b %d %H:%M:%S %Y\"\n",
    "\n",
    "today = datetime.datetime.today()\n",
    "print('ISO     :', today)\n",
    "\n",
    "s = today.strftime(format)\n",
    "print('strftime:', s)\n",
    "\n",
    "d = datetime.datetime.strptime(s, format)\n",
    "print('strptime:', d.strftime(format))"
   ]
  },
  {
   "cell_type": "code",
   "execution_count": 93,
   "metadata": {
    "ExecuteTime": {
     "end_time": "2023-08-09T00:15:39.891345Z",
     "start_time": "2023-08-09T00:15:39.888330Z"
    },
    "id": "HQsWKO3NHaBH",
    "outputId": "b0d562f5-b8c5-4083-c6d8-9d9aa1837075"
   },
   "outputs": [
    {
     "data": {
      "text/plain": [
       "Timestamp('2015-05-25 13:54:12')"
      ]
     },
     "execution_count": 93,
     "metadata": {},
     "output_type": "execute_result"
    }
   ],
   "source": [
    "pd.to_datetime(\"2015-May-25 13:54:12\",format=\"%Y-%b-%d %H:%M:%S\")"
   ]
  },
  {
   "cell_type": "code",
   "execution_count": 94,
   "metadata": {
    "ExecuteTime": {
     "end_time": "2023-08-09T00:15:39.932195Z",
     "start_time": "2023-08-09T00:15:39.929857Z"
    },
    "id": "zMoz9pjqHaBI",
    "outputId": "933d5d16-1b36-4bd2-ba8f-b51d1326f4c8"
   },
   "outputs": [
    {
     "data": {
      "text/plain": [
       "NaT"
      ]
     },
     "execution_count": 94,
     "metadata": {},
     "output_type": "execute_result"
    }
   ],
   "source": [
    "pd.to_datetime(\"2015-Maay-25 13:54:12\",format=\"%Y-%b-%d %H:%M:%S\",errors=\"coerce\")"
   ]
  },
  {
   "cell_type": "code",
   "execution_count": 95,
   "metadata": {
    "ExecuteTime": {
     "end_time": "2023-08-09T00:15:39.972811Z",
     "start_time": "2023-08-09T00:15:39.970690Z"
    },
    "id": "IwdIu12-HaBI",
    "outputId": "caba5c6a-8df4-4ebf-8ada-db17158493d5"
   },
   "outputs": [
    {
     "data": {
      "text/plain": [
       "'2015-Maay-25 13:54:12'"
      ]
     },
     "execution_count": 95,
     "metadata": {},
     "output_type": "execute_result"
    }
   ],
   "source": [
    "pd.to_datetime(\"2015-Maay-25 13:54:12\",format=\"%Y-%b-%d %H:%M:%S\",errors=\"ignore\")"
   ]
  },
  {
   "cell_type": "code",
   "execution_count": 96,
   "metadata": {
    "ExecuteTime": {
     "end_time": "2023-08-09T00:15:40.033699Z",
     "start_time": "2023-08-09T00:15:40.007247Z"
    }
   },
   "outputs": [
    {
     "data": {
      "text/plain": [
       "2015-09-13    2022\n",
       "2015-08-27    2021\n",
       "2015-02-04    2019\n",
       "2015-07-12    2009\n",
       "2015-04-09    2003\n",
       "              ... \n",
       "2007-02-04       1\n",
       "2007-05-25       1\n",
       "2010-06-11       1\n",
       "2010-10-24       1\n",
       "2005-11-07       1\n",
       "Name: d_fecha_ocurr, Length: 1922, dtype: int64"
      ]
     },
     "execution_count": 96,
     "metadata": {},
     "output_type": "execute_result"
    }
   ],
   "source": [
    "df[\"d_fecha_ocurr\"].value_counts()"
   ]
  },
  {
   "cell_type": "code",
   "execution_count": 97,
   "metadata": {
    "ExecuteTime": {
     "end_time": "2023-08-09T00:15:40.113187Z",
     "start_time": "2023-08-09T00:15:40.071295Z"
    },
    "id": "W6w8F2FxHaBJ"
   },
   "outputs": [],
   "source": [
    "df[\"d_fecha_ocurr\"]=pd.to_datetime(df[\"d_fecha_ocurr\"],format=\"%Y-%m-%d\")"
   ]
  },
  {
   "cell_type": "markdown",
   "metadata": {
    "id": "j0JX8vxHHaBJ"
   },
   "source": [
    "#####  <span style=\"background:#e1d486\"> LIMPIEZA \"FECHA OCURRENCIA\" - OPCION 1  </span> "
   ]
  },
  {
   "cell_type": "code",
   "execution_count": 98,
   "metadata": {
    "ExecuteTime": {
     "end_time": "2023-08-09T00:15:40.530558Z",
     "start_time": "2023-08-09T00:15:40.151804Z"
    },
    "id": "sbsL_TBUHaBK",
    "outputId": "a1c6d822-7afa-45e4-8e57-856de27e38bc",
    "scrolled": true
   },
   "outputs": [
    {
     "data": {
      "text/html": [
       "<div>\n",
       "<style scoped>\n",
       "    .dataframe tbody tr th:only-of-type {\n",
       "        vertical-align: middle;\n",
       "    }\n",
       "\n",
       "    .dataframe tbody tr th {\n",
       "        vertical-align: top;\n",
       "    }\n",
       "\n",
       "    .dataframe thead th {\n",
       "        text-align: right;\n",
       "    }\n",
       "</style>\n",
       "<table border=\"1\" class=\"dataframe\">\n",
       "  <thead>\n",
       "    <tr style=\"text-align: right;\">\n",
       "      <th></th>\n",
       "      <th>c_edad</th>\n",
       "      <th>c_minutos</th>\n",
       "      <th>c_monto_de_apoyo</th>\n",
       "      <th>c_horas</th>\n",
       "      <th>v_ent_regis</th>\n",
       "      <th>v_mun_regis</th>\n",
       "      <th>v_ent_resid</th>\n",
       "      <th>v_mun_resid</th>\n",
       "      <th>v_ent_ocurr</th>\n",
       "      <th>v_mun_ocurr</th>\n",
       "      <th>v_sexo</th>\n",
       "      <th>v_ocupacion</th>\n",
       "      <th>v_edo_civil</th>\n",
       "      <th>v_lugar_ocur</th>\n",
       "      <th>v_sitio_ocur</th>\n",
       "      <th>v_nacionalid</th>\n",
       "      <th>v_grupo</th>\n",
       "      <th>v_lengua</th>\n",
       "      <th>v_clave</th>\n",
       "      <th>v_escolarida</th>\n",
       "      <th>d_fecha_nac</th>\n",
       "      <th>d_fecha_ocurr</th>\n",
       "      <th>t_programa_fondo</th>\n",
       "      <th>t_nombre_del_proyecto</th>\n",
       "      <th>t_nombre_del_beneficiario</th>\n",
       "      <th>c_salario</th>\n",
       "    </tr>\n",
       "  </thead>\n",
       "  <tbody>\n",
       "    <tr>\n",
       "      <th>345</th>\n",
       "      <td>4061</td>\n",
       "      <td>34</td>\n",
       "      <td>1020000.0</td>\n",
       "      <td>15</td>\n",
       "      <td>1.0</td>\n",
       "      <td>1</td>\n",
       "      <td>1</td>\n",
       "      <td>1</td>\n",
       "      <td>NaN</td>\n",
       "      <td>1</td>\n",
       "      <td>1</td>\n",
       "      <td>11</td>\n",
       "      <td>NaN</td>\n",
       "      <td>88</td>\n",
       "      <td>3</td>\n",
       "      <td>1</td>\n",
       "      <td>4</td>\n",
       "      <td>NaN</td>\n",
       "      <td>6434</td>\n",
       "      <td>3</td>\n",
       "      <td>1953-08-05</td>\n",
       "      <td>2015-05-14</td>\n",
       "      <td>programa estatal para el desarrollo de la indu...</td>\n",
       "      <td>desarrollo e implementacion de un sistema cola...</td>\n",
       "      <td>frg internacional s de r l de c v</td>\n",
       "      <td>3400</td>\n",
       "    </tr>\n",
       "    <tr>\n",
       "      <th>468</th>\n",
       "      <td>4090</td>\n",
       "      <td>30</td>\n",
       "      <td>157250.0</td>\n",
       "      <td>20</td>\n",
       "      <td>NaN</td>\n",
       "      <td>1</td>\n",
       "      <td>1</td>\n",
       "      <td>1</td>\n",
       "      <td>NaN</td>\n",
       "      <td>1</td>\n",
       "      <td>2</td>\n",
       "      <td>11</td>\n",
       "      <td>NaN</td>\n",
       "      <td>88</td>\n",
       "      <td>11</td>\n",
       "      <td>1</td>\n",
       "      <td>4</td>\n",
       "      <td>NaN</td>\n",
       "      <td>6731</td>\n",
       "      <td>1</td>\n",
       "      <td>1924-12-13</td>\n",
       "      <td>2015-03-22</td>\n",
       "      <td>programa para el fomento de recursos humanos d...</td>\n",
       "      <td>becas singularity u mexico summit iteso 2018</td>\n",
       "      <td>instituto tecnologico y de estudios superiores...</td>\n",
       "      <td>3000</td>\n",
       "    </tr>\n",
       "    <tr>\n",
       "      <th>505</th>\n",
       "      <td>4080</td>\n",
       "      <td>0</td>\n",
       "      <td>74000.0</td>\n",
       "      <td>21</td>\n",
       "      <td>1.0</td>\n",
       "      <td>7</td>\n",
       "      <td>1</td>\n",
       "      <td>7</td>\n",
       "      <td>NaN</td>\n",
       "      <td>7</td>\n",
       "      <td>1</td>\n",
       "      <td>6</td>\n",
       "      <td>NaN</td>\n",
       "      <td>88</td>\n",
       "      <td>11</td>\n",
       "      <td>1</td>\n",
       "      <td>2</td>\n",
       "      <td>2.0</td>\n",
       "      <td>6423</td>\n",
       "      <td>3</td>\n",
       "      <td>1934-10-27</td>\n",
       "      <td>2015-12-28</td>\n",
       "      <td>programa de difusion y divulgacion de la cienc...</td>\n",
       "      <td>participacion como expositor en el 41 congreso...</td>\n",
       "      <td>tecnologia y productos biomedicos de occidente...</td>\n",
       "      <td>0</td>\n",
       "    </tr>\n",
       "    <tr>\n",
       "      <th>520</th>\n",
       "      <td>2001</td>\n",
       "      <td>0</td>\n",
       "      <td>120000.0</td>\n",
       "      <td>2</td>\n",
       "      <td>NaN</td>\n",
       "      <td>8</td>\n",
       "      <td>1</td>\n",
       "      <td>8</td>\n",
       "      <td>NaN</td>\n",
       "      <td>6</td>\n",
       "      <td>2</td>\n",
       "      <td>97</td>\n",
       "      <td>NaN</td>\n",
       "      <td>88</td>\n",
       "      <td>1</td>\n",
       "      <td>1</td>\n",
       "      <td>4</td>\n",
       "      <td>NaN</td>\n",
       "      <td>6790</td>\n",
       "      <td>88</td>\n",
       "      <td>2015-05-05</td>\n",
       "      <td>2015-09-08</td>\n",
       "      <td>programa de incorporacion de maestros y doctor...</td>\n",
       "      <td>incrementar productividad con uso de tecnologi...</td>\n",
       "      <td>omar ricardo fonseca cervantes</td>\n",
       "      <td>0</td>\n",
       "    </tr>\n",
       "    <tr>\n",
       "      <th>576</th>\n",
       "      <td>4097</td>\n",
       "      <td>0</td>\n",
       "      <td>12254.04</td>\n",
       "      <td>16</td>\n",
       "      <td>NaN</td>\n",
       "      <td>1</td>\n",
       "      <td>1</td>\n",
       "      <td>1</td>\n",
       "      <td>NaN</td>\n",
       "      <td>1</td>\n",
       "      <td>1</td>\n",
       "      <td>9</td>\n",
       "      <td>NaN</td>\n",
       "      <td>88</td>\n",
       "      <td>1</td>\n",
       "      <td>1</td>\n",
       "      <td>3</td>\n",
       "      <td>2.0</td>\n",
       "      <td>6491</td>\n",
       "      <td>3</td>\n",
       "      <td>1917-04-14</td>\n",
       "      <td>2015-02-20</td>\n",
       "      <td>programa jalisciense de fomento a la propiedad...</td>\n",
       "      <td>modelo industrial de una base para mesa</td>\n",
       "      <td>brian alejandro franco ceja</td>\n",
       "      <td>0</td>\n",
       "    </tr>\n",
       "    <tr>\n",
       "      <th>...</th>\n",
       "      <td>...</td>\n",
       "      <td>...</td>\n",
       "      <td>...</td>\n",
       "      <td>...</td>\n",
       "      <td>...</td>\n",
       "      <td>...</td>\n",
       "      <td>...</td>\n",
       "      <td>...</td>\n",
       "      <td>...</td>\n",
       "      <td>...</td>\n",
       "      <td>...</td>\n",
       "      <td>...</td>\n",
       "      <td>...</td>\n",
       "      <td>...</td>\n",
       "      <td>...</td>\n",
       "      <td>...</td>\n",
       "      <td>...</td>\n",
       "      <td>...</td>\n",
       "      <td>...</td>\n",
       "      <td>...</td>\n",
       "      <td>...</td>\n",
       "      <td>...</td>\n",
       "      <td>...</td>\n",
       "      <td>...</td>\n",
       "      <td>...</td>\n",
       "      <td>...</td>\n",
       "    </tr>\n",
       "    <tr>\n",
       "      <th>655328</th>\n",
       "      <td>4043</td>\n",
       "      <td>20</td>\n",
       "      <td>157140.0</td>\n",
       "      <td>0</td>\n",
       "      <td>32.0</td>\n",
       "      <td>56</td>\n",
       "      <td>32</td>\n",
       "      <td>999</td>\n",
       "      <td>NaN</td>\n",
       "      <td>56</td>\n",
       "      <td>2</td>\n",
       "      <td>11</td>\n",
       "      <td>NaN</td>\n",
       "      <td>88</td>\n",
       "      <td>3</td>\n",
       "      <td>2</td>\n",
       "      <td>8</td>\n",
       "      <td>9.0</td>\n",
       "      <td>6683</td>\n",
       "      <td>4</td>\n",
       "      <td>1972-07-01</td>\n",
       "      <td>2015-10-28</td>\n",
       "      <td>programa de desarrollo de prototipos 2018</td>\n",
       "      <td>dispositivo de prototipo de gravedad cero para...</td>\n",
       "      <td>compania power tools s a de c v</td>\n",
       "      <td>2000</td>\n",
       "    </tr>\n",
       "    <tr>\n",
       "      <th>655329</th>\n",
       "      <td>2009</td>\n",
       "      <td>20</td>\n",
       "      <td>410819.0</td>\n",
       "      <td>8</td>\n",
       "      <td>NaN</td>\n",
       "      <td>9</td>\n",
       "      <td>32</td>\n",
       "      <td>9</td>\n",
       "      <td>NaN</td>\n",
       "      <td>9</td>\n",
       "      <td>1</td>\n",
       "      <td>97</td>\n",
       "      <td>NaN</td>\n",
       "      <td>88</td>\n",
       "      <td>11</td>\n",
       "      <td>1</td>\n",
       "      <td>3</td>\n",
       "      <td>NaN</td>\n",
       "      <td>6685</td>\n",
       "      <td>88</td>\n",
       "      <td>2015-09-30</td>\n",
       "      <td>2015-10-02</td>\n",
       "      <td>programa de desarrollo de prototipos 2018</td>\n",
       "      <td>desarrollo tecnologico de un prototipo de bebi...</td>\n",
       "      <td>complejo industrial rm s a de c v</td>\n",
       "      <td>2000</td>\n",
       "    </tr>\n",
       "    <tr>\n",
       "      <th>655330</th>\n",
       "      <td>3002</td>\n",
       "      <td>0</td>\n",
       "      <td>500000.0</td>\n",
       "      <td>10</td>\n",
       "      <td>32.0</td>\n",
       "      <td>38</td>\n",
       "      <td>32</td>\n",
       "      <td>38</td>\n",
       "      <td>NaN</td>\n",
       "      <td>38</td>\n",
       "      <td>2</td>\n",
       "      <td>97</td>\n",
       "      <td>NaN</td>\n",
       "      <td>8</td>\n",
       "      <td>11</td>\n",
       "      <td>1</td>\n",
       "      <td>16</td>\n",
       "      <td>NaN</td>\n",
       "      <td>6689</td>\n",
       "      <td>88</td>\n",
       "      <td>2015-10-23</td>\n",
       "      <td>2015-10-06</td>\n",
       "      <td>programa de desarrollo de prototipos 2018</td>\n",
       "      <td>piloto de filtracion tangencial para purificac...</td>\n",
       "      <td>microalgas oleas de mexico s a de c v</td>\n",
       "      <td>0</td>\n",
       "    </tr>\n",
       "    <tr>\n",
       "      <th>655331</th>\n",
       "      <td>4003</td>\n",
       "      <td>10</td>\n",
       "      <td>149000.0</td>\n",
       "      <td>22</td>\n",
       "      <td>NaN</td>\n",
       "      <td>10</td>\n",
       "      <td>32</td>\n",
       "      <td>49</td>\n",
       "      <td>NaN</td>\n",
       "      <td>10</td>\n",
       "      <td>2</td>\n",
       "      <td>97</td>\n",
       "      <td>NaN</td>\n",
       "      <td>88</td>\n",
       "      <td>1</td>\n",
       "      <td>1</td>\n",
       "      <td>9</td>\n",
       "      <td>9.0</td>\n",
       "      <td>6691</td>\n",
       "      <td>99</td>\n",
       "      <td>2012-11-22</td>\n",
       "      <td>2015-12-08</td>\n",
       "      <td>programa de desarrollo de prototipos 2018</td>\n",
       "      <td>maquina tribologica para medir el desgaste en ...</td>\n",
       "      <td>universidad de guadalajara</td>\n",
       "      <td>1000</td>\n",
       "    </tr>\n",
       "    <tr>\n",
       "      <th>655332</th>\n",
       "      <td>4001</td>\n",
       "      <td>40</td>\n",
       "      <td>150241.0</td>\n",
       "      <td>13</td>\n",
       "      <td>32.0</td>\n",
       "      <td>40</td>\n",
       "      <td>19</td>\n",
       "      <td>6</td>\n",
       "      <td>NaN</td>\n",
       "      <td>7</td>\n",
       "      <td>2</td>\n",
       "      <td>97</td>\n",
       "      <td>NaN</td>\n",
       "      <td>0</td>\n",
       "      <td>10</td>\n",
       "      <td>1</td>\n",
       "      <td>5</td>\n",
       "      <td>NaN</td>\n",
       "      <td>6696</td>\n",
       "      <td>88</td>\n",
       "      <td>2014-10-24</td>\n",
       "      <td>2015-06-04</td>\n",
       "      <td>programa de desarrollo de prototipos 2018</td>\n",
       "      <td>interfaz usb aislada para conexion de instrume...</td>\n",
       "      <td>consire s a de c v</td>\n",
       "      <td>4000</td>\n",
       "    </tr>\n",
       "  </tbody>\n",
       "</table>\n",
       "<p>588142 rows × 26 columns</p>\n",
       "</div>"
      ],
      "text/plain": [
       "        c_edad  c_minutos c_monto_de_apoyo  c_horas  v_ent_regis  v_mun_regis  \\\n",
       "345       4061         34        1020000.0       15          1.0            1   \n",
       "468       4090         30         157250.0       20          NaN            1   \n",
       "505       4080          0          74000.0       21          1.0            7   \n",
       "520       2001          0         120000.0        2          NaN            8   \n",
       "576       4097          0         12254.04       16          NaN            1   \n",
       "...        ...        ...              ...      ...          ...          ...   \n",
       "655328    4043         20         157140.0        0         32.0           56   \n",
       "655329    2009         20         410819.0        8          NaN            9   \n",
       "655330    3002          0         500000.0       10         32.0           38   \n",
       "655331    4003         10         149000.0       22          NaN           10   \n",
       "655332    4001         40         150241.0       13         32.0           40   \n",
       "\n",
       "        v_ent_resid  v_mun_resid  v_ent_ocurr  v_mun_ocurr v_sexo  \\\n",
       "345               1            1          NaN            1      1   \n",
       "468               1            1          NaN            1      2   \n",
       "505               1            7          NaN            7      1   \n",
       "520               1            8          NaN            6      2   \n",
       "576               1            1          NaN            1      1   \n",
       "...             ...          ...          ...          ...    ...   \n",
       "655328           32          999          NaN           56      2   \n",
       "655329           32            9          NaN            9      1   \n",
       "655330           32           38          NaN           38      2   \n",
       "655331           32           49          NaN           10      2   \n",
       "655332           19            6          NaN            7      2   \n",
       "\n",
       "        v_ocupacion  v_edo_civil  v_lugar_ocur  v_sitio_ocur  v_nacionalid  \\\n",
       "345              11          NaN            88             3             1   \n",
       "468              11          NaN            88            11             1   \n",
       "505               6          NaN            88            11             1   \n",
       "520              97          NaN            88             1             1   \n",
       "576               9          NaN            88             1             1   \n",
       "...             ...          ...           ...           ...           ...   \n",
       "655328           11          NaN            88             3             2   \n",
       "655329           97          NaN            88            11             1   \n",
       "655330           97          NaN             8            11             1   \n",
       "655331           97          NaN            88             1             1   \n",
       "655332           97          NaN             0            10             1   \n",
       "\n",
       "        v_grupo  v_lengua  v_clave  v_escolarida d_fecha_nac d_fecha_ocurr  \\\n",
       "345           4       NaN     6434             3  1953-08-05    2015-05-14   \n",
       "468           4       NaN     6731             1  1924-12-13    2015-03-22   \n",
       "505           2       2.0     6423             3  1934-10-27    2015-12-28   \n",
       "520           4       NaN     6790            88  2015-05-05    2015-09-08   \n",
       "576           3       2.0     6491             3  1917-04-14    2015-02-20   \n",
       "...         ...       ...      ...           ...         ...           ...   \n",
       "655328        8       9.0     6683             4  1972-07-01    2015-10-28   \n",
       "655329        3       NaN     6685            88  2015-09-30    2015-10-02   \n",
       "655330       16       NaN     6689            88  2015-10-23    2015-10-06   \n",
       "655331        9       9.0     6691            99  2012-11-22    2015-12-08   \n",
       "655332        5       NaN     6696            88  2014-10-24    2015-06-04   \n",
       "\n",
       "                                         t_programa_fondo  \\\n",
       "345     programa estatal para el desarrollo de la indu...   \n",
       "468     programa para el fomento de recursos humanos d...   \n",
       "505     programa de difusion y divulgacion de la cienc...   \n",
       "520     programa de incorporacion de maestros y doctor...   \n",
       "576     programa jalisciense de fomento a la propiedad...   \n",
       "...                                                   ...   \n",
       "655328          programa de desarrollo de prototipos 2018   \n",
       "655329          programa de desarrollo de prototipos 2018   \n",
       "655330          programa de desarrollo de prototipos 2018   \n",
       "655331          programa de desarrollo de prototipos 2018   \n",
       "655332          programa de desarrollo de prototipos 2018   \n",
       "\n",
       "                                    t_nombre_del_proyecto  \\\n",
       "345     desarrollo e implementacion de un sistema cola...   \n",
       "468          becas singularity u mexico summit iteso 2018   \n",
       "505     participacion como expositor en el 41 congreso...   \n",
       "520     incrementar productividad con uso de tecnologi...   \n",
       "576               modelo industrial de una base para mesa   \n",
       "...                                                   ...   \n",
       "655328  dispositivo de prototipo de gravedad cero para...   \n",
       "655329  desarrollo tecnologico de un prototipo de bebi...   \n",
       "655330  piloto de filtracion tangencial para purificac...   \n",
       "655331  maquina tribologica para medir el desgaste en ...   \n",
       "655332  interfaz usb aislada para conexion de instrume...   \n",
       "\n",
       "                                t_nombre_del_beneficiario  c_salario  \n",
       "345                     frg internacional s de r l de c v       3400  \n",
       "468     instituto tecnologico y de estudios superiores...       3000  \n",
       "505     tecnologia y productos biomedicos de occidente...          0  \n",
       "520                        omar ricardo fonseca cervantes          0  \n",
       "576                           brian alejandro franco ceja          0  \n",
       "...                                                   ...        ...  \n",
       "655328                    compania power tools s a de c v       2000  \n",
       "655329                  complejo industrial rm s a de c v       2000  \n",
       "655330              microalgas oleas de mexico s a de c v          0  \n",
       "655331                         universidad de guadalajara       1000  \n",
       "655332                                 consire s a de c v       4000  \n",
       "\n",
       "[588142 rows x 26 columns]"
      ]
     },
     "execution_count": 98,
     "metadata": {},
     "output_type": "execute_result"
    }
   ],
   "source": [
    "df[df.duplicated(subset=[\"t_nombre_del_beneficiario\",\"t_nombre_del_proyecto\",\"t_programa_fondo\",\"d_fecha_ocurr\"])]"
   ]
  },
  {
   "cell_type": "code",
   "execution_count": 99,
   "metadata": {
    "ExecuteTime": {
     "end_time": "2023-08-09T00:15:40.567628Z",
     "start_time": "2023-08-09T00:15:40.565716Z"
    }
   },
   "outputs": [
    {
     "data": {
      "text/plain": [
       "(655333, 26)"
      ]
     },
     "execution_count": 99,
     "metadata": {},
     "output_type": "execute_result"
    }
   ],
   "source": [
    "df.shape"
   ]
  },
  {
   "cell_type": "code",
   "execution_count": 100,
   "metadata": {
    "ExecuteTime": {
     "end_time": "2023-08-09T00:16:40.493777Z",
     "start_time": "2023-08-09T00:16:40.216759Z"
    },
    "id": "Q2uJrHdiHaBK",
    "outputId": "01078a81-3da2-498c-a509-86ab17d7fbff",
    "scrolled": true
   },
   "outputs": [
    {
     "data": {
      "text/html": [
       "<div>\n",
       "<style scoped>\n",
       "    .dataframe tbody tr th:only-of-type {\n",
       "        vertical-align: middle;\n",
       "    }\n",
       "\n",
       "    .dataframe tbody tr th {\n",
       "        vertical-align: top;\n",
       "    }\n",
       "\n",
       "    .dataframe thead th {\n",
       "        text-align: right;\n",
       "    }\n",
       "</style>\n",
       "<table border=\"1\" class=\"dataframe\">\n",
       "  <thead>\n",
       "    <tr style=\"text-align: right;\">\n",
       "      <th></th>\n",
       "      <th>c_edad</th>\n",
       "      <th>c_minutos</th>\n",
       "      <th>c_monto_de_apoyo</th>\n",
       "      <th>c_horas</th>\n",
       "      <th>v_ent_regis</th>\n",
       "      <th>v_mun_regis</th>\n",
       "      <th>v_ent_resid</th>\n",
       "      <th>v_mun_resid</th>\n",
       "      <th>v_ent_ocurr</th>\n",
       "      <th>v_mun_ocurr</th>\n",
       "      <th>v_sexo</th>\n",
       "      <th>v_ocupacion</th>\n",
       "      <th>v_edo_civil</th>\n",
       "      <th>v_lugar_ocur</th>\n",
       "      <th>v_sitio_ocur</th>\n",
       "      <th>v_nacionalid</th>\n",
       "      <th>v_grupo</th>\n",
       "      <th>v_lengua</th>\n",
       "      <th>v_clave</th>\n",
       "      <th>v_escolarida</th>\n",
       "      <th>d_fecha_nac</th>\n",
       "      <th>d_fecha_ocurr</th>\n",
       "      <th>t_programa_fondo</th>\n",
       "      <th>t_nombre_del_proyecto</th>\n",
       "      <th>t_nombre_del_beneficiario</th>\n",
       "      <th>c_salario</th>\n",
       "    </tr>\n",
       "  </thead>\n",
       "  <tbody>\n",
       "    <tr>\n",
       "      <th>0</th>\n",
       "      <td>4069</td>\n",
       "      <td>27</td>\n",
       "      <td>NaN</td>\n",
       "      <td>16</td>\n",
       "      <td>1.0</td>\n",
       "      <td>1</td>\n",
       "      <td>1</td>\n",
       "      <td>1</td>\n",
       "      <td>NaN</td>\n",
       "      <td>1</td>\n",
       "      <td>NaN</td>\n",
       "      <td>11</td>\n",
       "      <td>NaN</td>\n",
       "      <td>88</td>\n",
       "      <td>3</td>\n",
       "      <td>1</td>\n",
       "      <td>7</td>\n",
       "      <td>2.0</td>\n",
       "      <td>6343</td>\n",
       "      <td>1</td>\n",
       "      <td>1946-06-30</td>\n",
       "      <td>2015-05-25</td>\n",
       "      <td>programa jalisciense de fomento a la propiedad...</td>\n",
       "      <td>mx sistema mecatronico para el control de inve...</td>\n",
       "      <td>ricardo mercado cortes</td>\n",
       "      <td>2700</td>\n",
       "    </tr>\n",
       "    <tr>\n",
       "      <th>1</th>\n",
       "      <td>4093</td>\n",
       "      <td>0</td>\n",
       "      <td>31446.48</td>\n",
       "      <td>6</td>\n",
       "      <td>NaN</td>\n",
       "      <td>1</td>\n",
       "      <td>1</td>\n",
       "      <td>1</td>\n",
       "      <td>NaN</td>\n",
       "      <td>1</td>\n",
       "      <td>1</td>\n",
       "      <td>6</td>\n",
       "      <td>NaN</td>\n",
       "      <td>88</td>\n",
       "      <td>11</td>\n",
       "      <td>1</td>\n",
       "      <td>8</td>\n",
       "      <td>NaN</td>\n",
       "      <td>6344</td>\n",
       "      <td>3</td>\n",
       "      <td>1921-08-25</td>\n",
       "      <td>2015-09-26</td>\n",
       "      <td>programa jalisciense de fomento a la propiedad...</td>\n",
       "      <td>pct sistema mecatronico para el control de inv...</td>\n",
       "      <td>ricardo mercado cortes</td>\n",
       "      <td>0</td>\n",
       "    </tr>\n",
       "    <tr>\n",
       "      <th>2</th>\n",
       "      <td>4092</td>\n",
       "      <td>30</td>\n",
       "      <td>65673.63</td>\n",
       "      <td>16</td>\n",
       "      <td>1.0</td>\n",
       "      <td>1</td>\n",
       "      <td>1</td>\n",
       "      <td>1</td>\n",
       "      <td>NaN</td>\n",
       "      <td>1</td>\n",
       "      <td>1</td>\n",
       "      <td>7</td>\n",
       "      <td>NaN</td>\n",
       "      <td>88</td>\n",
       "      <td>11</td>\n",
       "      <td>1</td>\n",
       "      <td>2</td>\n",
       "      <td>NaN</td>\n",
       "      <td>6345</td>\n",
       "      <td>3</td>\n",
       "      <td>1922-06-12</td>\n",
       "      <td>2015-12-14</td>\n",
       "      <td>programa jalisciense de fomento a la propiedad...</td>\n",
       "      <td>mx empaque conico para la conexion de manguera...</td>\n",
       "      <td>corporativo boro s a de c v</td>\n",
       "      <td>3000</td>\n",
       "    </tr>\n",
       "    <tr>\n",
       "      <th>3</th>\n",
       "      <td>4047</td>\n",
       "      <td>58</td>\n",
       "      <td>Sistema Tecnológico de Jalisco, A.C.</td>\n",
       "      <td>3</td>\n",
       "      <td>NaN</td>\n",
       "      <td>1</td>\n",
       "      <td>1</td>\n",
       "      <td>1</td>\n",
       "      <td>NaN</td>\n",
       "      <td>1</td>\n",
       "      <td>Sistema Tecnológico de Jalisco, A.C.</td>\n",
       "      <td>7</td>\n",
       "      <td>NaN</td>\n",
       "      <td>88</td>\n",
       "      <td>9</td>\n",
       "      <td>1</td>\n",
       "      <td>13</td>\n",
       "      <td>1.0</td>\n",
       "      <td>6346</td>\n",
       "      <td>6</td>\n",
       "      <td>1967-08-28</td>\n",
       "      <td>2015-01-03</td>\n",
       "      <td>programa jalisciense de fomento a la propiedad...</td>\n",
       "      <td>mx pasta biodegradable para usos multiples</td>\n",
       "      <td>corporativo boro s a de c v</td>\n",
       "      <td>5800</td>\n",
       "    </tr>\n",
       "    <tr>\n",
       "      <th>4</th>\n",
       "      <td>4040</td>\n",
       "      <td>50</td>\n",
       "      <td>30254.04</td>\n",
       "      <td>6</td>\n",
       "      <td>1.0</td>\n",
       "      <td>1</td>\n",
       "      <td>1</td>\n",
       "      <td>1</td>\n",
       "      <td>NaN</td>\n",
       "      <td>1</td>\n",
       "      <td>2</td>\n",
       "      <td>11</td>\n",
       "      <td>NaN</td>\n",
       "      <td>88</td>\n",
       "      <td>1</td>\n",
       "      <td>1</td>\n",
       "      <td>7</td>\n",
       "      <td>NaN</td>\n",
       "      <td>6364</td>\n",
       "      <td>4</td>\n",
       "      <td>1974-12-17</td>\n",
       "      <td>2015-07-16</td>\n",
       "      <td>programa jalisciense de fomento a la propiedad...</td>\n",
       "      <td>dispositivo personal de comunicacion remota pa...</td>\n",
       "      <td>geraldina vega gamboa</td>\n",
       "      <td>5000</td>\n",
       "    </tr>\n",
       "    <tr>\n",
       "      <th>...</th>\n",
       "      <td>...</td>\n",
       "      <td>...</td>\n",
       "      <td>...</td>\n",
       "      <td>...</td>\n",
       "      <td>...</td>\n",
       "      <td>...</td>\n",
       "      <td>...</td>\n",
       "      <td>...</td>\n",
       "      <td>...</td>\n",
       "      <td>...</td>\n",
       "      <td>...</td>\n",
       "      <td>...</td>\n",
       "      <td>...</td>\n",
       "      <td>...</td>\n",
       "      <td>...</td>\n",
       "      <td>...</td>\n",
       "      <td>...</td>\n",
       "      <td>...</td>\n",
       "      <td>...</td>\n",
       "      <td>...</td>\n",
       "      <td>...</td>\n",
       "      <td>...</td>\n",
       "      <td>...</td>\n",
       "      <td>...</td>\n",
       "      <td>...</td>\n",
       "      <td>...</td>\n",
       "    </tr>\n",
       "    <tr>\n",
       "      <th>655275</th>\n",
       "      <td>4049</td>\n",
       "      <td>5</td>\n",
       "      <td>50336.83</td>\n",
       "      <td>14</td>\n",
       "      <td>NaN</td>\n",
       "      <td>23</td>\n",
       "      <td>32</td>\n",
       "      <td>23</td>\n",
       "      <td>NaN</td>\n",
       "      <td>23</td>\n",
       "      <td>1</td>\n",
       "      <td>99</td>\n",
       "      <td>NaN</td>\n",
       "      <td>88</td>\n",
       "      <td>99</td>\n",
       "      <td>1</td>\n",
       "      <td>2</td>\n",
       "      <td>NaN</td>\n",
       "      <td>6540</td>\n",
       "      <td>99</td>\n",
       "      <td>1964-03-29</td>\n",
       "      <td>2013-01-22</td>\n",
       "      <td>programa jalisciense de fomento a la propiedad...</td>\n",
       "      <td>herramental para ensamble de plato y aislador</td>\n",
       "      <td>seerauber automotive de mexico sapi de c v</td>\n",
       "      <td>500</td>\n",
       "    </tr>\n",
       "    <tr>\n",
       "      <th>655277</th>\n",
       "      <td>4998</td>\n",
       "      <td>99</td>\n",
       "      <td>62113.6</td>\n",
       "      <td>99</td>\n",
       "      <td>32.0</td>\n",
       "      <td>38</td>\n",
       "      <td>32</td>\n",
       "      <td>38</td>\n",
       "      <td>NaN</td>\n",
       "      <td>38</td>\n",
       "      <td>1</td>\n",
       "      <td>99</td>\n",
       "      <td>NaN</td>\n",
       "      <td>88</td>\n",
       "      <td>99</td>\n",
       "      <td>1</td>\n",
       "      <td>7</td>\n",
       "      <td>9.0</td>\n",
       "      <td>6542</td>\n",
       "      <td>99</td>\n",
       "      <td>NaN</td>\n",
       "      <td>2005-11-07</td>\n",
       "      <td>programa jalisciense de fomento a la propiedad...</td>\n",
       "      <td>pct herramental para ensamble de plato y aislador</td>\n",
       "      <td>seerauber automotive de mexico sapi de c v</td>\n",
       "      <td>9900</td>\n",
       "    </tr>\n",
       "    <tr>\n",
       "      <th>655284</th>\n",
       "      <td>4089</td>\n",
       "      <td>99</td>\n",
       "      <td>58700.35</td>\n",
       "      <td>99</td>\n",
       "      <td>32.0</td>\n",
       "      <td>49</td>\n",
       "      <td>32</td>\n",
       "      <td>49</td>\n",
       "      <td>NaN</td>\n",
       "      <td>49</td>\n",
       "      <td>2</td>\n",
       "      <td>99</td>\n",
       "      <td>NaN</td>\n",
       "      <td>88</td>\n",
       "      <td>3</td>\n",
       "      <td>1</td>\n",
       "      <td>8</td>\n",
       "      <td>NaN</td>\n",
       "      <td>6554</td>\n",
       "      <td>99</td>\n",
       "      <td>1925-09-05</td>\n",
       "      <td>2014-01-11</td>\n",
       "      <td>programa jalisciense de fomento a la propiedad...</td>\n",
       "      <td>ejercitador reactivo abdominal</td>\n",
       "      <td>active financial s a de c v</td>\n",
       "      <td>9900</td>\n",
       "    </tr>\n",
       "    <tr>\n",
       "      <th>655285</th>\n",
       "      <td>4998</td>\n",
       "      <td>99</td>\n",
       "      <td>58700.35</td>\n",
       "      <td>99</td>\n",
       "      <td>32.0</td>\n",
       "      <td>49</td>\n",
       "      <td>32</td>\n",
       "      <td>49</td>\n",
       "      <td>NaN</td>\n",
       "      <td>49</td>\n",
       "      <td>2</td>\n",
       "      <td>99</td>\n",
       "      <td>NaN</td>\n",
       "      <td>88</td>\n",
       "      <td>99</td>\n",
       "      <td>1</td>\n",
       "      <td>8</td>\n",
       "      <td>9.0</td>\n",
       "      <td>6555</td>\n",
       "      <td>99</td>\n",
       "      <td>NaN</td>\n",
       "      <td>2008-03-22</td>\n",
       "      <td>programa jalisciense de fomento a la propiedad...</td>\n",
       "      <td>proceso de fabricacion de tanques hermeticos p...</td>\n",
       "      <td>active financial s a de c v</td>\n",
       "      <td>9900</td>\n",
       "    </tr>\n",
       "    <tr>\n",
       "      <th>655289</th>\n",
       "      <td>4078</td>\n",
       "      <td>99</td>\n",
       "      <td>49381.31</td>\n",
       "      <td>99</td>\n",
       "      <td>32.0</td>\n",
       "      <td>56</td>\n",
       "      <td>32</td>\n",
       "      <td>56</td>\n",
       "      <td>NaN</td>\n",
       "      <td>56</td>\n",
       "      <td>2</td>\n",
       "      <td>99</td>\n",
       "      <td>NaN</td>\n",
       "      <td>88</td>\n",
       "      <td>99</td>\n",
       "      <td>1</td>\n",
       "      <td>2</td>\n",
       "      <td>NaN</td>\n",
       "      <td>6564</td>\n",
       "      <td>99</td>\n",
       "      <td>1935-12-28</td>\n",
       "      <td>2014-09-21</td>\n",
       "      <td>programa jalisciense de fomento a la propiedad...</td>\n",
       "      <td>equipo para motorizacion de sillas de ruedas c...</td>\n",
       "      <td>erick eduardo guzman quezada</td>\n",
       "      <td>9900</td>\n",
       "    </tr>\n",
       "  </tbody>\n",
       "</table>\n",
       "<p>67191 rows × 26 columns</p>\n",
       "</div>"
      ],
      "text/plain": [
       "        c_edad  c_minutos                      c_monto_de_apoyo  c_horas  \\\n",
       "0         4069         27                                   NaN       16   \n",
       "1         4093          0                              31446.48        6   \n",
       "2         4092         30                              65673.63       16   \n",
       "3         4047         58  Sistema Tecnológico de Jalisco, A.C.        3   \n",
       "4         4040         50                              30254.04        6   \n",
       "...        ...        ...                                   ...      ...   \n",
       "655275    4049          5                              50336.83       14   \n",
       "655277    4998         99                               62113.6       99   \n",
       "655284    4089         99                              58700.35       99   \n",
       "655285    4998         99                              58700.35       99   \n",
       "655289    4078         99                              49381.31       99   \n",
       "\n",
       "        v_ent_regis  v_mun_regis  v_ent_resid  v_mun_resid  v_ent_ocurr  \\\n",
       "0               1.0            1            1            1          NaN   \n",
       "1               NaN            1            1            1          NaN   \n",
       "2               1.0            1            1            1          NaN   \n",
       "3               NaN            1            1            1          NaN   \n",
       "4               1.0            1            1            1          NaN   \n",
       "...             ...          ...          ...          ...          ...   \n",
       "655275          NaN           23           32           23          NaN   \n",
       "655277         32.0           38           32           38          NaN   \n",
       "655284         32.0           49           32           49          NaN   \n",
       "655285         32.0           49           32           49          NaN   \n",
       "655289         32.0           56           32           56          NaN   \n",
       "\n",
       "        v_mun_ocurr                                v_sexo  v_ocupacion  \\\n",
       "0                 1                                   NaN           11   \n",
       "1                 1                                     1            6   \n",
       "2                 1                                     1            7   \n",
       "3                 1  Sistema Tecnológico de Jalisco, A.C.            7   \n",
       "4                 1                                     2           11   \n",
       "...             ...                                   ...          ...   \n",
       "655275           23                                     1           99   \n",
       "655277           38                                     1           99   \n",
       "655284           49                                     2           99   \n",
       "655285           49                                     2           99   \n",
       "655289           56                                     2           99   \n",
       "\n",
       "        v_edo_civil  v_lugar_ocur  v_sitio_ocur  v_nacionalid  v_grupo  \\\n",
       "0               NaN            88             3             1        7   \n",
       "1               NaN            88            11             1        8   \n",
       "2               NaN            88            11             1        2   \n",
       "3               NaN            88             9             1       13   \n",
       "4               NaN            88             1             1        7   \n",
       "...             ...           ...           ...           ...      ...   \n",
       "655275          NaN            88            99             1        2   \n",
       "655277          NaN            88            99             1        7   \n",
       "655284          NaN            88             3             1        8   \n",
       "655285          NaN            88            99             1        8   \n",
       "655289          NaN            88            99             1        2   \n",
       "\n",
       "        v_lengua  v_clave  v_escolarida d_fecha_nac d_fecha_ocurr  \\\n",
       "0            2.0     6343             1  1946-06-30    2015-05-25   \n",
       "1            NaN     6344             3  1921-08-25    2015-09-26   \n",
       "2            NaN     6345             3  1922-06-12    2015-12-14   \n",
       "3            1.0     6346             6  1967-08-28    2015-01-03   \n",
       "4            NaN     6364             4  1974-12-17    2015-07-16   \n",
       "...          ...      ...           ...         ...           ...   \n",
       "655275       NaN     6540            99  1964-03-29    2013-01-22   \n",
       "655277       9.0     6542            99         NaN    2005-11-07   \n",
       "655284       NaN     6554            99  1925-09-05    2014-01-11   \n",
       "655285       9.0     6555            99         NaN    2008-03-22   \n",
       "655289       NaN     6564            99  1935-12-28    2014-09-21   \n",
       "\n",
       "                                         t_programa_fondo  \\\n",
       "0       programa jalisciense de fomento a la propiedad...   \n",
       "1       programa jalisciense de fomento a la propiedad...   \n",
       "2       programa jalisciense de fomento a la propiedad...   \n",
       "3       programa jalisciense de fomento a la propiedad...   \n",
       "4       programa jalisciense de fomento a la propiedad...   \n",
       "...                                                   ...   \n",
       "655275  programa jalisciense de fomento a la propiedad...   \n",
       "655277  programa jalisciense de fomento a la propiedad...   \n",
       "655284  programa jalisciense de fomento a la propiedad...   \n",
       "655285  programa jalisciense de fomento a la propiedad...   \n",
       "655289  programa jalisciense de fomento a la propiedad...   \n",
       "\n",
       "                                    t_nombre_del_proyecto  \\\n",
       "0       mx sistema mecatronico para el control de inve...   \n",
       "1       pct sistema mecatronico para el control de inv...   \n",
       "2       mx empaque conico para la conexion de manguera...   \n",
       "3              mx pasta biodegradable para usos multiples   \n",
       "4       dispositivo personal de comunicacion remota pa...   \n",
       "...                                                   ...   \n",
       "655275      herramental para ensamble de plato y aislador   \n",
       "655277  pct herramental para ensamble de plato y aislador   \n",
       "655284                     ejercitador reactivo abdominal   \n",
       "655285  proceso de fabricacion de tanques hermeticos p...   \n",
       "655289  equipo para motorizacion de sillas de ruedas c...   \n",
       "\n",
       "                         t_nombre_del_beneficiario  c_salario  \n",
       "0                           ricardo mercado cortes       2700  \n",
       "1                           ricardo mercado cortes          0  \n",
       "2                      corporativo boro s a de c v       3000  \n",
       "3                      corporativo boro s a de c v       5800  \n",
       "4                            geraldina vega gamboa       5000  \n",
       "...                                            ...        ...  \n",
       "655275  seerauber automotive de mexico sapi de c v        500  \n",
       "655277  seerauber automotive de mexico sapi de c v       9900  \n",
       "655284                 active financial s a de c v       9900  \n",
       "655285                 active financial s a de c v       9900  \n",
       "655289                erick eduardo guzman quezada       9900  \n",
       "\n",
       "[67191 rows x 26 columns]"
      ]
     },
     "execution_count": 100,
     "metadata": {},
     "output_type": "execute_result"
    }
   ],
   "source": [
    "df.drop_duplicates(subset=[\"t_nombre_del_beneficiario\",\"t_nombre_del_proyecto\",\"t_programa_fondo\",\"d_fecha_ocurr\"],keep=\"first\")\n",
    "#Con el parámetros keep: se puede indicar con que registro de los duplicados nos quedaremos, puede ser el primero o el último\n",
    "#Otra opción puede ser quedarnos al el registro que tenga menos valores ausentes en el resto de variables"
   ]
  },
  {
   "cell_type": "markdown",
   "metadata": {
    "id": "oh891ms7HaBL"
   },
   "source": [
    "#####  <span style=\"background:#e1d486\"> LIMPIEZA \"FECHA OCURRENCIA\" - OPCION 2  </span>"
   ]
  },
  {
   "cell_type": "code",
   "execution_count": 101,
   "metadata": {
    "ExecuteTime": {
     "end_time": "2023-08-09T00:16:41.291097Z",
     "start_time": "2023-08-09T00:16:41.288824Z"
    },
    "id": "3xz5V-c4HaBL",
    "outputId": "13be765e-787c-497b-e45a-57c05a8c4831"
   },
   "outputs": [],
   "source": [
    "#EJEMPLO IDXMAX\n",
    "ejemplo = pd.DataFrame({'consumption': [10.51, 103.11, 55.48],\n",
    "                   'co2_emissions': [37.2, 19.66, 1712]},\n",
    "                   index=['Pork', 'Wheat Products', 'Beef'])"
   ]
  },
  {
   "cell_type": "code",
   "execution_count": 102,
   "metadata": {
    "ExecuteTime": {
     "end_time": "2023-08-09T00:16:41.580302Z",
     "start_time": "2023-08-09T00:16:41.575087Z"
    },
    "id": "AaFkKYBJHaBM",
    "outputId": "bb79a99d-0808-4ba6-97b3-d49de771c434"
   },
   "outputs": [
    {
     "data": {
      "text/html": [
       "<div>\n",
       "<style scoped>\n",
       "    .dataframe tbody tr th:only-of-type {\n",
       "        vertical-align: middle;\n",
       "    }\n",
       "\n",
       "    .dataframe tbody tr th {\n",
       "        vertical-align: top;\n",
       "    }\n",
       "\n",
       "    .dataframe thead th {\n",
       "        text-align: right;\n",
       "    }\n",
       "</style>\n",
       "<table border=\"1\" class=\"dataframe\">\n",
       "  <thead>\n",
       "    <tr style=\"text-align: right;\">\n",
       "      <th></th>\n",
       "      <th>consumption</th>\n",
       "      <th>co2_emissions</th>\n",
       "    </tr>\n",
       "  </thead>\n",
       "  <tbody>\n",
       "    <tr>\n",
       "      <th>Pork</th>\n",
       "      <td>10.51</td>\n",
       "      <td>37.20</td>\n",
       "    </tr>\n",
       "    <tr>\n",
       "      <th>Wheat Products</th>\n",
       "      <td>103.11</td>\n",
       "      <td>19.66</td>\n",
       "    </tr>\n",
       "    <tr>\n",
       "      <th>Beef</th>\n",
       "      <td>55.48</td>\n",
       "      <td>1712.00</td>\n",
       "    </tr>\n",
       "  </tbody>\n",
       "</table>\n",
       "</div>"
      ],
      "text/plain": [
       "                consumption  co2_emissions\n",
       "Pork                  10.51          37.20\n",
       "Wheat Products       103.11          19.66\n",
       "Beef                  55.48        1712.00"
      ]
     },
     "execution_count": 102,
     "metadata": {},
     "output_type": "execute_result"
    }
   ],
   "source": [
    "ejemplo"
   ]
  },
  {
   "cell_type": "code",
   "execution_count": 103,
   "metadata": {
    "ExecuteTime": {
     "end_time": "2023-08-09T00:16:41.786814Z",
     "start_time": "2023-08-09T00:16:41.783140Z"
    }
   },
   "outputs": [
    {
     "data": {
      "text/plain": [
       "array(['Wheat Products', 'Beef'], dtype=object)"
      ]
     },
     "execution_count": 103,
     "metadata": {},
     "output_type": "execute_result"
    }
   ],
   "source": [
    "#idxmax te proporciona los indices de los registros que tienen el valor máximo de cada variable\n",
    "ejemplo.idxmax().values"
   ]
  },
  {
   "cell_type": "code",
   "execution_count": 104,
   "metadata": {
    "ExecuteTime": {
     "end_time": "2023-08-09T00:16:41.995428Z",
     "start_time": "2023-08-09T00:16:41.992749Z"
    },
    "id": "bp6X83kQHaBM",
    "outputId": "fb58b949-2551-44ab-cdfe-925f9ef30eb6"
   },
   "outputs": [
    {
     "data": {
      "text/plain": [
       "(655333, 26)"
      ]
     },
     "execution_count": 104,
     "metadata": {},
     "output_type": "execute_result"
    }
   ],
   "source": [
    "df.shape"
   ]
  },
  {
   "cell_type": "code",
   "execution_count": 105,
   "metadata": {
    "ExecuteTime": {
     "end_time": "2023-08-09T00:16:42.509510Z",
     "start_time": "2023-08-09T00:16:42.217036Z"
    },
    "id": "wnEgENvTHaBM",
    "outputId": "375c99c4-863c-4ce1-ba48-c3b16c4f2663"
   },
   "outputs": [
    {
     "data": {
      "text/plain": [
       "0         22\n",
       "1         22\n",
       "2         23\n",
       "3         23\n",
       "4         23\n",
       "          ..\n",
       "655328    24\n",
       "655329    22\n",
       "655330    23\n",
       "655331    23\n",
       "655332    23\n",
       "Length: 655333, dtype: int64"
      ]
     },
     "execution_count": 105,
     "metadata": {},
     "output_type": "execute_result"
    }
   ],
   "source": [
    "df.notnull().sum(1)"
   ]
  },
  {
   "cell_type": "code",
   "execution_count": 106,
   "metadata": {
    "ExecuteTime": {
     "end_time": "2023-08-09T00:16:42.549678Z",
     "start_time": "2023-08-09T00:16:42.547833Z"
    }
   },
   "outputs": [
    {
     "data": {
      "text/plain": [
       "(655333, 26)"
      ]
     },
     "execution_count": 106,
     "metadata": {},
     "output_type": "execute_result"
    }
   ],
   "source": [
    "df.shape"
   ]
  },
  {
   "cell_type": "code",
   "execution_count": 107,
   "metadata": {
    "ExecuteTime": {
     "end_time": "2023-08-09T00:16:42.652856Z",
     "start_time": "2023-08-09T00:16:42.651035Z"
    }
   },
   "outputs": [],
   "source": [
    "df.reset_index(drop=True,inplace=True)"
   ]
  },
  {
   "cell_type": "code",
   "execution_count": 108,
   "metadata": {
    "ExecuteTime": {
     "end_time": "2023-08-09T00:16:43.157605Z",
     "start_time": "2023-08-09T00:16:42.876101Z"
    }
   },
   "outputs": [
    {
     "data": {
      "text/plain": [
       "0         22\n",
       "1         22\n",
       "2         23\n",
       "3         23\n",
       "4         23\n",
       "          ..\n",
       "655328    24\n",
       "655329    22\n",
       "655330    23\n",
       "655331    23\n",
       "655332    23\n",
       "Length: 655333, dtype: int64"
      ]
     },
     "execution_count": 108,
     "metadata": {},
     "output_type": "execute_result"
    }
   ],
   "source": [
    "df.notnull().sum(1)"
   ]
  },
  {
   "cell_type": "code",
   "execution_count": 109,
   "metadata": {
    "ExecuteTime": {
     "end_time": "2023-08-09T00:16:46.448710Z",
     "start_time": "2023-08-09T00:16:43.196533Z"
    },
    "scrolled": true
   },
   "outputs": [
    {
     "data": {
      "text/plain": [
       "t_nombre_del_beneficiario   t_nombre_del_proyecto                                                                                                                                                                                                                                t_programa_fondo                                                                                 d_fecha_ocurr\n",
       "4 0 industrial cluster a c  becas singularity u mexico summit 4 0 industrial cluster a c 2018                                                                                                                                                                                    programa para el fomento de recursos humanos de alto nivel becas singularity mexico summit 2018  2008-07-22       512169\n",
       "                                                                                                                                                                                                                                                                                                                                                                                  2010-07-28       521339\n",
       "                                                                                                                                                                                                                                                                                                                                                                                  2011-04-11        43460\n",
       "                                                                                                                                                                                                                                                                                                                                                                                  2011-06-11       521697\n",
       "                                                                                                                                                                                                                                                                                                                                                                                  2012-11-03       617900\n",
       "                                                                                                                                                                                                                                                                                                                                                                                                    ...  \n",
       "unosquare s a de c v        creacion de un centro de desarrollo de aplicaciones de bio informatica para registro analisis interpretacion y almacenamiento de datos de pruebas genomicas el proyecto incluye capacitacion equipamiento habilitacion de espacios y licenciamiento  programa estatal para el desarrollo de la industria del sofware jalisco 2018                     2015-12-24       571904\n",
       "                                                                                                                                                                                                                                                                                                                                                                                  2015-12-25        78614\n",
       "                                                                                                                                                                                                                                                                                                                                                                                  2015-12-26        92827\n",
       "                                                                                                                                                                                                                                                                                                                                                                                  2015-12-27       410203\n",
       "                                                                                                                                                                                                                                                                                                                                                                                  2015-12-28        43704\n",
       "Length: 67094, dtype: int64"
      ]
     },
     "execution_count": 109,
     "metadata": {},
     "output_type": "execute_result"
    }
   ],
   "source": [
    "df.notnull().sum(1).groupby([df[\"t_nombre_del_beneficiario\"],df[\"t_nombre_del_proyecto\"],df[\"t_programa_fondo\"],df[\"d_fecha_ocurr\"]]).idxmax()"
   ]
  },
  {
   "cell_type": "code",
   "execution_count": 110,
   "metadata": {
    "ExecuteTime": {
     "end_time": "2023-08-09T00:16:49.791209Z",
     "start_time": "2023-08-09T00:16:46.501956Z"
    },
    "id": "4TZ_D5CmHaBN",
    "outputId": "d7ba1549-ac65-4f7a-d6d1-6add7b677b96",
    "scrolled": true
   },
   "outputs": [
    {
     "data": {
      "text/plain": [
       "[512169,\n",
       " 521339,\n",
       " 43460,\n",
       " 521697,\n",
       " 617900,\n",
       " 514682,\n",
       " 649749,\n",
       " 372545,\n",
       " 222114,\n",
       " 108411,\n",
       " 399332,\n",
       " 217074,\n",
       " 223194,\n",
       " 333875,\n",
       " 240464,\n",
       " 558714,\n",
       " 80163,\n",
       " 554935,\n",
       " 524747,\n",
       " 43992,\n",
       " 546296,\n",
       " 498313,\n",
       " 24216,\n",
       " 413372,\n",
       " 408512,\n",
       " 92756,\n",
       " 383155,\n",
       " 176445,\n",
       " 572193,\n",
       " 414272,\n",
       " 107511,\n",
       " 643095,\n",
       " 516302,\n",
       " 225713,\n",
       " 94736,\n",
       " 624197,\n",
       " 281140,\n",
       " 13416,\n",
       " 289238,\n",
       " 372011,\n",
       " 178741,\n",
       " 492200,\n",
       " 563933,\n",
       " 511809,\n",
       " 405092,\n",
       " 246944,\n",
       " 216894,\n",
       " 362673,\n",
       " 1901,\n",
       " 219774,\n",
       " 175548,\n",
       " 411572,\n",
       " 452068,\n",
       " 119391,\n",
       " 430472,\n",
       " 112011,\n",
       " 44531,\n",
       " 237764,\n",
       " 224454,\n",
       " 412112,\n",
       " 397892,\n",
       " 215995,\n",
       " 3518,\n",
       " 439291,\n",
       " 227687,\n",
       " 394294,\n",
       " 98333,\n",
       " 171231,\n",
       " 374160,\n",
       " 174109,\n",
       " 178024,\n",
       " 573093,\n",
       " 240824,\n",
       " 103191,\n",
       " 243164,\n",
       " 363393,\n",
       " 193861,\n",
       " 287078,\n",
       " 409412,\n",
       " 35727,\n",
       " 57669,\n",
       " 81063,\n",
       " 237584,\n",
       " 582090,\n",
       " 9096,\n",
       " 370050,\n",
       " 149451,\n",
       " 40587,\n",
       " 599001,\n",
       " 438391,\n",
       " 108771,\n",
       " 306337,\n",
       " 486266,\n",
       " 89336,\n",
       " 324155,\n",
       " 362853,\n",
       " 255044,\n",
       " 535136,\n",
       " 57489,\n",
       " 9456,\n",
       " 103011,\n",
       " 168711,\n",
       " 18816,\n",
       " 39867,\n",
       " 76024,\n",
       " 8376,\n",
       " 382255,\n",
       " 149631,\n",
       " 398792,\n",
       " 169611,\n",
       " 251984,\n",
       " 208261,\n",
       " 425612,\n",
       " 50469,\n",
       " 61629,\n",
       " 38247,\n",
       " 381715,\n",
       " 469168,\n",
       " 426512,\n",
       " 176973,\n",
       " 106971,\n",
       " 101391,\n",
       " 40767,\n",
       " 200701,\n",
       " 88077,\n",
       " 436052,\n",
       " 17916,\n",
       " 2981,\n",
       " 339814,\n",
       " 137211,\n",
       " 234164,\n",
       " 292477,\n",
       " 120291,\n",
       " 221214,\n",
       " 34827,\n",
       " 508391,\n",
       " 97613,\n",
       " 334774,\n",
       " 321095,\n",
       " 19356,\n",
       " 35187,\n",
       " 19716,\n",
       " 17556,\n",
       " 330815,\n",
       " 221574,\n",
       " 92036,\n",
       " 270522,\n",
       " 89696,\n",
       " 145851,\n",
       " 17736,\n",
       " 140811,\n",
       " 311557,\n",
       " 521877,\n",
       " 305797,\n",
       " 147471,\n",
       " 427232,\n",
       " 45969,\n",
       " 261164,\n",
       " 380096,\n",
       " 25476,\n",
       " 103371,\n",
       " 443968,\n",
       " 212939,\n",
       " 11796,\n",
       " 82497,\n",
       " 496514,\n",
       " 22236,\n",
       " 648669,\n",
       " 176088,\n",
       " 320375,\n",
       " 329015,\n",
       " 117951,\n",
       " 576330,\n",
       " 355294,\n",
       " 25296,\n",
       " 84657,\n",
       " 196741,\n",
       " 95636,\n",
       " 438751,\n",
       " 214555,\n",
       " 200341,\n",
       " 507311,\n",
       " 108951,\n",
       " 130731,\n",
       " 454408,\n",
       " 196921,\n",
       " 364472,\n",
       " 68648,\n",
       " 25656,\n",
       " 177851,\n",
       " 94376,\n",
       " 432632,\n",
       " 27816,\n",
       " 158451,\n",
       " 30336,\n",
       " 285638,\n",
       " 171411,\n",
       " 164571,\n",
       " 415892,\n",
       " 172309,\n",
       " 568248,\n",
       " 236324,\n",
       " 223014,\n",
       " 14136,\n",
       " 424892,\n",
       " 248024,\n",
       " 20976,\n",
       " 3158,\n",
       " 142251,\n",
       " 436771,\n",
       " 189901,\n",
       " 310477,\n",
       " 589830,\n",
       " 391795,\n",
       " 91316,\n",
       " 168351,\n",
       " 7116,\n",
       " 174289,\n",
       " 256304,\n",
       " 318755,\n",
       " 441090,\n",
       " 80523,\n",
       " 284200,\n",
       " 367711,\n",
       " 49029,\n",
       " 622217,\n",
       " 471328,\n",
       " 509290,\n",
       " 185581,\n",
       " 19896,\n",
       " 58929,\n",
       " 133071,\n",
       " 121731,\n",
       " 404192,\n",
       " 434072,\n",
       " 121911,\n",
       " 15036,\n",
       " 130191,\n",
       " 332615,\n",
       " 641,\n",
       " 565371,\n",
       " 253964,\n",
       " 72247,\n",
       " 101,\n",
       " 430652,\n",
       " 349714,\n",
       " 503532,\n",
       " 255224,\n",
       " 43633,\n",
       " 27996,\n",
       " 110031,\n",
       " 207361,\n",
       " 262244,\n",
       " 155931,\n",
       " 606021,\n",
       " 410312,\n",
       " 527400,\n",
       " 644354,\n",
       " 242264,\n",
       " 90776,\n",
       " 636615,\n",
       " 47229,\n",
       " 41127,\n",
       " 555835,\n",
       " 131991,\n",
       " 196561,\n",
       " 201781,\n",
       " 529020,\n",
       " 552235,\n",
       " 68288,\n",
       " 194581,\n",
       " 493279,\n",
       " 540356,\n",
       " 380815,\n",
       " 432812,\n",
       " 153051,\n",
       " 301477,\n",
       " 578850,\n",
       " 9996,\n",
       " 239924,\n",
       " 97253,\n",
       " 290138,\n",
       " 10356,\n",
       " 122991,\n",
       " 179281,\n",
       " 132531,\n",
       " 277900,\n",
       " 266204,\n",
       " 134331,\n",
       " 492560,\n",
       " 101211,\n",
       " 55329,\n",
       " 391255,\n",
       " 47949,\n",
       " 75664,\n",
       " 531716,\n",
       " 359074,\n",
       " 424352,\n",
       " 96893,\n",
       " 578490,\n",
       " 104631,\n",
       " 286898,\n",
       " 36087,\n",
       " 198901,\n",
       " 8196,\n",
       " 34647,\n",
       " 333515,\n",
       " 162951,\n",
       " 272142,\n",
       " 382795,\n",
       " 482487,\n",
       " 495079,\n",
       " 434972,\n",
       " 218334,\n",
       " 599361,\n",
       " 199801,\n",
       " 4776,\n",
       " 482847,\n",
       " 126591,\n",
       " 164391,\n",
       " 199621,\n",
       " 501912,\n",
       " 81957,\n",
       " 185041,\n",
       " 61449,\n",
       " 250184,\n",
       " 27096,\n",
       " 518642,\n",
       " 262964,\n",
       " 81777,\n",
       " 479787,\n",
       " 225353,\n",
       " 159171,\n",
       " 92216,\n",
       " 402572,\n",
       " 235964,\n",
       " 348454,\n",
       " 239744,\n",
       " 538556,\n",
       " 105531,\n",
       " 86457,\n",
       " 396453,\n",
       " 273762,\n",
       " 104091,\n",
       " 33747,\n",
       " 64508,\n",
       " 230204,\n",
       " 246404,\n",
       " 101031,\n",
       " 148011,\n",
       " 176793,\n",
       " 49209,\n",
       " 20436,\n",
       " 191521,\n",
       " 345394,\n",
       " 64868,\n",
       " 261524,\n",
       " 50109,\n",
       " 312995,\n",
       " 78183,\n",
       " 488066,\n",
       " 8916,\n",
       " 295537,\n",
       " 55149,\n",
       " 368430,\n",
       " 169971,\n",
       " 118491,\n",
       " 292297,\n",
       " 511089,\n",
       " 156831,\n",
       " 397353,\n",
       " 52089,\n",
       " 113451,\n",
       " 167091,\n",
       " 37527,\n",
       " 14676,\n",
       " 183061,\n",
       " 28536,\n",
       " 64328,\n",
       " 106611,\n",
       " 338734,\n",
       " 14496,\n",
       " 69908,\n",
       " 167271,\n",
       " 30516,\n",
       " 13776,\n",
       " 436232,\n",
       " 15396,\n",
       " 273582,\n",
       " 265304,\n",
       " 133971,\n",
       " 53169,\n",
       " 237404,\n",
       " 7836,\n",
       " 174649,\n",
       " 84477,\n",
       " 51189,\n",
       " 357454,\n",
       " 191341,\n",
       " 136851,\n",
       " 379196,\n",
       " 434792,\n",
       " 57849,\n",
       " 294997,\n",
       " 65768,\n",
       " 189361,\n",
       " 60549,\n",
       " 12876,\n",
       " 31236,\n",
       " 569877,\n",
       " 521355,\n",
       " 522251,\n",
       " 513621,\n",
       " 506427,\n",
       " 643831,\n",
       " 504628,\n",
       " 629433,\n",
       " 274498,\n",
       " 524760,\n",
       " 572209,\n",
       " 276656,\n",
       " 513798,\n",
       " 588406,\n",
       " 413208,\n",
       " 378494,\n",
       " 240840,\n",
       " 399708,\n",
       " 444164,\n",
       " 175744,\n",
       " 450824,\n",
       " 45805,\n",
       " 568084,\n",
       " 398628,\n",
       " 17752,\n",
       " 365928,\n",
       " 536952,\n",
       " 171427,\n",
       " 572749,\n",
       " 379032,\n",
       " 654976,\n",
       " 563409,\n",
       " 391271,\n",
       " 92412,\n",
       " 627453,\n",
       " 398088,\n",
       " 235440,\n",
       " 3534,\n",
       " 89532,\n",
       " 362689,\n",
       " 219790,\n",
       " 93132,\n",
       " 450284,\n",
       " 574727,\n",
       " 176284,\n",
       " 427068,\n",
       " 36103,\n",
       " 571849,\n",
       " 525441,\n",
       " 411588,\n",
       " 392891,\n",
       " 123187,\n",
       " 573829,\n",
       " 567186,\n",
       " 213675,\n",
       " 13432,\n",
       " 87373,\n",
       " 275218,\n",
       " 561250,\n",
       " 237060,\n",
       " 387131,\n",
       " 240660,\n",
       " 214571,\n",
       " 515238,\n",
       " 217810,\n",
       " 81613,\n",
       " 377414,\n",
       " 217090,\n",
       " 368446,\n",
       " 371847,\n",
       " 220870,\n",
       " 175564,\n",
       " 1917,\n",
       " 394670,\n",
       " 558010,\n",
       " 359810,\n",
       " 177518,\n",
       " 408348,\n",
       " 644909,\n",
       " 119767,\n",
       " 557470,\n",
       " 377054,\n",
       " 247860,\n",
       " 517578,\n",
       " 174485,\n",
       " 515958,\n",
       " 576166,\n",
       " 85753,\n",
       " 400068,\n",
       " 1017,\n",
       " 261900,\n",
       " 110767,\n",
       " 837,\n",
       " 28192,\n",
       " 15772,\n",
       " 200357,\n",
       " 44008,\n",
       " 419148,\n",
       " 456584,\n",
       " 34843,\n",
       " 364488,\n",
       " 185237,\n",
       " 38083,\n",
       " 271258,\n",
       " 329031,\n",
       " 130027,\n",
       " 67224,\n",
       " 47065,\n",
       " 50125,\n",
       " 6412,\n",
       " 55165,\n",
       " 197837,\n",
       " 509486,\n",
       " 27472,\n",
       " 31252,\n",
       " 12352,\n",
       " 577246,\n",
       " 529036,\n",
       " 39883,\n",
       " 10192,\n",
       " 107527,\n",
       " 288174,\n",
       " 142447,\n",
       " 57325,\n",
       " 60925,\n",
       " 92232,\n",
       " 226266,\n",
       " 492216,\n",
       " 605137,\n",
       " 66144,\n",
       " 620795,\n",
       " 153067,\n",
       " 341810,\n",
       " 338570,\n",
       " 104467,\n",
       " 219970,\n",
       " 79459,\n",
       " 174665,\n",
       " 554771,\n",
       " 258840,\n",
       " 364128,\n",
       " 11272,\n",
       " 615216,\n",
       " 343070,\n",
       " 509666,\n",
       " 258480,\n",
       " 205757,\n",
       " 186677,\n",
       " 60565,\n",
       " 243900,\n",
       " 248400,\n",
       " 282056,\n",
       " 538932,\n",
       " 477,\n",
       " 28012,\n",
       " 24952,\n",
       " 95472,\n",
       " 3174,\n",
       " 6232,\n",
       " 510205,\n",
       " 114187,\n",
       " 186497,\n",
       " 377234,\n",
       " 440206,\n",
       " 508766,\n",
       " 97809,\n",
       " 468644,\n",
       " 396649,\n",
       " 239940,\n",
       " 71724,\n",
       " 493115,\n",
       " 425088,\n",
       " 43296,\n",
       " 319311,\n",
       " 69384,\n",
       " 115627,\n",
       " 381551,\n",
       " 401148,\n",
       " 269278,\n",
       " 111667,\n",
       " 332991,\n",
       " 117967,\n",
       " 108067,\n",
       " 181637,\n",
       " 71544,\n",
       " 53365,\n",
       " 353870,\n",
       " 510385,\n",
       " 313731,\n",
       " 15952,\n",
       " 35023,\n",
       " 223390,\n",
       " 55885,\n",
       " 145687,\n",
       " 70104,\n",
       " 478363,\n",
       " 417168,\n",
       " 498149,\n",
       " 286554,\n",
       " 534072,\n",
       " 293213,\n",
       " 118147,\n",
       " 229680,\n",
       " 68664,\n",
       " 81253,\n",
       " 634291,\n",
       " 393431,\n",
       " 351890,\n",
       " 294653,\n",
       " 337310,\n",
       " 202517,\n",
       " 103387,\n",
       " 204497,\n",
       " 176461,\n",
       " 30352,\n",
       " 483043,\n",
       " 4972,\n",
       " 326331,\n",
       " 596317,\n",
       " 160807,\n",
       " 161347,\n",
       " 25852,\n",
       " 255240,\n",
       " 33583,\n",
       " 122647,\n",
       " 238500,\n",
       " 65064,\n",
       " 333351,\n",
       " 4792,\n",
       " 381371,\n",
       " 555311,\n",
       " 312471,\n",
       " 52645,\n",
       " 88812,\n",
       " 203777,\n",
       " 200177,\n",
       " 254160,\n",
       " 22612,\n",
       " 56965,\n",
       " 29452,\n",
       " 38263,\n",
       " 79639,\n",
       " 25672,\n",
       " 58945,\n",
       " 35203,\n",
       " 32332,\n",
       " 121747,\n",
       " 315351,\n",
       " 25312,\n",
       " 78739,\n",
       " 179477,\n",
       " 11632,\n",
       " 390011,\n",
       " 54805,\n",
       " 224110,\n",
       " 297353,\n",
       " 353150,\n",
       " 48505,\n",
       " 211337,\n",
       " 222850,\n",
       " 413388,\n",
       " 3892,\n",
       " 232560,\n",
       " 19552,\n",
       " 118867,\n",
       " 88273,\n",
       " 58585,\n",
       " 360709,\n",
       " 591106,\n",
       " 635371,\n",
       " 210437,\n",
       " 162247,\n",
       " 335870,\n",
       " 243000,\n",
       " 1377,\n",
       " 126427,\n",
       " 139927,\n",
       " 613056,\n",
       " 326511,\n",
       " 18832,\n",
       " 349910,\n",
       " 24232,\n",
       " 389291,\n",
       " 289614,\n",
       " 108607,\n",
       " 19912,\n",
       " 380651,\n",
       " 578146,\n",
       " 83593,\n",
       " 402588,\n",
       " 117,\n",
       " 210257,\n",
       " 157387,\n",
       " 35923,\n",
       " 256680,\n",
       " 490776,\n",
       " 89352,\n",
       " 576526,\n",
       " 239040,\n",
       " 102307,\n",
       " 400968,\n",
       " 38443,\n",
       " 332811,\n",
       " 184697,\n",
       " 24772,\n",
       " 165847,\n",
       " 452984,\n",
       " 38803,\n",
       " 42577,\n",
       " 157207,\n",
       " 166027,\n",
       " 65784,\n",
       " 93672,\n",
       " 298253,\n",
       " 73163,\n",
       " 175025,\n",
       " 442364,\n",
       " 137587,\n",
       " 425808,\n",
       " 449384,\n",
       " 67404,\n",
       " 114727,\n",
       " 2097,\n",
       " 215471,\n",
       " 47605,\n",
       " 343430,\n",
       " 51205,\n",
       " 216011,\n",
       " 103027,\n",
       " 453344,\n",
       " 50845,\n",
       " 109867,\n",
       " 467024,\n",
       " 2997,\n",
       " 100507,\n",
       " 149647,\n",
       " 82513,\n",
       " 72983,\n",
       " 437867,\n",
       " 457664,\n",
       " 372027,\n",
       " 8572,\n",
       " 217990,\n",
       " 41861,\n",
       " 418428,\n",
       " 118327,\n",
       " 300053,\n",
       " 29992,\n",
       " 600277,\n",
       " 142627,\n",
       " 199277,\n",
       " 216910,\n",
       " 316611,\n",
       " 597037,\n",
       " 23512,\n",
       " 274318,\n",
       " 163867,\n",
       " 485382,\n",
       " 210077,\n",
       " 216730,\n",
       " 10552,\n",
       " 34483,\n",
       " 442005,\n",
       " 36643,\n",
       " 146227,\n",
       " 95832,\n",
       " 384791,\n",
       " 458924,\n",
       " 471524,\n",
       " 297893,\n",
       " 291053,\n",
       " 179117,\n",
       " 81079,\n",
       " 474944,\n",
       " 92952,\n",
       " 8212,\n",
       " 208997,\n",
       " 54625,\n",
       " 122287,\n",
       " 259200,\n",
       " 304913,\n",
       " 134707,\n",
       " 422928,\n",
       " 550452,\n",
       " 211697,\n",
       " 426348,\n",
       " 460724,\n",
       " 156307,\n",
       " 101047,\n",
       " 189377,\n",
       " 17212,\n",
       " 11452,\n",
       " 62905,\n",
       " 5512,\n",
       " 351350,\n",
       " 80359,\n",
       " 73883,\n",
       " 237780,\n",
       " 298433,\n",
       " 228960,\n",
       " 233100,\n",
       " 301853,\n",
       " 352790,\n",
       " 30892,\n",
       " 622055,\n",
       " 2457,\n",
       " 154687,\n",
       " 56065,\n",
       " 97629,\n",
       " 72083,\n",
       " 15232,\n",
       " 88093,\n",
       " 188297,\n",
       " 60025,\n",
       " 418248,\n",
       " 197657,\n",
       " 79099,\n",
       " 71904,\n",
       " 273238,\n",
       " 43649,\n",
       " 354050,\n",
       " 12172,\n",
       " 524976,\n",
       " 341690,\n",
       " 370292,\n",
       " 267720,\n",
       " 471224,\n",
       " 14392,\n",
       " 380531,\n",
       " 504148,\n",
       " 571909,\n",
       " 35443,\n",
       " 140707,\n",
       " 650005,\n",
       " 561310,\n",
       " 201497,\n",
       " 230280,\n",
       " 44967,\n",
       " 521415,\n",
       " 177576,\n",
       " 266280,\n",
       " 395629,\n",
       " 442784,\n",
       " 425328,\n",
       " 457904,\n",
       " 512065,\n",
       " 622115,\n",
       " 363828,\n",
       " 99667,\n",
       " 4132,\n",
       " 35803,\n",
       " 515478,\n",
       " 3774,\n",
       " 360050,\n",
       " 225966,\n",
       " 587746,\n",
       " 359870,\n",
       " 618696,\n",
       " 19612,\n",
       " 44247,\n",
       " 218770,\n",
       " 223090,\n",
       " 221470,\n",
       " 221290,\n",
       " 4852,\n",
       " 219670,\n",
       " 128287,\n",
       " 482383,\n",
       " 367787,\n",
       " 552491,\n",
       " 229740,\n",
       " 44427,\n",
       " 343490,\n",
       " 443684,\n",
       " 380352,\n",
       " 558070,\n",
       " 400848,\n",
       " 503068,\n",
       " 129907,\n",
       " 228661,\n",
       " 284096,\n",
       " 44607,\n",
       " 234060,\n",
       " 232440,\n",
       " 451964,\n",
       " 172025,\n",
       " 211757,\n",
       " 439906,\n",
       " 399948,\n",
       " 147367,\n",
       " 515118,\n",
       " 415068,\n",
       " 241260,\n",
       " 149527,\n",
       " 317571,\n",
       " 563649,\n",
       " 79339,\n",
       " 89772,\n",
       " 399228,\n",
       " 442065,\n",
       " 247020,\n",
       " 197717,\n",
       " 208157,\n",
       " 225249,\n",
       " 320811,\n",
       " 221830,\n",
       " 309473,\n",
       " 168427,\n",
       " 276356,\n",
       " 447104,\n",
       " 564369,\n",
       " 73943,\n",
       " 417228,\n",
       " 545292,\n",
       " 55405,\n",
       " 45505,\n",
       " 79879,\n",
       " 53065,\n",
       " 502708,\n",
       " 300293,\n",
       " 480763,\n",
       " 435768,\n",
       " 114247,\n",
       " 18532,\n",
       " 346910,\n",
       " 176869,\n",
       " 290574,\n",
       " 12232,\n",
       " 537552,\n",
       " 193397,\n",
       " 372621,\n",
       " 127387,\n",
       " 314331,\n",
       " 102367,\n",
       " 576046,\n",
       " 346370,\n",
       " 100747,\n",
       " 131347,\n",
       " 376574,\n",
       " 201317,\n",
       " 419568,\n",
       " 492276,\n",
       " 517278,\n",
       " 302273,\n",
       " 213015,\n",
       " 336290,\n",
       " 243060,\n",
       " 499828,\n",
       " 243600,\n",
       " 210137,\n",
       " 40483,\n",
       " 28612,\n",
       " 62065,\n",
       " 309113,\n",
       " 502528,\n",
       " 136027,\n",
       " 481843,\n",
       " 310373,\n",
       " 354470,\n",
       " 304793,\n",
       " 572089,\n",
       " 59905,\n",
       " 42996,\n",
       " 353210,\n",
       " 405708,\n",
       " 80419,\n",
       " 114067,\n",
       " 143227,\n",
       " 82753,\n",
       " 119827,\n",
       " 63504,\n",
       " 155107,\n",
       " 161227,\n",
       " 444764,\n",
       " 94812,\n",
       " 67104,\n",
       " 181157,\n",
       " 64944,\n",
       " 221110,\n",
       " 125767,\n",
       " 84553,\n",
       " 154747,\n",
       " 42816,\n",
       " 3234,\n",
       " 97869,\n",
       " 66204,\n",
       " 59365,\n",
       " 8812,\n",
       " 305513,\n",
       " 90132,\n",
       " 442964,\n",
       " ...]"
      ]
     },
     "execution_count": 110,
     "metadata": {},
     "output_type": "execute_result"
    }
   ],
   "source": [
    "aux=list(df.notnull().sum(1).groupby([df[\"t_nombre_del_beneficiario\"],df[\"t_nombre_del_proyecto\"],df[\"t_programa_fondo\"],df[\"d_fecha_ocurr\"]]).idxmax())\n",
    "aux"
   ]
  },
  {
   "cell_type": "code",
   "execution_count": 111,
   "metadata": {
    "ExecuteTime": {
     "end_time": "2023-08-09T00:16:49.842036Z",
     "start_time": "2023-08-09T00:16:49.839892Z"
    }
   },
   "outputs": [
    {
     "data": {
      "text/plain": [
       "(655333, 26)"
      ]
     },
     "execution_count": 111,
     "metadata": {},
     "output_type": "execute_result"
    }
   ],
   "source": [
    "df.shape"
   ]
  },
  {
   "cell_type": "code",
   "execution_count": 112,
   "metadata": {
    "ExecuteTime": {
     "end_time": "2023-08-09T00:16:49.889595Z",
     "start_time": "2023-08-09T00:16:49.887710Z"
    }
   },
   "outputs": [
    {
     "data": {
      "text/plain": [
       "67094"
      ]
     },
     "execution_count": 112,
     "metadata": {},
     "output_type": "execute_result"
    }
   ],
   "source": [
    "len(aux)"
   ]
  },
  {
   "cell_type": "code",
   "execution_count": 113,
   "metadata": {
    "ExecuteTime": {
     "end_time": "2023-08-09T00:16:53.228385Z",
     "start_time": "2023-08-09T00:16:49.932592Z"
    },
    "id": "IE-eNRi7HaBO",
    "outputId": "790bdd75-1554-45f2-bc31-91102e39591b",
    "scrolled": true
   },
   "outputs": [
    {
     "data": {
      "text/html": [
       "<div>\n",
       "<style scoped>\n",
       "    .dataframe tbody tr th:only-of-type {\n",
       "        vertical-align: middle;\n",
       "    }\n",
       "\n",
       "    .dataframe tbody tr th {\n",
       "        vertical-align: top;\n",
       "    }\n",
       "\n",
       "    .dataframe thead th {\n",
       "        text-align: right;\n",
       "    }\n",
       "</style>\n",
       "<table border=\"1\" class=\"dataframe\">\n",
       "  <thead>\n",
       "    <tr style=\"text-align: right;\">\n",
       "      <th></th>\n",
       "      <th>c_edad</th>\n",
       "      <th>c_minutos</th>\n",
       "      <th>c_monto_de_apoyo</th>\n",
       "      <th>c_horas</th>\n",
       "      <th>v_ent_regis</th>\n",
       "      <th>v_mun_regis</th>\n",
       "      <th>v_ent_resid</th>\n",
       "      <th>v_mun_resid</th>\n",
       "      <th>v_ent_ocurr</th>\n",
       "      <th>v_mun_ocurr</th>\n",
       "      <th>v_sexo</th>\n",
       "      <th>v_ocupacion</th>\n",
       "      <th>v_edo_civil</th>\n",
       "      <th>v_lugar_ocur</th>\n",
       "      <th>v_sitio_ocur</th>\n",
       "      <th>v_nacionalid</th>\n",
       "      <th>v_grupo</th>\n",
       "      <th>v_lengua</th>\n",
       "      <th>v_clave</th>\n",
       "      <th>v_escolarida</th>\n",
       "      <th>d_fecha_nac</th>\n",
       "      <th>d_fecha_ocurr</th>\n",
       "      <th>t_programa_fondo</th>\n",
       "      <th>t_nombre_del_proyecto</th>\n",
       "      <th>t_nombre_del_beneficiario</th>\n",
       "      <th>c_salario</th>\n",
       "    </tr>\n",
       "  </thead>\n",
       "  <tbody>\n",
       "    <tr>\n",
       "      <th>512169</th>\n",
       "      <td>4055</td>\n",
       "      <td>30</td>\n",
       "      <td>534650.0</td>\n",
       "      <td>10</td>\n",
       "      <td>25.0</td>\n",
       "      <td>12</td>\n",
       "      <td>2</td>\n",
       "      <td>2</td>\n",
       "      <td>NaN</td>\n",
       "      <td>12</td>\n",
       "      <td>1</td>\n",
       "      <td>98</td>\n",
       "      <td>NaN</td>\n",
       "      <td>8</td>\n",
       "      <td>12</td>\n",
       "      <td>1</td>\n",
       "      <td>16</td>\n",
       "      <td>9.0</td>\n",
       "      <td>6836</td>\n",
       "      <td>4</td>\n",
       "      <td>1952-12-28</td>\n",
       "      <td>2008-07-22</td>\n",
       "      <td>programa para el fomento de recursos humanos d...</td>\n",
       "      <td>becas singularity u mexico summit 4 0 industri...</td>\n",
       "      <td>4 0 industrial cluster a c</td>\n",
       "      <td>3000</td>\n",
       "    </tr>\n",
       "    <tr>\n",
       "      <th>521339</th>\n",
       "      <td>4085</td>\n",
       "      <td>30</td>\n",
       "      <td>534650.0</td>\n",
       "      <td>14</td>\n",
       "      <td>25.0</td>\n",
       "      <td>12</td>\n",
       "      <td>25</td>\n",
       "      <td>12</td>\n",
       "      <td>NaN</td>\n",
       "      <td>12</td>\n",
       "      <td>1</td>\n",
       "      <td>99</td>\n",
       "      <td>NaN</td>\n",
       "      <td>88</td>\n",
       "      <td>3</td>\n",
       "      <td>1</td>\n",
       "      <td>3</td>\n",
       "      <td>NaN</td>\n",
       "      <td>6836</td>\n",
       "      <td>3</td>\n",
       "      <td>1925-05-28</td>\n",
       "      <td>2010-07-28</td>\n",
       "      <td>programa para el fomento de recursos humanos d...</td>\n",
       "      <td>becas singularity u mexico summit 4 0 industri...</td>\n",
       "      <td>4 0 industrial cluster a c</td>\n",
       "      <td>3000</td>\n",
       "    </tr>\n",
       "    <tr>\n",
       "      <th>43460</th>\n",
       "      <td>4061</td>\n",
       "      <td>30</td>\n",
       "      <td>534650.0</td>\n",
       "      <td>14</td>\n",
       "      <td>5.0</td>\n",
       "      <td>30</td>\n",
       "      <td>5</td>\n",
       "      <td>30</td>\n",
       "      <td>NaN</td>\n",
       "      <td>30</td>\n",
       "      <td>2</td>\n",
       "      <td>11</td>\n",
       "      <td>NaN</td>\n",
       "      <td>88</td>\n",
       "      <td>3</td>\n",
       "      <td>1</td>\n",
       "      <td>8</td>\n",
       "      <td>NaN</td>\n",
       "      <td>6836</td>\n",
       "      <td>6</td>\n",
       "      <td>1950-04-30</td>\n",
       "      <td>2011-04-11</td>\n",
       "      <td>programa para el fomento de recursos humanos d...</td>\n",
       "      <td>becas singularity u mexico summit 4 0 industri...</td>\n",
       "      <td>4 0 industrial cluster a c</td>\n",
       "      <td>3000</td>\n",
       "    </tr>\n",
       "    <tr>\n",
       "      <th>521697</th>\n",
       "      <td>4078</td>\n",
       "      <td>45</td>\n",
       "      <td>534650.0</td>\n",
       "      <td>14</td>\n",
       "      <td>NaN</td>\n",
       "      <td>11</td>\n",
       "      <td>25</td>\n",
       "      <td>11</td>\n",
       "      <td>NaN</td>\n",
       "      <td>11</td>\n",
       "      <td>2</td>\n",
       "      <td>11</td>\n",
       "      <td>NaN</td>\n",
       "      <td>88</td>\n",
       "      <td>1</td>\n",
       "      <td>1</td>\n",
       "      <td>7</td>\n",
       "      <td>NaN</td>\n",
       "      <td>6836</td>\n",
       "      <td>1</td>\n",
       "      <td>1932-11-20</td>\n",
       "      <td>2011-06-11</td>\n",
       "      <td>programa para el fomento de recursos humanos d...</td>\n",
       "      <td>becas singularity u mexico summit 4 0 industri...</td>\n",
       "      <td>4 0 industrial cluster a c</td>\n",
       "      <td>4500</td>\n",
       "    </tr>\n",
       "    <tr>\n",
       "      <th>617900</th>\n",
       "      <td>4046</td>\n",
       "      <td>45</td>\n",
       "      <td>534650.0</td>\n",
       "      <td>17</td>\n",
       "      <td>30.0</td>\n",
       "      <td>121</td>\n",
       "      <td>30</td>\n",
       "      <td>13</td>\n",
       "      <td>NaN</td>\n",
       "      <td>121</td>\n",
       "      <td>2</td>\n",
       "      <td>98</td>\n",
       "      <td>NaN</td>\n",
       "      <td>4</td>\n",
       "      <td>10</td>\n",
       "      <td>1</td>\n",
       "      <td>17</td>\n",
       "      <td>NaN</td>\n",
       "      <td>6836</td>\n",
       "      <td>6</td>\n",
       "      <td>1966-02-15</td>\n",
       "      <td>2012-11-03</td>\n",
       "      <td>programa para el fomento de recursos humanos d...</td>\n",
       "      <td>becas singularity u mexico summit 4 0 industri...</td>\n",
       "      <td>4 0 industrial cluster a c</td>\n",
       "      <td>4500</td>\n",
       "    </tr>\n",
       "    <tr>\n",
       "      <th>...</th>\n",
       "      <td>...</td>\n",
       "      <td>...</td>\n",
       "      <td>...</td>\n",
       "      <td>...</td>\n",
       "      <td>...</td>\n",
       "      <td>...</td>\n",
       "      <td>...</td>\n",
       "      <td>...</td>\n",
       "      <td>...</td>\n",
       "      <td>...</td>\n",
       "      <td>...</td>\n",
       "      <td>...</td>\n",
       "      <td>...</td>\n",
       "      <td>...</td>\n",
       "      <td>...</td>\n",
       "      <td>...</td>\n",
       "      <td>...</td>\n",
       "      <td>...</td>\n",
       "      <td>...</td>\n",
       "      <td>...</td>\n",
       "      <td>...</td>\n",
       "      <td>...</td>\n",
       "      <td>...</td>\n",
       "      <td>...</td>\n",
       "      <td>...</td>\n",
       "      <td>...</td>\n",
       "    </tr>\n",
       "    <tr>\n",
       "      <th>571904</th>\n",
       "      <td>4080</td>\n",
       "      <td>30</td>\n",
       "      <td>2188623.0</td>\n",
       "      <td>13</td>\n",
       "      <td>28.0</td>\n",
       "      <td>33</td>\n",
       "      <td>28</td>\n",
       "      <td>33</td>\n",
       "      <td>NaN</td>\n",
       "      <td>33</td>\n",
       "      <td>2</td>\n",
       "      <td>11</td>\n",
       "      <td>NaN</td>\n",
       "      <td>88</td>\n",
       "      <td>11</td>\n",
       "      <td>1</td>\n",
       "      <td>2</td>\n",
       "      <td>2.0</td>\n",
       "      <td>6765</td>\n",
       "      <td>4</td>\n",
       "      <td>1935-02-19</td>\n",
       "      <td>2015-12-24</td>\n",
       "      <td>programa estatal para el desarrollo de la indu...</td>\n",
       "      <td>creacion de un centro de desarrollo de aplicac...</td>\n",
       "      <td>unosquare s a de c v</td>\n",
       "      <td>3000</td>\n",
       "    </tr>\n",
       "    <tr>\n",
       "      <th>78614</th>\n",
       "      <td>4085</td>\n",
       "      <td>0</td>\n",
       "      <td>2188623.0</td>\n",
       "      <td>7</td>\n",
       "      <td>8.0</td>\n",
       "      <td>19</td>\n",
       "      <td>8</td>\n",
       "      <td>19</td>\n",
       "      <td>NaN</td>\n",
       "      <td>19</td>\n",
       "      <td>1</td>\n",
       "      <td>11</td>\n",
       "      <td>NaN</td>\n",
       "      <td>88</td>\n",
       "      <td>11</td>\n",
       "      <td>1</td>\n",
       "      <td>4</td>\n",
       "      <td>NaN</td>\n",
       "      <td>6765</td>\n",
       "      <td>3</td>\n",
       "      <td>1929-11-15</td>\n",
       "      <td>2015-12-25</td>\n",
       "      <td>programa estatal para el desarrollo de la indu...</td>\n",
       "      <td>creacion de un centro de desarrollo de aplicac...</td>\n",
       "      <td>unosquare s a de c v</td>\n",
       "      <td>0</td>\n",
       "    </tr>\n",
       "    <tr>\n",
       "      <th>92827</th>\n",
       "      <td>4089</td>\n",
       "      <td>20</td>\n",
       "      <td>2188623.0</td>\n",
       "      <td>17</td>\n",
       "      <td>8.0</td>\n",
       "      <td>37</td>\n",
       "      <td>8</td>\n",
       "      <td>37</td>\n",
       "      <td>NaN</td>\n",
       "      <td>37</td>\n",
       "      <td>1</td>\n",
       "      <td>11</td>\n",
       "      <td>NaN</td>\n",
       "      <td>88</td>\n",
       "      <td>1</td>\n",
       "      <td>1</td>\n",
       "      <td>6</td>\n",
       "      <td>2.0</td>\n",
       "      <td>6765</td>\n",
       "      <td>4</td>\n",
       "      <td>1926-10-02</td>\n",
       "      <td>2015-12-26</td>\n",
       "      <td>programa estatal para el desarrollo de la indu...</td>\n",
       "      <td>creacion de un centro de desarrollo de aplicac...</td>\n",
       "      <td>unosquare s a de c v</td>\n",
       "      <td>2000</td>\n",
       "    </tr>\n",
       "    <tr>\n",
       "      <th>410203</th>\n",
       "      <td>4085</td>\n",
       "      <td>0</td>\n",
       "      <td>2188623.0</td>\n",
       "      <td>15</td>\n",
       "      <td>19.0</td>\n",
       "      <td>14</td>\n",
       "      <td>19</td>\n",
       "      <td>13</td>\n",
       "      <td>NaN</td>\n",
       "      <td>13</td>\n",
       "      <td>1</td>\n",
       "      <td>6</td>\n",
       "      <td>NaN</td>\n",
       "      <td>88</td>\n",
       "      <td>11</td>\n",
       "      <td>1</td>\n",
       "      <td>4</td>\n",
       "      <td>9.0</td>\n",
       "      <td>6765</td>\n",
       "      <td>3</td>\n",
       "      <td>1930-06-29</td>\n",
       "      <td>2015-12-27</td>\n",
       "      <td>programa estatal para el desarrollo de la indu...</td>\n",
       "      <td>creacion de un centro de desarrollo de aplicac...</td>\n",
       "      <td>unosquare s a de c v</td>\n",
       "      <td>0</td>\n",
       "    </tr>\n",
       "    <tr>\n",
       "      <th>43704</th>\n",
       "      <td>4061</td>\n",
       "      <td>40</td>\n",
       "      <td>2188623.0</td>\n",
       "      <td>15</td>\n",
       "      <td>5.0</td>\n",
       "      <td>18</td>\n",
       "      <td>5</td>\n",
       "      <td>18</td>\n",
       "      <td>NaN</td>\n",
       "      <td>18</td>\n",
       "      <td>1</td>\n",
       "      <td>11</td>\n",
       "      <td>NaN</td>\n",
       "      <td>88</td>\n",
       "      <td>3</td>\n",
       "      <td>1</td>\n",
       "      <td>10</td>\n",
       "      <td>2.0</td>\n",
       "      <td>6765</td>\n",
       "      <td>9</td>\n",
       "      <td>1953-11-18</td>\n",
       "      <td>2015-12-28</td>\n",
       "      <td>programa estatal para el desarrollo de la indu...</td>\n",
       "      <td>creacion de un centro de desarrollo de aplicac...</td>\n",
       "      <td>unosquare s a de c v</td>\n",
       "      <td>4000</td>\n",
       "    </tr>\n",
       "  </tbody>\n",
       "</table>\n",
       "<p>67094 rows × 26 columns</p>\n",
       "</div>"
      ],
      "text/plain": [
       "        c_edad  c_minutos c_monto_de_apoyo  c_horas  v_ent_regis  v_mun_regis  \\\n",
       "512169    4055         30         534650.0       10         25.0           12   \n",
       "521339    4085         30         534650.0       14         25.0           12   \n",
       "43460     4061         30         534650.0       14          5.0           30   \n",
       "521697    4078         45         534650.0       14          NaN           11   \n",
       "617900    4046         45         534650.0       17         30.0          121   \n",
       "...        ...        ...              ...      ...          ...          ...   \n",
       "571904    4080         30        2188623.0       13         28.0           33   \n",
       "78614     4085          0        2188623.0        7          8.0           19   \n",
       "92827     4089         20        2188623.0       17          8.0           37   \n",
       "410203    4085          0        2188623.0       15         19.0           14   \n",
       "43704     4061         40        2188623.0       15          5.0           18   \n",
       "\n",
       "        v_ent_resid  v_mun_resid  v_ent_ocurr  v_mun_ocurr v_sexo  \\\n",
       "512169            2            2          NaN           12      1   \n",
       "521339           25           12          NaN           12      1   \n",
       "43460             5           30          NaN           30      2   \n",
       "521697           25           11          NaN           11      2   \n",
       "617900           30           13          NaN          121      2   \n",
       "...             ...          ...          ...          ...    ...   \n",
       "571904           28           33          NaN           33      2   \n",
       "78614             8           19          NaN           19      1   \n",
       "92827             8           37          NaN           37      1   \n",
       "410203           19           13          NaN           13      1   \n",
       "43704             5           18          NaN           18      1   \n",
       "\n",
       "        v_ocupacion  v_edo_civil  v_lugar_ocur  v_sitio_ocur  v_nacionalid  \\\n",
       "512169           98          NaN             8            12             1   \n",
       "521339           99          NaN            88             3             1   \n",
       "43460            11          NaN            88             3             1   \n",
       "521697           11          NaN            88             1             1   \n",
       "617900           98          NaN             4            10             1   \n",
       "...             ...          ...           ...           ...           ...   \n",
       "571904           11          NaN            88            11             1   \n",
       "78614            11          NaN            88            11             1   \n",
       "92827            11          NaN            88             1             1   \n",
       "410203            6          NaN            88            11             1   \n",
       "43704            11          NaN            88             3             1   \n",
       "\n",
       "        v_grupo  v_lengua  v_clave  v_escolarida d_fecha_nac d_fecha_ocurr  \\\n",
       "512169       16       9.0     6836             4  1952-12-28    2008-07-22   \n",
       "521339        3       NaN     6836             3  1925-05-28    2010-07-28   \n",
       "43460         8       NaN     6836             6  1950-04-30    2011-04-11   \n",
       "521697        7       NaN     6836             1  1932-11-20    2011-06-11   \n",
       "617900       17       NaN     6836             6  1966-02-15    2012-11-03   \n",
       "...         ...       ...      ...           ...         ...           ...   \n",
       "571904        2       2.0     6765             4  1935-02-19    2015-12-24   \n",
       "78614         4       NaN     6765             3  1929-11-15    2015-12-25   \n",
       "92827         6       2.0     6765             4  1926-10-02    2015-12-26   \n",
       "410203        4       9.0     6765             3  1930-06-29    2015-12-27   \n",
       "43704        10       2.0     6765             9  1953-11-18    2015-12-28   \n",
       "\n",
       "                                         t_programa_fondo  \\\n",
       "512169  programa para el fomento de recursos humanos d...   \n",
       "521339  programa para el fomento de recursos humanos d...   \n",
       "43460   programa para el fomento de recursos humanos d...   \n",
       "521697  programa para el fomento de recursos humanos d...   \n",
       "617900  programa para el fomento de recursos humanos d...   \n",
       "...                                                   ...   \n",
       "571904  programa estatal para el desarrollo de la indu...   \n",
       "78614   programa estatal para el desarrollo de la indu...   \n",
       "92827   programa estatal para el desarrollo de la indu...   \n",
       "410203  programa estatal para el desarrollo de la indu...   \n",
       "43704   programa estatal para el desarrollo de la indu...   \n",
       "\n",
       "                                    t_nombre_del_proyecto  \\\n",
       "512169  becas singularity u mexico summit 4 0 industri...   \n",
       "521339  becas singularity u mexico summit 4 0 industri...   \n",
       "43460   becas singularity u mexico summit 4 0 industri...   \n",
       "521697  becas singularity u mexico summit 4 0 industri...   \n",
       "617900  becas singularity u mexico summit 4 0 industri...   \n",
       "...                                                   ...   \n",
       "571904  creacion de un centro de desarrollo de aplicac...   \n",
       "78614   creacion de un centro de desarrollo de aplicac...   \n",
       "92827   creacion de un centro de desarrollo de aplicac...   \n",
       "410203  creacion de un centro de desarrollo de aplicac...   \n",
       "43704   creacion de un centro de desarrollo de aplicac...   \n",
       "\n",
       "         t_nombre_del_beneficiario  c_salario  \n",
       "512169  4 0 industrial cluster a c       3000  \n",
       "521339  4 0 industrial cluster a c       3000  \n",
       "43460   4 0 industrial cluster a c       3000  \n",
       "521697  4 0 industrial cluster a c       4500  \n",
       "617900  4 0 industrial cluster a c       4500  \n",
       "...                            ...        ...  \n",
       "571904        unosquare s a de c v       3000  \n",
       "78614         unosquare s a de c v          0  \n",
       "92827         unosquare s a de c v       2000  \n",
       "410203        unosquare s a de c v          0  \n",
       "43704         unosquare s a de c v       4000  \n",
       "\n",
       "[67094 rows x 26 columns]"
      ]
     },
     "execution_count": 113,
     "metadata": {},
     "output_type": "execute_result"
    }
   ],
   "source": [
    "df.loc[df.notnull().sum(1).groupby([df[\"t_nombre_del_beneficiario\"],df[\"t_nombre_del_proyecto\"],df[\"t_programa_fondo\"],df[\"d_fecha_ocurr\"]]).idxmax()]"
   ]
  },
  {
   "cell_type": "code",
   "execution_count": 114,
   "metadata": {
    "ExecuteTime": {
     "end_time": "2023-08-09T00:16:53.319473Z",
     "start_time": "2023-08-09T00:16:53.276415Z"
    },
    "scrolled": true
   },
   "outputs": [
    {
     "data": {
      "text/html": [
       "<div>\n",
       "<style scoped>\n",
       "    .dataframe tbody tr th:only-of-type {\n",
       "        vertical-align: middle;\n",
       "    }\n",
       "\n",
       "    .dataframe tbody tr th {\n",
       "        vertical-align: top;\n",
       "    }\n",
       "\n",
       "    .dataframe thead th {\n",
       "        text-align: right;\n",
       "    }\n",
       "</style>\n",
       "<table border=\"1\" class=\"dataframe\">\n",
       "  <thead>\n",
       "    <tr style=\"text-align: right;\">\n",
       "      <th></th>\n",
       "      <th>c_edad</th>\n",
       "      <th>c_minutos</th>\n",
       "      <th>c_monto_de_apoyo</th>\n",
       "      <th>c_horas</th>\n",
       "      <th>v_ent_regis</th>\n",
       "      <th>v_mun_regis</th>\n",
       "      <th>v_ent_resid</th>\n",
       "      <th>v_mun_resid</th>\n",
       "      <th>v_ent_ocurr</th>\n",
       "      <th>v_mun_ocurr</th>\n",
       "      <th>v_sexo</th>\n",
       "      <th>v_ocupacion</th>\n",
       "      <th>v_edo_civil</th>\n",
       "      <th>v_lugar_ocur</th>\n",
       "      <th>v_sitio_ocur</th>\n",
       "      <th>v_nacionalid</th>\n",
       "      <th>v_grupo</th>\n",
       "      <th>v_lengua</th>\n",
       "      <th>v_clave</th>\n",
       "      <th>v_escolarida</th>\n",
       "      <th>d_fecha_nac</th>\n",
       "      <th>d_fecha_ocurr</th>\n",
       "      <th>t_programa_fondo</th>\n",
       "      <th>t_nombre_del_proyecto</th>\n",
       "      <th>t_nombre_del_beneficiario</th>\n",
       "      <th>c_salario</th>\n",
       "    </tr>\n",
       "  </thead>\n",
       "  <tbody>\n",
       "    <tr>\n",
       "      <th>512169</th>\n",
       "      <td>4055</td>\n",
       "      <td>30</td>\n",
       "      <td>534650.0</td>\n",
       "      <td>10</td>\n",
       "      <td>25.0</td>\n",
       "      <td>12</td>\n",
       "      <td>2</td>\n",
       "      <td>2</td>\n",
       "      <td>NaN</td>\n",
       "      <td>12</td>\n",
       "      <td>1</td>\n",
       "      <td>98</td>\n",
       "      <td>NaN</td>\n",
       "      <td>8</td>\n",
       "      <td>12</td>\n",
       "      <td>1</td>\n",
       "      <td>16</td>\n",
       "      <td>9.0</td>\n",
       "      <td>6836</td>\n",
       "      <td>4</td>\n",
       "      <td>1952-12-28</td>\n",
       "      <td>2008-07-22</td>\n",
       "      <td>programa para el fomento de recursos humanos d...</td>\n",
       "      <td>becas singularity u mexico summit 4 0 industri...</td>\n",
       "      <td>4 0 industrial cluster a c</td>\n",
       "      <td>3000</td>\n",
       "    </tr>\n",
       "    <tr>\n",
       "      <th>521339</th>\n",
       "      <td>4085</td>\n",
       "      <td>30</td>\n",
       "      <td>534650.0</td>\n",
       "      <td>14</td>\n",
       "      <td>25.0</td>\n",
       "      <td>12</td>\n",
       "      <td>25</td>\n",
       "      <td>12</td>\n",
       "      <td>NaN</td>\n",
       "      <td>12</td>\n",
       "      <td>1</td>\n",
       "      <td>99</td>\n",
       "      <td>NaN</td>\n",
       "      <td>88</td>\n",
       "      <td>3</td>\n",
       "      <td>1</td>\n",
       "      <td>3</td>\n",
       "      <td>NaN</td>\n",
       "      <td>6836</td>\n",
       "      <td>3</td>\n",
       "      <td>1925-05-28</td>\n",
       "      <td>2010-07-28</td>\n",
       "      <td>programa para el fomento de recursos humanos d...</td>\n",
       "      <td>becas singularity u mexico summit 4 0 industri...</td>\n",
       "      <td>4 0 industrial cluster a c</td>\n",
       "      <td>3000</td>\n",
       "    </tr>\n",
       "    <tr>\n",
       "      <th>43460</th>\n",
       "      <td>4061</td>\n",
       "      <td>30</td>\n",
       "      <td>534650.0</td>\n",
       "      <td>14</td>\n",
       "      <td>5.0</td>\n",
       "      <td>30</td>\n",
       "      <td>5</td>\n",
       "      <td>30</td>\n",
       "      <td>NaN</td>\n",
       "      <td>30</td>\n",
       "      <td>2</td>\n",
       "      <td>11</td>\n",
       "      <td>NaN</td>\n",
       "      <td>88</td>\n",
       "      <td>3</td>\n",
       "      <td>1</td>\n",
       "      <td>8</td>\n",
       "      <td>NaN</td>\n",
       "      <td>6836</td>\n",
       "      <td>6</td>\n",
       "      <td>1950-04-30</td>\n",
       "      <td>2011-04-11</td>\n",
       "      <td>programa para el fomento de recursos humanos d...</td>\n",
       "      <td>becas singularity u mexico summit 4 0 industri...</td>\n",
       "      <td>4 0 industrial cluster a c</td>\n",
       "      <td>3000</td>\n",
       "    </tr>\n",
       "    <tr>\n",
       "      <th>521697</th>\n",
       "      <td>4078</td>\n",
       "      <td>45</td>\n",
       "      <td>534650.0</td>\n",
       "      <td>14</td>\n",
       "      <td>NaN</td>\n",
       "      <td>11</td>\n",
       "      <td>25</td>\n",
       "      <td>11</td>\n",
       "      <td>NaN</td>\n",
       "      <td>11</td>\n",
       "      <td>2</td>\n",
       "      <td>11</td>\n",
       "      <td>NaN</td>\n",
       "      <td>88</td>\n",
       "      <td>1</td>\n",
       "      <td>1</td>\n",
       "      <td>7</td>\n",
       "      <td>NaN</td>\n",
       "      <td>6836</td>\n",
       "      <td>1</td>\n",
       "      <td>1932-11-20</td>\n",
       "      <td>2011-06-11</td>\n",
       "      <td>programa para el fomento de recursos humanos d...</td>\n",
       "      <td>becas singularity u mexico summit 4 0 industri...</td>\n",
       "      <td>4 0 industrial cluster a c</td>\n",
       "      <td>4500</td>\n",
       "    </tr>\n",
       "    <tr>\n",
       "      <th>617900</th>\n",
       "      <td>4046</td>\n",
       "      <td>45</td>\n",
       "      <td>534650.0</td>\n",
       "      <td>17</td>\n",
       "      <td>30.0</td>\n",
       "      <td>121</td>\n",
       "      <td>30</td>\n",
       "      <td>13</td>\n",
       "      <td>NaN</td>\n",
       "      <td>121</td>\n",
       "      <td>2</td>\n",
       "      <td>98</td>\n",
       "      <td>NaN</td>\n",
       "      <td>4</td>\n",
       "      <td>10</td>\n",
       "      <td>1</td>\n",
       "      <td>17</td>\n",
       "      <td>NaN</td>\n",
       "      <td>6836</td>\n",
       "      <td>6</td>\n",
       "      <td>1966-02-15</td>\n",
       "      <td>2012-11-03</td>\n",
       "      <td>programa para el fomento de recursos humanos d...</td>\n",
       "      <td>becas singularity u mexico summit 4 0 industri...</td>\n",
       "      <td>4 0 industrial cluster a c</td>\n",
       "      <td>4500</td>\n",
       "    </tr>\n",
       "    <tr>\n",
       "      <th>...</th>\n",
       "      <td>...</td>\n",
       "      <td>...</td>\n",
       "      <td>...</td>\n",
       "      <td>...</td>\n",
       "      <td>...</td>\n",
       "      <td>...</td>\n",
       "      <td>...</td>\n",
       "      <td>...</td>\n",
       "      <td>...</td>\n",
       "      <td>...</td>\n",
       "      <td>...</td>\n",
       "      <td>...</td>\n",
       "      <td>...</td>\n",
       "      <td>...</td>\n",
       "      <td>...</td>\n",
       "      <td>...</td>\n",
       "      <td>...</td>\n",
       "      <td>...</td>\n",
       "      <td>...</td>\n",
       "      <td>...</td>\n",
       "      <td>...</td>\n",
       "      <td>...</td>\n",
       "      <td>...</td>\n",
       "      <td>...</td>\n",
       "      <td>...</td>\n",
       "      <td>...</td>\n",
       "    </tr>\n",
       "    <tr>\n",
       "      <th>571904</th>\n",
       "      <td>4080</td>\n",
       "      <td>30</td>\n",
       "      <td>2188623.0</td>\n",
       "      <td>13</td>\n",
       "      <td>28.0</td>\n",
       "      <td>33</td>\n",
       "      <td>28</td>\n",
       "      <td>33</td>\n",
       "      <td>NaN</td>\n",
       "      <td>33</td>\n",
       "      <td>2</td>\n",
       "      <td>11</td>\n",
       "      <td>NaN</td>\n",
       "      <td>88</td>\n",
       "      <td>11</td>\n",
       "      <td>1</td>\n",
       "      <td>2</td>\n",
       "      <td>2.0</td>\n",
       "      <td>6765</td>\n",
       "      <td>4</td>\n",
       "      <td>1935-02-19</td>\n",
       "      <td>2015-12-24</td>\n",
       "      <td>programa estatal para el desarrollo de la indu...</td>\n",
       "      <td>creacion de un centro de desarrollo de aplicac...</td>\n",
       "      <td>unosquare s a de c v</td>\n",
       "      <td>3000</td>\n",
       "    </tr>\n",
       "    <tr>\n",
       "      <th>78614</th>\n",
       "      <td>4085</td>\n",
       "      <td>0</td>\n",
       "      <td>2188623.0</td>\n",
       "      <td>7</td>\n",
       "      <td>8.0</td>\n",
       "      <td>19</td>\n",
       "      <td>8</td>\n",
       "      <td>19</td>\n",
       "      <td>NaN</td>\n",
       "      <td>19</td>\n",
       "      <td>1</td>\n",
       "      <td>11</td>\n",
       "      <td>NaN</td>\n",
       "      <td>88</td>\n",
       "      <td>11</td>\n",
       "      <td>1</td>\n",
       "      <td>4</td>\n",
       "      <td>NaN</td>\n",
       "      <td>6765</td>\n",
       "      <td>3</td>\n",
       "      <td>1929-11-15</td>\n",
       "      <td>2015-12-25</td>\n",
       "      <td>programa estatal para el desarrollo de la indu...</td>\n",
       "      <td>creacion de un centro de desarrollo de aplicac...</td>\n",
       "      <td>unosquare s a de c v</td>\n",
       "      <td>0</td>\n",
       "    </tr>\n",
       "    <tr>\n",
       "      <th>92827</th>\n",
       "      <td>4089</td>\n",
       "      <td>20</td>\n",
       "      <td>2188623.0</td>\n",
       "      <td>17</td>\n",
       "      <td>8.0</td>\n",
       "      <td>37</td>\n",
       "      <td>8</td>\n",
       "      <td>37</td>\n",
       "      <td>NaN</td>\n",
       "      <td>37</td>\n",
       "      <td>1</td>\n",
       "      <td>11</td>\n",
       "      <td>NaN</td>\n",
       "      <td>88</td>\n",
       "      <td>1</td>\n",
       "      <td>1</td>\n",
       "      <td>6</td>\n",
       "      <td>2.0</td>\n",
       "      <td>6765</td>\n",
       "      <td>4</td>\n",
       "      <td>1926-10-02</td>\n",
       "      <td>2015-12-26</td>\n",
       "      <td>programa estatal para el desarrollo de la indu...</td>\n",
       "      <td>creacion de un centro de desarrollo de aplicac...</td>\n",
       "      <td>unosquare s a de c v</td>\n",
       "      <td>2000</td>\n",
       "    </tr>\n",
       "    <tr>\n",
       "      <th>410203</th>\n",
       "      <td>4085</td>\n",
       "      <td>0</td>\n",
       "      <td>2188623.0</td>\n",
       "      <td>15</td>\n",
       "      <td>19.0</td>\n",
       "      <td>14</td>\n",
       "      <td>19</td>\n",
       "      <td>13</td>\n",
       "      <td>NaN</td>\n",
       "      <td>13</td>\n",
       "      <td>1</td>\n",
       "      <td>6</td>\n",
       "      <td>NaN</td>\n",
       "      <td>88</td>\n",
       "      <td>11</td>\n",
       "      <td>1</td>\n",
       "      <td>4</td>\n",
       "      <td>9.0</td>\n",
       "      <td>6765</td>\n",
       "      <td>3</td>\n",
       "      <td>1930-06-29</td>\n",
       "      <td>2015-12-27</td>\n",
       "      <td>programa estatal para el desarrollo de la indu...</td>\n",
       "      <td>creacion de un centro de desarrollo de aplicac...</td>\n",
       "      <td>unosquare s a de c v</td>\n",
       "      <td>0</td>\n",
       "    </tr>\n",
       "    <tr>\n",
       "      <th>43704</th>\n",
       "      <td>4061</td>\n",
       "      <td>40</td>\n",
       "      <td>2188623.0</td>\n",
       "      <td>15</td>\n",
       "      <td>5.0</td>\n",
       "      <td>18</td>\n",
       "      <td>5</td>\n",
       "      <td>18</td>\n",
       "      <td>NaN</td>\n",
       "      <td>18</td>\n",
       "      <td>1</td>\n",
       "      <td>11</td>\n",
       "      <td>NaN</td>\n",
       "      <td>88</td>\n",
       "      <td>3</td>\n",
       "      <td>1</td>\n",
       "      <td>10</td>\n",
       "      <td>2.0</td>\n",
       "      <td>6765</td>\n",
       "      <td>9</td>\n",
       "      <td>1953-11-18</td>\n",
       "      <td>2015-12-28</td>\n",
       "      <td>programa estatal para el desarrollo de la indu...</td>\n",
       "      <td>creacion de un centro de desarrollo de aplicac...</td>\n",
       "      <td>unosquare s a de c v</td>\n",
       "      <td>4000</td>\n",
       "    </tr>\n",
       "  </tbody>\n",
       "</table>\n",
       "<p>67094 rows × 26 columns</p>\n",
       "</div>"
      ],
      "text/plain": [
       "        c_edad  c_minutos c_monto_de_apoyo  c_horas  v_ent_regis  v_mun_regis  \\\n",
       "512169    4055         30         534650.0       10         25.0           12   \n",
       "521339    4085         30         534650.0       14         25.0           12   \n",
       "43460     4061         30         534650.0       14          5.0           30   \n",
       "521697    4078         45         534650.0       14          NaN           11   \n",
       "617900    4046         45         534650.0       17         30.0          121   \n",
       "...        ...        ...              ...      ...          ...          ...   \n",
       "571904    4080         30        2188623.0       13         28.0           33   \n",
       "78614     4085          0        2188623.0        7          8.0           19   \n",
       "92827     4089         20        2188623.0       17          8.0           37   \n",
       "410203    4085          0        2188623.0       15         19.0           14   \n",
       "43704     4061         40        2188623.0       15          5.0           18   \n",
       "\n",
       "        v_ent_resid  v_mun_resid  v_ent_ocurr  v_mun_ocurr v_sexo  \\\n",
       "512169            2            2          NaN           12      1   \n",
       "521339           25           12          NaN           12      1   \n",
       "43460             5           30          NaN           30      2   \n",
       "521697           25           11          NaN           11      2   \n",
       "617900           30           13          NaN          121      2   \n",
       "...             ...          ...          ...          ...    ...   \n",
       "571904           28           33          NaN           33      2   \n",
       "78614             8           19          NaN           19      1   \n",
       "92827             8           37          NaN           37      1   \n",
       "410203           19           13          NaN           13      1   \n",
       "43704             5           18          NaN           18      1   \n",
       "\n",
       "        v_ocupacion  v_edo_civil  v_lugar_ocur  v_sitio_ocur  v_nacionalid  \\\n",
       "512169           98          NaN             8            12             1   \n",
       "521339           99          NaN            88             3             1   \n",
       "43460            11          NaN            88             3             1   \n",
       "521697           11          NaN            88             1             1   \n",
       "617900           98          NaN             4            10             1   \n",
       "...             ...          ...           ...           ...           ...   \n",
       "571904           11          NaN            88            11             1   \n",
       "78614            11          NaN            88            11             1   \n",
       "92827            11          NaN            88             1             1   \n",
       "410203            6          NaN            88            11             1   \n",
       "43704            11          NaN            88             3             1   \n",
       "\n",
       "        v_grupo  v_lengua  v_clave  v_escolarida d_fecha_nac d_fecha_ocurr  \\\n",
       "512169       16       9.0     6836             4  1952-12-28    2008-07-22   \n",
       "521339        3       NaN     6836             3  1925-05-28    2010-07-28   \n",
       "43460         8       NaN     6836             6  1950-04-30    2011-04-11   \n",
       "521697        7       NaN     6836             1  1932-11-20    2011-06-11   \n",
       "617900       17       NaN     6836             6  1966-02-15    2012-11-03   \n",
       "...         ...       ...      ...           ...         ...           ...   \n",
       "571904        2       2.0     6765             4  1935-02-19    2015-12-24   \n",
       "78614         4       NaN     6765             3  1929-11-15    2015-12-25   \n",
       "92827         6       2.0     6765             4  1926-10-02    2015-12-26   \n",
       "410203        4       9.0     6765             3  1930-06-29    2015-12-27   \n",
       "43704        10       2.0     6765             9  1953-11-18    2015-12-28   \n",
       "\n",
       "                                         t_programa_fondo  \\\n",
       "512169  programa para el fomento de recursos humanos d...   \n",
       "521339  programa para el fomento de recursos humanos d...   \n",
       "43460   programa para el fomento de recursos humanos d...   \n",
       "521697  programa para el fomento de recursos humanos d...   \n",
       "617900  programa para el fomento de recursos humanos d...   \n",
       "...                                                   ...   \n",
       "571904  programa estatal para el desarrollo de la indu...   \n",
       "78614   programa estatal para el desarrollo de la indu...   \n",
       "92827   programa estatal para el desarrollo de la indu...   \n",
       "410203  programa estatal para el desarrollo de la indu...   \n",
       "43704   programa estatal para el desarrollo de la indu...   \n",
       "\n",
       "                                    t_nombre_del_proyecto  \\\n",
       "512169  becas singularity u mexico summit 4 0 industri...   \n",
       "521339  becas singularity u mexico summit 4 0 industri...   \n",
       "43460   becas singularity u mexico summit 4 0 industri...   \n",
       "521697  becas singularity u mexico summit 4 0 industri...   \n",
       "617900  becas singularity u mexico summit 4 0 industri...   \n",
       "...                                                   ...   \n",
       "571904  creacion de un centro de desarrollo de aplicac...   \n",
       "78614   creacion de un centro de desarrollo de aplicac...   \n",
       "92827   creacion de un centro de desarrollo de aplicac...   \n",
       "410203  creacion de un centro de desarrollo de aplicac...   \n",
       "43704   creacion de un centro de desarrollo de aplicac...   \n",
       "\n",
       "         t_nombre_del_beneficiario  c_salario  \n",
       "512169  4 0 industrial cluster a c       3000  \n",
       "521339  4 0 industrial cluster a c       3000  \n",
       "43460   4 0 industrial cluster a c       3000  \n",
       "521697  4 0 industrial cluster a c       4500  \n",
       "617900  4 0 industrial cluster a c       4500  \n",
       "...                            ...        ...  \n",
       "571904        unosquare s a de c v       3000  \n",
       "78614         unosquare s a de c v          0  \n",
       "92827         unosquare s a de c v       2000  \n",
       "410203        unosquare s a de c v          0  \n",
       "43704         unosquare s a de c v       4000  \n",
       "\n",
       "[67094 rows x 26 columns]"
      ]
     },
     "execution_count": 114,
     "metadata": {},
     "output_type": "execute_result"
    }
   ],
   "source": [
    "df.iloc[aux]"
   ]
  },
  {
   "cell_type": "code",
   "execution_count": 115,
   "metadata": {
    "ExecuteTime": {
     "end_time": "2023-08-09T00:16:56.698432Z",
     "start_time": "2023-08-09T00:16:53.364627Z"
    },
    "id": "qokwd20BHaBO"
   },
   "outputs": [],
   "source": [
    "df=df.loc[df.notnull().sum(1).groupby([df[\"t_nombre_del_beneficiario\"],df[\"t_nombre_del_proyecto\"],df[\"t_programa_fondo\"],df[\"d_fecha_ocurr\"]]).idxmax()]"
   ]
  },
  {
   "cell_type": "code",
   "execution_count": 116,
   "metadata": {
    "ExecuteTime": {
     "end_time": "2023-08-09T00:16:56.761216Z",
     "start_time": "2023-08-09T00:16:56.746047Z"
    }
   },
   "outputs": [],
   "source": [
    "df=df.loc[aux]"
   ]
  },
  {
   "cell_type": "code",
   "execution_count": 117,
   "metadata": {
    "ExecuteTime": {
     "end_time": "2023-08-09T00:16:56.811090Z",
     "start_time": "2023-08-09T00:16:56.808670Z"
    },
    "id": "3IcmQeRVHaBP",
    "outputId": "871cd122-6225-4a4d-a046-78f0265efbc8"
   },
   "outputs": [
    {
     "data": {
      "text/plain": [
       "(67094, 26)"
      ]
     },
     "execution_count": 117,
     "metadata": {},
     "output_type": "execute_result"
    }
   ],
   "source": [
    "df.shape"
   ]
  },
  {
   "cell_type": "code",
   "execution_count": 118,
   "metadata": {
    "ExecuteTime": {
     "end_time": "2023-08-09T00:16:56.860639Z",
     "start_time": "2023-08-09T00:16:56.858868Z"
    },
    "id": "u636Jz-0HaBP",
    "scrolled": true
   },
   "outputs": [],
   "source": [
    "df.reset_index(drop=True, inplace=True)"
   ]
  },
  {
   "cell_type": "code",
   "execution_count": 119,
   "metadata": {
    "ExecuteTime": {
     "end_time": "2023-08-09T00:16:56.908216Z",
     "start_time": "2023-08-09T00:16:56.906610Z"
    },
    "id": "98Lks2P7HaBQ"
   },
   "outputs": [],
   "source": [
    "n_duplicados=n_rows-df.shape[0]"
   ]
  },
  {
   "cell_type": "code",
   "execution_count": 120,
   "metadata": {
    "ExecuteTime": {
     "end_time": "2023-08-09T00:16:56.954012Z",
     "start_time": "2023-08-09T00:16:56.952303Z"
    },
    "id": "YuJFQhb_HaBR",
    "outputId": "d4b64f16-f87b-4ef5-e52d-99bf0a0a59d2",
    "scrolled": true
   },
   "outputs": [
    {
     "name": "stdout",
     "output_type": "stream",
     "text": [
      "Porcentaje de duplicados : 0.8976197124855609\n",
      "Número de duplicados : 588247\n"
     ]
    }
   ],
   "source": [
    "print(f\"Porcentaje de duplicados : {n_duplicados/n_rows}\")\n",
    "print(f\"Número de duplicados : {n_duplicados}\")"
   ]
  },
  {
   "cell_type": "code",
   "execution_count": 121,
   "metadata": {
    "ExecuteTime": {
     "end_time": "2023-08-09T00:16:57.001953Z",
     "start_time": "2023-08-09T00:16:56.999829Z"
    }
   },
   "outputs": [
    {
     "data": {
      "text/plain": [
       "(67094, 26)"
      ]
     },
     "execution_count": 121,
     "metadata": {},
     "output_type": "execute_result"
    }
   ],
   "source": [
    "df.shape"
   ]
  },
  {
   "cell_type": "markdown",
   "metadata": {
    "heading_collapsed": true,
    "id": "m8QBYPZsHaBS"
   },
   "source": [
    "## <span style=\"background:#fe7f00\"> Completitud </span> "
   ]
  },
  {
   "cell_type": "code",
   "execution_count": 122,
   "metadata": {
    "ExecuteTime": {
     "end_time": "2023-08-09T00:17:34.148385Z",
     "start_time": "2023-08-09T00:17:34.091260Z"
    },
    "hidden": true,
    "scrolled": false
   },
   "outputs": [
    {
     "data": {
      "text/plain": [
       "c_edad                           0\n",
       "c_minutos                        0\n",
       "c_monto_de_apoyo                 0\n",
       "c_horas                          0\n",
       "v_ent_regis                   4709\n",
       "v_mun_regis                      0\n",
       "v_ent_resid                      0\n",
       "v_mun_resid                      0\n",
       "v_ent_ocurr                  67094\n",
       "v_mun_ocurr                      0\n",
       "v_sexo                           0\n",
       "v_ocupacion                      0\n",
       "v_edo_civil                  67094\n",
       "v_lugar_ocur                     0\n",
       "v_sitio_ocur                     0\n",
       "v_nacionalid                     0\n",
       "v_grupo                          0\n",
       "v_lengua                     17979\n",
       "v_clave                          0\n",
       "v_escolarida                     0\n",
       "d_fecha_nac                   1203\n",
       "d_fecha_ocurr                    0\n",
       "t_programa_fondo                 0\n",
       "t_nombre_del_proyecto            0\n",
       "t_nombre_del_beneficiario        0\n",
       "c_salario                        0\n",
       "dtype: int64"
      ]
     },
     "execution_count": 122,
     "metadata": {},
     "output_type": "execute_result"
    }
   ],
   "source": [
    "df.isnull().sum(axis=0)"
   ]
  },
  {
   "cell_type": "code",
   "execution_count": 123,
   "metadata": {
    "ExecuteTime": {
     "end_time": "2023-08-09T00:17:35.732303Z",
     "start_time": "2023-08-09T00:17:35.067104Z"
    },
    "hidden": true
   },
   "outputs": [
    {
     "data": {
      "text/plain": [
       "<AxesSubplot: >"
      ]
     },
     "execution_count": 123,
     "metadata": {},
     "output_type": "execute_result"
    },
    {
     "data": {
      "image/png": "[encoded data removed]",
      "text/plain": [
       "<Figure size 2500x1000 with 2 Axes>"
      ]
     },
     "metadata": {},
     "output_type": "display_data"
    }
   ],
   "source": [
    "#pip3 install missingno\n",
    "import missingno as msno\n",
    "msno.matrix(df.iloc[:, :30])"
   ]
  },
  {
   "cell_type": "code",
   "execution_count": 124,
   "metadata": {
    "ExecuteTime": {
     "end_time": "2023-08-09T00:17:35.835571Z",
     "start_time": "2023-08-09T00:17:35.781787Z"
    },
    "hidden": true,
    "id": "EHeLdzYfHaBS"
   },
   "outputs": [],
   "source": [
    "comple=pd.DataFrame(df.isnull().sum())"
   ]
  },
  {
   "cell_type": "code",
   "execution_count": 125,
   "metadata": {
    "ExecuteTime": {
     "end_time": "2023-08-09T00:17:36.194453Z",
     "start_time": "2023-08-09T00:17:36.191007Z"
    },
    "hidden": true,
    "scrolled": true
   },
   "outputs": [
    {
     "data": {
      "text/html": [
       "<div>\n",
       "<style scoped>\n",
       "    .dataframe tbody tr th:only-of-type {\n",
       "        vertical-align: middle;\n",
       "    }\n",
       "\n",
       "    .dataframe tbody tr th {\n",
       "        vertical-align: top;\n",
       "    }\n",
       "\n",
       "    .dataframe thead th {\n",
       "        text-align: right;\n",
       "    }\n",
       "</style>\n",
       "<table border=\"1\" class=\"dataframe\">\n",
       "  <thead>\n",
       "    <tr style=\"text-align: right;\">\n",
       "      <th></th>\n",
       "      <th>0</th>\n",
       "    </tr>\n",
       "  </thead>\n",
       "  <tbody>\n",
       "    <tr>\n",
       "      <th>c_edad</th>\n",
       "      <td>0</td>\n",
       "    </tr>\n",
       "    <tr>\n",
       "      <th>c_minutos</th>\n",
       "      <td>0</td>\n",
       "    </tr>\n",
       "    <tr>\n",
       "      <th>c_monto_de_apoyo</th>\n",
       "      <td>0</td>\n",
       "    </tr>\n",
       "    <tr>\n",
       "      <th>c_horas</th>\n",
       "      <td>0</td>\n",
       "    </tr>\n",
       "    <tr>\n",
       "      <th>v_ent_regis</th>\n",
       "      <td>4709</td>\n",
       "    </tr>\n",
       "    <tr>\n",
       "      <th>v_mun_regis</th>\n",
       "      <td>0</td>\n",
       "    </tr>\n",
       "    <tr>\n",
       "      <th>v_ent_resid</th>\n",
       "      <td>0</td>\n",
       "    </tr>\n",
       "    <tr>\n",
       "      <th>v_mun_resid</th>\n",
       "      <td>0</td>\n",
       "    </tr>\n",
       "    <tr>\n",
       "      <th>v_ent_ocurr</th>\n",
       "      <td>67094</td>\n",
       "    </tr>\n",
       "    <tr>\n",
       "      <th>v_mun_ocurr</th>\n",
       "      <td>0</td>\n",
       "    </tr>\n",
       "    <tr>\n",
       "      <th>v_sexo</th>\n",
       "      <td>0</td>\n",
       "    </tr>\n",
       "    <tr>\n",
       "      <th>v_ocupacion</th>\n",
       "      <td>0</td>\n",
       "    </tr>\n",
       "    <tr>\n",
       "      <th>v_edo_civil</th>\n",
       "      <td>67094</td>\n",
       "    </tr>\n",
       "    <tr>\n",
       "      <th>v_lugar_ocur</th>\n",
       "      <td>0</td>\n",
       "    </tr>\n",
       "    <tr>\n",
       "      <th>v_sitio_ocur</th>\n",
       "      <td>0</td>\n",
       "    </tr>\n",
       "    <tr>\n",
       "      <th>v_nacionalid</th>\n",
       "      <td>0</td>\n",
       "    </tr>\n",
       "    <tr>\n",
       "      <th>v_grupo</th>\n",
       "      <td>0</td>\n",
       "    </tr>\n",
       "    <tr>\n",
       "      <th>v_lengua</th>\n",
       "      <td>17979</td>\n",
       "    </tr>\n",
       "    <tr>\n",
       "      <th>v_clave</th>\n",
       "      <td>0</td>\n",
       "    </tr>\n",
       "    <tr>\n",
       "      <th>v_escolarida</th>\n",
       "      <td>0</td>\n",
       "    </tr>\n",
       "    <tr>\n",
       "      <th>d_fecha_nac</th>\n",
       "      <td>1203</td>\n",
       "    </tr>\n",
       "    <tr>\n",
       "      <th>d_fecha_ocurr</th>\n",
       "      <td>0</td>\n",
       "    </tr>\n",
       "    <tr>\n",
       "      <th>t_programa_fondo</th>\n",
       "      <td>0</td>\n",
       "    </tr>\n",
       "    <tr>\n",
       "      <th>t_nombre_del_proyecto</th>\n",
       "      <td>0</td>\n",
       "    </tr>\n",
       "    <tr>\n",
       "      <th>t_nombre_del_beneficiario</th>\n",
       "      <td>0</td>\n",
       "    </tr>\n",
       "    <tr>\n",
       "      <th>c_salario</th>\n",
       "      <td>0</td>\n",
       "    </tr>\n",
       "  </tbody>\n",
       "</table>\n",
       "</div>"
      ],
      "text/plain": [
       "                               0\n",
       "c_edad                         0\n",
       "c_minutos                      0\n",
       "c_monto_de_apoyo               0\n",
       "c_horas                        0\n",
       "v_ent_regis                 4709\n",
       "v_mun_regis                    0\n",
       "v_ent_resid                    0\n",
       "v_mun_resid                    0\n",
       "v_ent_ocurr                67094\n",
       "v_mun_ocurr                    0\n",
       "v_sexo                         0\n",
       "v_ocupacion                    0\n",
       "v_edo_civil                67094\n",
       "v_lugar_ocur                   0\n",
       "v_sitio_ocur                   0\n",
       "v_nacionalid                   0\n",
       "v_grupo                        0\n",
       "v_lengua                   17979\n",
       "v_clave                        0\n",
       "v_escolarida                   0\n",
       "d_fecha_nac                 1203\n",
       "d_fecha_ocurr                  0\n",
       "t_programa_fondo               0\n",
       "t_nombre_del_proyecto          0\n",
       "t_nombre_del_beneficiario      0\n",
       "c_salario                      0"
      ]
     },
     "execution_count": 125,
     "metadata": {},
     "output_type": "execute_result"
    }
   ],
   "source": [
    "comple"
   ]
  },
  {
   "cell_type": "code",
   "execution_count": 126,
   "metadata": {
    "ExecuteTime": {
     "end_time": "2023-08-09T00:17:36.832480Z",
     "start_time": "2023-08-09T00:17:36.828795Z"
    },
    "hidden": true,
    "id": "xCUzCTgTHaBT"
   },
   "outputs": [],
   "source": [
    "comple.reset_index(inplace=True)\n",
    "\n",
    "comple=comple.rename(columns={\"index\":\"columna\",0:\"total\"})\n",
    "\n",
    "comple[\"completitud\"]=(1-comple[\"total\"]/df.shape[0])*100\n",
    "\n",
    "comple=comple.sort_values(by=\"completitud\",ascending=True)\n",
    "\n",
    "comple.reset_index(drop=True,inplace=True)"
   ]
  },
  {
   "cell_type": "code",
   "execution_count": 127,
   "metadata": {
    "ExecuteTime": {
     "end_time": "2023-08-09T00:17:37.982682Z",
     "start_time": "2023-08-09T00:17:37.977624Z"
    },
    "hidden": true,
    "scrolled": true
   },
   "outputs": [
    {
     "data": {
      "text/html": [
       "<div>\n",
       "<style scoped>\n",
       "    .dataframe tbody tr th:only-of-type {\n",
       "        vertical-align: middle;\n",
       "    }\n",
       "\n",
       "    .dataframe tbody tr th {\n",
       "        vertical-align: top;\n",
       "    }\n",
       "\n",
       "    .dataframe thead th {\n",
       "        text-align: right;\n",
       "    }\n",
       "</style>\n",
       "<table border=\"1\" class=\"dataframe\">\n",
       "  <thead>\n",
       "    <tr style=\"text-align: right;\">\n",
       "      <th></th>\n",
       "      <th>columna</th>\n",
       "      <th>total</th>\n",
       "      <th>completitud</th>\n",
       "    </tr>\n",
       "  </thead>\n",
       "  <tbody>\n",
       "    <tr>\n",
       "      <th>0</th>\n",
       "      <td>v_edo_civil</td>\n",
       "      <td>67094</td>\n",
       "      <td>0.000000</td>\n",
       "    </tr>\n",
       "    <tr>\n",
       "      <th>1</th>\n",
       "      <td>v_ent_ocurr</td>\n",
       "      <td>67094</td>\n",
       "      <td>0.000000</td>\n",
       "    </tr>\n",
       "    <tr>\n",
       "      <th>2</th>\n",
       "      <td>v_lengua</td>\n",
       "      <td>17979</td>\n",
       "      <td>73.203267</td>\n",
       "    </tr>\n",
       "    <tr>\n",
       "      <th>3</th>\n",
       "      <td>v_ent_regis</td>\n",
       "      <td>4709</td>\n",
       "      <td>92.981489</td>\n",
       "    </tr>\n",
       "    <tr>\n",
       "      <th>4</th>\n",
       "      <td>d_fecha_nac</td>\n",
       "      <td>1203</td>\n",
       "      <td>98.206993</td>\n",
       "    </tr>\n",
       "    <tr>\n",
       "      <th>5</th>\n",
       "      <td>t_nombre_del_proyecto</td>\n",
       "      <td>0</td>\n",
       "      <td>100.000000</td>\n",
       "    </tr>\n",
       "    <tr>\n",
       "      <th>6</th>\n",
       "      <td>t_programa_fondo</td>\n",
       "      <td>0</td>\n",
       "      <td>100.000000</td>\n",
       "    </tr>\n",
       "    <tr>\n",
       "      <th>7</th>\n",
       "      <td>d_fecha_ocurr</td>\n",
       "      <td>0</td>\n",
       "      <td>100.000000</td>\n",
       "    </tr>\n",
       "    <tr>\n",
       "      <th>8</th>\n",
       "      <td>v_escolarida</td>\n",
       "      <td>0</td>\n",
       "      <td>100.000000</td>\n",
       "    </tr>\n",
       "    <tr>\n",
       "      <th>9</th>\n",
       "      <td>v_clave</td>\n",
       "      <td>0</td>\n",
       "      <td>100.000000</td>\n",
       "    </tr>\n",
       "    <tr>\n",
       "      <th>10</th>\n",
       "      <td>v_grupo</td>\n",
       "      <td>0</td>\n",
       "      <td>100.000000</td>\n",
       "    </tr>\n",
       "    <tr>\n",
       "      <th>11</th>\n",
       "      <td>v_nacionalid</td>\n",
       "      <td>0</td>\n",
       "      <td>100.000000</td>\n",
       "    </tr>\n",
       "    <tr>\n",
       "      <th>12</th>\n",
       "      <td>v_sitio_ocur</td>\n",
       "      <td>0</td>\n",
       "      <td>100.000000</td>\n",
       "    </tr>\n",
       "    <tr>\n",
       "      <th>13</th>\n",
       "      <td>c_edad</td>\n",
       "      <td>0</td>\n",
       "      <td>100.000000</td>\n",
       "    </tr>\n",
       "    <tr>\n",
       "      <th>14</th>\n",
       "      <td>t_nombre_del_beneficiario</td>\n",
       "      <td>0</td>\n",
       "      <td>100.000000</td>\n",
       "    </tr>\n",
       "    <tr>\n",
       "      <th>15</th>\n",
       "      <td>v_ocupacion</td>\n",
       "      <td>0</td>\n",
       "      <td>100.000000</td>\n",
       "    </tr>\n",
       "    <tr>\n",
       "      <th>16</th>\n",
       "      <td>v_sexo</td>\n",
       "      <td>0</td>\n",
       "      <td>100.000000</td>\n",
       "    </tr>\n",
       "    <tr>\n",
       "      <th>17</th>\n",
       "      <td>v_mun_ocurr</td>\n",
       "      <td>0</td>\n",
       "      <td>100.000000</td>\n",
       "    </tr>\n",
       "    <tr>\n",
       "      <th>18</th>\n",
       "      <td>v_mun_resid</td>\n",
       "      <td>0</td>\n",
       "      <td>100.000000</td>\n",
       "    </tr>\n",
       "    <tr>\n",
       "      <th>19</th>\n",
       "      <td>v_ent_resid</td>\n",
       "      <td>0</td>\n",
       "      <td>100.000000</td>\n",
       "    </tr>\n",
       "    <tr>\n",
       "      <th>20</th>\n",
       "      <td>v_mun_regis</td>\n",
       "      <td>0</td>\n",
       "      <td>100.000000</td>\n",
       "    </tr>\n",
       "    <tr>\n",
       "      <th>21</th>\n",
       "      <td>c_horas</td>\n",
       "      <td>0</td>\n",
       "      <td>100.000000</td>\n",
       "    </tr>\n",
       "    <tr>\n",
       "      <th>22</th>\n",
       "      <td>c_monto_de_apoyo</td>\n",
       "      <td>0</td>\n",
       "      <td>100.000000</td>\n",
       "    </tr>\n",
       "    <tr>\n",
       "      <th>23</th>\n",
       "      <td>c_minutos</td>\n",
       "      <td>0</td>\n",
       "      <td>100.000000</td>\n",
       "    </tr>\n",
       "    <tr>\n",
       "      <th>24</th>\n",
       "      <td>v_lugar_ocur</td>\n",
       "      <td>0</td>\n",
       "      <td>100.000000</td>\n",
       "    </tr>\n",
       "    <tr>\n",
       "      <th>25</th>\n",
       "      <td>c_salario</td>\n",
       "      <td>0</td>\n",
       "      <td>100.000000</td>\n",
       "    </tr>\n",
       "  </tbody>\n",
       "</table>\n",
       "</div>"
      ],
      "text/plain": [
       "                      columna  total  completitud\n",
       "0                 v_edo_civil  67094     0.000000\n",
       "1                 v_ent_ocurr  67094     0.000000\n",
       "2                    v_lengua  17979    73.203267\n",
       "3                 v_ent_regis   4709    92.981489\n",
       "4                 d_fecha_nac   1203    98.206993\n",
       "5       t_nombre_del_proyecto      0   100.000000\n",
       "6            t_programa_fondo      0   100.000000\n",
       "7               d_fecha_ocurr      0   100.000000\n",
       "8                v_escolarida      0   100.000000\n",
       "9                     v_clave      0   100.000000\n",
       "10                    v_grupo      0   100.000000\n",
       "11               v_nacionalid      0   100.000000\n",
       "12               v_sitio_ocur      0   100.000000\n",
       "13                     c_edad      0   100.000000\n",
       "14  t_nombre_del_beneficiario      0   100.000000\n",
       "15                v_ocupacion      0   100.000000\n",
       "16                     v_sexo      0   100.000000\n",
       "17                v_mun_ocurr      0   100.000000\n",
       "18                v_mun_resid      0   100.000000\n",
       "19                v_ent_resid      0   100.000000\n",
       "20                v_mun_regis      0   100.000000\n",
       "21                    c_horas      0   100.000000\n",
       "22           c_monto_de_apoyo      0   100.000000\n",
       "23                  c_minutos      0   100.000000\n",
       "24               v_lugar_ocur      0   100.000000\n",
       "25                  c_salario      0   100.000000"
      ]
     },
     "execution_count": 127,
     "metadata": {},
     "output_type": "execute_result"
    }
   ],
   "source": [
    "comple"
   ]
  },
  {
   "cell_type": "code",
   "execution_count": 128,
   "metadata": {
    "ExecuteTime": {
     "end_time": "2023-08-09T00:17:40.853448Z",
     "start_time": "2023-08-09T00:17:40.850019Z"
    },
    "hidden": true,
    "id": "z3L78p5rHaBV"
   },
   "outputs": [],
   "source": [
    "def completitud(df):\n",
    "    comple=pd.DataFrame(df.isnull().sum())\n",
    "    comple.reset_index(inplace=True)\n",
    "    comple=comple.rename(columns={\"index\":\"columna\",0:\"total\"})\n",
    "    comple[\"completitud\"]=(1-comple[\"total\"]/df.shape[0])*100\n",
    "    comple=comple.sort_values(by=\"completitud\",ascending=True)\n",
    "    comple.reset_index(drop=True,inplace=True)\n",
    "    return comple"
   ]
  },
  {
   "cell_type": "code",
   "execution_count": 129,
   "metadata": {
    "ExecuteTime": {
     "end_time": "2023-08-09T00:17:42.219870Z",
     "start_time": "2023-08-09T00:17:42.215928Z"
    },
    "hidden": true
   },
   "outputs": [
    {
     "data": {
      "text/plain": [
       "2.0    0.762883\n",
       "9.0    0.168849\n",
       "1.0    0.068268\n",
       "Name: v_lengua, dtype: float64"
      ]
     },
     "execution_count": 129,
     "metadata": {},
     "output_type": "execute_result"
    }
   ],
   "source": [
    "df[\"v_lengua\"].value_counts(1)"
   ]
  },
  {
   "cell_type": "code",
   "execution_count": 130,
   "metadata": {
    "ExecuteTime": {
     "end_time": "2023-08-09T00:17:42.706094Z",
     "start_time": "2023-08-09T00:17:42.701777Z"
    },
    "hidden": true,
    "id": "SENXZaQvHaBV",
    "outputId": "1e4fc26a-2587-4030-c040-4c95253d60a8",
    "scrolled": true
   },
   "outputs": [
    {
     "data": {
      "text/html": [
       "<div>\n",
       "<style scoped>\n",
       "    .dataframe tbody tr th:only-of-type {\n",
       "        vertical-align: middle;\n",
       "    }\n",
       "\n",
       "    .dataframe tbody tr th {\n",
       "        vertical-align: top;\n",
       "    }\n",
       "\n",
       "    .dataframe thead th {\n",
       "        text-align: right;\n",
       "    }\n",
       "</style>\n",
       "<table border=\"1\" class=\"dataframe\">\n",
       "  <thead>\n",
       "    <tr style=\"text-align: right;\">\n",
       "      <th></th>\n",
       "      <th>columna</th>\n",
       "      <th>total</th>\n",
       "      <th>completitud</th>\n",
       "    </tr>\n",
       "  </thead>\n",
       "  <tbody>\n",
       "    <tr>\n",
       "      <th>0</th>\n",
       "      <td>v_edo_civil</td>\n",
       "      <td>67094</td>\n",
       "      <td>0.000000</td>\n",
       "    </tr>\n",
       "    <tr>\n",
       "      <th>1</th>\n",
       "      <td>v_ent_ocurr</td>\n",
       "      <td>67094</td>\n",
       "      <td>0.000000</td>\n",
       "    </tr>\n",
       "    <tr>\n",
       "      <th>2</th>\n",
       "      <td>v_lengua</td>\n",
       "      <td>17979</td>\n",
       "      <td>73.203267</td>\n",
       "    </tr>\n",
       "    <tr>\n",
       "      <th>3</th>\n",
       "      <td>v_ent_regis</td>\n",
       "      <td>4709</td>\n",
       "      <td>92.981489</td>\n",
       "    </tr>\n",
       "    <tr>\n",
       "      <th>4</th>\n",
       "      <td>d_fecha_nac</td>\n",
       "      <td>1203</td>\n",
       "      <td>98.206993</td>\n",
       "    </tr>\n",
       "    <tr>\n",
       "      <th>5</th>\n",
       "      <td>t_nombre_del_proyecto</td>\n",
       "      <td>0</td>\n",
       "      <td>100.000000</td>\n",
       "    </tr>\n",
       "    <tr>\n",
       "      <th>6</th>\n",
       "      <td>t_programa_fondo</td>\n",
       "      <td>0</td>\n",
       "      <td>100.000000</td>\n",
       "    </tr>\n",
       "    <tr>\n",
       "      <th>7</th>\n",
       "      <td>d_fecha_ocurr</td>\n",
       "      <td>0</td>\n",
       "      <td>100.000000</td>\n",
       "    </tr>\n",
       "    <tr>\n",
       "      <th>8</th>\n",
       "      <td>v_escolarida</td>\n",
       "      <td>0</td>\n",
       "      <td>100.000000</td>\n",
       "    </tr>\n",
       "    <tr>\n",
       "      <th>9</th>\n",
       "      <td>v_clave</td>\n",
       "      <td>0</td>\n",
       "      <td>100.000000</td>\n",
       "    </tr>\n",
       "    <tr>\n",
       "      <th>10</th>\n",
       "      <td>v_grupo</td>\n",
       "      <td>0</td>\n",
       "      <td>100.000000</td>\n",
       "    </tr>\n",
       "    <tr>\n",
       "      <th>11</th>\n",
       "      <td>v_nacionalid</td>\n",
       "      <td>0</td>\n",
       "      <td>100.000000</td>\n",
       "    </tr>\n",
       "    <tr>\n",
       "      <th>12</th>\n",
       "      <td>v_sitio_ocur</td>\n",
       "      <td>0</td>\n",
       "      <td>100.000000</td>\n",
       "    </tr>\n",
       "    <tr>\n",
       "      <th>13</th>\n",
       "      <td>c_edad</td>\n",
       "      <td>0</td>\n",
       "      <td>100.000000</td>\n",
       "    </tr>\n",
       "    <tr>\n",
       "      <th>14</th>\n",
       "      <td>t_nombre_del_beneficiario</td>\n",
       "      <td>0</td>\n",
       "      <td>100.000000</td>\n",
       "    </tr>\n",
       "    <tr>\n",
       "      <th>15</th>\n",
       "      <td>v_ocupacion</td>\n",
       "      <td>0</td>\n",
       "      <td>100.000000</td>\n",
       "    </tr>\n",
       "    <tr>\n",
       "      <th>16</th>\n",
       "      <td>v_sexo</td>\n",
       "      <td>0</td>\n",
       "      <td>100.000000</td>\n",
       "    </tr>\n",
       "    <tr>\n",
       "      <th>17</th>\n",
       "      <td>v_mun_ocurr</td>\n",
       "      <td>0</td>\n",
       "      <td>100.000000</td>\n",
       "    </tr>\n",
       "    <tr>\n",
       "      <th>18</th>\n",
       "      <td>v_mun_resid</td>\n",
       "      <td>0</td>\n",
       "      <td>100.000000</td>\n",
       "    </tr>\n",
       "    <tr>\n",
       "      <th>19</th>\n",
       "      <td>v_ent_resid</td>\n",
       "      <td>0</td>\n",
       "      <td>100.000000</td>\n",
       "    </tr>\n",
       "    <tr>\n",
       "      <th>20</th>\n",
       "      <td>v_mun_regis</td>\n",
       "      <td>0</td>\n",
       "      <td>100.000000</td>\n",
       "    </tr>\n",
       "    <tr>\n",
       "      <th>21</th>\n",
       "      <td>c_horas</td>\n",
       "      <td>0</td>\n",
       "      <td>100.000000</td>\n",
       "    </tr>\n",
       "    <tr>\n",
       "      <th>22</th>\n",
       "      <td>c_monto_de_apoyo</td>\n",
       "      <td>0</td>\n",
       "      <td>100.000000</td>\n",
       "    </tr>\n",
       "    <tr>\n",
       "      <th>23</th>\n",
       "      <td>c_minutos</td>\n",
       "      <td>0</td>\n",
       "      <td>100.000000</td>\n",
       "    </tr>\n",
       "    <tr>\n",
       "      <th>24</th>\n",
       "      <td>v_lugar_ocur</td>\n",
       "      <td>0</td>\n",
       "      <td>100.000000</td>\n",
       "    </tr>\n",
       "    <tr>\n",
       "      <th>25</th>\n",
       "      <td>c_salario</td>\n",
       "      <td>0</td>\n",
       "      <td>100.000000</td>\n",
       "    </tr>\n",
       "  </tbody>\n",
       "</table>\n",
       "</div>"
      ],
      "text/plain": [
       "                      columna  total  completitud\n",
       "0                 v_edo_civil  67094     0.000000\n",
       "1                 v_ent_ocurr  67094     0.000000\n",
       "2                    v_lengua  17979    73.203267\n",
       "3                 v_ent_regis   4709    92.981489\n",
       "4                 d_fecha_nac   1203    98.206993\n",
       "5       t_nombre_del_proyecto      0   100.000000\n",
       "6            t_programa_fondo      0   100.000000\n",
       "7               d_fecha_ocurr      0   100.000000\n",
       "8                v_escolarida      0   100.000000\n",
       "9                     v_clave      0   100.000000\n",
       "10                    v_grupo      0   100.000000\n",
       "11               v_nacionalid      0   100.000000\n",
       "12               v_sitio_ocur      0   100.000000\n",
       "13                     c_edad      0   100.000000\n",
       "14  t_nombre_del_beneficiario      0   100.000000\n",
       "15                v_ocupacion      0   100.000000\n",
       "16                     v_sexo      0   100.000000\n",
       "17                v_mun_ocurr      0   100.000000\n",
       "18                v_mun_resid      0   100.000000\n",
       "19                v_ent_resid      0   100.000000\n",
       "20                v_mun_regis      0   100.000000\n",
       "21                    c_horas      0   100.000000\n",
       "22           c_monto_de_apoyo      0   100.000000\n",
       "23                  c_minutos      0   100.000000\n",
       "24               v_lugar_ocur      0   100.000000\n",
       "25                  c_salario      0   100.000000"
      ]
     },
     "execution_count": 130,
     "metadata": {},
     "output_type": "execute_result"
    }
   ],
   "source": [
    "#Las variables deben tener arriba de un 80% de completitud para ser admitibles a imputación\n",
    "comple"
   ]
  },
  {
   "cell_type": "code",
   "execution_count": 131,
   "metadata": {
    "ExecuteTime": {
     "end_time": "2023-08-09T00:17:43.160289Z",
     "start_time": "2023-08-09T00:17:43.150947Z"
    },
    "hidden": true,
    "id": "pLbeRblfHaBW"
   },
   "outputs": [],
   "source": [
    "df.drop(columns=[\"v_lengua\",\"v_ent_ocurr\",\"v_ent_ocurr\"],inplace=True)"
   ]
  },
  {
   "cell_type": "code",
   "execution_count": 132,
   "metadata": {
    "ExecuteTime": {
     "end_time": "2023-08-09T00:17:43.724140Z",
     "start_time": "2023-08-09T00:17:43.721809Z"
    },
    "hidden": true,
    "id": "x1w3fSBvHaBW",
    "outputId": "a72cc922-9729-4a23-97a9-518d4c8e0810"
   },
   "outputs": [
    {
     "data": {
      "text/plain": [
       "(67094, 24)"
      ]
     },
     "execution_count": 132,
     "metadata": {},
     "output_type": "execute_result"
    }
   ],
   "source": [
    "df.shape"
   ]
  },
  {
   "cell_type": "markdown",
   "metadata": {
    "heading_collapsed": true,
    "id": "O-je8lGrHaBX"
   },
   "source": [
    "##   <span style=\"background:#fe7f00\"> Presición/Orden </span> "
   ]
  },
  {
   "cell_type": "markdown",
   "metadata": {
    "heading_collapsed": true,
    "hidden": true
   },
   "source": [
    "###   <span style=\"background:#759566\"> Variables Unitarias </span> "
   ]
  },
  {
   "cell_type": "markdown",
   "metadata": {
    "hidden": true
   },
   "source": [
    "- Las variables que concentran la mayoria de registros en una sola categoria se denominan variables unitarias y son variables que usualemnte no aportan valor"
   ]
  },
  {
   "cell_type": "markdown",
   "metadata": {
    "hidden": true
   },
   "source": [
    "**Repetitivo y poco informativo**\n",
    "- REPETITIVO : Una columna puede tener muchas observaciones con el mismo valor. Cuando un porcentaje extremadamente alto de la columna tiene un valor repetitivo, debemos investigar si dicha columna proporciona información valiosa. (Variables UNITARIAS)\n",
    "- IRRELEVANTE : Una vez más, los datos deben proporcionar información valiosa para el proyecto. Si las características no están relacionadas con la pregunta que estamos tratando de resolver, son irrelevantes. Por ejemplo, una función que registre la temperatura en los EE. UU. no proporcionaría información directa sobre los precios de la vivienda en Rusia."
   ]
  },
  {
   "cell_type": "code",
   "execution_count": 133,
   "metadata": {
    "ExecuteTime": {
     "end_time": "2023-08-09T00:17:45.514766Z",
     "start_time": "2023-08-09T00:17:45.512581Z"
    },
    "hidden": true,
    "scrolled": true
   },
   "outputs": [],
   "source": [
    "def unitarias(df,col):\n",
    "    result=pd.DataFrame(df[col].value_counts(1))\n",
    "    if result.shape[0]>0:\n",
    "        if (result[col].values[0]>.91) :\n",
    "            print(f\"{col} -- VARIABLE UNITARIA\")"
   ]
  },
  {
   "cell_type": "code",
   "execution_count": 134,
   "metadata": {
    "ExecuteTime": {
     "end_time": "2023-08-09T00:17:45.733339Z",
     "start_time": "2023-08-09T00:17:45.713409Z"
    },
    "hidden": true
   },
   "outputs": [
    {
     "name": "stdout",
     "output_type": "stream",
     "text": [
      "v_nacionalid -- VARIABLE UNITARIA\n"
     ]
    }
   ],
   "source": [
    "for col in df.filter(like=\"v_\").columns:\n",
    "    unitarias(df,col)"
   ]
  },
  {
   "cell_type": "code",
   "execution_count": 135,
   "metadata": {
    "ExecuteTime": {
     "end_time": "2023-08-09T00:17:47.738615Z",
     "start_time": "2023-08-09T00:17:45.916466Z"
    },
    "hidden": true
   },
   "outputs": [
    {
     "ename": "KeyError",
     "evalue": "\"['v_nacionalidad'] not found in axis\"",
     "output_type": "error",
     "traceback": [
      "\u001b[0;31m---------------------------------------------------------------------------\u001b[0m",
      "\u001b[0;31mKeyError\u001b[0m                                  Traceback (most recent call last)",
      "Cell \u001b[0;32mIn [135], line 1\u001b[0m\n\u001b[0;32m----> 1\u001b[0m df\u001b[38;5;241m.\u001b[39mdrop(columns\u001b[38;5;241m=\u001b[39m[\u001b[38;5;124m\"\u001b[39m\u001b[38;5;124mv_nacionalidad\u001b[39m\u001b[38;5;124m\"\u001b[39m],inplace\u001b[38;5;241m=\u001b[39m\u001b[38;5;28;01mTrue\u001b[39;00m)\n",
      "File \u001b[0;32m~/envs/diplomado/lib/python3.10/site-packages/pandas/util/_decorators.py:317\u001b[0m, in \u001b[0;36mdeprecate_nonkeyword_arguments.<locals>.decorate.<locals>.wrapper\u001b[0;34m(*args, **kwargs)\u001b[0m\n\u001b[1;32m    311\u001b[0m \u001b[38;5;28;01mif\u001b[39;00m \u001b[38;5;28mlen\u001b[39m(args) \u001b[38;5;241m>\u001b[39m num_allow_args:\n\u001b[1;32m    312\u001b[0m     warnings\u001b[38;5;241m.\u001b[39mwarn(\n\u001b[1;32m    313\u001b[0m         msg\u001b[38;5;241m.\u001b[39mformat(arguments\u001b[38;5;241m=\u001b[39marguments),\n\u001b[1;32m    314\u001b[0m         \u001b[38;5;167;01mFutureWarning\u001b[39;00m,\n\u001b[1;32m    315\u001b[0m         stacklevel\u001b[38;5;241m=\u001b[39mfind_stack_level(inspect\u001b[38;5;241m.\u001b[39mcurrentframe()),\n\u001b[1;32m    316\u001b[0m     )\n\u001b[0;32m--> 317\u001b[0m \u001b[38;5;28;01mreturn\u001b[39;00m \u001b[43mfunc\u001b[49m\u001b[43m(\u001b[49m\u001b[38;5;241;43m*\u001b[39;49m\u001b[43margs\u001b[49m\u001b[43m,\u001b[49m\u001b[43m \u001b[49m\u001b[38;5;241;43m*\u001b[39;49m\u001b[38;5;241;43m*\u001b[39;49m\u001b[43mkwargs\u001b[49m\u001b[43m)\u001b[49m\n",
      "File \u001b[0;32m~/envs/diplomado/lib/python3.10/site-packages/pandas/core/frame.py:5391\u001b[0m, in \u001b[0;36mDataFrame.drop\u001b[0;34m(self, labels, axis, index, columns, level, inplace, errors)\u001b[0m\n\u001b[1;32m   5243\u001b[0m \u001b[38;5;129m@deprecate_nonkeyword_arguments\u001b[39m(version\u001b[38;5;241m=\u001b[39m\u001b[38;5;28;01mNone\u001b[39;00m, allowed_args\u001b[38;5;241m=\u001b[39m[\u001b[38;5;124m\"\u001b[39m\u001b[38;5;124mself\u001b[39m\u001b[38;5;124m\"\u001b[39m, \u001b[38;5;124m\"\u001b[39m\u001b[38;5;124mlabels\u001b[39m\u001b[38;5;124m\"\u001b[39m])\n\u001b[1;32m   5244\u001b[0m \u001b[38;5;28;01mdef\u001b[39;00m \u001b[38;5;21mdrop\u001b[39m(  \u001b[38;5;66;03m# type: ignore[override]\u001b[39;00m\n\u001b[1;32m   5245\u001b[0m     \u001b[38;5;28mself\u001b[39m,\n\u001b[0;32m   (...)\u001b[0m\n\u001b[1;32m   5252\u001b[0m     errors: IgnoreRaise \u001b[38;5;241m=\u001b[39m \u001b[38;5;124m\"\u001b[39m\u001b[38;5;124mraise\u001b[39m\u001b[38;5;124m\"\u001b[39m,\n\u001b[1;32m   5253\u001b[0m ) \u001b[38;5;241m-\u001b[39m\u001b[38;5;241m>\u001b[39m DataFrame \u001b[38;5;241m|\u001b[39m \u001b[38;5;28;01mNone\u001b[39;00m:\n\u001b[1;32m   5254\u001b[0m     \u001b[38;5;124;03m\"\"\"\u001b[39;00m\n\u001b[1;32m   5255\u001b[0m \u001b[38;5;124;03m    Drop specified labels from rows or columns.\u001b[39;00m\n\u001b[1;32m   5256\u001b[0m \n\u001b[0;32m   (...)\u001b[0m\n\u001b[1;32m   5389\u001b[0m \u001b[38;5;124;03m            weight  1.0     0.8\u001b[39;00m\n\u001b[1;32m   5390\u001b[0m \u001b[38;5;124;03m    \"\"\"\u001b[39;00m\n\u001b[0;32m-> 5391\u001b[0m     \u001b[38;5;28;01mreturn\u001b[39;00m \u001b[38;5;28;43msuper\u001b[39;49m\u001b[43m(\u001b[49m\u001b[43m)\u001b[49m\u001b[38;5;241;43m.\u001b[39;49m\u001b[43mdrop\u001b[49m\u001b[43m(\u001b[49m\n\u001b[1;32m   5392\u001b[0m \u001b[43m        \u001b[49m\u001b[43mlabels\u001b[49m\u001b[38;5;241;43m=\u001b[39;49m\u001b[43mlabels\u001b[49m\u001b[43m,\u001b[49m\n\u001b[1;32m   5393\u001b[0m \u001b[43m        \u001b[49m\u001b[43maxis\u001b[49m\u001b[38;5;241;43m=\u001b[39;49m\u001b[43maxis\u001b[49m\u001b[43m,\u001b[49m\n\u001b[1;32m   5394\u001b[0m \u001b[43m        \u001b[49m\u001b[43mindex\u001b[49m\u001b[38;5;241;43m=\u001b[39;49m\u001b[43mindex\u001b[49m\u001b[43m,\u001b[49m\n\u001b[1;32m   5395\u001b[0m \u001b[43m        \u001b[49m\u001b[43mcolumns\u001b[49m\u001b[38;5;241;43m=\u001b[39;49m\u001b[43mcolumns\u001b[49m\u001b[43m,\u001b[49m\n\u001b[1;32m   5396\u001b[0m \u001b[43m        \u001b[49m\u001b[43mlevel\u001b[49m\u001b[38;5;241;43m=\u001b[39;49m\u001b[43mlevel\u001b[49m\u001b[43m,\u001b[49m\n\u001b[1;32m   5397\u001b[0m \u001b[43m        \u001b[49m\u001b[43minplace\u001b[49m\u001b[38;5;241;43m=\u001b[39;49m\u001b[43minplace\u001b[49m\u001b[43m,\u001b[49m\n\u001b[1;32m   5398\u001b[0m \u001b[43m        \u001b[49m\u001b[43merrors\u001b[49m\u001b[38;5;241;43m=\u001b[39;49m\u001b[43merrors\u001b[49m\u001b[43m,\u001b[49m\n\u001b[1;32m   5399\u001b[0m \u001b[43m    \u001b[49m\u001b[43m)\u001b[49m\n",
      "File \u001b[0;32m~/envs/diplomado/lib/python3.10/site-packages/pandas/util/_decorators.py:317\u001b[0m, in \u001b[0;36mdeprecate_nonkeyword_arguments.<locals>.decorate.<locals>.wrapper\u001b[0;34m(*args, **kwargs)\u001b[0m\n\u001b[1;32m    311\u001b[0m \u001b[38;5;28;01mif\u001b[39;00m \u001b[38;5;28mlen\u001b[39m(args) \u001b[38;5;241m>\u001b[39m num_allow_args:\n\u001b[1;32m    312\u001b[0m     warnings\u001b[38;5;241m.\u001b[39mwarn(\n\u001b[1;32m    313\u001b[0m         msg\u001b[38;5;241m.\u001b[39mformat(arguments\u001b[38;5;241m=\u001b[39marguments),\n\u001b[1;32m    314\u001b[0m         \u001b[38;5;167;01mFutureWarning\u001b[39;00m,\n\u001b[1;32m    315\u001b[0m         stacklevel\u001b[38;5;241m=\u001b[39mfind_stack_level(inspect\u001b[38;5;241m.\u001b[39mcurrentframe()),\n\u001b[1;32m    316\u001b[0m     )\n\u001b[0;32m--> 317\u001b[0m \u001b[38;5;28;01mreturn\u001b[39;00m \u001b[43mfunc\u001b[49m\u001b[43m(\u001b[49m\u001b[38;5;241;43m*\u001b[39;49m\u001b[43margs\u001b[49m\u001b[43m,\u001b[49m\u001b[43m \u001b[49m\u001b[38;5;241;43m*\u001b[39;49m\u001b[38;5;241;43m*\u001b[39;49m\u001b[43mkwargs\u001b[49m\u001b[43m)\u001b[49m\n",
      "File \u001b[0;32m~/envs/diplomado/lib/python3.10/site-packages/pandas/core/generic.py:4510\u001b[0m, in \u001b[0;36mNDFrame.drop\u001b[0;34m(self, labels, axis, index, columns, level, inplace, errors)\u001b[0m\n\u001b[1;32m   4508\u001b[0m \u001b[38;5;28;01mfor\u001b[39;00m axis, labels \u001b[38;5;129;01min\u001b[39;00m axes\u001b[38;5;241m.\u001b[39mitems():\n\u001b[1;32m   4509\u001b[0m     \u001b[38;5;28;01mif\u001b[39;00m labels \u001b[38;5;129;01mis\u001b[39;00m \u001b[38;5;129;01mnot\u001b[39;00m \u001b[38;5;28;01mNone\u001b[39;00m:\n\u001b[0;32m-> 4510\u001b[0m         obj \u001b[38;5;241m=\u001b[39m \u001b[43mobj\u001b[49m\u001b[38;5;241;43m.\u001b[39;49m\u001b[43m_drop_axis\u001b[49m\u001b[43m(\u001b[49m\u001b[43mlabels\u001b[49m\u001b[43m,\u001b[49m\u001b[43m \u001b[49m\u001b[43maxis\u001b[49m\u001b[43m,\u001b[49m\u001b[43m \u001b[49m\u001b[43mlevel\u001b[49m\u001b[38;5;241;43m=\u001b[39;49m\u001b[43mlevel\u001b[49m\u001b[43m,\u001b[49m\u001b[43m \u001b[49m\u001b[43merrors\u001b[49m\u001b[38;5;241;43m=\u001b[39;49m\u001b[43merrors\u001b[49m\u001b[43m)\u001b[49m\n\u001b[1;32m   4512\u001b[0m \u001b[38;5;28;01mif\u001b[39;00m inplace:\n\u001b[1;32m   4513\u001b[0m     \u001b[38;5;28mself\u001b[39m\u001b[38;5;241m.\u001b[39m_update_inplace(obj)\n",
      "File \u001b[0;32m~/envs/diplomado/lib/python3.10/site-packages/pandas/core/generic.py:4551\u001b[0m, in \u001b[0;36mNDFrame._drop_axis\u001b[0;34m(self, labels, axis, level, errors, only_slice)\u001b[0m\n\u001b[1;32m   4549\u001b[0m         new_axis \u001b[38;5;241m=\u001b[39m axis\u001b[38;5;241m.\u001b[39mdrop(labels, level\u001b[38;5;241m=\u001b[39mlevel, errors\u001b[38;5;241m=\u001b[39merrors)\n\u001b[1;32m   4550\u001b[0m     \u001b[38;5;28;01melse\u001b[39;00m:\n\u001b[0;32m-> 4551\u001b[0m         new_axis \u001b[38;5;241m=\u001b[39m \u001b[43maxis\u001b[49m\u001b[38;5;241;43m.\u001b[39;49m\u001b[43mdrop\u001b[49m\u001b[43m(\u001b[49m\u001b[43mlabels\u001b[49m\u001b[43m,\u001b[49m\u001b[43m \u001b[49m\u001b[43merrors\u001b[49m\u001b[38;5;241;43m=\u001b[39;49m\u001b[43merrors\u001b[49m\u001b[43m)\u001b[49m\n\u001b[1;32m   4552\u001b[0m     indexer \u001b[38;5;241m=\u001b[39m axis\u001b[38;5;241m.\u001b[39mget_indexer(new_axis)\n\u001b[1;32m   4554\u001b[0m \u001b[38;5;66;03m# Case for non-unique axis\u001b[39;00m\n\u001b[1;32m   4555\u001b[0m \u001b[38;5;28;01melse\u001b[39;00m:\n",
      "File \u001b[0;32m~/envs/diplomado/lib/python3.10/site-packages/pandas/core/indexes/base.py:6972\u001b[0m, in \u001b[0;36mIndex.drop\u001b[0;34m(self, labels, errors)\u001b[0m\n\u001b[1;32m   6970\u001b[0m \u001b[38;5;28;01mif\u001b[39;00m mask\u001b[38;5;241m.\u001b[39many():\n\u001b[1;32m   6971\u001b[0m     \u001b[38;5;28;01mif\u001b[39;00m errors \u001b[38;5;241m!=\u001b[39m \u001b[38;5;124m\"\u001b[39m\u001b[38;5;124mignore\u001b[39m\u001b[38;5;124m\"\u001b[39m:\n\u001b[0;32m-> 6972\u001b[0m         \u001b[38;5;28;01mraise\u001b[39;00m \u001b[38;5;167;01mKeyError\u001b[39;00m(\u001b[38;5;124mf\u001b[39m\u001b[38;5;124m\"\u001b[39m\u001b[38;5;132;01m{\u001b[39;00m\u001b[38;5;28mlist\u001b[39m(labels[mask])\u001b[38;5;132;01m}\u001b[39;00m\u001b[38;5;124m not found in axis\u001b[39m\u001b[38;5;124m\"\u001b[39m)\n\u001b[1;32m   6973\u001b[0m     indexer \u001b[38;5;241m=\u001b[39m indexer[\u001b[38;5;241m~\u001b[39mmask]\n\u001b[1;32m   6974\u001b[0m \u001b[38;5;28;01mreturn\u001b[39;00m \u001b[38;5;28mself\u001b[39m\u001b[38;5;241m.\u001b[39mdelete(indexer)\n",
      "\u001b[0;31mKeyError\u001b[0m: \"['v_nacionalidad'] not found in axis\""
     ]
    }
   ],
   "source": [
    "df.drop(columns=[\"v_nacionalidad\"],inplace=True)"
   ]
  },
  {
   "cell_type": "markdown",
   "metadata": {
    "heading_collapsed": true,
    "hidden": true,
    "id": "v2puip87HaBX"
   },
   "source": [
    "###  <span style=\"background:#759566\"> Variable Categorica - \"SEXO\" </span> "
   ]
  },
  {
   "cell_type": "code",
   "execution_count": null,
   "metadata": {
    "ExecuteTime": {
     "end_time": "2023-08-09T00:17:47.742153Z",
     "start_time": "2023-08-09T00:17:47.742147Z"
    },
    "hidden": true
   },
   "outputs": [],
   "source": [
    "sexo"
   ]
  },
  {
   "cell_type": "code",
   "execution_count": null,
   "metadata": {
    "ExecuteTime": {
     "end_time": "2023-08-09T00:17:47.744382Z",
     "start_time": "2023-08-09T00:17:47.744375Z"
    },
    "hidden": true
   },
   "outputs": [],
   "source": [
    "def categoricas(df,col):\n",
    "    result=pd.DataFrame(df[col].value_counts(1))\n",
    "    if result.shape[0]>0:\n",
    "        if (result[col].values[0]>.91) :\n",
    "            print(f\"{col} -- VARIABLE UNITARIA\")\n",
    "        result[col]=result[col].map(lambda x:str(round(x*100,2))+\"%\")\n",
    "        result.reset_index(inplace=True)\n",
    "        result.columns=[col+\"_valores\",\"%_aparicion\"]\n",
    "    return result"
   ]
  },
  {
   "cell_type": "code",
   "execution_count": null,
   "metadata": {
    "ExecuteTime": {
     "end_time": "2023-08-09T00:17:47.746463Z",
     "start_time": "2023-08-09T00:17:47.746456Z"
    },
    "hidden": true,
    "id": "R9BI9-rIHaBX",
    "outputId": "11b20089-4b25-49bb-e6b2-5ba3cd571266",
    "scrolled": true
   },
   "outputs": [],
   "source": [
    "for col in df.filter(like=\"v_\").columns:\n",
    "    display(categoricas(df,col))\n",
    "    print(\"\\n\")"
   ]
  },
  {
   "cell_type": "code",
   "execution_count": null,
   "metadata": {
    "ExecuteTime": {
     "end_time": "2023-08-09T00:17:47.748391Z",
     "start_time": "2023-08-09T00:17:47.748385Z"
    },
    "hidden": true
   },
   "outputs": [],
   "source": [
    "sexo"
   ]
  },
  {
   "cell_type": "code",
   "execution_count": null,
   "metadata": {
    "ExecuteTime": {
     "end_time": "2023-08-09T00:17:47.750627Z",
     "start_time": "2023-08-09T00:17:47.750621Z"
    },
    "hidden": true
   },
   "outputs": [],
   "source": [
    "df[\"v_sexo\"].value_counts()"
   ]
  },
  {
   "cell_type": "code",
   "execution_count": null,
   "metadata": {
    "ExecuteTime": {
     "end_time": "2023-08-09T00:17:47.752879Z",
     "start_time": "2023-08-09T00:17:47.752873Z"
    },
    "hidden": true,
    "id": "xrwT8Sk4HaBY",
    "outputId": "f9607d1c-950a-4c4d-84d6-072f103535aa"
   },
   "outputs": [],
   "source": [
    "df[\"v_sexo\"].value_counts(1)"
   ]
  },
  {
   "cell_type": "code",
   "execution_count": null,
   "metadata": {
    "ExecuteTime": {
     "end_time": "2023-08-09T00:17:47.754841Z",
     "start_time": "2023-08-09T00:17:47.754835Z"
    },
    "hidden": true,
    "id": "9z5rAa4uHaBZ",
    "outputId": "89e6b732-0c18-4f59-e2b0-cf84b4cb435b",
    "scrolled": true
   },
   "outputs": [],
   "source": [
    "df[\"v_sexo\"].value_counts(1)[-4:].sum()"
   ]
  },
  {
   "cell_type": "code",
   "execution_count": null,
   "metadata": {
    "ExecuteTime": {
     "end_time": "2023-08-09T00:17:47.756845Z",
     "start_time": "2023-08-09T00:17:47.756839Z"
    },
    "hidden": true
   },
   "outputs": [],
   "source": [
    "\"eee3\".isdigit()"
   ]
  },
  {
   "cell_type": "code",
   "execution_count": 136,
   "metadata": {
    "ExecuteTime": {
     "end_time": "2023-08-09T00:17:47.922826Z",
     "start_time": "2023-08-09T00:17:47.896192Z"
    },
    "hidden": true
   },
   "outputs": [
    {
     "data": {
      "text/plain": [
       "1    28152\n",
       "2    22927\n",
       "1     9092\n",
       "2     6884\n",
       "9       23\n",
       "9       12\n",
       "Name: v_sexo, dtype: int64"
      ]
     },
     "execution_count": 136,
     "metadata": {},
     "output_type": "execute_result"
    }
   ],
   "source": [
    "df[df[\"v_sexo\"].map(lambda x:str(x).isdigit())][\"v_sexo\"].value_counts()"
   ]
  },
  {
   "cell_type": "code",
   "execution_count": 137,
   "metadata": {
    "ExecuteTime": {
     "end_time": "2023-08-09T00:17:48.118626Z",
     "start_time": "2023-08-09T00:17:48.106905Z"
    },
    "hidden": true,
    "id": "I_AyQIBeHaBa",
    "outputId": "ce940b22-fc6e-44f3-8b95-d57d1ca88f36"
   },
   "outputs": [
    {
     "data": {
      "text/plain": [
       "Sistema Tecnológico de Jalisco, A.C.    1\n",
       "SFERP S.C.                              1\n",
       "Molina Pasquel Y Henriquez              1\n",
       "MARICELA  LOPEZ CEPEDA\\n                1\n",
       "Name: v_sexo, dtype: int64"
      ]
     },
     "execution_count": 137,
     "metadata": {},
     "output_type": "execute_result"
    }
   ],
   "source": [
    "df[~df[\"v_sexo\"].map(lambda x:str(x).isdigit())][\"v_sexo\"].value_counts()"
   ]
  },
  {
   "cell_type": "code",
   "execution_count": 138,
   "metadata": {
    "ExecuteTime": {
     "end_time": "2023-08-09T00:17:48.325067Z",
     "start_time": "2023-08-09T00:17:48.292851Z"
    },
    "hidden": true,
    "id": "tZM2W2EpHaBa",
    "outputId": "11580259-30b6-4524-de51-1dd62b803442"
   },
   "outputs": [
    {
     "data": {
      "text/plain": [
       "Index([1, 2, '1', '2', 9, '9'], dtype='object')"
      ]
     },
     "execution_count": 138,
     "metadata": {},
     "output_type": "execute_result"
    }
   ],
   "source": [
    "df[df[\"v_sexo\"].map(lambda x:str(x).isdigit())][\"v_sexo\"].value_counts().index"
   ]
  },
  {
   "cell_type": "code",
   "execution_count": 139,
   "metadata": {
    "ExecuteTime": {
     "end_time": "2023-08-09T00:17:48.503192Z",
     "start_time": "2023-08-09T00:17:48.500968Z"
    },
    "hidden": true,
    "id": "Q_KEwa2NHaBb",
    "outputId": "533c46fd-c369-4627-ea91-90a17fed950d"
   },
   "outputs": [
    {
     "data": {
      "text/plain": [
       "(67094, 24)"
      ]
     },
     "execution_count": 139,
     "metadata": {},
     "output_type": "execute_result"
    }
   ],
   "source": [
    "df.shape"
   ]
  },
  {
   "cell_type": "markdown",
   "metadata": {
    "hidden": true,
    "id": "raJ5hjMRHaBc"
   },
   "source": [
    "**Dos opciones:**\n",
    "- Convertirlos a Nan\n",
    "- Eliminarlos de la tabla"
   ]
  },
  {
   "cell_type": "markdown",
   "metadata": {
    "ExecuteTime": {
     "end_time": "2021-05-13T19:34:54.420816Z",
     "start_time": "2021-05-13T19:34:54.379214Z"
    },
    "hidden": true,
    "id": "uUX2F4uqHaBd"
   },
   "source": [
    "df=df[df[\"v_sexo\"].map(lambda x:str(x).isdigit())]\n",
    "df.reset_index(drop=True,inplace=True)"
   ]
  },
  {
   "cell_type": "code",
   "execution_count": 140,
   "metadata": {
    "ExecuteTime": {
     "end_time": "2023-08-09T00:17:49.129381Z",
     "start_time": "2023-08-09T00:17:49.111003Z"
    },
    "hidden": true,
    "id": "ZqRycdweHaBd",
    "outputId": "31b40a33-9031-4db4-a464-c2aca0549337"
   },
   "outputs": [
    {
     "data": {
      "text/plain": [
       "1.0    37244\n",
       "2.0    29811\n",
       "9.0       35\n",
       "Name: v_sexo, dtype: int64"
      ]
     },
     "execution_count": 140,
     "metadata": {},
     "output_type": "execute_result"
    }
   ],
   "source": [
    "df[\"v_sexo\"].map(lambda x:int(x) if str(x).isdigit() else np.nan).value_counts()"
   ]
  },
  {
   "cell_type": "code",
   "execution_count": 141,
   "metadata": {
    "ExecuteTime": {
     "end_time": "2023-08-09T00:17:49.342134Z",
     "start_time": "2023-08-09T00:17:49.312930Z"
    },
    "hidden": true,
    "id": "k-i4GDXhHaBe"
   },
   "outputs": [],
   "source": [
    "df[\"v_sexo\"]=df[\"v_sexo\"].map(lambda x:int(x) if str(x).isdigit() else np.nan)"
   ]
  },
  {
   "cell_type": "code",
   "execution_count": 142,
   "metadata": {
    "ExecuteTime": {
     "end_time": "2023-08-09T00:17:49.566528Z",
     "start_time": "2023-08-09T00:17:49.510545Z"
    },
    "hidden": true,
    "id": "LATUtwcZHaBf",
    "outputId": "7ed1b106-5c4a-4c24-cfa5-087858b06433"
   },
   "outputs": [
    {
     "data": {
      "text/html": [
       "<div>\n",
       "<style scoped>\n",
       "    .dataframe tbody tr th:only-of-type {\n",
       "        vertical-align: middle;\n",
       "    }\n",
       "\n",
       "    .dataframe tbody tr th {\n",
       "        vertical-align: top;\n",
       "    }\n",
       "\n",
       "    .dataframe thead th {\n",
       "        text-align: right;\n",
       "    }\n",
       "</style>\n",
       "<table border=\"1\" class=\"dataframe\">\n",
       "  <thead>\n",
       "    <tr style=\"text-align: right;\">\n",
       "      <th></th>\n",
       "      <th>columna</th>\n",
       "      <th>total</th>\n",
       "      <th>completitud</th>\n",
       "    </tr>\n",
       "  </thead>\n",
       "  <tbody>\n",
       "    <tr>\n",
       "      <th>0</th>\n",
       "      <td>v_edo_civil</td>\n",
       "      <td>67094</td>\n",
       "      <td>0.000000</td>\n",
       "    </tr>\n",
       "    <tr>\n",
       "      <th>1</th>\n",
       "      <td>v_ent_regis</td>\n",
       "      <td>4709</td>\n",
       "      <td>92.981489</td>\n",
       "    </tr>\n",
       "    <tr>\n",
       "      <th>2</th>\n",
       "      <td>d_fecha_nac</td>\n",
       "      <td>1203</td>\n",
       "      <td>98.206993</td>\n",
       "    </tr>\n",
       "    <tr>\n",
       "      <th>3</th>\n",
       "      <td>v_sexo</td>\n",
       "      <td>4</td>\n",
       "      <td>99.994038</td>\n",
       "    </tr>\n",
       "    <tr>\n",
       "      <th>4</th>\n",
       "      <td>t_nombre_del_proyecto</td>\n",
       "      <td>0</td>\n",
       "      <td>100.000000</td>\n",
       "    </tr>\n",
       "    <tr>\n",
       "      <th>5</th>\n",
       "      <td>t_programa_fondo</td>\n",
       "      <td>0</td>\n",
       "      <td>100.000000</td>\n",
       "    </tr>\n",
       "    <tr>\n",
       "      <th>6</th>\n",
       "      <td>d_fecha_ocurr</td>\n",
       "      <td>0</td>\n",
       "      <td>100.000000</td>\n",
       "    </tr>\n",
       "    <tr>\n",
       "      <th>7</th>\n",
       "      <td>v_escolarida</td>\n",
       "      <td>0</td>\n",
       "      <td>100.000000</td>\n",
       "    </tr>\n",
       "    <tr>\n",
       "      <th>8</th>\n",
       "      <td>v_clave</td>\n",
       "      <td>0</td>\n",
       "      <td>100.000000</td>\n",
       "    </tr>\n",
       "    <tr>\n",
       "      <th>9</th>\n",
       "      <td>v_grupo</td>\n",
       "      <td>0</td>\n",
       "      <td>100.000000</td>\n",
       "    </tr>\n",
       "    <tr>\n",
       "      <th>10</th>\n",
       "      <td>v_nacionalid</td>\n",
       "      <td>0</td>\n",
       "      <td>100.000000</td>\n",
       "    </tr>\n",
       "    <tr>\n",
       "      <th>11</th>\n",
       "      <td>v_sitio_ocur</td>\n",
       "      <td>0</td>\n",
       "      <td>100.000000</td>\n",
       "    </tr>\n",
       "    <tr>\n",
       "      <th>12</th>\n",
       "      <td>c_edad</td>\n",
       "      <td>0</td>\n",
       "      <td>100.000000</td>\n",
       "    </tr>\n",
       "    <tr>\n",
       "      <th>13</th>\n",
       "      <td>t_nombre_del_beneficiario</td>\n",
       "      <td>0</td>\n",
       "      <td>100.000000</td>\n",
       "    </tr>\n",
       "    <tr>\n",
       "      <th>14</th>\n",
       "      <td>v_ocupacion</td>\n",
       "      <td>0</td>\n",
       "      <td>100.000000</td>\n",
       "    </tr>\n",
       "    <tr>\n",
       "      <th>15</th>\n",
       "      <td>v_mun_ocurr</td>\n",
       "      <td>0</td>\n",
       "      <td>100.000000</td>\n",
       "    </tr>\n",
       "    <tr>\n",
       "      <th>16</th>\n",
       "      <td>v_mun_resid</td>\n",
       "      <td>0</td>\n",
       "      <td>100.000000</td>\n",
       "    </tr>\n",
       "    <tr>\n",
       "      <th>17</th>\n",
       "      <td>v_ent_resid</td>\n",
       "      <td>0</td>\n",
       "      <td>100.000000</td>\n",
       "    </tr>\n",
       "    <tr>\n",
       "      <th>18</th>\n",
       "      <td>v_mun_regis</td>\n",
       "      <td>0</td>\n",
       "      <td>100.000000</td>\n",
       "    </tr>\n",
       "    <tr>\n",
       "      <th>19</th>\n",
       "      <td>c_horas</td>\n",
       "      <td>0</td>\n",
       "      <td>100.000000</td>\n",
       "    </tr>\n",
       "    <tr>\n",
       "      <th>20</th>\n",
       "      <td>c_monto_de_apoyo</td>\n",
       "      <td>0</td>\n",
       "      <td>100.000000</td>\n",
       "    </tr>\n",
       "    <tr>\n",
       "      <th>21</th>\n",
       "      <td>c_minutos</td>\n",
       "      <td>0</td>\n",
       "      <td>100.000000</td>\n",
       "    </tr>\n",
       "    <tr>\n",
       "      <th>22</th>\n",
       "      <td>v_lugar_ocur</td>\n",
       "      <td>0</td>\n",
       "      <td>100.000000</td>\n",
       "    </tr>\n",
       "    <tr>\n",
       "      <th>23</th>\n",
       "      <td>c_salario</td>\n",
       "      <td>0</td>\n",
       "      <td>100.000000</td>\n",
       "    </tr>\n",
       "  </tbody>\n",
       "</table>\n",
       "</div>"
      ],
      "text/plain": [
       "                      columna  total  completitud\n",
       "0                 v_edo_civil  67094     0.000000\n",
       "1                 v_ent_regis   4709    92.981489\n",
       "2                 d_fecha_nac   1203    98.206993\n",
       "3                      v_sexo      4    99.994038\n",
       "4       t_nombre_del_proyecto      0   100.000000\n",
       "5            t_programa_fondo      0   100.000000\n",
       "6               d_fecha_ocurr      0   100.000000\n",
       "7                v_escolarida      0   100.000000\n",
       "8                     v_clave      0   100.000000\n",
       "9                     v_grupo      0   100.000000\n",
       "10               v_nacionalid      0   100.000000\n",
       "11               v_sitio_ocur      0   100.000000\n",
       "12                     c_edad      0   100.000000\n",
       "13  t_nombre_del_beneficiario      0   100.000000\n",
       "14                v_ocupacion      0   100.000000\n",
       "15                v_mun_ocurr      0   100.000000\n",
       "16                v_mun_resid      0   100.000000\n",
       "17                v_ent_resid      0   100.000000\n",
       "18                v_mun_regis      0   100.000000\n",
       "19                    c_horas      0   100.000000\n",
       "20           c_monto_de_apoyo      0   100.000000\n",
       "21                  c_minutos      0   100.000000\n",
       "22               v_lugar_ocur      0   100.000000\n",
       "23                  c_salario      0   100.000000"
      ]
     },
     "execution_count": 142,
     "metadata": {},
     "output_type": "execute_result"
    }
   ],
   "source": [
    "completitud(df)"
   ]
  },
  {
   "cell_type": "code",
   "execution_count": 143,
   "metadata": {
    "ExecuteTime": {
     "end_time": "2023-08-09T00:17:49.728347Z",
     "start_time": "2023-08-09T00:17:49.725941Z"
    },
    "hidden": true,
    "id": "0RQD7GpPHaBg",
    "outputId": "b6cd3309-5a16-453b-d650-7b0c55c78362"
   },
   "outputs": [
    {
     "data": {
      "text/plain": [
       "dtype('float64')"
      ]
     },
     "execution_count": 143,
     "metadata": {},
     "output_type": "execute_result"
    }
   ],
   "source": [
    "df[\"v_sexo\"].dtype"
   ]
  },
  {
   "cell_type": "code",
   "execution_count": 144,
   "metadata": {
    "ExecuteTime": {
     "end_time": "2023-08-09T00:17:49.931800Z",
     "start_time": "2023-08-09T00:17:49.927833Z"
    },
    "hidden": true,
    "id": "j4K7Q4xGHaBg",
    "outputId": "ac5358cd-2b4e-4cff-fc5a-64ceeb65c23d"
   },
   "outputs": [
    {
     "data": {
      "text/plain": [
       "1.0    0.555135\n",
       "2.0    0.444343\n",
       "9.0    0.000522\n",
       "Name: v_sexo, dtype: float64"
      ]
     },
     "execution_count": 144,
     "metadata": {},
     "output_type": "execute_result"
    }
   ],
   "source": [
    "df[\"v_sexo\"].value_counts(1)"
   ]
  },
  {
   "cell_type": "code",
   "execution_count": 145,
   "metadata": {
    "ExecuteTime": {
     "end_time": "2023-08-09T00:17:50.164324Z",
     "start_time": "2023-08-09T00:17:50.161347Z"
    },
    "hidden": true,
    "id": "Q0RZeJMcHaBh",
    "outputId": "e180e01e-e596-4c00-e020-078002efeb06"
   },
   "outputs": [
    {
     "data": {
      "text/plain": [
       "dtype('int64')"
      ]
     },
     "execution_count": 145,
     "metadata": {},
     "output_type": "execute_result"
    }
   ],
   "source": [
    "sexo[\"CVE\"].dtype"
   ]
  },
  {
   "cell_type": "code",
   "execution_count": 146,
   "metadata": {
    "ExecuteTime": {
     "end_time": "2023-08-09T00:17:50.377210Z",
     "start_time": "2023-08-09T00:17:50.372149Z"
    },
    "hidden": true,
    "id": "xWF0cKaoHaBi",
    "outputId": "9ca8835f-61d5-4ba7-e0a0-aa7ece10de91"
   },
   "outputs": [
    {
     "data": {
      "text/html": [
       "<div>\n",
       "<style scoped>\n",
       "    .dataframe tbody tr th:only-of-type {\n",
       "        vertical-align: middle;\n",
       "    }\n",
       "\n",
       "    .dataframe tbody tr th {\n",
       "        vertical-align: top;\n",
       "    }\n",
       "\n",
       "    .dataframe thead th {\n",
       "        text-align: right;\n",
       "    }\n",
       "</style>\n",
       "<table border=\"1\" class=\"dataframe\">\n",
       "  <thead>\n",
       "    <tr style=\"text-align: right;\">\n",
       "      <th></th>\n",
       "      <th>CVE</th>\n",
       "      <th>DESCRIP</th>\n",
       "    </tr>\n",
       "  </thead>\n",
       "  <tbody>\n",
       "    <tr>\n",
       "      <th>0</th>\n",
       "      <td>1</td>\n",
       "      <td>Hombres</td>\n",
       "    </tr>\n",
       "    <tr>\n",
       "      <th>1</th>\n",
       "      <td>2</td>\n",
       "      <td>Mujeres</td>\n",
       "    </tr>\n",
       "    <tr>\n",
       "      <th>2</th>\n",
       "      <td>9</td>\n",
       "      <td>Sexo no especificado</td>\n",
       "    </tr>\n",
       "  </tbody>\n",
       "</table>\n",
       "</div>"
      ],
      "text/plain": [
       "   CVE               DESCRIP\n",
       "0    1               Hombres\n",
       "1    2               Mujeres\n",
       "2    9  Sexo no especificado"
      ]
     },
     "execution_count": 146,
     "metadata": {},
     "output_type": "execute_result"
    }
   ],
   "source": [
    "sexo.head()"
   ]
  },
  {
   "cell_type": "code",
   "execution_count": 147,
   "metadata": {
    "ExecuteTime": {
     "end_time": "2023-08-09T00:17:50.631502Z",
     "start_time": "2023-08-09T00:17:50.598883Z"
    },
    "hidden": true,
    "id": "z5boqvDOHaBj"
   },
   "outputs": [],
   "source": [
    "df=df.merge(sexo,right_on=\"CVE\",left_on=\"v_sexo\",how=\"left\")"
   ]
  },
  {
   "cell_type": "code",
   "execution_count": 148,
   "metadata": {
    "ExecuteTime": {
     "end_time": "2023-08-09T00:17:50.823210Z",
     "start_time": "2023-08-09T00:17:50.808583Z"
    },
    "hidden": true,
    "id": "Tp2iWWy9HaBj"
   },
   "outputs": [],
   "source": [
    "df.drop(columns=[\"v_sexo\",\"CVE\"],inplace=True)\n",
    "df.rename(columns={\"DESCRIP\":\"v_sexo\"},inplace=True)"
   ]
  },
  {
   "cell_type": "code",
   "execution_count": 149,
   "metadata": {
    "ExecuteTime": {
     "end_time": "2023-08-09T00:17:51.021829Z",
     "start_time": "2023-08-09T00:17:51.015910Z"
    },
    "hidden": true,
    "id": "e0fdjuzYHaBk",
    "outputId": "202a5443-443c-4237-e457-253974306126"
   },
   "outputs": [
    {
     "data": {
      "text/plain": [
       "Hombres                 37244\n",
       "Mujeres                 29811\n",
       "Sexo no especificado       35\n",
       "Name: v_sexo, dtype: int64"
      ]
     },
     "execution_count": 149,
     "metadata": {},
     "output_type": "execute_result"
    }
   ],
   "source": [
    "df[\"v_sexo\"].value_counts()"
   ]
  },
  {
   "cell_type": "code",
   "execution_count": 150,
   "metadata": {
    "ExecuteTime": {
     "end_time": "2023-08-09T00:17:51.240877Z",
     "start_time": "2023-08-09T00:17:51.235203Z"
    },
    "hidden": true,
    "id": "oLX2gcQmHaBk",
    "scrolled": true
   },
   "outputs": [],
   "source": [
    "#modificamos \"Sexo no especificado\" por np.nan\n",
    "df[\"v_sexo\"]=df[\"v_sexo\"].replace({\"Sexo no especificado\":np.nan})"
   ]
  },
  {
   "cell_type": "code",
   "execution_count": 151,
   "metadata": {
    "ExecuteTime": {
     "end_time": "2023-08-09T00:17:51.448960Z",
     "start_time": "2023-08-09T00:17:51.443990Z"
    },
    "hidden": true,
    "id": "x5KbTSYPHaBl",
    "outputId": "68ce03c3-fc3a-422e-d78c-48e0540a67b8"
   },
   "outputs": [
    {
     "data": {
      "text/plain": [
       "Hombres    37244\n",
       "Mujeres    29811\n",
       "Name: v_sexo, dtype: int64"
      ]
     },
     "execution_count": 151,
     "metadata": {},
     "output_type": "execute_result"
    }
   ],
   "source": [
    "df[\"v_sexo\"].value_counts()"
   ]
  },
  {
   "cell_type": "code",
   "execution_count": 152,
   "metadata": {
    "ExecuteTime": {
     "end_time": "2023-08-09T00:17:51.745539Z",
     "start_time": "2023-08-09T00:17:51.677149Z"
    },
    "hidden": true,
    "scrolled": true
   },
   "outputs": [
    {
     "data": {
      "text/html": [
       "<div>\n",
       "<style scoped>\n",
       "    .dataframe tbody tr th:only-of-type {\n",
       "        vertical-align: middle;\n",
       "    }\n",
       "\n",
       "    .dataframe tbody tr th {\n",
       "        vertical-align: top;\n",
       "    }\n",
       "\n",
       "    .dataframe thead th {\n",
       "        text-align: right;\n",
       "    }\n",
       "</style>\n",
       "<table border=\"1\" class=\"dataframe\">\n",
       "  <thead>\n",
       "    <tr style=\"text-align: right;\">\n",
       "      <th></th>\n",
       "      <th>columna</th>\n",
       "      <th>total</th>\n",
       "      <th>completitud</th>\n",
       "    </tr>\n",
       "  </thead>\n",
       "  <tbody>\n",
       "    <tr>\n",
       "      <th>0</th>\n",
       "      <td>v_edo_civil</td>\n",
       "      <td>67094</td>\n",
       "      <td>0.000000</td>\n",
       "    </tr>\n",
       "    <tr>\n",
       "      <th>1</th>\n",
       "      <td>v_ent_regis</td>\n",
       "      <td>4709</td>\n",
       "      <td>92.981489</td>\n",
       "    </tr>\n",
       "    <tr>\n",
       "      <th>2</th>\n",
       "      <td>d_fecha_nac</td>\n",
       "      <td>1203</td>\n",
       "      <td>98.206993</td>\n",
       "    </tr>\n",
       "    <tr>\n",
       "      <th>3</th>\n",
       "      <td>v_sexo</td>\n",
       "      <td>39</td>\n",
       "      <td>99.941873</td>\n",
       "    </tr>\n",
       "    <tr>\n",
       "      <th>4</th>\n",
       "      <td>t_nombre_del_beneficiario</td>\n",
       "      <td>0</td>\n",
       "      <td>100.000000</td>\n",
       "    </tr>\n",
       "    <tr>\n",
       "      <th>5</th>\n",
       "      <td>t_nombre_del_proyecto</td>\n",
       "      <td>0</td>\n",
       "      <td>100.000000</td>\n",
       "    </tr>\n",
       "    <tr>\n",
       "      <th>6</th>\n",
       "      <td>t_programa_fondo</td>\n",
       "      <td>0</td>\n",
       "      <td>100.000000</td>\n",
       "    </tr>\n",
       "    <tr>\n",
       "      <th>7</th>\n",
       "      <td>d_fecha_ocurr</td>\n",
       "      <td>0</td>\n",
       "      <td>100.000000</td>\n",
       "    </tr>\n",
       "    <tr>\n",
       "      <th>8</th>\n",
       "      <td>v_escolarida</td>\n",
       "      <td>0</td>\n",
       "      <td>100.000000</td>\n",
       "    </tr>\n",
       "    <tr>\n",
       "      <th>9</th>\n",
       "      <td>v_clave</td>\n",
       "      <td>0</td>\n",
       "      <td>100.000000</td>\n",
       "    </tr>\n",
       "    <tr>\n",
       "      <th>10</th>\n",
       "      <td>v_grupo</td>\n",
       "      <td>0</td>\n",
       "      <td>100.000000</td>\n",
       "    </tr>\n",
       "    <tr>\n",
       "      <th>11</th>\n",
       "      <td>v_nacionalid</td>\n",
       "      <td>0</td>\n",
       "      <td>100.000000</td>\n",
       "    </tr>\n",
       "    <tr>\n",
       "      <th>12</th>\n",
       "      <td>c_edad</td>\n",
       "      <td>0</td>\n",
       "      <td>100.000000</td>\n",
       "    </tr>\n",
       "    <tr>\n",
       "      <th>13</th>\n",
       "      <td>c_salario</td>\n",
       "      <td>0</td>\n",
       "      <td>100.000000</td>\n",
       "    </tr>\n",
       "    <tr>\n",
       "      <th>14</th>\n",
       "      <td>v_ocupacion</td>\n",
       "      <td>0</td>\n",
       "      <td>100.000000</td>\n",
       "    </tr>\n",
       "    <tr>\n",
       "      <th>15</th>\n",
       "      <td>v_mun_ocurr</td>\n",
       "      <td>0</td>\n",
       "      <td>100.000000</td>\n",
       "    </tr>\n",
       "    <tr>\n",
       "      <th>16</th>\n",
       "      <td>v_mun_resid</td>\n",
       "      <td>0</td>\n",
       "      <td>100.000000</td>\n",
       "    </tr>\n",
       "    <tr>\n",
       "      <th>17</th>\n",
       "      <td>v_ent_resid</td>\n",
       "      <td>0</td>\n",
       "      <td>100.000000</td>\n",
       "    </tr>\n",
       "    <tr>\n",
       "      <th>18</th>\n",
       "      <td>v_mun_regis</td>\n",
       "      <td>0</td>\n",
       "      <td>100.000000</td>\n",
       "    </tr>\n",
       "    <tr>\n",
       "      <th>19</th>\n",
       "      <td>c_horas</td>\n",
       "      <td>0</td>\n",
       "      <td>100.000000</td>\n",
       "    </tr>\n",
       "    <tr>\n",
       "      <th>20</th>\n",
       "      <td>c_monto_de_apoyo</td>\n",
       "      <td>0</td>\n",
       "      <td>100.000000</td>\n",
       "    </tr>\n",
       "    <tr>\n",
       "      <th>21</th>\n",
       "      <td>c_minutos</td>\n",
       "      <td>0</td>\n",
       "      <td>100.000000</td>\n",
       "    </tr>\n",
       "    <tr>\n",
       "      <th>22</th>\n",
       "      <td>v_sitio_ocur</td>\n",
       "      <td>0</td>\n",
       "      <td>100.000000</td>\n",
       "    </tr>\n",
       "    <tr>\n",
       "      <th>23</th>\n",
       "      <td>v_lugar_ocur</td>\n",
       "      <td>0</td>\n",
       "      <td>100.000000</td>\n",
       "    </tr>\n",
       "  </tbody>\n",
       "</table>\n",
       "</div>"
      ],
      "text/plain": [
       "                      columna  total  completitud\n",
       "0                 v_edo_civil  67094     0.000000\n",
       "1                 v_ent_regis   4709    92.981489\n",
       "2                 d_fecha_nac   1203    98.206993\n",
       "3                      v_sexo     39    99.941873\n",
       "4   t_nombre_del_beneficiario      0   100.000000\n",
       "5       t_nombre_del_proyecto      0   100.000000\n",
       "6            t_programa_fondo      0   100.000000\n",
       "7               d_fecha_ocurr      0   100.000000\n",
       "8                v_escolarida      0   100.000000\n",
       "9                     v_clave      0   100.000000\n",
       "10                    v_grupo      0   100.000000\n",
       "11               v_nacionalid      0   100.000000\n",
       "12                     c_edad      0   100.000000\n",
       "13                  c_salario      0   100.000000\n",
       "14                v_ocupacion      0   100.000000\n",
       "15                v_mun_ocurr      0   100.000000\n",
       "16                v_mun_resid      0   100.000000\n",
       "17                v_ent_resid      0   100.000000\n",
       "18                v_mun_regis      0   100.000000\n",
       "19                    c_horas      0   100.000000\n",
       "20           c_monto_de_apoyo      0   100.000000\n",
       "21                  c_minutos      0   100.000000\n",
       "22               v_sitio_ocur      0   100.000000\n",
       "23               v_lugar_ocur      0   100.000000"
      ]
     },
     "execution_count": 152,
     "metadata": {},
     "output_type": "execute_result"
    }
   ],
   "source": [
    "completitud(df)"
   ]
  },
  {
   "cell_type": "markdown",
   "metadata": {
    "heading_collapsed": true,
    "hidden": true,
    "id": "uIlBFL4iHaBl"
   },
   "source": [
    "###  <span style=\"background:#759566\"> Variable Categorica - \"OCUPACION\" </span> "
   ]
  },
  {
   "cell_type": "code",
   "execution_count": 153,
   "metadata": {
    "ExecuteTime": {
     "end_time": "2023-08-09T00:17:52.128098Z",
     "start_time": "2023-08-09T00:17:52.124570Z"
    },
    "hidden": true,
    "id": "dyE2AWeoHaBm",
    "outputId": "0497ceaa-93b7-4b02-cec7-f61d980f3815"
   },
   "outputs": [
    {
     "data": {
      "text/plain": [
       "dtype('int64')"
      ]
     },
     "execution_count": 153,
     "metadata": {},
     "output_type": "execute_result"
    }
   ],
   "source": [
    "df[\"v_ocupacion\"].dtype"
   ]
  },
  {
   "cell_type": "code",
   "execution_count": 154,
   "metadata": {
    "ExecuteTime": {
     "end_time": "2023-08-09T00:17:52.394416Z",
     "start_time": "2023-08-09T00:17:52.370468Z"
    },
    "hidden": true,
    "id": "dcudWUHJHaBm"
   },
   "outputs": [],
   "source": [
    "df=df.merge(ocupacion,right_on=\"CVE\",left_on=\"v_ocupacion\",how=\"left\")"
   ]
  },
  {
   "cell_type": "code",
   "execution_count": 155,
   "metadata": {
    "ExecuteTime": {
     "end_time": "2023-08-09T00:17:52.613946Z",
     "start_time": "2023-08-09T00:17:52.599846Z"
    },
    "hidden": true,
    "id": "51HBJ5jUHaBm"
   },
   "outputs": [],
   "source": [
    "df.drop(columns=[\"v_ocupacion\",\"CVE\"],inplace=True)\n",
    "df.rename(columns={\"DESCRIP\":\"v_ocupacion\"},inplace=True)"
   ]
  },
  {
   "cell_type": "code",
   "execution_count": 156,
   "metadata": {
    "ExecuteTime": {
     "end_time": "2023-08-09T00:17:52.820384Z",
     "start_time": "2023-08-09T00:17:52.814994Z"
    },
    "hidden": true,
    "id": "2FsGlKG7HaBn",
    "outputId": "f319a044-d7dd-4331-f922-5a7bd7d134e9",
    "scrolled": true
   },
   "outputs": [
    {
     "data": {
      "text/plain": [
       "No trabaja                                                                                  35531\n",
       "Trabajadores en actividades agrícolas, ganaderas, forestales, caza y pesca                   7223\n",
       "Trabajadores artesanales                                                                     3843\n",
       "Ocupación no especificada                                                                    3616\n",
       "Comerciantes, empleados en ventas y agentes de ventas                                        3275\n",
       "No aplica a menores de 5 años                                                                2847\n",
       "Profesionistas y técnicos                                                                    2840\n",
       "Ocupaciones insuficientemente especificadas                                                  2770\n",
       "Trabajadores en actividades elementales y de apoyo                                           2051\n",
       "Operadores de maquinaria industrial, ensambladores, choferes y conductores de transporte     1465\n",
       "Trabajadores en servicios personales y vigilancia                                             995\n",
       "Trabajadores auxiliares en actividades administrativas                                        354\n",
       "Funcionarios, directores y jefes                                                              257\n",
       "Busca trabajo                                                                                  27\n",
       "Name: v_ocupacion, dtype: int64"
      ]
     },
     "execution_count": 156,
     "metadata": {},
     "output_type": "execute_result"
    }
   ],
   "source": [
    "df[\"v_ocupacion\"].value_counts()"
   ]
  },
  {
   "cell_type": "code",
   "execution_count": 157,
   "metadata": {
    "ExecuteTime": {
     "end_time": "2023-08-09T00:17:53.186443Z",
     "start_time": "2023-08-09T00:17:53.055904Z"
    },
    "hidden": true,
    "id": "n8ePgHX8HaBo"
   },
   "outputs": [],
   "source": [
    "df[\"v_ocupacion\"]=df[\"v_ocupacion\"].map(clean_text)"
   ]
  },
  {
   "cell_type": "code",
   "execution_count": 158,
   "metadata": {
    "ExecuteTime": {
     "end_time": "2023-08-09T00:17:53.287930Z",
     "start_time": "2023-08-09T00:17:53.281720Z"
    },
    "hidden": true,
    "id": "E04XW4lbHaBo",
    "outputId": "0cbf21dc-6407-47cf-cddb-412dde9de18e",
    "scrolled": true
   },
   "outputs": [
    {
     "data": {
      "text/plain": [
       "14"
      ]
     },
     "execution_count": 158,
     "metadata": {},
     "output_type": "execute_result"
    }
   ],
   "source": [
    "len(df[\"v_ocupacion\"].value_counts(1).index)"
   ]
  },
  {
   "cell_type": "code",
   "execution_count": 159,
   "metadata": {
    "ExecuteTime": {
     "end_time": "2023-08-09T00:17:53.527369Z",
     "start_time": "2023-08-09T00:17:53.521019Z"
    },
    "hidden": true,
    "scrolled": true
   },
   "outputs": [
    {
     "data": {
      "text/plain": [
       "no trabaja                                                                                0.529570\n",
       "trabajadores en actividades agricolas ganaderas forestales caza y pesca                   0.107655\n",
       "trabajadores artesanales                                                                  0.057278\n",
       "ocupacion no especificada                                                                 0.053895\n",
       "comerciantes empleados en ventas y agentes de ventas                                      0.048812\n",
       "no aplica a menores de 5 anos                                                             0.042433\n",
       "profesionistas y tecnicos                                                                 0.042329\n",
       "ocupaciones insuficientemente especificadas                                               0.041285\n",
       "trabajadores en actividades elementales y de apoyo                                        0.030569\n",
       "operadores de maquinaria industrial ensambladores choferes y conductores de transporte    0.021835\n",
       "trabajadores en servicios personales y vigilancia                                         0.014830\n",
       "trabajadores auxiliares en actividades administrativas                                    0.005276\n",
       "funcionarios directores y jefes                                                           0.003830\n",
       "busca trabajo                                                                             0.000402\n",
       "Name: v_ocupacion, dtype: float64"
      ]
     },
     "execution_count": 159,
     "metadata": {},
     "output_type": "execute_result"
    }
   ],
   "source": [
    "df[\"v_ocupacion\"].value_counts(1)"
   ]
  },
  {
   "cell_type": "markdown",
   "metadata": {
    "hidden": true,
    "id": "a6KT2KTWHaBp"
   },
   "source": [
    "####  <span style=\"background:#e1d486\"> NORMALIZACION CATEGORICAS  </span> "
   ]
  },
  {
   "cell_type": "code",
   "execution_count": 160,
   "metadata": {
    "ExecuteTime": {
     "end_time": "2023-08-09T00:17:53.998345Z",
     "start_time": "2023-08-09T00:17:53.992829Z"
    },
    "hidden": true,
    "id": "SOVkin3YHaBp",
    "outputId": "2a3f791a-4d58-4200-9910-9a2873416f0f"
   },
   "outputs": [
    {
     "data": {
      "text/plain": [
       "0.02433898709273556"
      ]
     },
     "execution_count": 160,
     "metadata": {},
     "output_type": "execute_result"
    }
   ],
   "source": [
    "df[\"v_ocupacion\"].value_counts(1)[-4:].sum()"
   ]
  },
  {
   "cell_type": "code",
   "execution_count": 161,
   "metadata": {
    "ExecuteTime": {
     "end_time": "2023-08-09T00:17:54.239836Z",
     "start_time": "2023-08-09T00:17:54.234381Z"
    },
    "hidden": true,
    "id": "RWIevEhQHaBq",
    "outputId": "a5b56662-ac5e-4d5e-8910-61b0a50609a7"
   },
   "outputs": [
    {
     "data": {
      "text/plain": [
       "0.009509047008674398"
      ]
     },
     "execution_count": 161,
     "metadata": {},
     "output_type": "execute_result"
    }
   ],
   "source": [
    "df[\"v_ocupacion\"].value_counts(1)[-3:].sum()"
   ]
  },
  {
   "cell_type": "code",
   "execution_count": 162,
   "metadata": {
    "ExecuteTime": {
     "end_time": "2023-08-09T00:17:54.466637Z",
     "start_time": "2023-08-09T00:17:54.461188Z"
    },
    "hidden": true
   },
   "outputs": [
    {
     "data": {
      "text/plain": [
       "['trabajadores auxiliares en actividades administrativas',\n",
       " 'funcionarios directores y jefes',\n",
       " 'busca trabajo']"
      ]
     },
     "execution_count": 162,
     "metadata": {},
     "output_type": "execute_result"
    }
   ],
   "source": [
    "list(df[\"v_ocupacion\"].value_counts(1)[-3:].index)"
   ]
  },
  {
   "cell_type": "code",
   "execution_count": 163,
   "metadata": {
    "ExecuteTime": {
     "end_time": "2023-08-09T00:17:54.705913Z",
     "start_time": "2023-08-09T00:17:54.700781Z"
    },
    "hidden": true
   },
   "outputs": [
    {
     "data": {
      "text/plain": [
       "{'trabajadores auxiliares en actividades administrativas': 'otro',\n",
       " 'funcionarios directores y jefes': 'otro',\n",
       " 'busca trabajo': 'otro'}"
      ]
     },
     "execution_count": 163,
     "metadata": {},
     "output_type": "execute_result"
    }
   ],
   "source": [
    "dict(zip(list(df[\"v_ocupacion\"].value_counts(1)[-3:].index),[\"otro\"]*3))"
   ]
  },
  {
   "cell_type": "code",
   "execution_count": 164,
   "metadata": {
    "ExecuteTime": {
     "end_time": "2023-08-09T00:17:54.945399Z",
     "start_time": "2023-08-09T00:17:54.940466Z"
    },
    "hidden": true,
    "id": "UzkI0GiRHaBq"
   },
   "outputs": [],
   "source": [
    "dictio_ocupaciones=dict(zip(list(df[\"v_ocupacion\"].value_counts(1)[-3:].index),[\"otro\"]*3))"
   ]
  },
  {
   "cell_type": "code",
   "execution_count": 165,
   "metadata": {
    "ExecuteTime": {
     "end_time": "2023-08-09T00:17:55.185717Z",
     "start_time": "2023-08-09T00:17:55.174953Z"
    },
    "hidden": true,
    "id": "xfW4QZ_MHaBr",
    "outputId": "7cfa87a8-9a51-490b-dd82-1e684e3cba43",
    "scrolled": true
   },
   "outputs": [
    {
     "data": {
      "text/plain": [
       "no trabaja                                                                                0.529570\n",
       "trabajadores en actividades agricolas ganaderas forestales caza y pesca                   0.107655\n",
       "trabajadores artesanales                                                                  0.057278\n",
       "ocupacion no especificada                                                                 0.053895\n",
       "comerciantes empleados en ventas y agentes de ventas                                      0.048812\n",
       "no aplica a menores de 5 anos                                                             0.042433\n",
       "profesionistas y tecnicos                                                                 0.042329\n",
       "ocupaciones insuficientemente especificadas                                               0.041285\n",
       "trabajadores en actividades elementales y de apoyo                                        0.030569\n",
       "operadores de maquinaria industrial ensambladores choferes y conductores de transporte    0.021835\n",
       "trabajadores en servicios personales y vigilancia                                         0.014830\n",
       "otro                                                                                      0.009509\n",
       "Name: v_ocupacion, dtype: float64"
      ]
     },
     "execution_count": 165,
     "metadata": {},
     "output_type": "execute_result"
    }
   ],
   "source": [
    "df[\"v_ocupacion\"].replace(dictio_ocupaciones).value_counts(1)"
   ]
  },
  {
   "cell_type": "code",
   "execution_count": 166,
   "metadata": {
    "ExecuteTime": {
     "end_time": "2023-08-09T00:17:55.436873Z",
     "start_time": "2023-08-09T00:17:55.429350Z"
    },
    "hidden": true,
    "id": "6wTyLhewHaBr"
   },
   "outputs": [],
   "source": [
    "df[\"v_ocupacion\"]=df[\"v_ocupacion\"].replace(dictio_ocupaciones)"
   ]
  },
  {
   "cell_type": "markdown",
   "metadata": {
    "heading_collapsed": true,
    "hidden": true,
    "id": "ckjkKBsrHaBs"
   },
   "source": [
    "###  <span style=\"background:#759566\"> Variable Categorica - \"ESCOLARIDAD\" </span> "
   ]
  },
  {
   "cell_type": "code",
   "execution_count": 167,
   "metadata": {
    "ExecuteTime": {
     "end_time": "2023-08-09T00:17:55.945796Z",
     "start_time": "2023-08-09T00:17:55.942045Z"
    },
    "hidden": true,
    "id": "tqa6sxfNHaBs",
    "outputId": "6f97c285-30a9-40fc-8a63-b6056ccc8e0c"
   },
   "outputs": [
    {
     "data": {
      "text/plain": [
       "3     17260\n",
       "1     12871\n",
       "4     12861\n",
       "6      6355\n",
       "9      4301\n",
       "99     3850\n",
       "8      3441\n",
       "88     2723\n",
       "5      1819\n",
       "7      1258\n",
       "10      256\n",
       "2        99\n",
       "Name: v_escolarida, dtype: int64"
      ]
     },
     "execution_count": 167,
     "metadata": {},
     "output_type": "execute_result"
    }
   ],
   "source": [
    "df[\"v_escolarida\"].value_counts()"
   ]
  },
  {
   "cell_type": "code",
   "execution_count": 168,
   "metadata": {
    "ExecuteTime": {
     "end_time": "2023-08-09T00:17:56.220212Z",
     "start_time": "2023-08-09T00:17:56.216461Z"
    },
    "hidden": true,
    "id": "gQjmlyMPHaBt",
    "outputId": "118d4f2e-ebc5-49e9-b087-c70d9cc877f5"
   },
   "outputs": [
    {
     "data": {
      "text/plain": [
       "dtype('int64')"
      ]
     },
     "execution_count": 168,
     "metadata": {},
     "output_type": "execute_result"
    }
   ],
   "source": [
    "df[\"v_escolarida\"].dtype"
   ]
  },
  {
   "cell_type": "code",
   "execution_count": 169,
   "metadata": {
    "ExecuteTime": {
     "end_time": "2023-08-09T00:17:56.441934Z",
     "start_time": "2023-08-09T00:17:56.439503Z"
    },
    "hidden": true,
    "id": "Eg_H8udpHaBv",
    "outputId": "3328430d-efed-4cb7-ca23-33402850d99b"
   },
   "outputs": [
    {
     "data": {
      "text/plain": [
       "dtype('int64')"
      ]
     },
     "execution_count": 169,
     "metadata": {},
     "output_type": "execute_result"
    }
   ],
   "source": [
    "escolaridad[\"CVE\"].dtype"
   ]
  },
  {
   "cell_type": "code",
   "execution_count": 170,
   "metadata": {
    "ExecuteTime": {
     "end_time": "2023-08-09T00:17:56.701047Z",
     "start_time": "2023-08-09T00:17:56.672471Z"
    },
    "hidden": true,
    "id": "-QdfeHZ4HaBv"
   },
   "outputs": [],
   "source": [
    "df=df.merge(escolaridad,right_on=\"CVE\",left_on=\"v_escolarida\",how=\"left\")"
   ]
  },
  {
   "cell_type": "code",
   "execution_count": 171,
   "metadata": {
    "ExecuteTime": {
     "end_time": "2023-08-09T00:17:56.938291Z",
     "start_time": "2023-08-09T00:17:56.920589Z"
    },
    "hidden": true,
    "id": "p_zzHl8xHaBw"
   },
   "outputs": [],
   "source": [
    "df.drop(columns=[\"v_escolarida\",\"CVE\"],inplace=True)\n",
    "df.rename(columns={\"DESCRIP\":\"v_escolarida\"},inplace=True)"
   ]
  },
  {
   "cell_type": "code",
   "execution_count": 172,
   "metadata": {
    "ExecuteTime": {
     "end_time": "2023-08-09T00:17:57.189174Z",
     "start_time": "2023-08-09T00:17:57.183975Z"
    },
    "hidden": true,
    "id": "BQRCDGaJHaBx",
    "outputId": "2a716e24-8464-4a97-8835-7700b76def53",
    "scrolled": true
   },
   "outputs": [
    {
     "data": {
      "text/plain": [
       "Primaria incompleta                       0.257251\n",
       "Sin escolaridad                           0.191835\n",
       "Primaria completa                         0.191686\n",
       "Secundaria completa                       0.094718\n",
       "Profesional                               0.064104\n",
       "No especificado                           0.057382\n",
       "Bachillerato o Preparatoria completo      0.051286\n",
       "No aplica a menores de 3 años             0.040585\n",
       "Secundaria incompleta                     0.027111\n",
       "Bachillerato o Preparatoria incompleto    0.018750\n",
       "Posgrado                                  0.003816\n",
       "Preescolar                                0.001476\n",
       "Name: v_escolarida, dtype: float64"
      ]
     },
     "execution_count": 172,
     "metadata": {},
     "output_type": "execute_result"
    }
   ],
   "source": [
    "df[\"v_escolarida\"].value_counts(1)"
   ]
  },
  {
   "cell_type": "code",
   "execution_count": 173,
   "metadata": {
    "ExecuteTime": {
     "end_time": "2023-08-09T00:17:57.423018Z",
     "start_time": "2023-08-09T00:17:57.421458Z"
    },
    "hidden": true,
    "id": "OdyQwScWHaBy"
   },
   "outputs": [],
   "source": [
    "#Modificamos \"No especificado\" a np.nan"
   ]
  },
  {
   "cell_type": "code",
   "execution_count": 174,
   "metadata": {
    "ExecuteTime": {
     "end_time": "2023-08-09T00:17:57.668619Z",
     "start_time": "2023-08-09T00:17:57.661293Z"
    },
    "hidden": true,
    "id": "M_A1z1vHHaBy",
    "outputId": "d366409f-09bd-42b1-d98c-90d142054028"
   },
   "outputs": [
    {
     "data": {
      "text/plain": [
       "Primaria incompleta                       0.272911\n",
       "Sin escolaridad                           0.203513\n",
       "Primaria completa                         0.203355\n",
       "Secundaria completa                       0.100484\n",
       "Profesional                               0.068006\n",
       "Bachillerato o Preparatoria completo      0.054408\n",
       "No aplica a menores de 3 años             0.043055\n",
       "Secundaria incompleta                     0.028762\n",
       "Bachillerato o Preparatoria incompleto    0.019891\n",
       "Posgrado                                  0.004048\n",
       "Preescolar                                0.001565\n",
       "Name: v_escolarida, dtype: float64"
      ]
     },
     "execution_count": 174,
     "metadata": {},
     "output_type": "execute_result"
    }
   ],
   "source": [
    "df[\"v_escolarida\"].replace({\"No especificado\":np.nan}).value_counts(1)"
   ]
  },
  {
   "cell_type": "code",
   "execution_count": 175,
   "metadata": {
    "ExecuteTime": {
     "end_time": "2023-08-09T00:17:57.930952Z",
     "start_time": "2023-08-09T00:17:57.925747Z"
    },
    "hidden": true,
    "id": "HZD9ExvsHaBz"
   },
   "outputs": [],
   "source": [
    "df[\"v_escolarida\"]=df[\"v_escolarida\"].replace({\"No especificado\":np.nan})"
   ]
  },
  {
   "cell_type": "code",
   "execution_count": 176,
   "metadata": {
    "ExecuteTime": {
     "end_time": "2023-08-09T00:17:58.140921Z",
     "start_time": "2023-08-09T00:17:58.135846Z"
    },
    "hidden": true,
    "id": "OmqdOT1lHaBz",
    "outputId": "433c6c84-83e8-4118-abb0-b5ecc21a0278"
   },
   "outputs": [
    {
     "data": {
      "text/plain": [
       "Primaria incompleta                       0.272911\n",
       "Sin escolaridad                           0.203513\n",
       "Primaria completa                         0.203355\n",
       "Secundaria completa                       0.100484\n",
       "Profesional                               0.068006\n",
       "Bachillerato o Preparatoria completo      0.054408\n",
       "No aplica a menores de 3 años             0.043055\n",
       "Secundaria incompleta                     0.028762\n",
       "Bachillerato o Preparatoria incompleto    0.019891\n",
       "Posgrado                                  0.004048\n",
       "Preescolar                                0.001565\n",
       "Name: v_escolarida, dtype: float64"
      ]
     },
     "execution_count": 176,
     "metadata": {},
     "output_type": "execute_result"
    }
   ],
   "source": [
    "df[\"v_escolarida\"].value_counts(1)"
   ]
  },
  {
   "cell_type": "code",
   "execution_count": 177,
   "metadata": {
    "ExecuteTime": {
     "end_time": "2023-08-09T00:17:58.353060Z",
     "start_time": "2023-08-09T00:17:58.351231Z"
    },
    "hidden": true,
    "id": "_EkQaFMXHaBz"
   },
   "outputs": [],
   "source": [
    "dictio_escolaridad={\"Posgrado\":\"Profesional\",\"Primaria incompleta\":\"Primaria\",\"Primaria completa\":\"Primaria\",\n",
    "                   \"Secundaria incompleta\":\"Secundaria\",\"Secundaria completa\":\"Secundaria\",\n",
    "                   \"Bachillerato o Preparatoria incompleto\":\"Bachillerato o Preparatoria\",\"Bachillerato o Preparatoria completo\":\"Bachillerato o Preparatoria\",\n",
    "                   }"
   ]
  },
  {
   "cell_type": "code",
   "execution_count": 178,
   "metadata": {
    "ExecuteTime": {
     "end_time": "2023-08-09T00:17:58.610599Z",
     "start_time": "2023-08-09T00:17:58.586873Z"
    },
    "hidden": true,
    "id": "dk9M8BLLHaB0",
    "outputId": "447f5dca-f484-4403-8f90-1423928b62f5"
   },
   "outputs": [
    {
     "data": {
      "text/plain": [
       "Primaria                         0.476267\n",
       "Sin escolaridad                  0.203513\n",
       "Secundaria                       0.129245\n",
       "Bachillerato o Preparatoria      0.074300\n",
       "Profesional                      0.072054\n",
       "No aplica a menores de 3 años    0.043055\n",
       "Preescolar                       0.001565\n",
       "Name: v_escolarida, dtype: float64"
      ]
     },
     "execution_count": 178,
     "metadata": {},
     "output_type": "execute_result"
    }
   ],
   "source": [
    "df[\"v_escolarida\"].replace(dictio_escolaridad).value_counts(1)"
   ]
  },
  {
   "cell_type": "code",
   "execution_count": 179,
   "metadata": {
    "ExecuteTime": {
     "end_time": "2023-08-09T00:17:58.820073Z",
     "start_time": "2023-08-09T00:17:58.809324Z"
    },
    "hidden": true,
    "id": "1I027AlYHaB1"
   },
   "outputs": [],
   "source": [
    "df[\"v_escolarida\"]=df[\"v_escolarida\"].replace(dictio_escolaridad)"
   ]
  },
  {
   "cell_type": "markdown",
   "metadata": {
    "heading_collapsed": true,
    "hidden": true,
    "id": "EZaVKF6OHaB1"
   },
   "source": [
    "### <span style=\"background:#759566\"> Continuas </span> "
   ]
  },
  {
   "cell_type": "code",
   "execution_count": 180,
   "metadata": {
    "ExecuteTime": {
     "end_time": "2023-08-09T00:17:59.267660Z",
     "start_time": "2023-08-09T00:17:59.238869Z"
    },
    "hidden": true,
    "id": "6toUVvmIHaB2",
    "outputId": "bf549a1b-f9ee-4812-8fdc-798426c95830"
   },
   "outputs": [
    {
     "data": {
      "text/html": [
       "<div>\n",
       "<style scoped>\n",
       "    .dataframe tbody tr th:only-of-type {\n",
       "        vertical-align: middle;\n",
       "    }\n",
       "\n",
       "    .dataframe tbody tr th {\n",
       "        vertical-align: top;\n",
       "    }\n",
       "\n",
       "    .dataframe thead th {\n",
       "        text-align: right;\n",
       "    }\n",
       "</style>\n",
       "<table border=\"1\" class=\"dataframe\">\n",
       "  <thead>\n",
       "    <tr style=\"text-align: right;\">\n",
       "      <th></th>\n",
       "      <th>c_edad</th>\n",
       "      <th>c_minutos</th>\n",
       "      <th>c_horas</th>\n",
       "      <th>c_salario</th>\n",
       "    </tr>\n",
       "  </thead>\n",
       "  <tbody>\n",
       "    <tr>\n",
       "      <th>count</th>\n",
       "      <td>67094.000000</td>\n",
       "      <td>67094.000000</td>\n",
       "      <td>67094.000000</td>\n",
       "      <td>67094.000000</td>\n",
       "    </tr>\n",
       "    <tr>\n",
       "      <th>mean</th>\n",
       "      <td>4004.905938</td>\n",
       "      <td>21.688392</td>\n",
       "      <td>12.695636</td>\n",
       "      <td>2136.830417</td>\n",
       "    </tr>\n",
       "    <tr>\n",
       "      <th>std</th>\n",
       "      <td>380.211589</td>\n",
       "      <td>19.484495</td>\n",
       "      <td>11.217706</td>\n",
       "      <td>1983.501166</td>\n",
       "    </tr>\n",
       "    <tr>\n",
       "      <th>min</th>\n",
       "      <td>1001.000000</td>\n",
       "      <td>0.000000</td>\n",
       "      <td>0.000000</td>\n",
       "      <td>-9900.000000</td>\n",
       "    </tr>\n",
       "    <tr>\n",
       "      <th>25%</th>\n",
       "      <td>4051.000000</td>\n",
       "      <td>0.000000</td>\n",
       "      <td>6.000000</td>\n",
       "      <td>0.000000</td>\n",
       "    </tr>\n",
       "    <tr>\n",
       "      <th>50%</th>\n",
       "      <td>4069.000000</td>\n",
       "      <td>20.000000</td>\n",
       "      <td>12.000000</td>\n",
       "      <td>2000.000000</td>\n",
       "    </tr>\n",
       "    <tr>\n",
       "      <th>75%</th>\n",
       "      <td>4081.000000</td>\n",
       "      <td>35.000000</td>\n",
       "      <td>18.000000</td>\n",
       "      <td>3400.000000</td>\n",
       "    </tr>\n",
       "    <tr>\n",
       "      <th>max</th>\n",
       "      <td>4998.000000</td>\n",
       "      <td>99.000000</td>\n",
       "      <td>99.000000</td>\n",
       "      <td>9900.000000</td>\n",
       "    </tr>\n",
       "  </tbody>\n",
       "</table>\n",
       "</div>"
      ],
      "text/plain": [
       "             c_edad     c_minutos       c_horas     c_salario\n",
       "count  67094.000000  67094.000000  67094.000000  67094.000000\n",
       "mean    4004.905938     21.688392     12.695636   2136.830417\n",
       "std      380.211589     19.484495     11.217706   1983.501166\n",
       "min     1001.000000      0.000000      0.000000  -9900.000000\n",
       "25%     4051.000000      0.000000      6.000000      0.000000\n",
       "50%     4069.000000     20.000000     12.000000   2000.000000\n",
       "75%     4081.000000     35.000000     18.000000   3400.000000\n",
       "max     4998.000000     99.000000     99.000000   9900.000000"
      ]
     },
     "execution_count": 180,
     "metadata": {},
     "output_type": "execute_result"
    }
   ],
   "source": [
    "df.filter(like=\"c_\").describe()"
   ]
  },
  {
   "cell_type": "code",
   "execution_count": 181,
   "metadata": {
    "ExecuteTime": {
     "end_time": "2023-08-09T00:17:59.458804Z",
     "start_time": "2023-08-09T00:17:59.456268Z"
    },
    "hidden": true,
    "id": "LBeewLHhHaB3"
   },
   "outputs": [],
   "source": [
    "df[\"c_minutos\"]=df[\"c_minutos\"].astype(float)"
   ]
  },
  {
   "cell_type": "code",
   "execution_count": 182,
   "metadata": {
    "ExecuteTime": {
     "end_time": "2023-08-09T00:17:59.697558Z",
     "start_time": "2023-08-09T00:17:59.695157Z"
    },
    "hidden": true,
    "id": "UgEuLTTUHaB7"
   },
   "outputs": [],
   "source": [
    "df[\"c_horas\"]=df[\"c_horas\"].astype(float)"
   ]
  },
  {
   "cell_type": "markdown",
   "metadata": {
    "heading_collapsed": true,
    "id": "3fl5aq2nHaB8"
   },
   "source": [
    "##  <span style=\"background:#fe7f00\"> Consistencia </span> "
   ]
  },
  {
   "cell_type": "markdown",
   "metadata": {
    "heading_collapsed": true,
    "hidden": true
   },
   "source": [
    "### <span style=\"background:#759566\"> Variable Continua - \"SALARIO\" </span> "
   ]
  },
  {
   "cell_type": "code",
   "execution_count": 183,
   "metadata": {
    "ExecuteTime": {
     "end_time": "2023-08-09T00:18:00.431377Z",
     "start_time": "2023-08-09T00:18:00.413336Z"
    },
    "hidden": true,
    "id": "x5FGZVLsHaB8",
    "outputId": "58c9f4f5-294e-4b26-f711-722749c6be1b",
    "scrolled": true
   },
   "outputs": [
    {
     "data": {
      "text/html": [
       "<div>\n",
       "<style scoped>\n",
       "    .dataframe tbody tr th:only-of-type {\n",
       "        vertical-align: middle;\n",
       "    }\n",
       "\n",
       "    .dataframe tbody tr th {\n",
       "        vertical-align: top;\n",
       "    }\n",
       "\n",
       "    .dataframe thead th {\n",
       "        text-align: right;\n",
       "    }\n",
       "</style>\n",
       "<table border=\"1\" class=\"dataframe\">\n",
       "  <thead>\n",
       "    <tr style=\"text-align: right;\">\n",
       "      <th></th>\n",
       "      <th>c_edad</th>\n",
       "      <th>c_minutos</th>\n",
       "      <th>c_monto_de_apoyo</th>\n",
       "      <th>c_horas</th>\n",
       "      <th>v_ent_regis</th>\n",
       "      <th>v_mun_regis</th>\n",
       "      <th>v_ent_resid</th>\n",
       "      <th>v_mun_resid</th>\n",
       "      <th>v_mun_ocurr</th>\n",
       "      <th>v_edo_civil</th>\n",
       "      <th>v_lugar_ocur</th>\n",
       "      <th>v_sitio_ocur</th>\n",
       "      <th>v_nacionalid</th>\n",
       "      <th>v_grupo</th>\n",
       "      <th>v_clave</th>\n",
       "      <th>d_fecha_nac</th>\n",
       "      <th>d_fecha_ocurr</th>\n",
       "      <th>t_programa_fondo</th>\n",
       "      <th>t_nombre_del_proyecto</th>\n",
       "      <th>t_nombre_del_beneficiario</th>\n",
       "      <th>c_salario</th>\n",
       "      <th>v_sexo</th>\n",
       "      <th>v_ocupacion</th>\n",
       "      <th>v_escolarida</th>\n",
       "    </tr>\n",
       "  </thead>\n",
       "  <tbody>\n",
       "    <tr>\n",
       "      <th>337</th>\n",
       "      <td>4082</td>\n",
       "      <td>40.0</td>\n",
       "      <td>534650.0</td>\n",
       "      <td>18.0</td>\n",
       "      <td>13.0</td>\n",
       "      <td>28</td>\n",
       "      <td>13</td>\n",
       "      <td>28</td>\n",
       "      <td>28</td>\n",
       "      <td>NaN</td>\n",
       "      <td>88</td>\n",
       "      <td>11</td>\n",
       "      <td>1</td>\n",
       "      <td>5</td>\n",
       "      <td>6836</td>\n",
       "      <td>1933-06-01</td>\n",
       "      <td>2015-10-13</td>\n",
       "      <td>programa para el fomento de recursos humanos d...</td>\n",
       "      <td>becas singularity u mexico summit 4 0 industri...</td>\n",
       "      <td>4 0 industrial cluster a c</td>\n",
       "      <td>-4000</td>\n",
       "      <td>Mujeres</td>\n",
       "      <td>no trabaja</td>\n",
       "      <td>Sin escolaridad</td>\n",
       "    </tr>\n",
       "    <tr>\n",
       "      <th>648</th>\n",
       "      <td>4054</td>\n",
       "      <td>50.0</td>\n",
       "      <td>2642237.0</td>\n",
       "      <td>17.0</td>\n",
       "      <td>4.0</td>\n",
       "      <td>3</td>\n",
       "      <td>4</td>\n",
       "      <td>3</td>\n",
       "      <td>2</td>\n",
       "      <td>NaN</td>\n",
       "      <td>88</td>\n",
       "      <td>4</td>\n",
       "      <td>1</td>\n",
       "      <td>2</td>\n",
       "      <td>6837</td>\n",
       "      <td>1960-12-03</td>\n",
       "      <td>2015-06-14</td>\n",
       "      <td>programa cluster de ciencia tecnologia e innov...</td>\n",
       "      <td>participacion de la industria mexicana del clu...</td>\n",
       "      <td>4 0 industrial cluster a c</td>\n",
       "      <td>-5000</td>\n",
       "      <td>Mujeres</td>\n",
       "      <td>no trabaja</td>\n",
       "      <td>Primaria</td>\n",
       "    </tr>\n",
       "    <tr>\n",
       "      <th>708</th>\n",
       "      <td>4050</td>\n",
       "      <td>30.0</td>\n",
       "      <td>2642237.0</td>\n",
       "      <td>22.0</td>\n",
       "      <td>9.0</td>\n",
       "      <td>5</td>\n",
       "      <td>9</td>\n",
       "      <td>5</td>\n",
       "      <td>5</td>\n",
       "      <td>NaN</td>\n",
       "      <td>88</td>\n",
       "      <td>11</td>\n",
       "      <td>1</td>\n",
       "      <td>4</td>\n",
       "      <td>6837</td>\n",
       "      <td>1964-03-12</td>\n",
       "      <td>2015-08-18</td>\n",
       "      <td>programa cluster de ciencia tecnologia e innov...</td>\n",
       "      <td>participacion de la industria mexicana del clu...</td>\n",
       "      <td>4 0 industrial cluster a c</td>\n",
       "      <td>-3000</td>\n",
       "      <td>Hombres</td>\n",
       "      <td>no trabaja</td>\n",
       "      <td>Secundaria</td>\n",
       "    </tr>\n",
       "    <tr>\n",
       "      <th>875</th>\n",
       "      <td>4053</td>\n",
       "      <td>50.0</td>\n",
       "      <td>3258370.0</td>\n",
       "      <td>19.0</td>\n",
       "      <td>9.0</td>\n",
       "      <td>15</td>\n",
       "      <td>15</td>\n",
       "      <td>58</td>\n",
       "      <td>15</td>\n",
       "      <td>NaN</td>\n",
       "      <td>88</td>\n",
       "      <td>1</td>\n",
       "      <td>1</td>\n",
       "      <td>3</td>\n",
       "      <td>6821</td>\n",
       "      <td>1961-07-02</td>\n",
       "      <td>2014-06-06</td>\n",
       "      <td>programa estatal para el desarrollo de la indu...</td>\n",
       "      <td>fortalecimiento de capacidades empresariales p...</td>\n",
       "      <td>4 0 industrial cluster ac</td>\n",
       "      <td>-5000</td>\n",
       "      <td>Mujeres</td>\n",
       "      <td>no trabaja</td>\n",
       "      <td>Primaria</td>\n",
       "    </tr>\n",
       "    <tr>\n",
       "      <th>1515</th>\n",
       "      <td>4031</td>\n",
       "      <td>50.0</td>\n",
       "      <td>58700.35</td>\n",
       "      <td>10.0</td>\n",
       "      <td>30.0</td>\n",
       "      <td>193</td>\n",
       "      <td>30</td>\n",
       "      <td>105</td>\n",
       "      <td>193</td>\n",
       "      <td>NaN</td>\n",
       "      <td>88</td>\n",
       "      <td>3</td>\n",
       "      <td>1</td>\n",
       "      <td>3</td>\n",
       "      <td>6553</td>\n",
       "      <td>1984-02-02</td>\n",
       "      <td>2015-08-04</td>\n",
       "      <td>programa jalisciense de fomento a la propiedad...</td>\n",
       "      <td>compresor recirculador de fluidos</td>\n",
       "      <td>active financial s a de c v</td>\n",
       "      <td>-5000</td>\n",
       "      <td>Hombres</td>\n",
       "      <td>profesionistas y tecnicos</td>\n",
       "      <td>Profesional</td>\n",
       "    </tr>\n",
       "    <tr>\n",
       "      <th>...</th>\n",
       "      <td>...</td>\n",
       "      <td>...</td>\n",
       "      <td>...</td>\n",
       "      <td>...</td>\n",
       "      <td>...</td>\n",
       "      <td>...</td>\n",
       "      <td>...</td>\n",
       "      <td>...</td>\n",
       "      <td>...</td>\n",
       "      <td>...</td>\n",
       "      <td>...</td>\n",
       "      <td>...</td>\n",
       "      <td>...</td>\n",
       "      <td>...</td>\n",
       "      <td>...</td>\n",
       "      <td>...</td>\n",
       "      <td>...</td>\n",
       "      <td>...</td>\n",
       "      <td>...</td>\n",
       "      <td>...</td>\n",
       "      <td>...</td>\n",
       "      <td>...</td>\n",
       "      <td>...</td>\n",
       "      <td>...</td>\n",
       "    </tr>\n",
       "    <tr>\n",
       "      <th>66396</th>\n",
       "      <td>4029</td>\n",
       "      <td>50.0</td>\n",
       "      <td>472500.0</td>\n",
       "      <td>23.0</td>\n",
       "      <td>10.0</td>\n",
       "      <td>5</td>\n",
       "      <td>10</td>\n",
       "      <td>1</td>\n",
       "      <td>5</td>\n",
       "      <td>NaN</td>\n",
       "      <td>4</td>\n",
       "      <td>1</td>\n",
       "      <td>1</td>\n",
       "      <td>9</td>\n",
       "      <td>6353</td>\n",
       "      <td>1986-03-27</td>\n",
       "      <td>2015-02-18</td>\n",
       "      <td>programa de difusion y divulgacion de la cienc...</td>\n",
       "      <td>participacion de comunidad estudiantil y docen...</td>\n",
       "      <td>universidad tecnologica de jalisco</td>\n",
       "      <td>-5000</td>\n",
       "      <td>Hombres</td>\n",
       "      <td>comerciantes empleados en ventas y agentes de ...</td>\n",
       "      <td>Bachillerato o Preparatoria</td>\n",
       "    </tr>\n",
       "    <tr>\n",
       "      <th>66502</th>\n",
       "      <td>4052</td>\n",
       "      <td>55.0</td>\n",
       "      <td>472500.0</td>\n",
       "      <td>3.0</td>\n",
       "      <td>30.0</td>\n",
       "      <td>132</td>\n",
       "      <td>30</td>\n",
       "      <td>132</td>\n",
       "      <td>132</td>\n",
       "      <td>NaN</td>\n",
       "      <td>88</td>\n",
       "      <td>11</td>\n",
       "      <td>1</td>\n",
       "      <td>8</td>\n",
       "      <td>6353</td>\n",
       "      <td>1963-07-22</td>\n",
       "      <td>2015-06-12</td>\n",
       "      <td>programa de difusion y divulgacion de la cienc...</td>\n",
       "      <td>participacion de comunidad estudiantil y docen...</td>\n",
       "      <td>universidad tecnologica de jalisco</td>\n",
       "      <td>-5500</td>\n",
       "      <td>Hombres</td>\n",
       "      <td>trabajadores en actividades agricolas ganadera...</td>\n",
       "      <td>Primaria</td>\n",
       "    </tr>\n",
       "    <tr>\n",
       "      <th>66505</th>\n",
       "      <td>4090</td>\n",
       "      <td>30.0</td>\n",
       "      <td>472500.0</td>\n",
       "      <td>7.0</td>\n",
       "      <td>14.0</td>\n",
       "      <td>39</td>\n",
       "      <td>14</td>\n",
       "      <td>101</td>\n",
       "      <td>39</td>\n",
       "      <td>NaN</td>\n",
       "      <td>88</td>\n",
       "      <td>3</td>\n",
       "      <td>1</td>\n",
       "      <td>5</td>\n",
       "      <td>6353</td>\n",
       "      <td>1924-09-09</td>\n",
       "      <td>2015-06-15</td>\n",
       "      <td>programa de difusion y divulgacion de la cienc...</td>\n",
       "      <td>participacion de comunidad estudiantil y docen...</td>\n",
       "      <td>universidad tecnologica de jalisco</td>\n",
       "      <td>-3000</td>\n",
       "      <td>Hombres</td>\n",
       "      <td>no trabaja</td>\n",
       "      <td>Primaria</td>\n",
       "    </tr>\n",
       "    <tr>\n",
       "      <th>66538</th>\n",
       "      <td>4061</td>\n",
       "      <td>15.0</td>\n",
       "      <td>472500.0</td>\n",
       "      <td>1.0</td>\n",
       "      <td>9.0</td>\n",
       "      <td>7</td>\n",
       "      <td>9</td>\n",
       "      <td>7</td>\n",
       "      <td>7</td>\n",
       "      <td>NaN</td>\n",
       "      <td>88</td>\n",
       "      <td>8</td>\n",
       "      <td>1</td>\n",
       "      <td>6</td>\n",
       "      <td>6353</td>\n",
       "      <td>1954-01-30</td>\n",
       "      <td>2015-07-20</td>\n",
       "      <td>programa de difusion y divulgacion de la cienc...</td>\n",
       "      <td>participacion de comunidad estudiantil y docen...</td>\n",
       "      <td>universidad tecnologica de jalisco</td>\n",
       "      <td>-1500</td>\n",
       "      <td>Hombres</td>\n",
       "      <td>trabajadores artesanales</td>\n",
       "      <td>Primaria</td>\n",
       "    </tr>\n",
       "    <tr>\n",
       "      <th>66634</th>\n",
       "      <td>4068</td>\n",
       "      <td>20.0</td>\n",
       "      <td>472500.0</td>\n",
       "      <td>8.0</td>\n",
       "      <td>2.0</td>\n",
       "      <td>4</td>\n",
       "      <td>2</td>\n",
       "      <td>4</td>\n",
       "      <td>4</td>\n",
       "      <td>NaN</td>\n",
       "      <td>88</td>\n",
       "      <td>3</td>\n",
       "      <td>1</td>\n",
       "      <td>8</td>\n",
       "      <td>6353</td>\n",
       "      <td>1946-05-13</td>\n",
       "      <td>2015-11-04</td>\n",
       "      <td>programa de difusion y divulgacion de la cienc...</td>\n",
       "      <td>participacion de comunidad estudiantil y docen...</td>\n",
       "      <td>universidad tecnologica de jalisco</td>\n",
       "      <td>-2000</td>\n",
       "      <td>Hombres</td>\n",
       "      <td>comerciantes empleados en ventas y agentes de ...</td>\n",
       "      <td>Profesional</td>\n",
       "    </tr>\n",
       "  </tbody>\n",
       "</table>\n",
       "<p>354 rows × 24 columns</p>\n",
       "</div>"
      ],
      "text/plain": [
       "       c_edad  c_minutos c_monto_de_apoyo  c_horas  v_ent_regis  v_mun_regis  \\\n",
       "337      4082       40.0         534650.0     18.0         13.0           28   \n",
       "648      4054       50.0        2642237.0     17.0          4.0            3   \n",
       "708      4050       30.0        2642237.0     22.0          9.0            5   \n",
       "875      4053       50.0        3258370.0     19.0          9.0           15   \n",
       "1515     4031       50.0         58700.35     10.0         30.0          193   \n",
       "...       ...        ...              ...      ...          ...          ...   \n",
       "66396    4029       50.0         472500.0     23.0         10.0            5   \n",
       "66502    4052       55.0         472500.0      3.0         30.0          132   \n",
       "66505    4090       30.0         472500.0      7.0         14.0           39   \n",
       "66538    4061       15.0         472500.0      1.0          9.0            7   \n",
       "66634    4068       20.0         472500.0      8.0          2.0            4   \n",
       "\n",
       "       v_ent_resid  v_mun_resid  v_mun_ocurr  v_edo_civil  v_lugar_ocur  \\\n",
       "337             13           28           28          NaN            88   \n",
       "648              4            3            2          NaN            88   \n",
       "708              9            5            5          NaN            88   \n",
       "875             15           58           15          NaN            88   \n",
       "1515            30          105          193          NaN            88   \n",
       "...            ...          ...          ...          ...           ...   \n",
       "66396           10            1            5          NaN             4   \n",
       "66502           30          132          132          NaN            88   \n",
       "66505           14          101           39          NaN            88   \n",
       "66538            9            7            7          NaN            88   \n",
       "66634            2            4            4          NaN            88   \n",
       "\n",
       "       v_sitio_ocur  v_nacionalid  v_grupo  v_clave d_fecha_nac d_fecha_ocurr  \\\n",
       "337              11             1        5     6836  1933-06-01    2015-10-13   \n",
       "648               4             1        2     6837  1960-12-03    2015-06-14   \n",
       "708              11             1        4     6837  1964-03-12    2015-08-18   \n",
       "875               1             1        3     6821  1961-07-02    2014-06-06   \n",
       "1515              3             1        3     6553  1984-02-02    2015-08-04   \n",
       "...             ...           ...      ...      ...         ...           ...   \n",
       "66396             1             1        9     6353  1986-03-27    2015-02-18   \n",
       "66502            11             1        8     6353  1963-07-22    2015-06-12   \n",
       "66505             3             1        5     6353  1924-09-09    2015-06-15   \n",
       "66538             8             1        6     6353  1954-01-30    2015-07-20   \n",
       "66634             3             1        8     6353  1946-05-13    2015-11-04   \n",
       "\n",
       "                                        t_programa_fondo  \\\n",
       "337    programa para el fomento de recursos humanos d...   \n",
       "648    programa cluster de ciencia tecnologia e innov...   \n",
       "708    programa cluster de ciencia tecnologia e innov...   \n",
       "875    programa estatal para el desarrollo de la indu...   \n",
       "1515   programa jalisciense de fomento a la propiedad...   \n",
       "...                                                  ...   \n",
       "66396  programa de difusion y divulgacion de la cienc...   \n",
       "66502  programa de difusion y divulgacion de la cienc...   \n",
       "66505  programa de difusion y divulgacion de la cienc...   \n",
       "66538  programa de difusion y divulgacion de la cienc...   \n",
       "66634  programa de difusion y divulgacion de la cienc...   \n",
       "\n",
       "                                   t_nombre_del_proyecto  \\\n",
       "337    becas singularity u mexico summit 4 0 industri...   \n",
       "648    participacion de la industria mexicana del clu...   \n",
       "708    participacion de la industria mexicana del clu...   \n",
       "875    fortalecimiento de capacidades empresariales p...   \n",
       "1515                   compresor recirculador de fluidos   \n",
       "...                                                  ...   \n",
       "66396  participacion de comunidad estudiantil y docen...   \n",
       "66502  participacion de comunidad estudiantil y docen...   \n",
       "66505  participacion de comunidad estudiantil y docen...   \n",
       "66538  participacion de comunidad estudiantil y docen...   \n",
       "66634  participacion de comunidad estudiantil y docen...   \n",
       "\n",
       "                t_nombre_del_beneficiario  c_salario   v_sexo  \\\n",
       "337            4 0 industrial cluster a c      -4000  Mujeres   \n",
       "648            4 0 industrial cluster a c      -5000  Mujeres   \n",
       "708            4 0 industrial cluster a c      -3000  Hombres   \n",
       "875             4 0 industrial cluster ac      -5000  Mujeres   \n",
       "1515          active financial s a de c v      -5000  Hombres   \n",
       "...                                   ...        ...      ...   \n",
       "66396  universidad tecnologica de jalisco      -5000  Hombres   \n",
       "66502  universidad tecnologica de jalisco      -5500  Hombres   \n",
       "66505  universidad tecnologica de jalisco      -3000  Hombres   \n",
       "66538  universidad tecnologica de jalisco      -1500  Hombres   \n",
       "66634  universidad tecnologica de jalisco      -2000  Hombres   \n",
       "\n",
       "                                             v_ocupacion  \\\n",
       "337                                           no trabaja   \n",
       "648                                           no trabaja   \n",
       "708                                           no trabaja   \n",
       "875                                           no trabaja   \n",
       "1515                           profesionistas y tecnicos   \n",
       "...                                                  ...   \n",
       "66396  comerciantes empleados en ventas y agentes de ...   \n",
       "66502  trabajadores en actividades agricolas ganadera...   \n",
       "66505                                         no trabaja   \n",
       "66538                           trabajadores artesanales   \n",
       "66634  comerciantes empleados en ventas y agentes de ...   \n",
       "\n",
       "                      v_escolarida  \n",
       "337                Sin escolaridad  \n",
       "648                       Primaria  \n",
       "708                     Secundaria  \n",
       "875                       Primaria  \n",
       "1515                   Profesional  \n",
       "...                            ...  \n",
       "66396  Bachillerato o Preparatoria  \n",
       "66502                     Primaria  \n",
       "66505                     Primaria  \n",
       "66538                     Primaria  \n",
       "66634                  Profesional  \n",
       "\n",
       "[354 rows x 24 columns]"
      ]
     },
     "execution_count": 183,
     "metadata": {},
     "output_type": "execute_result"
    }
   ],
   "source": [
    "#Verificamos si existe información no consistente\n",
    "df[df[\"c_salario\"].map(lambda x:x<0)]"
   ]
  },
  {
   "cell_type": "code",
   "execution_count": 184,
   "metadata": {
    "ExecuteTime": {
     "end_time": "2023-08-09T00:18:00.672584Z",
     "start_time": "2023-08-09T00:18:00.656711Z"
    },
    "hidden": true,
    "id": "5GWyKRbQHaB9",
    "outputId": "fb63a620-83bf-4a1d-e6c4-ff9077824c56",
    "scrolled": true
   },
   "outputs": [
    {
     "data": {
      "text/plain": [
       "0.005276179688198646"
      ]
     },
     "execution_count": 184,
     "metadata": {},
     "output_type": "execute_result"
    }
   ],
   "source": [
    "df[df[\"c_salario\"].map(lambda x:x<0)].shape[0]/df.shape[0]"
   ]
  },
  {
   "cell_type": "code",
   "execution_count": 185,
   "metadata": {
    "ExecuteTime": {
     "end_time": "2023-08-09T00:18:00.920582Z",
     "start_time": "2023-08-09T00:18:00.901650Z"
    },
    "hidden": true,
    "id": "U42LFIEDHaB-"
   },
   "outputs": [],
   "source": [
    "df=df[~df[\"c_salario\"].map(lambda x:x<0)]"
   ]
  },
  {
   "cell_type": "code",
   "execution_count": 186,
   "metadata": {
    "ExecuteTime": {
     "end_time": "2023-08-09T00:18:01.154104Z",
     "start_time": "2023-08-09T00:18:01.152154Z"
    },
    "hidden": true,
    "id": "KMaQPSVOHaB_"
   },
   "outputs": [],
   "source": [
    "df.reset_index(drop=True,inplace=True)"
   ]
  },
  {
   "cell_type": "code",
   "execution_count": 187,
   "metadata": {
    "ExecuteTime": {
     "end_time": "2023-08-09T00:18:01.400319Z",
     "start_time": "2023-08-09T00:18:01.397999Z"
    },
    "hidden": true,
    "id": "RFCkJAv1HaCA",
    "outputId": "75b3f0f8-9a2e-4919-ac62-e35615369437"
   },
   "outputs": [],
   "source": [
    "df[\"c_salario\"]=df[\"c_salario\"].astype(float)"
   ]
  },
  {
   "cell_type": "code",
   "execution_count": 188,
   "metadata": {
    "ExecuteTime": {
     "end_time": "2023-08-09T00:18:01.641141Z",
     "start_time": "2023-08-09T00:18:01.632474Z"
    },
    "hidden": true,
    "id": "TRwRcY28HaCA",
    "outputId": "b9bf7390-bf16-4514-948f-49189a4453f7",
    "scrolled": true
   },
   "outputs": [
    {
     "data": {
      "text/plain": [
       "count    66740.000000\n",
       "mean      2164.253821\n",
       "std       1948.994535\n",
       "min          0.000000\n",
       "25%          0.000000\n",
       "50%       2000.000000\n",
       "75%       3400.000000\n",
       "max       9900.000000\n",
       "Name: c_salario, dtype: float64"
      ]
     },
     "execution_count": 188,
     "metadata": {},
     "output_type": "execute_result"
    }
   ],
   "source": [
    "df[\"c_salario\"].describe()"
   ]
  },
  {
   "cell_type": "markdown",
   "metadata": {
    "heading_collapsed": true,
    "hidden": true,
    "id": "wp0EdpyCHaCB"
   },
   "source": [
    "### <span style=\"background:#759566\"> Variable Continua - \"EDAD\" </span> "
   ]
  },
  {
   "cell_type": "code",
   "execution_count": 189,
   "metadata": {
    "ExecuteTime": {
     "end_time": "2023-08-09T00:18:02.091516Z",
     "start_time": "2023-08-09T00:18:02.088205Z"
    },
    "hidden": true,
    "id": "HLFd9zI0HaCC",
    "outputId": "7ac8f6ca-7888-4030-e611-7ad3f622274b"
   },
   "outputs": [
    {
     "data": {
      "text/plain": [
       "0        4055\n",
       "1        4085\n",
       "2        4061\n",
       "3        4078\n",
       "4        4046\n",
       "         ... \n",
       "66735    4080\n",
       "66736    4085\n",
       "66737    4089\n",
       "66738    4085\n",
       "66739    4061\n",
       "Name: c_edad, Length: 66740, dtype: int64"
      ]
     },
     "execution_count": 189,
     "metadata": {},
     "output_type": "execute_result"
    }
   ],
   "source": [
    "df[\"c_edad\"]"
   ]
  },
  {
   "cell_type": "code",
   "execution_count": 190,
   "metadata": {
    "ExecuteTime": {
     "end_time": "2023-08-09T00:18:02.316788Z",
     "start_time": "2023-08-09T00:18:02.313088Z"
    },
    "hidden": true,
    "scrolled": true
   },
   "outputs": [
    {
     "data": {
      "text/html": [
       "<div>\n",
       "<style scoped>\n",
       "    .dataframe tbody tr th:only-of-type {\n",
       "        vertical-align: middle;\n",
       "    }\n",
       "\n",
       "    .dataframe tbody tr th {\n",
       "        vertical-align: top;\n",
       "    }\n",
       "\n",
       "    .dataframe thead th {\n",
       "        text-align: right;\n",
       "    }\n",
       "</style>\n",
       "<table border=\"1\" class=\"dataframe\">\n",
       "  <thead>\n",
       "    <tr style=\"text-align: right;\">\n",
       "      <th></th>\n",
       "      <th>CVE</th>\n",
       "      <th>DESCRIP</th>\n",
       "    </tr>\n",
       "  </thead>\n",
       "  <tbody>\n",
       "    <tr>\n",
       "      <th>0</th>\n",
       "      <td>1001</td>\n",
       "      <td>Una hora</td>\n",
       "    </tr>\n",
       "    <tr>\n",
       "      <th>1</th>\n",
       "      <td>1002</td>\n",
       "      <td>Dos horas</td>\n",
       "    </tr>\n",
       "    <tr>\n",
       "      <th>2</th>\n",
       "      <td>1003</td>\n",
       "      <td>Tres horas</td>\n",
       "    </tr>\n",
       "    <tr>\n",
       "      <th>3</th>\n",
       "      <td>1004</td>\n",
       "      <td>Cuatro horas</td>\n",
       "    </tr>\n",
       "    <tr>\n",
       "      <th>4</th>\n",
       "      <td>1005</td>\n",
       "      <td>Cinco horas</td>\n",
       "    </tr>\n",
       "    <tr>\n",
       "      <th>...</th>\n",
       "      <td>...</td>\n",
       "      <td>...</td>\n",
       "    </tr>\n",
       "    <tr>\n",
       "      <th>183</th>\n",
       "      <td>4117</td>\n",
       "      <td>Ciento diecisiete años</td>\n",
       "    </tr>\n",
       "    <tr>\n",
       "      <th>184</th>\n",
       "      <td>4118</td>\n",
       "      <td>Ciento dieciocho años</td>\n",
       "    </tr>\n",
       "    <tr>\n",
       "      <th>185</th>\n",
       "      <td>4119</td>\n",
       "      <td>Ciento diecinueve años</td>\n",
       "    </tr>\n",
       "    <tr>\n",
       "      <th>186</th>\n",
       "      <td>4120</td>\n",
       "      <td>Ciento veinte años</td>\n",
       "    </tr>\n",
       "    <tr>\n",
       "      <th>187</th>\n",
       "      <td>4998</td>\n",
       "      <td>Edad en años no especificada</td>\n",
       "    </tr>\n",
       "  </tbody>\n",
       "</table>\n",
       "<p>188 rows × 2 columns</p>\n",
       "</div>"
      ],
      "text/plain": [
       "      CVE                          DESCRIP\n",
       "0    1001  Una hora                       \n",
       "1    1002  Dos horas                      \n",
       "2    1003  Tres horas                     \n",
       "3    1004  Cuatro horas                   \n",
       "4    1005  Cinco horas                    \n",
       "..    ...                              ...\n",
       "183  4117  Ciento diecisiete años         \n",
       "184  4118  Ciento dieciocho años          \n",
       "185  4119  Ciento diecinueve años         \n",
       "186  4120  Ciento veinte años             \n",
       "187  4998  Edad en años no especificada   \n",
       "\n",
       "[188 rows x 2 columns]"
      ]
     },
     "execution_count": 190,
     "metadata": {},
     "output_type": "execute_result"
    }
   ],
   "source": [
    "edad"
   ]
  },
  {
   "cell_type": "code",
   "execution_count": 191,
   "metadata": {
    "ExecuteTime": {
     "end_time": "2023-08-09T00:18:02.527264Z",
     "start_time": "2023-08-09T00:18:02.521623Z"
    },
    "hidden": true,
    "id": "6Q9_AMTWHaCD",
    "outputId": "1c6044ed-2388-4db7-a66f-399b44b14c1d"
   },
   "outputs": [
    {
     "data": {
      "text/html": [
       "<div>\n",
       "<style scoped>\n",
       "    .dataframe tbody tr th:only-of-type {\n",
       "        vertical-align: middle;\n",
       "    }\n",
       "\n",
       "    .dataframe tbody tr th {\n",
       "        vertical-align: top;\n",
       "    }\n",
       "\n",
       "    .dataframe thead th {\n",
       "        text-align: right;\n",
       "    }\n",
       "</style>\n",
       "<table border=\"1\" class=\"dataframe\">\n",
       "  <thead>\n",
       "    <tr style=\"text-align: right;\">\n",
       "      <th></th>\n",
       "      <th>CVE</th>\n",
       "      <th>DESCRIP</th>\n",
       "    </tr>\n",
       "  </thead>\n",
       "  <tbody>\n",
       "    <tr>\n",
       "      <th>67</th>\n",
       "      <td>4001</td>\n",
       "      <td>Un año</td>\n",
       "    </tr>\n",
       "    <tr>\n",
       "      <th>68</th>\n",
       "      <td>4002</td>\n",
       "      <td>Dos años</td>\n",
       "    </tr>\n",
       "    <tr>\n",
       "      <th>69</th>\n",
       "      <td>4003</td>\n",
       "      <td>Tres años</td>\n",
       "    </tr>\n",
       "    <tr>\n",
       "      <th>70</th>\n",
       "      <td>4004</td>\n",
       "      <td>Cuatro años</td>\n",
       "    </tr>\n",
       "    <tr>\n",
       "      <th>71</th>\n",
       "      <td>4005</td>\n",
       "      <td>Cinco años</td>\n",
       "    </tr>\n",
       "    <tr>\n",
       "      <th>...</th>\n",
       "      <td>...</td>\n",
       "      <td>...</td>\n",
       "    </tr>\n",
       "    <tr>\n",
       "      <th>183</th>\n",
       "      <td>4117</td>\n",
       "      <td>Ciento diecisiete años</td>\n",
       "    </tr>\n",
       "    <tr>\n",
       "      <th>184</th>\n",
       "      <td>4118</td>\n",
       "      <td>Ciento dieciocho años</td>\n",
       "    </tr>\n",
       "    <tr>\n",
       "      <th>185</th>\n",
       "      <td>4119</td>\n",
       "      <td>Ciento diecinueve años</td>\n",
       "    </tr>\n",
       "    <tr>\n",
       "      <th>186</th>\n",
       "      <td>4120</td>\n",
       "      <td>Ciento veinte años</td>\n",
       "    </tr>\n",
       "    <tr>\n",
       "      <th>187</th>\n",
       "      <td>4998</td>\n",
       "      <td>Edad en años no especificada</td>\n",
       "    </tr>\n",
       "  </tbody>\n",
       "</table>\n",
       "<p>121 rows × 2 columns</p>\n",
       "</div>"
      ],
      "text/plain": [
       "      CVE                          DESCRIP\n",
       "67   4001  Un año                         \n",
       "68   4002  Dos años                       \n",
       "69   4003  Tres años                      \n",
       "70   4004  Cuatro años                    \n",
       "71   4005  Cinco años                     \n",
       "..    ...                              ...\n",
       "183  4117  Ciento diecisiete años         \n",
       "184  4118  Ciento dieciocho años          \n",
       "185  4119  Ciento diecinueve años         \n",
       "186  4120  Ciento veinte años             \n",
       "187  4998  Edad en años no especificada   \n",
       "\n",
       "[121 rows x 2 columns]"
      ]
     },
     "execution_count": 191,
     "metadata": {},
     "output_type": "execute_result"
    }
   ],
   "source": [
    "edad[edad[\"CVE\"].map(lambda x:str(x).startswith(\"4\"))]"
   ]
  },
  {
   "cell_type": "code",
   "execution_count": 192,
   "metadata": {
    "ExecuteTime": {
     "end_time": "2023-08-09T00:18:02.756303Z",
     "start_time": "2023-08-09T00:18:02.716023Z"
    },
    "hidden": true
   },
   "outputs": [
    {
     "data": {
      "text/html": [
       "<div>\n",
       "<style scoped>\n",
       "    .dataframe tbody tr th:only-of-type {\n",
       "        vertical-align: middle;\n",
       "    }\n",
       "\n",
       "    .dataframe tbody tr th {\n",
       "        vertical-align: top;\n",
       "    }\n",
       "\n",
       "    .dataframe thead th {\n",
       "        text-align: right;\n",
       "    }\n",
       "</style>\n",
       "<table border=\"1\" class=\"dataframe\">\n",
       "  <thead>\n",
       "    <tr style=\"text-align: right;\">\n",
       "      <th></th>\n",
       "      <th>c_edad</th>\n",
       "      <th>c_minutos</th>\n",
       "      <th>c_monto_de_apoyo</th>\n",
       "      <th>c_horas</th>\n",
       "      <th>v_ent_regis</th>\n",
       "      <th>v_mun_regis</th>\n",
       "      <th>v_ent_resid</th>\n",
       "      <th>v_mun_resid</th>\n",
       "      <th>v_mun_ocurr</th>\n",
       "      <th>v_edo_civil</th>\n",
       "      <th>v_lugar_ocur</th>\n",
       "      <th>v_sitio_ocur</th>\n",
       "      <th>v_nacionalid</th>\n",
       "      <th>v_grupo</th>\n",
       "      <th>v_clave</th>\n",
       "      <th>d_fecha_nac</th>\n",
       "      <th>d_fecha_ocurr</th>\n",
       "      <th>t_programa_fondo</th>\n",
       "      <th>t_nombre_del_proyecto</th>\n",
       "      <th>t_nombre_del_beneficiario</th>\n",
       "      <th>c_salario</th>\n",
       "      <th>v_sexo</th>\n",
       "      <th>v_ocupacion</th>\n",
       "      <th>v_escolarida</th>\n",
       "    </tr>\n",
       "  </thead>\n",
       "  <tbody>\n",
       "    <tr>\n",
       "      <th>58</th>\n",
       "      <td>3002</td>\n",
       "      <td>20.0</td>\n",
       "      <td>534650.0</td>\n",
       "      <td>0.0</td>\n",
       "      <td>NaN</td>\n",
       "      <td>12</td>\n",
       "      <td>12</td>\n",
       "      <td>12</td>\n",
       "      <td>12</td>\n",
       "      <td>NaN</td>\n",
       "      <td>88</td>\n",
       "      <td>11</td>\n",
       "      <td>1</td>\n",
       "      <td>4</td>\n",
       "      <td>6836</td>\n",
       "      <td>2014-08-27</td>\n",
       "      <td>2014-10-02</td>\n",
       "      <td>programa para el fomento de recursos humanos d...</td>\n",
       "      <td>becas singularity u mexico summit 4 0 industri...</td>\n",
       "      <td>4 0 industrial cluster a c</td>\n",
       "      <td>2000.0</td>\n",
       "      <td>Hombres</td>\n",
       "      <td>no aplica a menores de 5 anos</td>\n",
       "      <td>No aplica a menores de 3 años</td>\n",
       "    </tr>\n",
       "    <tr>\n",
       "      <th>77</th>\n",
       "      <td>1097</td>\n",
       "      <td>24.0</td>\n",
       "      <td>534650.0</td>\n",
       "      <td>18.0</td>\n",
       "      <td>14.0</td>\n",
       "      <td>39</td>\n",
       "      <td>14</td>\n",
       "      <td>39</td>\n",
       "      <td>39</td>\n",
       "      <td>NaN</td>\n",
       "      <td>88</td>\n",
       "      <td>8</td>\n",
       "      <td>1</td>\n",
       "      <td>8</td>\n",
       "      <td>6836</td>\n",
       "      <td>2015-07-23</td>\n",
       "      <td>2015-01-05</td>\n",
       "      <td>programa para el fomento de recursos humanos d...</td>\n",
       "      <td>becas singularity u mexico summit 4 0 industri...</td>\n",
       "      <td>4 0 industrial cluster a c</td>\n",
       "      <td>2400.0</td>\n",
       "      <td>Hombres</td>\n",
       "      <td>no aplica a menores de 5 anos</td>\n",
       "      <td>No aplica a menores de 3 años</td>\n",
       "    </tr>\n",
       "    <tr>\n",
       "      <th>106</th>\n",
       "      <td>3003</td>\n",
       "      <td>0.0</td>\n",
       "      <td>534650.0</td>\n",
       "      <td>4.0</td>\n",
       "      <td>17.0</td>\n",
       "      <td>9</td>\n",
       "      <td>17</td>\n",
       "      <td>9</td>\n",
       "      <td>9</td>\n",
       "      <td>NaN</td>\n",
       "      <td>88</td>\n",
       "      <td>11</td>\n",
       "      <td>1</td>\n",
       "      <td>13</td>\n",
       "      <td>6836</td>\n",
       "      <td>2015-05-03</td>\n",
       "      <td>2015-02-06</td>\n",
       "      <td>programa para el fomento de recursos humanos d...</td>\n",
       "      <td>becas singularity u mexico summit 4 0 industri...</td>\n",
       "      <td>4 0 industrial cluster a c</td>\n",
       "      <td>0.0</td>\n",
       "      <td>Hombres</td>\n",
       "      <td>no aplica a menores de 5 anos</td>\n",
       "      <td>No aplica a menores de 3 años</td>\n",
       "    </tr>\n",
       "    <tr>\n",
       "      <th>125</th>\n",
       "      <td>3002</td>\n",
       "      <td>0.0</td>\n",
       "      <td>534650.0</td>\n",
       "      <td>3.0</td>\n",
       "      <td>20.0</td>\n",
       "      <td>232</td>\n",
       "      <td>20</td>\n",
       "      <td>232</td>\n",
       "      <td>232</td>\n",
       "      <td>NaN</td>\n",
       "      <td>88</td>\n",
       "      <td>11</td>\n",
       "      <td>1</td>\n",
       "      <td>2</td>\n",
       "      <td>6836</td>\n",
       "      <td>2015-09-27</td>\n",
       "      <td>2015-02-25</td>\n",
       "      <td>programa para el fomento de recursos humanos d...</td>\n",
       "      <td>becas singularity u mexico summit 4 0 industri...</td>\n",
       "      <td>4 0 industrial cluster a c</td>\n",
       "      <td>0.0</td>\n",
       "      <td>Mujeres</td>\n",
       "      <td>no aplica a menores de 5 anos</td>\n",
       "      <td>No aplica a menores de 3 años</td>\n",
       "    </tr>\n",
       "    <tr>\n",
       "      <th>140</th>\n",
       "      <td>2004</td>\n",
       "      <td>35.0</td>\n",
       "      <td>534650.0</td>\n",
       "      <td>21.0</td>\n",
       "      <td>NaN</td>\n",
       "      <td>30</td>\n",
       "      <td>5</td>\n",
       "      <td>27</td>\n",
       "      <td>30</td>\n",
       "      <td>NaN</td>\n",
       "      <td>88</td>\n",
       "      <td>1</td>\n",
       "      <td>1</td>\n",
       "      <td>4</td>\n",
       "      <td>6836</td>\n",
       "      <td>2015-08-25</td>\n",
       "      <td>2015-03-12</td>\n",
       "      <td>programa para el fomento de recursos humanos d...</td>\n",
       "      <td>becas singularity u mexico summit 4 0 industri...</td>\n",
       "      <td>4 0 industrial cluster a c</td>\n",
       "      <td>3500.0</td>\n",
       "      <td>Hombres</td>\n",
       "      <td>no aplica a menores de 5 anos</td>\n",
       "      <td>No aplica a menores de 3 años</td>\n",
       "    </tr>\n",
       "    <tr>\n",
       "      <th>...</th>\n",
       "      <td>...</td>\n",
       "      <td>...</td>\n",
       "      <td>...</td>\n",
       "      <td>...</td>\n",
       "      <td>...</td>\n",
       "      <td>...</td>\n",
       "      <td>...</td>\n",
       "      <td>...</td>\n",
       "      <td>...</td>\n",
       "      <td>...</td>\n",
       "      <td>...</td>\n",
       "      <td>...</td>\n",
       "      <td>...</td>\n",
       "      <td>...</td>\n",
       "      <td>...</td>\n",
       "      <td>...</td>\n",
       "      <td>...</td>\n",
       "      <td>...</td>\n",
       "      <td>...</td>\n",
       "      <td>...</td>\n",
       "      <td>...</td>\n",
       "      <td>...</td>\n",
       "      <td>...</td>\n",
       "      <td>...</td>\n",
       "    </tr>\n",
       "    <tr>\n",
       "      <th>66590</th>\n",
       "      <td>1097</td>\n",
       "      <td>42.0</td>\n",
       "      <td>2188623.0</td>\n",
       "      <td>23.0</td>\n",
       "      <td>3.0</td>\n",
       "      <td>3</td>\n",
       "      <td>3</td>\n",
       "      <td>3</td>\n",
       "      <td>3</td>\n",
       "      <td>NaN</td>\n",
       "      <td>88</td>\n",
       "      <td>1</td>\n",
       "      <td>1</td>\n",
       "      <td>4</td>\n",
       "      <td>6765</td>\n",
       "      <td>2015-01-09</td>\n",
       "      <td>2015-07-19</td>\n",
       "      <td>programa estatal para el desarrollo de la indu...</td>\n",
       "      <td>creacion de un centro de desarrollo de aplicac...</td>\n",
       "      <td>unosquare s a de c v</td>\n",
       "      <td>4200.0</td>\n",
       "      <td>Mujeres</td>\n",
       "      <td>no aplica a menores de 5 anos</td>\n",
       "      <td>No aplica a menores de 3 años</td>\n",
       "    </tr>\n",
       "    <tr>\n",
       "      <th>66633</th>\n",
       "      <td>2027</td>\n",
       "      <td>0.0</td>\n",
       "      <td>2188623.0</td>\n",
       "      <td>9.0</td>\n",
       "      <td>7.0</td>\n",
       "      <td>46</td>\n",
       "      <td>7</td>\n",
       "      <td>46</td>\n",
       "      <td>46</td>\n",
       "      <td>NaN</td>\n",
       "      <td>88</td>\n",
       "      <td>11</td>\n",
       "      <td>1</td>\n",
       "      <td>13</td>\n",
       "      <td>6765</td>\n",
       "      <td>2015-10-14</td>\n",
       "      <td>2015-09-06</td>\n",
       "      <td>programa estatal para el desarrollo de la indu...</td>\n",
       "      <td>creacion de un centro de desarrollo de aplicac...</td>\n",
       "      <td>unosquare s a de c v</td>\n",
       "      <td>0.0</td>\n",
       "      <td>Hombres</td>\n",
       "      <td>no aplica a menores de 5 anos</td>\n",
       "      <td>No aplica a menores de 3 años</td>\n",
       "    </tr>\n",
       "    <tr>\n",
       "      <th>66647</th>\n",
       "      <td>1002</td>\n",
       "      <td>40.0</td>\n",
       "      <td>2188623.0</td>\n",
       "      <td>13.0</td>\n",
       "      <td>26.0</td>\n",
       "      <td>17</td>\n",
       "      <td>26</td>\n",
       "      <td>17</td>\n",
       "      <td>17</td>\n",
       "      <td>NaN</td>\n",
       "      <td>88</td>\n",
       "      <td>1</td>\n",
       "      <td>1</td>\n",
       "      <td>4</td>\n",
       "      <td>6765</td>\n",
       "      <td>2015-09-15</td>\n",
       "      <td>2015-09-20</td>\n",
       "      <td>programa estatal para el desarrollo de la indu...</td>\n",
       "      <td>creacion de un centro de desarrollo de aplicac...</td>\n",
       "      <td>unosquare s a de c v</td>\n",
       "      <td>4000.0</td>\n",
       "      <td>Mujeres</td>\n",
       "      <td>no aplica a menores de 5 anos</td>\n",
       "      <td>No aplica a menores de 3 años</td>\n",
       "    </tr>\n",
       "    <tr>\n",
       "      <th>66649</th>\n",
       "      <td>3004</td>\n",
       "      <td>50.0</td>\n",
       "      <td>2188623.0</td>\n",
       "      <td>23.0</td>\n",
       "      <td>28.0</td>\n",
       "      <td>38</td>\n",
       "      <td>30</td>\n",
       "      <td>123</td>\n",
       "      <td>38</td>\n",
       "      <td>NaN</td>\n",
       "      <td>88</td>\n",
       "      <td>1</td>\n",
       "      <td>1</td>\n",
       "      <td>5</td>\n",
       "      <td>6765</td>\n",
       "      <td>2014-07-09</td>\n",
       "      <td>2015-09-22</td>\n",
       "      <td>programa estatal para el desarrollo de la indu...</td>\n",
       "      <td>creacion de un centro de desarrollo de aplicac...</td>\n",
       "      <td>unosquare s a de c v</td>\n",
       "      <td>5000.0</td>\n",
       "      <td>Mujeres</td>\n",
       "      <td>no aplica a menores de 5 anos</td>\n",
       "      <td>No aplica a menores de 3 años</td>\n",
       "    </tr>\n",
       "    <tr>\n",
       "      <th>66664</th>\n",
       "      <td>2007</td>\n",
       "      <td>0.0</td>\n",
       "      <td>2188623.0</td>\n",
       "      <td>2.0</td>\n",
       "      <td>2.0</td>\n",
       "      <td>4</td>\n",
       "      <td>2</td>\n",
       "      <td>4</td>\n",
       "      <td>4</td>\n",
       "      <td>NaN</td>\n",
       "      <td>88</td>\n",
       "      <td>3</td>\n",
       "      <td>1</td>\n",
       "      <td>5</td>\n",
       "      <td>6765</td>\n",
       "      <td>2015-11-24</td>\n",
       "      <td>2015-10-09</td>\n",
       "      <td>programa estatal para el desarrollo de la indu...</td>\n",
       "      <td>creacion de un centro de desarrollo de aplicac...</td>\n",
       "      <td>unosquare s a de c v</td>\n",
       "      <td>0.0</td>\n",
       "      <td>Mujeres</td>\n",
       "      <td>no aplica a menores de 5 anos</td>\n",
       "      <td>No aplica a menores de 3 años</td>\n",
       "    </tr>\n",
       "  </tbody>\n",
       "</table>\n",
       "<p>2337 rows × 24 columns</p>\n",
       "</div>"
      ],
      "text/plain": [
       "       c_edad  c_minutos c_monto_de_apoyo  c_horas  v_ent_regis  v_mun_regis  \\\n",
       "58       3002       20.0         534650.0      0.0          NaN           12   \n",
       "77       1097       24.0         534650.0     18.0         14.0           39   \n",
       "106      3003        0.0         534650.0      4.0         17.0            9   \n",
       "125      3002        0.0         534650.0      3.0         20.0          232   \n",
       "140      2004       35.0         534650.0     21.0          NaN           30   \n",
       "...       ...        ...              ...      ...          ...          ...   \n",
       "66590    1097       42.0        2188623.0     23.0          3.0            3   \n",
       "66633    2027        0.0        2188623.0      9.0          7.0           46   \n",
       "66647    1002       40.0        2188623.0     13.0         26.0           17   \n",
       "66649    3004       50.0        2188623.0     23.0         28.0           38   \n",
       "66664    2007        0.0        2188623.0      2.0          2.0            4   \n",
       "\n",
       "       v_ent_resid  v_mun_resid  v_mun_ocurr  v_edo_civil  v_lugar_ocur  \\\n",
       "58              12           12           12          NaN            88   \n",
       "77              14           39           39          NaN            88   \n",
       "106             17            9            9          NaN            88   \n",
       "125             20          232          232          NaN            88   \n",
       "140              5           27           30          NaN            88   \n",
       "...            ...          ...          ...          ...           ...   \n",
       "66590            3            3            3          NaN            88   \n",
       "66633            7           46           46          NaN            88   \n",
       "66647           26           17           17          NaN            88   \n",
       "66649           30          123           38          NaN            88   \n",
       "66664            2            4            4          NaN            88   \n",
       "\n",
       "       v_sitio_ocur  v_nacionalid  v_grupo  v_clave d_fecha_nac d_fecha_ocurr  \\\n",
       "58               11             1        4     6836  2014-08-27    2014-10-02   \n",
       "77                8             1        8     6836  2015-07-23    2015-01-05   \n",
       "106              11             1       13     6836  2015-05-03    2015-02-06   \n",
       "125              11             1        2     6836  2015-09-27    2015-02-25   \n",
       "140               1             1        4     6836  2015-08-25    2015-03-12   \n",
       "...             ...           ...      ...      ...         ...           ...   \n",
       "66590             1             1        4     6765  2015-01-09    2015-07-19   \n",
       "66633            11             1       13     6765  2015-10-14    2015-09-06   \n",
       "66647             1             1        4     6765  2015-09-15    2015-09-20   \n",
       "66649             1             1        5     6765  2014-07-09    2015-09-22   \n",
       "66664             3             1        5     6765  2015-11-24    2015-10-09   \n",
       "\n",
       "                                        t_programa_fondo  \\\n",
       "58     programa para el fomento de recursos humanos d...   \n",
       "77     programa para el fomento de recursos humanos d...   \n",
       "106    programa para el fomento de recursos humanos d...   \n",
       "125    programa para el fomento de recursos humanos d...   \n",
       "140    programa para el fomento de recursos humanos d...   \n",
       "...                                                  ...   \n",
       "66590  programa estatal para el desarrollo de la indu...   \n",
       "66633  programa estatal para el desarrollo de la indu...   \n",
       "66647  programa estatal para el desarrollo de la indu...   \n",
       "66649  programa estatal para el desarrollo de la indu...   \n",
       "66664  programa estatal para el desarrollo de la indu...   \n",
       "\n",
       "                                   t_nombre_del_proyecto  \\\n",
       "58     becas singularity u mexico summit 4 0 industri...   \n",
       "77     becas singularity u mexico summit 4 0 industri...   \n",
       "106    becas singularity u mexico summit 4 0 industri...   \n",
       "125    becas singularity u mexico summit 4 0 industri...   \n",
       "140    becas singularity u mexico summit 4 0 industri...   \n",
       "...                                                  ...   \n",
       "66590  creacion de un centro de desarrollo de aplicac...   \n",
       "66633  creacion de un centro de desarrollo de aplicac...   \n",
       "66647  creacion de un centro de desarrollo de aplicac...   \n",
       "66649  creacion de un centro de desarrollo de aplicac...   \n",
       "66664  creacion de un centro de desarrollo de aplicac...   \n",
       "\n",
       "        t_nombre_del_beneficiario  c_salario   v_sexo  \\\n",
       "58     4 0 industrial cluster a c     2000.0  Hombres   \n",
       "77     4 0 industrial cluster a c     2400.0  Hombres   \n",
       "106    4 0 industrial cluster a c        0.0  Hombres   \n",
       "125    4 0 industrial cluster a c        0.0  Mujeres   \n",
       "140    4 0 industrial cluster a c     3500.0  Hombres   \n",
       "...                           ...        ...      ...   \n",
       "66590        unosquare s a de c v     4200.0  Mujeres   \n",
       "66633        unosquare s a de c v        0.0  Hombres   \n",
       "66647        unosquare s a de c v     4000.0  Mujeres   \n",
       "66649        unosquare s a de c v     5000.0  Mujeres   \n",
       "66664        unosquare s a de c v        0.0  Mujeres   \n",
       "\n",
       "                         v_ocupacion                   v_escolarida  \n",
       "58     no aplica a menores de 5 anos  No aplica a menores de 3 años  \n",
       "77     no aplica a menores de 5 anos  No aplica a menores de 3 años  \n",
       "106    no aplica a menores de 5 anos  No aplica a menores de 3 años  \n",
       "125    no aplica a menores de 5 anos  No aplica a menores de 3 años  \n",
       "140    no aplica a menores de 5 anos  No aplica a menores de 3 años  \n",
       "...                              ...                            ...  \n",
       "66590  no aplica a menores de 5 anos  No aplica a menores de 3 años  \n",
       "66633  no aplica a menores de 5 anos  No aplica a menores de 3 años  \n",
       "66647  no aplica a menores de 5 anos  No aplica a menores de 3 años  \n",
       "66649  no aplica a menores de 5 anos  No aplica a menores de 3 años  \n",
       "66664  no aplica a menores de 5 anos  No aplica a menores de 3 años  \n",
       "\n",
       "[2337 rows x 24 columns]"
      ]
     },
     "execution_count": 192,
     "metadata": {},
     "output_type": "execute_result"
    }
   ],
   "source": [
    "df[~df[\"c_edad\"].map(lambda x:str(x).startswith(\"4\"))]"
   ]
  },
  {
   "cell_type": "code",
   "execution_count": 193,
   "metadata": {
    "ExecuteTime": {
     "end_time": "2023-08-09T00:18:02.926312Z",
     "start_time": "2023-08-09T00:18:02.911210Z"
    },
    "hidden": true,
    "id": "HBEqhG3-HaCE",
    "outputId": "0cd1068a-8ddb-41ef-8357-4d1e21444bb4",
    "scrolled": true
   },
   "outputs": [
    {
     "data": {
      "text/plain": [
       "0.035016481869943064"
      ]
     },
     "execution_count": 193,
     "metadata": {},
     "output_type": "execute_result"
    }
   ],
   "source": [
    "df[~df[\"c_edad\"].map(lambda x:str(x).startswith(\"4\"))].shape[0]/df.shape[0]"
   ]
  },
  {
   "cell_type": "code",
   "execution_count": 194,
   "metadata": {
    "ExecuteTime": {
     "end_time": "2023-08-09T00:18:03.099252Z",
     "start_time": "2023-08-09T00:18:03.074396Z"
    },
    "hidden": true,
    "id": "DJ6W1mdbHaCE",
    "scrolled": true
   },
   "outputs": [],
   "source": [
    "df=df[df[\"c_edad\"].map(lambda x:str(x).startswith(\"4\"))]\n",
    "df.reset_index(drop=True,inplace=True)"
   ]
  },
  {
   "cell_type": "code",
   "execution_count": 195,
   "metadata": {
    "ExecuteTime": {
     "end_time": "2023-08-09T00:18:03.290787Z",
     "start_time": "2023-08-09T00:18:03.264537Z"
    },
    "hidden": true,
    "id": "oK88ubEOHaCF",
    "scrolled": true
   },
   "outputs": [],
   "source": [
    "df[\"c_edad\"]=df[\"c_edad\"].astype(str).str[-3:].astype(int)"
   ]
  },
  {
   "cell_type": "code",
   "execution_count": 196,
   "metadata": {
    "ExecuteTime": {
     "end_time": "2023-08-09T00:18:03.415786Z",
     "start_time": "2023-08-09T00:18:03.412441Z"
    },
    "hidden": true
   },
   "outputs": [
    {
     "data": {
      "text/plain": [
       "84     1565\n",
       "79     1512\n",
       "78     1450\n",
       "80     1410\n",
       "85     1410\n",
       "       ... \n",
       "112       3\n",
       "114       3\n",
       "115       1\n",
       "117       1\n",
       "113       1\n",
       "Name: c_edad, Length: 117, dtype: int64"
      ]
     },
     "execution_count": 196,
     "metadata": {},
     "output_type": "execute_result"
    }
   ],
   "source": [
    "df[\"c_edad\"].value_counts()"
   ]
  },
  {
   "cell_type": "code",
   "execution_count": 197,
   "metadata": {
    "ExecuteTime": {
     "end_time": "2023-08-09T00:18:03.564309Z",
     "start_time": "2023-08-09T00:18:03.556348Z"
    },
    "hidden": true,
    "id": "OGZ0_YYsHaCF",
    "outputId": "74c41e3c-fa45-41a0-fd41-0891506426fd"
   },
   "outputs": [
    {
     "data": {
      "text/html": [
       "<div>\n",
       "<style scoped>\n",
       "    .dataframe tbody tr th:only-of-type {\n",
       "        vertical-align: middle;\n",
       "    }\n",
       "\n",
       "    .dataframe tbody tr th {\n",
       "        vertical-align: top;\n",
       "    }\n",
       "\n",
       "    .dataframe thead th {\n",
       "        text-align: right;\n",
       "    }\n",
       "</style>\n",
       "<table border=\"1\" class=\"dataframe\">\n",
       "  <thead>\n",
       "    <tr style=\"text-align: right;\">\n",
       "      <th></th>\n",
       "      <th>c_edad</th>\n",
       "      <th>c_minutos</th>\n",
       "      <th>c_monto_de_apoyo</th>\n",
       "      <th>c_horas</th>\n",
       "      <th>v_ent_regis</th>\n",
       "      <th>v_mun_regis</th>\n",
       "      <th>v_ent_resid</th>\n",
       "      <th>v_mun_resid</th>\n",
       "      <th>v_mun_ocurr</th>\n",
       "      <th>v_edo_civil</th>\n",
       "      <th>v_lugar_ocur</th>\n",
       "      <th>v_sitio_ocur</th>\n",
       "      <th>v_nacionalid</th>\n",
       "      <th>v_grupo</th>\n",
       "      <th>v_clave</th>\n",
       "      <th>d_fecha_nac</th>\n",
       "      <th>d_fecha_ocurr</th>\n",
       "      <th>t_programa_fondo</th>\n",
       "      <th>t_nombre_del_proyecto</th>\n",
       "      <th>t_nombre_del_beneficiario</th>\n",
       "      <th>c_salario</th>\n",
       "      <th>v_sexo</th>\n",
       "      <th>v_ocupacion</th>\n",
       "      <th>v_escolarida</th>\n",
       "    </tr>\n",
       "  </thead>\n",
       "  <tbody>\n",
       "    <tr>\n",
       "      <th>0</th>\n",
       "      <td>55</td>\n",
       "      <td>30.0</td>\n",
       "      <td>534650.0</td>\n",
       "      <td>10.0</td>\n",
       "      <td>25.0</td>\n",
       "      <td>12</td>\n",
       "      <td>2</td>\n",
       "      <td>2</td>\n",
       "      <td>12</td>\n",
       "      <td>NaN</td>\n",
       "      <td>8</td>\n",
       "      <td>12</td>\n",
       "      <td>1</td>\n",
       "      <td>16</td>\n",
       "      <td>6836</td>\n",
       "      <td>1952-12-28</td>\n",
       "      <td>2008-07-22</td>\n",
       "      <td>programa para el fomento de recursos humanos d...</td>\n",
       "      <td>becas singularity u mexico summit 4 0 industri...</td>\n",
       "      <td>4 0 industrial cluster a c</td>\n",
       "      <td>3000.0</td>\n",
       "      <td>Hombres</td>\n",
       "      <td>ocupaciones insuficientemente especificadas</td>\n",
       "      <td>Primaria</td>\n",
       "    </tr>\n",
       "    <tr>\n",
       "      <th>1</th>\n",
       "      <td>85</td>\n",
       "      <td>30.0</td>\n",
       "      <td>534650.0</td>\n",
       "      <td>14.0</td>\n",
       "      <td>25.0</td>\n",
       "      <td>12</td>\n",
       "      <td>25</td>\n",
       "      <td>12</td>\n",
       "      <td>12</td>\n",
       "      <td>NaN</td>\n",
       "      <td>88</td>\n",
       "      <td>3</td>\n",
       "      <td>1</td>\n",
       "      <td>3</td>\n",
       "      <td>6836</td>\n",
       "      <td>1925-05-28</td>\n",
       "      <td>2010-07-28</td>\n",
       "      <td>programa para el fomento de recursos humanos d...</td>\n",
       "      <td>becas singularity u mexico summit 4 0 industri...</td>\n",
       "      <td>4 0 industrial cluster a c</td>\n",
       "      <td>3000.0</td>\n",
       "      <td>Hombres</td>\n",
       "      <td>ocupacion no especificada</td>\n",
       "      <td>Primaria</td>\n",
       "    </tr>\n",
       "    <tr>\n",
       "      <th>2</th>\n",
       "      <td>61</td>\n",
       "      <td>30.0</td>\n",
       "      <td>534650.0</td>\n",
       "      <td>14.0</td>\n",
       "      <td>5.0</td>\n",
       "      <td>30</td>\n",
       "      <td>5</td>\n",
       "      <td>30</td>\n",
       "      <td>30</td>\n",
       "      <td>NaN</td>\n",
       "      <td>88</td>\n",
       "      <td>3</td>\n",
       "      <td>1</td>\n",
       "      <td>8</td>\n",
       "      <td>6836</td>\n",
       "      <td>1950-04-30</td>\n",
       "      <td>2011-04-11</td>\n",
       "      <td>programa para el fomento de recursos humanos d...</td>\n",
       "      <td>becas singularity u mexico summit 4 0 industri...</td>\n",
       "      <td>4 0 industrial cluster a c</td>\n",
       "      <td>3000.0</td>\n",
       "      <td>Mujeres</td>\n",
       "      <td>no trabaja</td>\n",
       "      <td>Secundaria</td>\n",
       "    </tr>\n",
       "    <tr>\n",
       "      <th>3</th>\n",
       "      <td>78</td>\n",
       "      <td>45.0</td>\n",
       "      <td>534650.0</td>\n",
       "      <td>14.0</td>\n",
       "      <td>NaN</td>\n",
       "      <td>11</td>\n",
       "      <td>25</td>\n",
       "      <td>11</td>\n",
       "      <td>11</td>\n",
       "      <td>NaN</td>\n",
       "      <td>88</td>\n",
       "      <td>1</td>\n",
       "      <td>1</td>\n",
       "      <td>7</td>\n",
       "      <td>6836</td>\n",
       "      <td>1932-11-20</td>\n",
       "      <td>2011-06-11</td>\n",
       "      <td>programa para el fomento de recursos humanos d...</td>\n",
       "      <td>becas singularity u mexico summit 4 0 industri...</td>\n",
       "      <td>4 0 industrial cluster a c</td>\n",
       "      <td>4500.0</td>\n",
       "      <td>Mujeres</td>\n",
       "      <td>no trabaja</td>\n",
       "      <td>Sin escolaridad</td>\n",
       "    </tr>\n",
       "    <tr>\n",
       "      <th>4</th>\n",
       "      <td>46</td>\n",
       "      <td>45.0</td>\n",
       "      <td>534650.0</td>\n",
       "      <td>17.0</td>\n",
       "      <td>30.0</td>\n",
       "      <td>121</td>\n",
       "      <td>30</td>\n",
       "      <td>13</td>\n",
       "      <td>121</td>\n",
       "      <td>NaN</td>\n",
       "      <td>4</td>\n",
       "      <td>10</td>\n",
       "      <td>1</td>\n",
       "      <td>17</td>\n",
       "      <td>6836</td>\n",
       "      <td>1966-02-15</td>\n",
       "      <td>2012-11-03</td>\n",
       "      <td>programa para el fomento de recursos humanos d...</td>\n",
       "      <td>becas singularity u mexico summit 4 0 industri...</td>\n",
       "      <td>4 0 industrial cluster a c</td>\n",
       "      <td>4500.0</td>\n",
       "      <td>Mujeres</td>\n",
       "      <td>ocupaciones insuficientemente especificadas</td>\n",
       "      <td>Secundaria</td>\n",
       "    </tr>\n",
       "  </tbody>\n",
       "</table>\n",
       "</div>"
      ],
      "text/plain": [
       "   c_edad  c_minutos c_monto_de_apoyo  c_horas  v_ent_regis  v_mun_regis  \\\n",
       "0      55       30.0         534650.0     10.0         25.0           12   \n",
       "1      85       30.0         534650.0     14.0         25.0           12   \n",
       "2      61       30.0         534650.0     14.0          5.0           30   \n",
       "3      78       45.0         534650.0     14.0          NaN           11   \n",
       "4      46       45.0         534650.0     17.0         30.0          121   \n",
       "\n",
       "   v_ent_resid  v_mun_resid  v_mun_ocurr  v_edo_civil  v_lugar_ocur  \\\n",
       "0            2            2           12          NaN             8   \n",
       "1           25           12           12          NaN            88   \n",
       "2            5           30           30          NaN            88   \n",
       "3           25           11           11          NaN            88   \n",
       "4           30           13          121          NaN             4   \n",
       "\n",
       "   v_sitio_ocur  v_nacionalid  v_grupo  v_clave d_fecha_nac d_fecha_ocurr  \\\n",
       "0            12             1       16     6836  1952-12-28    2008-07-22   \n",
       "1             3             1        3     6836  1925-05-28    2010-07-28   \n",
       "2             3             1        8     6836  1950-04-30    2011-04-11   \n",
       "3             1             1        7     6836  1932-11-20    2011-06-11   \n",
       "4            10             1       17     6836  1966-02-15    2012-11-03   \n",
       "\n",
       "                                    t_programa_fondo  \\\n",
       "0  programa para el fomento de recursos humanos d...   \n",
       "1  programa para el fomento de recursos humanos d...   \n",
       "2  programa para el fomento de recursos humanos d...   \n",
       "3  programa para el fomento de recursos humanos d...   \n",
       "4  programa para el fomento de recursos humanos d...   \n",
       "\n",
       "                               t_nombre_del_proyecto  \\\n",
       "0  becas singularity u mexico summit 4 0 industri...   \n",
       "1  becas singularity u mexico summit 4 0 industri...   \n",
       "2  becas singularity u mexico summit 4 0 industri...   \n",
       "3  becas singularity u mexico summit 4 0 industri...   \n",
       "4  becas singularity u mexico summit 4 0 industri...   \n",
       "\n",
       "    t_nombre_del_beneficiario  c_salario   v_sexo  \\\n",
       "0  4 0 industrial cluster a c     3000.0  Hombres   \n",
       "1  4 0 industrial cluster a c     3000.0  Hombres   \n",
       "2  4 0 industrial cluster a c     3000.0  Mujeres   \n",
       "3  4 0 industrial cluster a c     4500.0  Mujeres   \n",
       "4  4 0 industrial cluster a c     4500.0  Mujeres   \n",
       "\n",
       "                                   v_ocupacion     v_escolarida  \n",
       "0  ocupaciones insuficientemente especificadas         Primaria  \n",
       "1                    ocupacion no especificada         Primaria  \n",
       "2                                   no trabaja       Secundaria  \n",
       "3                                   no trabaja  Sin escolaridad  \n",
       "4  ocupaciones insuficientemente especificadas       Secundaria  "
      ]
     },
     "execution_count": 197,
     "metadata": {},
     "output_type": "execute_result"
    }
   ],
   "source": [
    "df.head()"
   ]
  },
  {
   "cell_type": "code",
   "execution_count": 198,
   "metadata": {
    "ExecuteTime": {
     "end_time": "2023-08-09T00:21:21.165902Z",
     "start_time": "2023-08-09T00:21:21.160796Z"
    },
    "hidden": true
   },
   "outputs": [
    {
     "data": {
      "text/html": [
       "<div>\n",
       "<style scoped>\n",
       "    .dataframe tbody tr th:only-of-type {\n",
       "        vertical-align: middle;\n",
       "    }\n",
       "\n",
       "    .dataframe tbody tr th {\n",
       "        vertical-align: top;\n",
       "    }\n",
       "\n",
       "    .dataframe thead th {\n",
       "        text-align: right;\n",
       "    }\n",
       "</style>\n",
       "<table border=\"1\" class=\"dataframe\">\n",
       "  <thead>\n",
       "    <tr style=\"text-align: right;\">\n",
       "      <th></th>\n",
       "      <th>CVE</th>\n",
       "      <th>DESCRIP</th>\n",
       "    </tr>\n",
       "  </thead>\n",
       "  <tbody>\n",
       "    <tr>\n",
       "      <th>0</th>\n",
       "      <td>1001</td>\n",
       "      <td>Una hora</td>\n",
       "    </tr>\n",
       "    <tr>\n",
       "      <th>1</th>\n",
       "      <td>1002</td>\n",
       "      <td>Dos horas</td>\n",
       "    </tr>\n",
       "    <tr>\n",
       "      <th>2</th>\n",
       "      <td>1003</td>\n",
       "      <td>Tres horas</td>\n",
       "    </tr>\n",
       "    <tr>\n",
       "      <th>3</th>\n",
       "      <td>1004</td>\n",
       "      <td>Cuatro horas</td>\n",
       "    </tr>\n",
       "    <tr>\n",
       "      <th>4</th>\n",
       "      <td>1005</td>\n",
       "      <td>Cinco horas</td>\n",
       "    </tr>\n",
       "    <tr>\n",
       "      <th>...</th>\n",
       "      <td>...</td>\n",
       "      <td>...</td>\n",
       "    </tr>\n",
       "    <tr>\n",
       "      <th>183</th>\n",
       "      <td>4117</td>\n",
       "      <td>Ciento diecisiete años</td>\n",
       "    </tr>\n",
       "    <tr>\n",
       "      <th>184</th>\n",
       "      <td>4118</td>\n",
       "      <td>Ciento dieciocho años</td>\n",
       "    </tr>\n",
       "    <tr>\n",
       "      <th>185</th>\n",
       "      <td>4119</td>\n",
       "      <td>Ciento diecinueve años</td>\n",
       "    </tr>\n",
       "    <tr>\n",
       "      <th>186</th>\n",
       "      <td>4120</td>\n",
       "      <td>Ciento veinte años</td>\n",
       "    </tr>\n",
       "    <tr>\n",
       "      <th>187</th>\n",
       "      <td>4998</td>\n",
       "      <td>Edad en años no especificada</td>\n",
       "    </tr>\n",
       "  </tbody>\n",
       "</table>\n",
       "<p>188 rows × 2 columns</p>\n",
       "</div>"
      ],
      "text/plain": [
       "      CVE                          DESCRIP\n",
       "0    1001  Una hora                       \n",
       "1    1002  Dos horas                      \n",
       "2    1003  Tres horas                     \n",
       "3    1004  Cuatro horas                   \n",
       "4    1005  Cinco horas                    \n",
       "..    ...                              ...\n",
       "183  4117  Ciento diecisiete años         \n",
       "184  4118  Ciento dieciocho años          \n",
       "185  4119  Ciento diecinueve años         \n",
       "186  4120  Ciento veinte años             \n",
       "187  4998  Edad en años no especificada   \n",
       "\n",
       "[188 rows x 2 columns]"
      ]
     },
     "execution_count": 198,
     "metadata": {},
     "output_type": "execute_result"
    }
   ],
   "source": [
    "edad"
   ]
  },
  {
   "cell_type": "code",
   "execution_count": 199,
   "metadata": {
    "ExecuteTime": {
     "end_time": "2023-08-09T00:21:21.483675Z",
     "start_time": "2023-08-09T00:21:21.477932Z"
    },
    "hidden": true
   },
   "outputs": [
    {
     "data": {
      "text/html": [
       "<div>\n",
       "<style scoped>\n",
       "    .dataframe tbody tr th:only-of-type {\n",
       "        vertical-align: middle;\n",
       "    }\n",
       "\n",
       "    .dataframe tbody tr th {\n",
       "        vertical-align: top;\n",
       "    }\n",
       "\n",
       "    .dataframe thead th {\n",
       "        text-align: right;\n",
       "    }\n",
       "</style>\n",
       "<table border=\"1\" class=\"dataframe\">\n",
       "  <thead>\n",
       "    <tr style=\"text-align: right;\">\n",
       "      <th></th>\n",
       "      <th>c_edad</th>\n",
       "      <th>c_minutos</th>\n",
       "      <th>c_monto_de_apoyo</th>\n",
       "      <th>c_horas</th>\n",
       "      <th>v_ent_regis</th>\n",
       "      <th>v_mun_regis</th>\n",
       "      <th>v_ent_resid</th>\n",
       "      <th>v_mun_resid</th>\n",
       "      <th>v_mun_ocurr</th>\n",
       "      <th>v_edo_civil</th>\n",
       "      <th>v_lugar_ocur</th>\n",
       "      <th>v_sitio_ocur</th>\n",
       "      <th>v_nacionalid</th>\n",
       "      <th>v_grupo</th>\n",
       "      <th>v_clave</th>\n",
       "      <th>d_fecha_nac</th>\n",
       "      <th>d_fecha_ocurr</th>\n",
       "      <th>t_programa_fondo</th>\n",
       "      <th>t_nombre_del_proyecto</th>\n",
       "      <th>t_nombre_del_beneficiario</th>\n",
       "      <th>c_salario</th>\n",
       "      <th>v_sexo</th>\n",
       "      <th>v_ocupacion</th>\n",
       "      <th>v_escolarida</th>\n",
       "    </tr>\n",
       "  </thead>\n",
       "  <tbody>\n",
       "  </tbody>\n",
       "</table>\n",
       "</div>"
      ],
      "text/plain": [
       "Empty DataFrame\n",
       "Columns: [c_edad, c_minutos, c_monto_de_apoyo, c_horas, v_ent_regis, v_mun_regis, v_ent_resid, v_mun_resid, v_mun_ocurr, v_edo_civil, v_lugar_ocur, v_sitio_ocur, v_nacionalid, v_grupo, v_clave, d_fecha_nac, d_fecha_ocurr, t_programa_fondo, t_nombre_del_proyecto, t_nombre_del_beneficiario, c_salario, v_sexo, v_ocupacion, v_escolarida]\n",
       "Index: []"
      ]
     },
     "execution_count": 199,
     "metadata": {},
     "output_type": "execute_result"
    }
   ],
   "source": [
    "df[df[\"c_edad\"]==129]"
   ]
  },
  {
   "cell_type": "code",
   "execution_count": 200,
   "metadata": {
    "ExecuteTime": {
     "end_time": "2023-08-09T00:21:21.765922Z",
     "start_time": "2023-08-09T00:21:21.760038Z"
    },
    "hidden": true
   },
   "outputs": [
    {
     "data": {
      "text/plain": [
       "84     1565\n",
       "79     1512\n",
       "78     1450\n",
       "80     1410\n",
       "85     1410\n",
       "       ... \n",
       "112       3\n",
       "114       3\n",
       "113       1\n",
       "115       1\n",
       "117       1\n",
       "Name: c_edad, Length: 117, dtype: int64"
      ]
     },
     "execution_count": 200,
     "metadata": {},
     "output_type": "execute_result"
    }
   ],
   "source": [
    "df[\"c_edad\"].sort_values(ascending=False).value_counts()"
   ]
  },
  {
   "cell_type": "code",
   "execution_count": 201,
   "metadata": {
    "ExecuteTime": {
     "end_time": "2023-08-09T00:21:22.037152Z",
     "start_time": "2023-08-09T00:21:22.030674Z"
    },
    "hidden": true,
    "scrolled": true
   },
   "outputs": [
    {
     "data": {
      "text/html": [
       "<div>\n",
       "<style scoped>\n",
       "    .dataframe tbody tr th:only-of-type {\n",
       "        vertical-align: middle;\n",
       "    }\n",
       "\n",
       "    .dataframe tbody tr th {\n",
       "        vertical-align: top;\n",
       "    }\n",
       "\n",
       "    .dataframe thead th {\n",
       "        text-align: right;\n",
       "    }\n",
       "</style>\n",
       "<table border=\"1\" class=\"dataframe\">\n",
       "  <thead>\n",
       "    <tr style=\"text-align: right;\">\n",
       "      <th></th>\n",
       "      <th>CVE</th>\n",
       "      <th>DESCRIP</th>\n",
       "    </tr>\n",
       "  </thead>\n",
       "  <tbody>\n",
       "    <tr>\n",
       "      <th>0</th>\n",
       "      <td>1001</td>\n",
       "      <td>Una hora</td>\n",
       "    </tr>\n",
       "    <tr>\n",
       "      <th>1</th>\n",
       "      <td>1002</td>\n",
       "      <td>Dos horas</td>\n",
       "    </tr>\n",
       "    <tr>\n",
       "      <th>2</th>\n",
       "      <td>1003</td>\n",
       "      <td>Tres horas</td>\n",
       "    </tr>\n",
       "    <tr>\n",
       "      <th>3</th>\n",
       "      <td>1004</td>\n",
       "      <td>Cuatro horas</td>\n",
       "    </tr>\n",
       "    <tr>\n",
       "      <th>4</th>\n",
       "      <td>1005</td>\n",
       "      <td>Cinco horas</td>\n",
       "    </tr>\n",
       "    <tr>\n",
       "      <th>...</th>\n",
       "      <td>...</td>\n",
       "      <td>...</td>\n",
       "    </tr>\n",
       "    <tr>\n",
       "      <th>183</th>\n",
       "      <td>4117</td>\n",
       "      <td>Ciento diecisiete años</td>\n",
       "    </tr>\n",
       "    <tr>\n",
       "      <th>184</th>\n",
       "      <td>4118</td>\n",
       "      <td>Ciento dieciocho años</td>\n",
       "    </tr>\n",
       "    <tr>\n",
       "      <th>185</th>\n",
       "      <td>4119</td>\n",
       "      <td>Ciento diecinueve años</td>\n",
       "    </tr>\n",
       "    <tr>\n",
       "      <th>186</th>\n",
       "      <td>4120</td>\n",
       "      <td>Ciento veinte años</td>\n",
       "    </tr>\n",
       "    <tr>\n",
       "      <th>187</th>\n",
       "      <td>4998</td>\n",
       "      <td>Edad en años no especificada</td>\n",
       "    </tr>\n",
       "  </tbody>\n",
       "</table>\n",
       "<p>188 rows × 2 columns</p>\n",
       "</div>"
      ],
      "text/plain": [
       "      CVE                          DESCRIP\n",
       "0    1001  Una hora                       \n",
       "1    1002  Dos horas                      \n",
       "2    1003  Tres horas                     \n",
       "3    1004  Cuatro horas                   \n",
       "4    1005  Cinco horas                    \n",
       "..    ...                              ...\n",
       "183  4117  Ciento diecisiete años         \n",
       "184  4118  Ciento dieciocho años          \n",
       "185  4119  Ciento diecinueve años         \n",
       "186  4120  Ciento veinte años             \n",
       "187  4998  Edad en años no especificada   \n",
       "\n",
       "[188 rows x 2 columns]"
      ]
     },
     "execution_count": 201,
     "metadata": {},
     "output_type": "execute_result"
    }
   ],
   "source": [
    "edad"
   ]
  },
  {
   "cell_type": "code",
   "execution_count": 202,
   "metadata": {
    "ExecuteTime": {
     "end_time": "2023-08-09T00:21:22.331960Z",
     "start_time": "2023-08-09T00:21:22.324117Z"
    },
    "hidden": true,
    "id": "HmlxYIXWHaCG",
    "outputId": "96564896-3060-48da-9f94-b6bf5bd83462"
   },
   "outputs": [
    {
     "data": {
      "text/plain": [
       "count    64403.000000\n",
       "mean        71.293402\n",
       "std         74.404620\n",
       "min          1.000000\n",
       "50%         70.000000\n",
       "93%         91.000000\n",
       "95%         93.000000\n",
       "97%         95.000000\n",
       "98%         97.000000\n",
       "99%        101.000000\n",
       "max        998.000000\n",
       "Name: c_edad, dtype: float64"
      ]
     },
     "execution_count": 202,
     "metadata": {},
     "output_type": "execute_result"
    }
   ],
   "source": [
    "df[\"c_edad\"].describe(percentiles=[.93,.95,.97,.98,.99])"
   ]
  },
  {
   "cell_type": "markdown",
   "metadata": {
    "ExecuteTime": {
     "end_time": "2021-01-16T07:14:17.220305Z",
     "start_time": "2021-01-16T07:14:17.095070Z"
    },
    "hidden": true,
    "id": "weYYo5PrHaCH"
   },
   "source": [
    "DOS OPCIONES , DEJARLAS Y TAL VEZ SE DETECTARAN EN LA SECCION DE OUTLIERS O SI SON POCOS REGISTRON REMPLAZAMOS POR NAN Y LAS ELIMINAMOS"
   ]
  },
  {
   "cell_type": "code",
   "execution_count": 203,
   "metadata": {
    "ExecuteTime": {
     "end_time": "2023-08-09T00:21:22.778996Z",
     "start_time": "2023-08-09T00:21:22.766219Z"
    },
    "hidden": true,
    "id": "YDjY1lTbHaCI"
   },
   "outputs": [],
   "source": [
    "df[\"c_edad\"]=df[\"c_edad\"].map(lambda x:x if x!=998 else np.nan)"
   ]
  },
  {
   "cell_type": "code",
   "execution_count": 204,
   "metadata": {
    "ExecuteTime": {
     "end_time": "2023-08-09T00:21:22.970017Z",
     "start_time": "2023-08-09T00:21:22.966150Z"
    },
    "hidden": true
   },
   "outputs": [
    {
     "data": {
      "text/plain": [
       "0.012980761765756254"
      ]
     },
     "execution_count": 204,
     "metadata": {},
     "output_type": "execute_result"
    }
   ],
   "source": [
    "df[df[\"c_edad\"]>97].shape[0]/df.shape[0]"
   ]
  },
  {
   "cell_type": "code",
   "execution_count": 205,
   "metadata": {
    "ExecuteTime": {
     "end_time": "2023-08-09T00:21:23.213812Z",
     "start_time": "2023-08-09T00:21:23.205955Z"
    },
    "hidden": true,
    "id": "E5QR3kP_HaCJ",
    "outputId": "1f47a3b0-365f-476d-8567-2fd3d0718635"
   },
   "outputs": [
    {
     "data": {
      "text/plain": [
       "count    64022.000000\n",
       "mean        65.778498\n",
       "std         20.683343\n",
       "min          1.000000\n",
       "25%         54.000000\n",
       "50%         70.000000\n",
       "75%         82.000000\n",
       "max        117.000000\n",
       "Name: c_edad, dtype: float64"
      ]
     },
     "execution_count": 205,
     "metadata": {},
     "output_type": "execute_result"
    }
   ],
   "source": [
    "df[\"c_edad\"].describe()"
   ]
  },
  {
   "cell_type": "code",
   "execution_count": 206,
   "metadata": {
    "ExecuteTime": {
     "end_time": "2023-08-09T00:21:23.412273Z",
     "start_time": "2023-08-09T00:21:23.400644Z"
    },
    "hidden": true,
    "id": "v6BMiPhEHaCK"
   },
   "outputs": [],
   "source": [
    "df=df[df[\"c_edad\"]<98]"
   ]
  },
  {
   "cell_type": "markdown",
   "metadata": {
    "heading_collapsed": true,
    "hidden": true,
    "id": "W_8r8GrcHaCL"
   },
   "source": [
    "### <span style=\"background:#759566\"> Variable Continua - \"MONTO APOYO\" </span> "
   ]
  },
  {
   "cell_type": "code",
   "execution_count": 207,
   "metadata": {
    "ExecuteTime": {
     "end_time": "2023-08-09T00:21:24.103225Z",
     "start_time": "2023-08-09T00:21:24.101073Z"
    },
    "hidden": true,
    "id": "fTMyDvqNHaCL",
    "outputId": "454f2938-8f15-41b8-babd-0b117eca796c"
   },
   "outputs": [
    {
     "data": {
      "text/plain": [
       "(63186, 24)"
      ]
     },
     "execution_count": 207,
     "metadata": {},
     "output_type": "execute_result"
    }
   ],
   "source": [
    "df.shape"
   ]
  },
  {
   "cell_type": "code",
   "execution_count": 208,
   "metadata": {
    "ExecuteTime": {
     "end_time": "2023-08-09T00:21:24.360005Z",
     "start_time": "2023-08-09T00:21:24.332184Z"
    },
    "hidden": true
   },
   "outputs": [
    {
     "data": {
      "text/html": [
       "<div>\n",
       "<style scoped>\n",
       "    .dataframe tbody tr th:only-of-type {\n",
       "        vertical-align: middle;\n",
       "    }\n",
       "\n",
       "    .dataframe tbody tr th {\n",
       "        vertical-align: top;\n",
       "    }\n",
       "\n",
       "    .dataframe thead th {\n",
       "        text-align: right;\n",
       "    }\n",
       "</style>\n",
       "<table border=\"1\" class=\"dataframe\">\n",
       "  <thead>\n",
       "    <tr style=\"text-align: right;\">\n",
       "      <th></th>\n",
       "      <th>c_edad</th>\n",
       "      <th>c_minutos</th>\n",
       "      <th>c_horas</th>\n",
       "      <th>c_salario</th>\n",
       "    </tr>\n",
       "  </thead>\n",
       "  <tbody>\n",
       "    <tr>\n",
       "      <th>count</th>\n",
       "      <td>63186.000000</td>\n",
       "      <td>63186.000000</td>\n",
       "      <td>63186.000000</td>\n",
       "      <td>63186.000000</td>\n",
       "    </tr>\n",
       "    <tr>\n",
       "      <th>mean</th>\n",
       "      <td>65.316067</td>\n",
       "      <td>21.565347</td>\n",
       "      <td>12.651125</td>\n",
       "      <td>2156.534675</td>\n",
       "    </tr>\n",
       "    <tr>\n",
       "      <th>std</th>\n",
       "      <td>20.419814</td>\n",
       "      <td>19.373307</td>\n",
       "      <td>10.970479</td>\n",
       "      <td>1937.330742</td>\n",
       "    </tr>\n",
       "    <tr>\n",
       "      <th>min</th>\n",
       "      <td>1.000000</td>\n",
       "      <td>0.000000</td>\n",
       "      <td>0.000000</td>\n",
       "      <td>0.000000</td>\n",
       "    </tr>\n",
       "    <tr>\n",
       "      <th>25%</th>\n",
       "      <td>53.000000</td>\n",
       "      <td>0.000000</td>\n",
       "      <td>6.000000</td>\n",
       "      <td>0.000000</td>\n",
       "    </tr>\n",
       "    <tr>\n",
       "      <th>50%</th>\n",
       "      <td>69.000000</td>\n",
       "      <td>20.000000</td>\n",
       "      <td>12.000000</td>\n",
       "      <td>2000.000000</td>\n",
       "    </tr>\n",
       "    <tr>\n",
       "      <th>75%</th>\n",
       "      <td>81.000000</td>\n",
       "      <td>34.000000</td>\n",
       "      <td>18.000000</td>\n",
       "      <td>3400.000000</td>\n",
       "    </tr>\n",
       "    <tr>\n",
       "      <th>max</th>\n",
       "      <td>97.000000</td>\n",
       "      <td>99.000000</td>\n",
       "      <td>99.000000</td>\n",
       "      <td>9900.000000</td>\n",
       "    </tr>\n",
       "  </tbody>\n",
       "</table>\n",
       "</div>"
      ],
      "text/plain": [
       "             c_edad     c_minutos       c_horas     c_salario\n",
       "count  63186.000000  63186.000000  63186.000000  63186.000000\n",
       "mean      65.316067     21.565347     12.651125   2156.534675\n",
       "std       20.419814     19.373307     10.970479   1937.330742\n",
       "min        1.000000      0.000000      0.000000      0.000000\n",
       "25%       53.000000      0.000000      6.000000      0.000000\n",
       "50%       69.000000     20.000000     12.000000   2000.000000\n",
       "75%       81.000000     34.000000     18.000000   3400.000000\n",
       "max       97.000000     99.000000     99.000000   9900.000000"
      ]
     },
     "execution_count": 208,
     "metadata": {},
     "output_type": "execute_result"
    }
   ],
   "source": [
    "df.filter(like=\"c_\").describe()"
   ]
  },
  {
   "cell_type": "code",
   "execution_count": 209,
   "metadata": {
    "ExecuteTime": {
     "end_time": "2023-08-09T00:21:24.543757Z",
     "start_time": "2023-08-09T00:21:24.534176Z"
    },
    "hidden": true,
    "scrolled": true
   },
   "outputs": [
    {
     "data": {
      "text/plain": [
       "12254.04                                5595\n",
       "31450.0                                 3243\n",
       "50336.83                                3229\n",
       "30884.1                                 2374\n",
       "12254.04                                2041\n",
       "                                        ... \n",
       "SFERP S.C.                                 1\n",
       "-1570                                      1\n",
       "Molina Pasquel Y Henriquez                 1\n",
       "MARICELA  LOPEZ CEPEDA\\n                   1\n",
       "Sistema Tecnológico de Jalisco, A.C.       1\n",
       "Name: c_monto_de_apoyo, Length: 175, dtype: int64"
      ]
     },
     "execution_count": 209,
     "metadata": {},
     "output_type": "execute_result"
    }
   ],
   "source": [
    "df[\"c_monto_de_apoyo\"].value_counts()"
   ]
  },
  {
   "cell_type": "code",
   "execution_count": 210,
   "metadata": {
    "ExecuteTime": {
     "end_time": "2023-08-09T00:21:24.776772Z",
     "start_time": "2023-08-09T00:21:24.714647Z"
    },
    "hidden": true,
    "id": "iyP6IRGLHaCM",
    "outputId": "4dc01352-3e08-46e4-8192-d6c5a90da165",
    "scrolled": false
   },
   "outputs": [
    {
     "data": {
      "text/html": [
       "<div>\n",
       "<style scoped>\n",
       "    .dataframe tbody tr th:only-of-type {\n",
       "        vertical-align: middle;\n",
       "    }\n",
       "\n",
       "    .dataframe tbody tr th {\n",
       "        vertical-align: top;\n",
       "    }\n",
       "\n",
       "    .dataframe thead th {\n",
       "        text-align: right;\n",
       "    }\n",
       "</style>\n",
       "<table border=\"1\" class=\"dataframe\">\n",
       "  <thead>\n",
       "    <tr style=\"text-align: right;\">\n",
       "      <th></th>\n",
       "      <th>c_edad</th>\n",
       "      <th>c_minutos</th>\n",
       "      <th>c_monto_de_apoyo</th>\n",
       "      <th>c_horas</th>\n",
       "      <th>v_ent_regis</th>\n",
       "      <th>v_mun_regis</th>\n",
       "      <th>v_ent_resid</th>\n",
       "      <th>v_mun_resid</th>\n",
       "      <th>v_mun_ocurr</th>\n",
       "      <th>v_edo_civil</th>\n",
       "      <th>v_lugar_ocur</th>\n",
       "      <th>v_sitio_ocur</th>\n",
       "      <th>v_nacionalid</th>\n",
       "      <th>v_grupo</th>\n",
       "      <th>v_clave</th>\n",
       "      <th>d_fecha_nac</th>\n",
       "      <th>d_fecha_ocurr</th>\n",
       "      <th>t_programa_fondo</th>\n",
       "      <th>t_nombre_del_proyecto</th>\n",
       "      <th>t_nombre_del_beneficiario</th>\n",
       "      <th>c_salario</th>\n",
       "      <th>v_sexo</th>\n",
       "      <th>v_ocupacion</th>\n",
       "      <th>v_escolarida</th>\n",
       "    </tr>\n",
       "  </thead>\n",
       "  <tbody>\n",
       "    <tr>\n",
       "      <th>18487</th>\n",
       "      <td>40.0</td>\n",
       "      <td>5.0</td>\n",
       "      <td>Sistema Tecnológico de Jalisco, A.C.</td>\n",
       "      <td>2.0</td>\n",
       "      <td>2.0</td>\n",
       "      <td>4</td>\n",
       "      <td>2</td>\n",
       "      <td>4</td>\n",
       "      <td>4</td>\n",
       "      <td>NaN</td>\n",
       "      <td>9</td>\n",
       "      <td>99</td>\n",
       "      <td>1</td>\n",
       "      <td>27</td>\n",
       "      <td>6747</td>\n",
       "      <td>NaN</td>\n",
       "      <td>2014-06-07</td>\n",
       "      <td>programa para el fomento de recursos humanos d...</td>\n",
       "      <td>solicitud de beca para asistencia al evento si...</td>\n",
       "      <td>eduardo jacobo arroyo</td>\n",
       "      <td>500.0</td>\n",
       "      <td>NaN</td>\n",
       "      <td>ocupaciones insuficientemente especificadas</td>\n",
       "      <td>NaN</td>\n",
       "    </tr>\n",
       "    <tr>\n",
       "      <th>25156</th>\n",
       "      <td>18.0</td>\n",
       "      <td>40.0</td>\n",
       "      <td>SFERP S.C.</td>\n",
       "      <td>19.0</td>\n",
       "      <td>1.0</td>\n",
       "      <td>5</td>\n",
       "      <td>1</td>\n",
       "      <td>5</td>\n",
       "      <td>1</td>\n",
       "      <td>NaN</td>\n",
       "      <td>88</td>\n",
       "      <td>3</td>\n",
       "      <td>1</td>\n",
       "      <td>1</td>\n",
       "      <td>6522</td>\n",
       "      <td>1997-09-13</td>\n",
       "      <td>2015-11-02</td>\n",
       "      <td>programa jalisciense de fomento a la propiedad...</td>\n",
       "      <td>chumacera carcasa con toma de fuerza para moto...</td>\n",
       "      <td>francisco xavier valdes simancas</td>\n",
       "      <td>4000.0</td>\n",
       "      <td>NaN</td>\n",
       "      <td>ocupacion no especificada</td>\n",
       "      <td>Sin escolaridad</td>\n",
       "    </tr>\n",
       "    <tr>\n",
       "      <th>30737</th>\n",
       "      <td>38.0</td>\n",
       "      <td>15.0</td>\n",
       "      <td>Molina Pasquel Y Henriquez</td>\n",
       "      <td>1.0</td>\n",
       "      <td>7.0</td>\n",
       "      <td>65</td>\n",
       "      <td>7</td>\n",
       "      <td>65</td>\n",
       "      <td>65</td>\n",
       "      <td>NaN</td>\n",
       "      <td>88</td>\n",
       "      <td>11</td>\n",
       "      <td>2</td>\n",
       "      <td>7</td>\n",
       "      <td>6453</td>\n",
       "      <td>1977-03-12</td>\n",
       "      <td>2015-12-22</td>\n",
       "      <td>programa jalisciense de fomento a la propiedad...</td>\n",
       "      <td>pct sistema de ensamble para muebles y estruct...</td>\n",
       "      <td>humberto gonzalez calleja</td>\n",
       "      <td>1500.0</td>\n",
       "      <td>NaN</td>\n",
       "      <td>no trabaja</td>\n",
       "      <td>Primaria</td>\n",
       "    </tr>\n",
       "    <tr>\n",
       "      <th>41410</th>\n",
       "      <td>54.0</td>\n",
       "      <td>20.0</td>\n",
       "      <td>MARICELA  LOPEZ CEPEDA\\n</td>\n",
       "      <td>9.0</td>\n",
       "      <td>1.0</td>\n",
       "      <td>7</td>\n",
       "      <td>1</td>\n",
       "      <td>7</td>\n",
       "      <td>7</td>\n",
       "      <td>NaN</td>\n",
       "      <td>88</td>\n",
       "      <td>11</td>\n",
       "      <td>1</td>\n",
       "      <td>10</td>\n",
       "      <td>6475</td>\n",
       "      <td>1961-08-26</td>\n",
       "      <td>2015-02-15</td>\n",
       "      <td>programa jalisciense de fomento a la propiedad...</td>\n",
       "      <td>mx metodo para la deshidratacion de sustancias...</td>\n",
       "      <td>katia saucedo fernandez</td>\n",
       "      <td>2000.0</td>\n",
       "      <td>NaN</td>\n",
       "      <td>trabajadores artesanales</td>\n",
       "      <td>Primaria</td>\n",
       "    </tr>\n",
       "  </tbody>\n",
       "</table>\n",
       "</div>"
      ],
      "text/plain": [
       "       c_edad  c_minutos                      c_monto_de_apoyo  c_horas  \\\n",
       "18487    40.0        5.0  Sistema Tecnológico de Jalisco, A.C.      2.0   \n",
       "25156    18.0       40.0                            SFERP S.C.     19.0   \n",
       "30737    38.0       15.0            Molina Pasquel Y Henriquez      1.0   \n",
       "41410    54.0       20.0              MARICELA  LOPEZ CEPEDA\\n      9.0   \n",
       "\n",
       "       v_ent_regis  v_mun_regis  v_ent_resid  v_mun_resid  v_mun_ocurr  \\\n",
       "18487          2.0            4            2            4            4   \n",
       "25156          1.0            5            1            5            1   \n",
       "30737          7.0           65            7           65           65   \n",
       "41410          1.0            7            1            7            7   \n",
       "\n",
       "       v_edo_civil  v_lugar_ocur  v_sitio_ocur  v_nacionalid  v_grupo  \\\n",
       "18487          NaN             9            99             1       27   \n",
       "25156          NaN            88             3             1        1   \n",
       "30737          NaN            88            11             2        7   \n",
       "41410          NaN            88            11             1       10   \n",
       "\n",
       "       v_clave d_fecha_nac d_fecha_ocurr  \\\n",
       "18487     6747         NaN    2014-06-07   \n",
       "25156     6522  1997-09-13    2015-11-02   \n",
       "30737     6453  1977-03-12    2015-12-22   \n",
       "41410     6475  1961-08-26    2015-02-15   \n",
       "\n",
       "                                        t_programa_fondo  \\\n",
       "18487  programa para el fomento de recursos humanos d...   \n",
       "25156  programa jalisciense de fomento a la propiedad...   \n",
       "30737  programa jalisciense de fomento a la propiedad...   \n",
       "41410  programa jalisciense de fomento a la propiedad...   \n",
       "\n",
       "                                   t_nombre_del_proyecto  \\\n",
       "18487  solicitud de beca para asistencia al evento si...   \n",
       "25156  chumacera carcasa con toma de fuerza para moto...   \n",
       "30737  pct sistema de ensamble para muebles y estruct...   \n",
       "41410  mx metodo para la deshidratacion de sustancias...   \n",
       "\n",
       "              t_nombre_del_beneficiario  c_salario v_sexo  \\\n",
       "18487             eduardo jacobo arroyo      500.0    NaN   \n",
       "25156  francisco xavier valdes simancas     4000.0    NaN   \n",
       "30737         humberto gonzalez calleja     1500.0    NaN   \n",
       "41410           katia saucedo fernandez     2000.0    NaN   \n",
       "\n",
       "                                       v_ocupacion     v_escolarida  \n",
       "18487  ocupaciones insuficientemente especificadas              NaN  \n",
       "25156                    ocupacion no especificada  Sin escolaridad  \n",
       "30737                                   no trabaja         Primaria  \n",
       "41410                     trabajadores artesanales         Primaria  "
      ]
     },
     "execution_count": 210,
     "metadata": {},
     "output_type": "execute_result"
    }
   ],
   "source": [
    "df[df[\"c_monto_de_apoyo\"].map(lambda x:any([str(y).isalpha() for y in str(x)]))]"
   ]
  },
  {
   "cell_type": "code",
   "execution_count": 211,
   "metadata": {
    "ExecuteTime": {
     "end_time": "2023-08-09T00:21:24.933946Z",
     "start_time": "2023-08-09T00:21:24.869814Z"
    },
    "hidden": true,
    "id": "wOlwSIxHHaCM",
    "outputId": "aa470b59-d1d3-46bd-f77f-ba36b1209df6",
    "scrolled": true
   },
   "outputs": [
    {
     "data": {
      "text/html": [
       "<div>\n",
       "<style scoped>\n",
       "    .dataframe tbody tr th:only-of-type {\n",
       "        vertical-align: middle;\n",
       "    }\n",
       "\n",
       "    .dataframe tbody tr th {\n",
       "        vertical-align: top;\n",
       "    }\n",
       "\n",
       "    .dataframe thead th {\n",
       "        text-align: right;\n",
       "    }\n",
       "</style>\n",
       "<table border=\"1\" class=\"dataframe\">\n",
       "  <thead>\n",
       "    <tr style=\"text-align: right;\">\n",
       "      <th></th>\n",
       "      <th>columna</th>\n",
       "      <th>total</th>\n",
       "      <th>completitud</th>\n",
       "    </tr>\n",
       "  </thead>\n",
       "  <tbody>\n",
       "    <tr>\n",
       "      <th>0</th>\n",
       "      <td>v_edo_civil</td>\n",
       "      <td>63186</td>\n",
       "      <td>0.000000</td>\n",
       "    </tr>\n",
       "    <tr>\n",
       "      <th>1</th>\n",
       "      <td>v_ent_regis</td>\n",
       "      <td>4477</td>\n",
       "      <td>92.914570</td>\n",
       "    </tr>\n",
       "    <tr>\n",
       "      <th>2</th>\n",
       "      <td>v_escolarida</td>\n",
       "      <td>3409</td>\n",
       "      <td>94.604818</td>\n",
       "    </tr>\n",
       "    <tr>\n",
       "      <th>3</th>\n",
       "      <td>d_fecha_nac</td>\n",
       "      <td>796</td>\n",
       "      <td>98.740227</td>\n",
       "    </tr>\n",
       "    <tr>\n",
       "      <th>4</th>\n",
       "      <td>v_sexo</td>\n",
       "      <td>5</td>\n",
       "      <td>99.992087</td>\n",
       "    </tr>\n",
       "    <tr>\n",
       "      <th>5</th>\n",
       "      <td>c_salario</td>\n",
       "      <td>0</td>\n",
       "      <td>100.000000</td>\n",
       "    </tr>\n",
       "    <tr>\n",
       "      <th>6</th>\n",
       "      <td>t_nombre_del_beneficiario</td>\n",
       "      <td>0</td>\n",
       "      <td>100.000000</td>\n",
       "    </tr>\n",
       "    <tr>\n",
       "      <th>7</th>\n",
       "      <td>t_nombre_del_proyecto</td>\n",
       "      <td>0</td>\n",
       "      <td>100.000000</td>\n",
       "    </tr>\n",
       "    <tr>\n",
       "      <th>8</th>\n",
       "      <td>t_programa_fondo</td>\n",
       "      <td>0</td>\n",
       "      <td>100.000000</td>\n",
       "    </tr>\n",
       "    <tr>\n",
       "      <th>9</th>\n",
       "      <td>d_fecha_ocurr</td>\n",
       "      <td>0</td>\n",
       "      <td>100.000000</td>\n",
       "    </tr>\n",
       "    <tr>\n",
       "      <th>10</th>\n",
       "      <td>v_clave</td>\n",
       "      <td>0</td>\n",
       "      <td>100.000000</td>\n",
       "    </tr>\n",
       "    <tr>\n",
       "      <th>11</th>\n",
       "      <td>v_grupo</td>\n",
       "      <td>0</td>\n",
       "      <td>100.000000</td>\n",
       "    </tr>\n",
       "    <tr>\n",
       "      <th>12</th>\n",
       "      <td>c_edad</td>\n",
       "      <td>0</td>\n",
       "      <td>100.000000</td>\n",
       "    </tr>\n",
       "    <tr>\n",
       "      <th>13</th>\n",
       "      <td>v_ocupacion</td>\n",
       "      <td>0</td>\n",
       "      <td>100.000000</td>\n",
       "    </tr>\n",
       "    <tr>\n",
       "      <th>14</th>\n",
       "      <td>v_lugar_ocur</td>\n",
       "      <td>0</td>\n",
       "      <td>100.000000</td>\n",
       "    </tr>\n",
       "    <tr>\n",
       "      <th>15</th>\n",
       "      <td>v_mun_ocurr</td>\n",
       "      <td>0</td>\n",
       "      <td>100.000000</td>\n",
       "    </tr>\n",
       "    <tr>\n",
       "      <th>16</th>\n",
       "      <td>v_mun_resid</td>\n",
       "      <td>0</td>\n",
       "      <td>100.000000</td>\n",
       "    </tr>\n",
       "    <tr>\n",
       "      <th>17</th>\n",
       "      <td>v_ent_resid</td>\n",
       "      <td>0</td>\n",
       "      <td>100.000000</td>\n",
       "    </tr>\n",
       "    <tr>\n",
       "      <th>18</th>\n",
       "      <td>v_mun_regis</td>\n",
       "      <td>0</td>\n",
       "      <td>100.000000</td>\n",
       "    </tr>\n",
       "    <tr>\n",
       "      <th>19</th>\n",
       "      <td>c_horas</td>\n",
       "      <td>0</td>\n",
       "      <td>100.000000</td>\n",
       "    </tr>\n",
       "    <tr>\n",
       "      <th>20</th>\n",
       "      <td>c_monto_de_apoyo</td>\n",
       "      <td>0</td>\n",
       "      <td>100.000000</td>\n",
       "    </tr>\n",
       "    <tr>\n",
       "      <th>21</th>\n",
       "      <td>c_minutos</td>\n",
       "      <td>0</td>\n",
       "      <td>100.000000</td>\n",
       "    </tr>\n",
       "    <tr>\n",
       "      <th>22</th>\n",
       "      <td>v_nacionalid</td>\n",
       "      <td>0</td>\n",
       "      <td>100.000000</td>\n",
       "    </tr>\n",
       "    <tr>\n",
       "      <th>23</th>\n",
       "      <td>v_sitio_ocur</td>\n",
       "      <td>0</td>\n",
       "      <td>100.000000</td>\n",
       "    </tr>\n",
       "  </tbody>\n",
       "</table>\n",
       "</div>"
      ],
      "text/plain": [
       "                      columna  total  completitud\n",
       "0                 v_edo_civil  63186     0.000000\n",
       "1                 v_ent_regis   4477    92.914570\n",
       "2                v_escolarida   3409    94.604818\n",
       "3                 d_fecha_nac    796    98.740227\n",
       "4                      v_sexo      5    99.992087\n",
       "5                   c_salario      0   100.000000\n",
       "6   t_nombre_del_beneficiario      0   100.000000\n",
       "7       t_nombre_del_proyecto      0   100.000000\n",
       "8            t_programa_fondo      0   100.000000\n",
       "9               d_fecha_ocurr      0   100.000000\n",
       "10                    v_clave      0   100.000000\n",
       "11                    v_grupo      0   100.000000\n",
       "12                     c_edad      0   100.000000\n",
       "13                v_ocupacion      0   100.000000\n",
       "14               v_lugar_ocur      0   100.000000\n",
       "15                v_mun_ocurr      0   100.000000\n",
       "16                v_mun_resid      0   100.000000\n",
       "17                v_ent_resid      0   100.000000\n",
       "18                v_mun_regis      0   100.000000\n",
       "19                    c_horas      0   100.000000\n",
       "20           c_monto_de_apoyo      0   100.000000\n",
       "21                  c_minutos      0   100.000000\n",
       "22               v_nacionalid      0   100.000000\n",
       "23               v_sitio_ocur      0   100.000000"
      ]
     },
     "execution_count": 211,
     "metadata": {},
     "output_type": "execute_result"
    }
   ],
   "source": [
    "completitud(df)"
   ]
  },
  {
   "cell_type": "code",
   "execution_count": 212,
   "metadata": {
    "ExecuteTime": {
     "end_time": "2023-08-09T00:21:25.095228Z",
     "start_time": "2023-08-09T00:21:25.035054Z"
    },
    "hidden": true,
    "id": "_mODa6E1HaCN"
   },
   "outputs": [],
   "source": [
    "df[\"c_monto_de_apoyo\"]=df[\"c_monto_de_apoyo\"].map(lambda x:np.nan if any([str(y).isalpha() for y in str(x)]) else x)"
   ]
  },
  {
   "cell_type": "code",
   "execution_count": 213,
   "metadata": {
    "ExecuteTime": {
     "end_time": "2023-08-09T00:21:25.268894Z",
     "start_time": "2023-08-09T00:21:25.203504Z"
    },
    "hidden": true,
    "id": "wZ2WUfO1HaCN",
    "outputId": "2815fab9-71c8-43f1-ef9a-de821efa4e74",
    "scrolled": true
   },
   "outputs": [
    {
     "data": {
      "text/html": [
       "<div>\n",
       "<style scoped>\n",
       "    .dataframe tbody tr th:only-of-type {\n",
       "        vertical-align: middle;\n",
       "    }\n",
       "\n",
       "    .dataframe tbody tr th {\n",
       "        vertical-align: top;\n",
       "    }\n",
       "\n",
       "    .dataframe thead th {\n",
       "        text-align: right;\n",
       "    }\n",
       "</style>\n",
       "<table border=\"1\" class=\"dataframe\">\n",
       "  <thead>\n",
       "    <tr style=\"text-align: right;\">\n",
       "      <th></th>\n",
       "      <th>columna</th>\n",
       "      <th>total</th>\n",
       "      <th>completitud</th>\n",
       "    </tr>\n",
       "  </thead>\n",
       "  <tbody>\n",
       "    <tr>\n",
       "      <th>0</th>\n",
       "      <td>v_edo_civil</td>\n",
       "      <td>63186</td>\n",
       "      <td>0.000000</td>\n",
       "    </tr>\n",
       "    <tr>\n",
       "      <th>1</th>\n",
       "      <td>v_ent_regis</td>\n",
       "      <td>4477</td>\n",
       "      <td>92.914570</td>\n",
       "    </tr>\n",
       "    <tr>\n",
       "      <th>2</th>\n",
       "      <td>v_escolarida</td>\n",
       "      <td>3409</td>\n",
       "      <td>94.604818</td>\n",
       "    </tr>\n",
       "    <tr>\n",
       "      <th>3</th>\n",
       "      <td>d_fecha_nac</td>\n",
       "      <td>796</td>\n",
       "      <td>98.740227</td>\n",
       "    </tr>\n",
       "    <tr>\n",
       "      <th>4</th>\n",
       "      <td>v_sexo</td>\n",
       "      <td>5</td>\n",
       "      <td>99.992087</td>\n",
       "    </tr>\n",
       "    <tr>\n",
       "      <th>5</th>\n",
       "      <td>c_monto_de_apoyo</td>\n",
       "      <td>4</td>\n",
       "      <td>99.993669</td>\n",
       "    </tr>\n",
       "    <tr>\n",
       "      <th>6</th>\n",
       "      <td>c_salario</td>\n",
       "      <td>0</td>\n",
       "      <td>100.000000</td>\n",
       "    </tr>\n",
       "    <tr>\n",
       "      <th>7</th>\n",
       "      <td>t_nombre_del_beneficiario</td>\n",
       "      <td>0</td>\n",
       "      <td>100.000000</td>\n",
       "    </tr>\n",
       "    <tr>\n",
       "      <th>8</th>\n",
       "      <td>t_nombre_del_proyecto</td>\n",
       "      <td>0</td>\n",
       "      <td>100.000000</td>\n",
       "    </tr>\n",
       "    <tr>\n",
       "      <th>9</th>\n",
       "      <td>t_programa_fondo</td>\n",
       "      <td>0</td>\n",
       "      <td>100.000000</td>\n",
       "    </tr>\n",
       "    <tr>\n",
       "      <th>10</th>\n",
       "      <td>d_fecha_ocurr</td>\n",
       "      <td>0</td>\n",
       "      <td>100.000000</td>\n",
       "    </tr>\n",
       "    <tr>\n",
       "      <th>11</th>\n",
       "      <td>v_clave</td>\n",
       "      <td>0</td>\n",
       "      <td>100.000000</td>\n",
       "    </tr>\n",
       "    <tr>\n",
       "      <th>12</th>\n",
       "      <td>v_grupo</td>\n",
       "      <td>0</td>\n",
       "      <td>100.000000</td>\n",
       "    </tr>\n",
       "    <tr>\n",
       "      <th>13</th>\n",
       "      <td>c_edad</td>\n",
       "      <td>0</td>\n",
       "      <td>100.000000</td>\n",
       "    </tr>\n",
       "    <tr>\n",
       "      <th>14</th>\n",
       "      <td>v_ocupacion</td>\n",
       "      <td>0</td>\n",
       "      <td>100.000000</td>\n",
       "    </tr>\n",
       "    <tr>\n",
       "      <th>15</th>\n",
       "      <td>v_lugar_ocur</td>\n",
       "      <td>0</td>\n",
       "      <td>100.000000</td>\n",
       "    </tr>\n",
       "    <tr>\n",
       "      <th>16</th>\n",
       "      <td>v_mun_ocurr</td>\n",
       "      <td>0</td>\n",
       "      <td>100.000000</td>\n",
       "    </tr>\n",
       "    <tr>\n",
       "      <th>17</th>\n",
       "      <td>v_mun_resid</td>\n",
       "      <td>0</td>\n",
       "      <td>100.000000</td>\n",
       "    </tr>\n",
       "    <tr>\n",
       "      <th>18</th>\n",
       "      <td>v_ent_resid</td>\n",
       "      <td>0</td>\n",
       "      <td>100.000000</td>\n",
       "    </tr>\n",
       "    <tr>\n",
       "      <th>19</th>\n",
       "      <td>v_mun_regis</td>\n",
       "      <td>0</td>\n",
       "      <td>100.000000</td>\n",
       "    </tr>\n",
       "    <tr>\n",
       "      <th>20</th>\n",
       "      <td>c_horas</td>\n",
       "      <td>0</td>\n",
       "      <td>100.000000</td>\n",
       "    </tr>\n",
       "    <tr>\n",
       "      <th>21</th>\n",
       "      <td>c_minutos</td>\n",
       "      <td>0</td>\n",
       "      <td>100.000000</td>\n",
       "    </tr>\n",
       "    <tr>\n",
       "      <th>22</th>\n",
       "      <td>v_nacionalid</td>\n",
       "      <td>0</td>\n",
       "      <td>100.000000</td>\n",
       "    </tr>\n",
       "    <tr>\n",
       "      <th>23</th>\n",
       "      <td>v_sitio_ocur</td>\n",
       "      <td>0</td>\n",
       "      <td>100.000000</td>\n",
       "    </tr>\n",
       "  </tbody>\n",
       "</table>\n",
       "</div>"
      ],
      "text/plain": [
       "                      columna  total  completitud\n",
       "0                 v_edo_civil  63186     0.000000\n",
       "1                 v_ent_regis   4477    92.914570\n",
       "2                v_escolarida   3409    94.604818\n",
       "3                 d_fecha_nac    796    98.740227\n",
       "4                      v_sexo      5    99.992087\n",
       "5            c_monto_de_apoyo      4    99.993669\n",
       "6                   c_salario      0   100.000000\n",
       "7   t_nombre_del_beneficiario      0   100.000000\n",
       "8       t_nombre_del_proyecto      0   100.000000\n",
       "9            t_programa_fondo      0   100.000000\n",
       "10              d_fecha_ocurr      0   100.000000\n",
       "11                    v_clave      0   100.000000\n",
       "12                    v_grupo      0   100.000000\n",
       "13                     c_edad      0   100.000000\n",
       "14                v_ocupacion      0   100.000000\n",
       "15               v_lugar_ocur      0   100.000000\n",
       "16                v_mun_ocurr      0   100.000000\n",
       "17                v_mun_resid      0   100.000000\n",
       "18                v_ent_resid      0   100.000000\n",
       "19                v_mun_regis      0   100.000000\n",
       "20                    c_horas      0   100.000000\n",
       "21                  c_minutos      0   100.000000\n",
       "22               v_nacionalid      0   100.000000\n",
       "23               v_sitio_ocur      0   100.000000"
      ]
     },
     "execution_count": 213,
     "metadata": {},
     "output_type": "execute_result"
    }
   ],
   "source": [
    "completitud(df)"
   ]
  },
  {
   "cell_type": "code",
   "execution_count": 214,
   "metadata": {
    "ExecuteTime": {
     "end_time": "2023-08-09T00:21:25.381056Z",
     "start_time": "2023-08-09T00:21:25.372285Z"
    },
    "hidden": true,
    "id": "7WDL0d3qHaCO",
    "outputId": "2b860bce-9ab3-42b1-edcf-4f1e7ca40d96",
    "scrolled": true
   },
   "outputs": [
    {
     "data": {
      "text/plain": [
       "count    6.318200e+04\n",
       "mean     2.983005e+05\n",
       "std      6.928528e+05\n",
       "min     -1.570000e+03\n",
       "25%      3.088410e+04\n",
       "50%      5.033683e+04\n",
       "75%      1.502410e+05\n",
       "max      5.000000e+06\n",
       "Name: c_monto_de_apoyo, dtype: float64"
      ]
     },
     "execution_count": 214,
     "metadata": {},
     "output_type": "execute_result"
    }
   ],
   "source": [
    "df[\"c_monto_de_apoyo\"].astype(float).describe()"
   ]
  },
  {
   "cell_type": "code",
   "execution_count": 215,
   "metadata": {
    "ExecuteTime": {
     "end_time": "2023-08-09T00:21:25.536580Z",
     "start_time": "2023-08-09T00:21:25.530760Z"
    },
    "hidden": true,
    "id": "haEG4gIwHaCO"
   },
   "outputs": [],
   "source": [
    "df[\"c_monto_de_apoyo\"]=df[\"c_monto_de_apoyo\"].astype(float)"
   ]
  },
  {
   "cell_type": "code",
   "execution_count": 216,
   "metadata": {
    "ExecuteTime": {
     "end_time": "2023-08-09T00:21:25.717956Z",
     "start_time": "2023-08-09T00:21:25.703729Z"
    },
    "hidden": true,
    "id": "FBmITt_fHaCP",
    "outputId": "5ff32a5c-2fda-4f73-bad0-d99c00ff0985"
   },
   "outputs": [
    {
     "data": {
      "text/html": [
       "<div>\n",
       "<style scoped>\n",
       "    .dataframe tbody tr th:only-of-type {\n",
       "        vertical-align: middle;\n",
       "    }\n",
       "\n",
       "    .dataframe tbody tr th {\n",
       "        vertical-align: top;\n",
       "    }\n",
       "\n",
       "    .dataframe thead th {\n",
       "        text-align: right;\n",
       "    }\n",
       "</style>\n",
       "<table border=\"1\" class=\"dataframe\">\n",
       "  <thead>\n",
       "    <tr style=\"text-align: right;\">\n",
       "      <th></th>\n",
       "      <th>c_edad</th>\n",
       "      <th>c_minutos</th>\n",
       "      <th>c_monto_de_apoyo</th>\n",
       "      <th>c_horas</th>\n",
       "      <th>v_ent_regis</th>\n",
       "      <th>v_mun_regis</th>\n",
       "      <th>v_ent_resid</th>\n",
       "      <th>v_mun_resid</th>\n",
       "      <th>v_mun_ocurr</th>\n",
       "      <th>v_edo_civil</th>\n",
       "      <th>v_lugar_ocur</th>\n",
       "      <th>v_sitio_ocur</th>\n",
       "      <th>v_nacionalid</th>\n",
       "      <th>v_grupo</th>\n",
       "      <th>v_clave</th>\n",
       "      <th>d_fecha_nac</th>\n",
       "      <th>d_fecha_ocurr</th>\n",
       "      <th>t_programa_fondo</th>\n",
       "      <th>t_nombre_del_proyecto</th>\n",
       "      <th>t_nombre_del_beneficiario</th>\n",
       "      <th>c_salario</th>\n",
       "      <th>v_sexo</th>\n",
       "      <th>v_ocupacion</th>\n",
       "      <th>v_escolarida</th>\n",
       "    </tr>\n",
       "  </thead>\n",
       "  <tbody>\n",
       "    <tr>\n",
       "      <th>58166</th>\n",
       "      <td>89.0</td>\n",
       "      <td>30.0</td>\n",
       "      <td>-1570.0</td>\n",
       "      <td>15.0</td>\n",
       "      <td>1.0</td>\n",
       "      <td>1</td>\n",
       "      <td>1</td>\n",
       "      <td>1</td>\n",
       "      <td>1</td>\n",
       "      <td>NaN</td>\n",
       "      <td>88</td>\n",
       "      <td>11</td>\n",
       "      <td>1</td>\n",
       "      <td>5</td>\n",
       "      <td>6367</td>\n",
       "      <td>1926-05-04</td>\n",
       "      <td>2015-12-26</td>\n",
       "      <td>programa jalisciense de fomento a la propiedad...</td>\n",
       "      <td>mx sistema diferencial que controla la traccio...</td>\n",
       "      <td>servando soto velasco</td>\n",
       "      <td>3000.0</td>\n",
       "      <td>Hombres</td>\n",
       "      <td>no trabaja</td>\n",
       "      <td>Sin escolaridad</td>\n",
       "    </tr>\n",
       "  </tbody>\n",
       "</table>\n",
       "</div>"
      ],
      "text/plain": [
       "       c_edad  c_minutos  c_monto_de_apoyo  c_horas  v_ent_regis  v_mun_regis  \\\n",
       "58166    89.0       30.0           -1570.0     15.0          1.0            1   \n",
       "\n",
       "       v_ent_resid  v_mun_resid  v_mun_ocurr  v_edo_civil  v_lugar_ocur  \\\n",
       "58166            1            1            1          NaN            88   \n",
       "\n",
       "       v_sitio_ocur  v_nacionalid  v_grupo  v_clave d_fecha_nac d_fecha_ocurr  \\\n",
       "58166            11             1        5     6367  1926-05-04    2015-12-26   \n",
       "\n",
       "                                        t_programa_fondo  \\\n",
       "58166  programa jalisciense de fomento a la propiedad...   \n",
       "\n",
       "                                   t_nombre_del_proyecto  \\\n",
       "58166  mx sistema diferencial que controla la traccio...   \n",
       "\n",
       "      t_nombre_del_beneficiario  c_salario   v_sexo v_ocupacion  \\\n",
       "58166     servando soto velasco     3000.0  Hombres  no trabaja   \n",
       "\n",
       "          v_escolarida  \n",
       "58166  Sin escolaridad  "
      ]
     },
     "execution_count": 216,
     "metadata": {},
     "output_type": "execute_result"
    }
   ],
   "source": [
    "df[df[\"c_monto_de_apoyo\"].map(lambda x:x<0)]"
   ]
  },
  {
   "cell_type": "code",
   "execution_count": 217,
   "metadata": {
    "ExecuteTime": {
     "end_time": "2023-08-09T00:21:25.928548Z",
     "start_time": "2023-08-09T00:21:25.905113Z"
    },
    "hidden": true,
    "id": "cLiB75RXHaCQ"
   },
   "outputs": [],
   "source": [
    "df=df[~df[\"c_monto_de_apoyo\"].map(lambda x:x<0)].reset_index(drop=True)"
   ]
  },
  {
   "cell_type": "code",
   "execution_count": 218,
   "metadata": {
    "ExecuteTime": {
     "end_time": "2023-08-09T00:21:26.150134Z",
     "start_time": "2023-08-09T00:21:26.140026Z"
    },
    "hidden": true,
    "id": "hH4dkLvgHaCQ",
    "outputId": "751372d1-d959-4334-e002-576db4fccf58",
    "scrolled": true
   },
   "outputs": [
    {
     "data": {
      "text/html": [
       "<div>\n",
       "<style scoped>\n",
       "    .dataframe tbody tr th:only-of-type {\n",
       "        vertical-align: middle;\n",
       "    }\n",
       "\n",
       "    .dataframe tbody tr th {\n",
       "        vertical-align: top;\n",
       "    }\n",
       "\n",
       "    .dataframe thead th {\n",
       "        text-align: right;\n",
       "    }\n",
       "</style>\n",
       "<table border=\"1\" class=\"dataframe\">\n",
       "  <thead>\n",
       "    <tr style=\"text-align: right;\">\n",
       "      <th></th>\n",
       "      <th>c_edad</th>\n",
       "      <th>c_minutos</th>\n",
       "      <th>c_monto_de_apoyo</th>\n",
       "      <th>c_horas</th>\n",
       "      <th>v_ent_regis</th>\n",
       "      <th>v_mun_regis</th>\n",
       "      <th>v_ent_resid</th>\n",
       "      <th>v_mun_resid</th>\n",
       "      <th>v_mun_ocurr</th>\n",
       "      <th>v_edo_civil</th>\n",
       "      <th>v_lugar_ocur</th>\n",
       "      <th>v_sitio_ocur</th>\n",
       "      <th>v_nacionalid</th>\n",
       "      <th>v_grupo</th>\n",
       "      <th>v_clave</th>\n",
       "      <th>d_fecha_nac</th>\n",
       "      <th>d_fecha_ocurr</th>\n",
       "      <th>t_programa_fondo</th>\n",
       "      <th>t_nombre_del_proyecto</th>\n",
       "      <th>t_nombre_del_beneficiario</th>\n",
       "      <th>c_salario</th>\n",
       "      <th>v_sexo</th>\n",
       "      <th>v_ocupacion</th>\n",
       "      <th>v_escolarida</th>\n",
       "    </tr>\n",
       "  </thead>\n",
       "  <tbody>\n",
       "  </tbody>\n",
       "</table>\n",
       "</div>"
      ],
      "text/plain": [
       "Empty DataFrame\n",
       "Columns: [c_edad, c_minutos, c_monto_de_apoyo, c_horas, v_ent_regis, v_mun_regis, v_ent_resid, v_mun_resid, v_mun_ocurr, v_edo_civil, v_lugar_ocur, v_sitio_ocur, v_nacionalid, v_grupo, v_clave, d_fecha_nac, d_fecha_ocurr, t_programa_fondo, t_nombre_del_proyecto, t_nombre_del_beneficiario, c_salario, v_sexo, v_ocupacion, v_escolarida]\n",
       "Index: []"
      ]
     },
     "execution_count": 218,
     "metadata": {},
     "output_type": "execute_result"
    }
   ],
   "source": [
    "df[df[\"c_monto_de_apoyo\"].map(lambda x:x<0)]"
   ]
  },
  {
   "cell_type": "markdown",
   "metadata": {
    "heading_collapsed": true,
    "hidden": true,
    "id": "UyyKxCfbHaCV"
   },
   "source": [
    "### <span style=\"background:#759566\"> Variable Continua - \"HORAS\" </span> "
   ]
  },
  {
   "cell_type": "code",
   "execution_count": 219,
   "metadata": {
    "ExecuteTime": {
     "end_time": "2023-08-09T00:21:28.879099Z",
     "start_time": "2023-08-09T00:21:28.877392Z"
    },
    "hidden": true,
    "id": "Y6m955k4HaCV"
   },
   "outputs": [],
   "source": [
    "## Consistencia"
   ]
  },
  {
   "cell_type": "code",
   "execution_count": 220,
   "metadata": {
    "ExecuteTime": {
     "end_time": "2023-08-09T00:21:30.153700Z",
     "start_time": "2023-08-09T00:21:30.147948Z"
    },
    "hidden": true,
    "id": "yqv1TGB1HaCW",
    "outputId": "1d893c42-dfee-4692-91e7-9d4356c80124"
   },
   "outputs": [
    {
     "data": {
      "text/plain": [
       "count    63185.000000\n",
       "mean        12.651088\n",
       "std         10.970562\n",
       "min          0.000000\n",
       "10%          2.000000\n",
       "20%          5.000000\n",
       "30%          7.000000\n",
       "40%         10.000000\n",
       "50%         12.000000\n",
       "60%         14.000000\n",
       "70%         17.000000\n",
       "80%         19.000000\n",
       "90%         21.000000\n",
       "100%        99.000000\n",
       "max         99.000000\n",
       "Name: c_horas, dtype: float64"
      ]
     },
     "execution_count": 220,
     "metadata": {},
     "output_type": "execute_result"
    }
   ],
   "source": [
    "df[\"c_horas\"].describe(percentiles=np.arange(0.1,1.1,.1))"
   ]
  },
  {
   "cell_type": "code",
   "execution_count": 221,
   "metadata": {
    "ExecuteTime": {
     "end_time": "2023-08-09T00:21:30.413300Z",
     "start_time": "2023-08-09T00:21:30.409808Z"
    },
    "hidden": true,
    "id": "oDQjCEuEHaCX",
    "outputId": "a082d76e-298c-4c49-a479-26fd23edac8d",
    "scrolled": true
   },
   "outputs": [
    {
     "data": {
      "text/plain": [
       "0.010002373981166416"
      ]
     },
     "execution_count": 221,
     "metadata": {},
     "output_type": "execute_result"
    }
   ],
   "source": [
    "df[df[\"c_horas\"]>24].shape[0]/df.shape[0]"
   ]
  },
  {
   "cell_type": "code",
   "execution_count": 222,
   "metadata": {
    "ExecuteTime": {
     "end_time": "2023-08-09T00:21:30.635394Z",
     "start_time": "2023-08-09T00:21:30.633314Z"
    },
    "hidden": true
   },
   "outputs": [
    {
     "data": {
      "text/plain": [
       "(63185, 24)"
      ]
     },
     "execution_count": 222,
     "metadata": {},
     "output_type": "execute_result"
    }
   ],
   "source": [
    "df.shape"
   ]
  },
  {
   "cell_type": "code",
   "execution_count": 223,
   "metadata": {
    "ExecuteTime": {
     "end_time": "2023-08-09T00:21:30.853542Z",
     "start_time": "2023-08-09T00:21:30.840343Z"
    },
    "hidden": true,
    "id": "2_4oaa_uHaCY"
   },
   "outputs": [],
   "source": [
    "df=df[df[\"c_horas\"]<=24]\n",
    "df.reset_index(drop=True,inplace=True)"
   ]
  },
  {
   "cell_type": "markdown",
   "metadata": {
    "heading_collapsed": true,
    "hidden": true,
    "id": "9_Coj3PsHaCZ"
   },
   "source": [
    "### <span style=\"background:#759566\"> Variable Continua - \"MINUTOS\" </span> "
   ]
  },
  {
   "cell_type": "code",
   "execution_count": 224,
   "metadata": {
    "ExecuteTime": {
     "end_time": "2023-08-09T00:21:31.372528Z",
     "start_time": "2023-08-09T00:21:31.367308Z"
    },
    "hidden": true,
    "id": "1_pZCaEFHaCZ",
    "outputId": "d95e5570-c4d6-405e-f12b-1f94737f9ff1"
   },
   "outputs": [
    {
     "data": {
      "text/plain": [
       "count    62553.000000\n",
       "mean        20.782856\n",
       "std         17.830516\n",
       "min          0.000000\n",
       "25%          0.000000\n",
       "50%         20.000000\n",
       "75%         30.000000\n",
       "max         59.000000\n",
       "Name: c_minutos, dtype: float64"
      ]
     },
     "execution_count": 224,
     "metadata": {},
     "output_type": "execute_result"
    }
   ],
   "source": [
    "df[\"c_minutos\"].describe()"
   ]
  },
  {
   "cell_type": "code",
   "execution_count": 225,
   "metadata": {
    "ExecuteTime": {
     "end_time": "2023-08-09T00:21:31.777620Z",
     "start_time": "2023-08-09T00:21:31.722060Z"
    },
    "hidden": true,
    "id": "5oji-8TqHaCa",
    "outputId": "aa0d4524-d06d-4153-be57-5bb96febdd21",
    "scrolled": true
   },
   "outputs": [
    {
     "data": {
      "text/html": [
       "<div>\n",
       "<style scoped>\n",
       "    .dataframe tbody tr th:only-of-type {\n",
       "        vertical-align: middle;\n",
       "    }\n",
       "\n",
       "    .dataframe tbody tr th {\n",
       "        vertical-align: top;\n",
       "    }\n",
       "\n",
       "    .dataframe thead th {\n",
       "        text-align: right;\n",
       "    }\n",
       "</style>\n",
       "<table border=\"1\" class=\"dataframe\">\n",
       "  <thead>\n",
       "    <tr style=\"text-align: right;\">\n",
       "      <th></th>\n",
       "      <th>columna</th>\n",
       "      <th>total</th>\n",
       "      <th>completitud</th>\n",
       "    </tr>\n",
       "  </thead>\n",
       "  <tbody>\n",
       "    <tr>\n",
       "      <th>0</th>\n",
       "      <td>v_edo_civil</td>\n",
       "      <td>62553</td>\n",
       "      <td>0.000000</td>\n",
       "    </tr>\n",
       "    <tr>\n",
       "      <th>1</th>\n",
       "      <td>v_ent_regis</td>\n",
       "      <td>4375</td>\n",
       "      <td>93.005931</td>\n",
       "    </tr>\n",
       "    <tr>\n",
       "      <th>2</th>\n",
       "      <td>v_escolarida</td>\n",
       "      <td>3238</td>\n",
       "      <td>94.823590</td>\n",
       "    </tr>\n",
       "    <tr>\n",
       "      <th>3</th>\n",
       "      <td>d_fecha_nac</td>\n",
       "      <td>708</td>\n",
       "      <td>98.868160</td>\n",
       "    </tr>\n",
       "    <tr>\n",
       "      <th>4</th>\n",
       "      <td>v_sexo</td>\n",
       "      <td>5</td>\n",
       "      <td>99.992007</td>\n",
       "    </tr>\n",
       "    <tr>\n",
       "      <th>5</th>\n",
       "      <td>c_monto_de_apoyo</td>\n",
       "      <td>4</td>\n",
       "      <td>99.993605</td>\n",
       "    </tr>\n",
       "    <tr>\n",
       "      <th>6</th>\n",
       "      <td>c_salario</td>\n",
       "      <td>0</td>\n",
       "      <td>100.000000</td>\n",
       "    </tr>\n",
       "    <tr>\n",
       "      <th>7</th>\n",
       "      <td>t_nombre_del_beneficiario</td>\n",
       "      <td>0</td>\n",
       "      <td>100.000000</td>\n",
       "    </tr>\n",
       "    <tr>\n",
       "      <th>8</th>\n",
       "      <td>t_nombre_del_proyecto</td>\n",
       "      <td>0</td>\n",
       "      <td>100.000000</td>\n",
       "    </tr>\n",
       "    <tr>\n",
       "      <th>9</th>\n",
       "      <td>t_programa_fondo</td>\n",
       "      <td>0</td>\n",
       "      <td>100.000000</td>\n",
       "    </tr>\n",
       "    <tr>\n",
       "      <th>10</th>\n",
       "      <td>d_fecha_ocurr</td>\n",
       "      <td>0</td>\n",
       "      <td>100.000000</td>\n",
       "    </tr>\n",
       "    <tr>\n",
       "      <th>11</th>\n",
       "      <td>v_clave</td>\n",
       "      <td>0</td>\n",
       "      <td>100.000000</td>\n",
       "    </tr>\n",
       "    <tr>\n",
       "      <th>12</th>\n",
       "      <td>v_grupo</td>\n",
       "      <td>0</td>\n",
       "      <td>100.000000</td>\n",
       "    </tr>\n",
       "    <tr>\n",
       "      <th>13</th>\n",
       "      <td>c_edad</td>\n",
       "      <td>0</td>\n",
       "      <td>100.000000</td>\n",
       "    </tr>\n",
       "    <tr>\n",
       "      <th>14</th>\n",
       "      <td>v_ocupacion</td>\n",
       "      <td>0</td>\n",
       "      <td>100.000000</td>\n",
       "    </tr>\n",
       "    <tr>\n",
       "      <th>15</th>\n",
       "      <td>v_lugar_ocur</td>\n",
       "      <td>0</td>\n",
       "      <td>100.000000</td>\n",
       "    </tr>\n",
       "    <tr>\n",
       "      <th>16</th>\n",
       "      <td>v_mun_ocurr</td>\n",
       "      <td>0</td>\n",
       "      <td>100.000000</td>\n",
       "    </tr>\n",
       "    <tr>\n",
       "      <th>17</th>\n",
       "      <td>v_mun_resid</td>\n",
       "      <td>0</td>\n",
       "      <td>100.000000</td>\n",
       "    </tr>\n",
       "    <tr>\n",
       "      <th>18</th>\n",
       "      <td>v_ent_resid</td>\n",
       "      <td>0</td>\n",
       "      <td>100.000000</td>\n",
       "    </tr>\n",
       "    <tr>\n",
       "      <th>19</th>\n",
       "      <td>v_mun_regis</td>\n",
       "      <td>0</td>\n",
       "      <td>100.000000</td>\n",
       "    </tr>\n",
       "    <tr>\n",
       "      <th>20</th>\n",
       "      <td>c_horas</td>\n",
       "      <td>0</td>\n",
       "      <td>100.000000</td>\n",
       "    </tr>\n",
       "    <tr>\n",
       "      <th>21</th>\n",
       "      <td>c_minutos</td>\n",
       "      <td>0</td>\n",
       "      <td>100.000000</td>\n",
       "    </tr>\n",
       "    <tr>\n",
       "      <th>22</th>\n",
       "      <td>v_nacionalid</td>\n",
       "      <td>0</td>\n",
       "      <td>100.000000</td>\n",
       "    </tr>\n",
       "    <tr>\n",
       "      <th>23</th>\n",
       "      <td>v_sitio_ocur</td>\n",
       "      <td>0</td>\n",
       "      <td>100.000000</td>\n",
       "    </tr>\n",
       "  </tbody>\n",
       "</table>\n",
       "</div>"
      ],
      "text/plain": [
       "                      columna  total  completitud\n",
       "0                 v_edo_civil  62553     0.000000\n",
       "1                 v_ent_regis   4375    93.005931\n",
       "2                v_escolarida   3238    94.823590\n",
       "3                 d_fecha_nac    708    98.868160\n",
       "4                      v_sexo      5    99.992007\n",
       "5            c_monto_de_apoyo      4    99.993605\n",
       "6                   c_salario      0   100.000000\n",
       "7   t_nombre_del_beneficiario      0   100.000000\n",
       "8       t_nombre_del_proyecto      0   100.000000\n",
       "9            t_programa_fondo      0   100.000000\n",
       "10              d_fecha_ocurr      0   100.000000\n",
       "11                    v_clave      0   100.000000\n",
       "12                    v_grupo      0   100.000000\n",
       "13                     c_edad      0   100.000000\n",
       "14                v_ocupacion      0   100.000000\n",
       "15               v_lugar_ocur      0   100.000000\n",
       "16                v_mun_ocurr      0   100.000000\n",
       "17                v_mun_resid      0   100.000000\n",
       "18                v_ent_resid      0   100.000000\n",
       "19                v_mun_regis      0   100.000000\n",
       "20                    c_horas      0   100.000000\n",
       "21                  c_minutos      0   100.000000\n",
       "22               v_nacionalid      0   100.000000\n",
       "23               v_sitio_ocur      0   100.000000"
      ]
     },
     "execution_count": 225,
     "metadata": {},
     "output_type": "execute_result"
    }
   ],
   "source": [
    "completitud(df)"
   ]
  },
  {
   "cell_type": "markdown",
   "metadata": {
    "heading_collapsed": true,
    "hidden": true,
    "id": "j0jj0v7oHaCb"
   },
   "source": [
    "### <span style=\"background:#759566\"> Variable Continua - \"FECHAS\" </span> "
   ]
  },
  {
   "cell_type": "code",
   "execution_count": 226,
   "metadata": {
    "ExecuteTime": {
     "end_time": "2023-08-09T00:21:32.543056Z",
     "start_time": "2023-08-09T00:21:32.525108Z"
    },
    "hidden": true,
    "id": "J2VR6Ge5HaCb",
    "outputId": "1d1850c8-6c2b-4952-a8b0-4f5bcd6cdc92",
    "scrolled": true
   },
   "outputs": [],
   "source": [
    "df[\"d_fecha_nac\"]=pd.to_datetime(df[\"d_fecha_nac\"])"
   ]
  },
  {
   "cell_type": "code",
   "execution_count": 227,
   "metadata": {
    "ExecuteTime": {
     "end_time": "2023-08-09T00:21:32.859822Z",
     "start_time": "2023-08-09T00:21:32.854229Z"
    },
    "hidden": true,
    "id": "qZFqqNIxHaCc",
    "outputId": "99ae5056-66ba-446f-a66a-dd997d238ff5"
   },
   "outputs": [],
   "source": [
    "df[\"d_fecha_ocurr\"]=pd.to_datetime(df[\"d_fecha_ocurr\"])"
   ]
  },
  {
   "cell_type": "code",
   "execution_count": 228,
   "metadata": {
    "ExecuteTime": {
     "end_time": "2023-08-09T00:21:33.104733Z",
     "start_time": "2023-08-09T00:21:33.099606Z"
    },
    "hidden": true,
    "id": "F8Ra4IHLHaCd",
    "outputId": "ce8c5daa-3024-453b-dde4-164187324634"
   },
   "outputs": [
    {
     "data": {
      "text/html": [
       "<div>\n",
       "<style scoped>\n",
       "    .dataframe tbody tr th:only-of-type {\n",
       "        vertical-align: middle;\n",
       "    }\n",
       "\n",
       "    .dataframe tbody tr th {\n",
       "        vertical-align: top;\n",
       "    }\n",
       "\n",
       "    .dataframe thead th {\n",
       "        text-align: right;\n",
       "    }\n",
       "</style>\n",
       "<table border=\"1\" class=\"dataframe\">\n",
       "  <thead>\n",
       "    <tr style=\"text-align: right;\">\n",
       "      <th></th>\n",
       "      <th>d_fecha_nac</th>\n",
       "      <th>d_fecha_ocurr</th>\n",
       "    </tr>\n",
       "  </thead>\n",
       "  <tbody>\n",
       "    <tr>\n",
       "      <th>0</th>\n",
       "      <td>1952-12-28</td>\n",
       "      <td>2008-07-22</td>\n",
       "    </tr>\n",
       "    <tr>\n",
       "      <th>1</th>\n",
       "      <td>1925-05-28</td>\n",
       "      <td>2010-07-28</td>\n",
       "    </tr>\n",
       "    <tr>\n",
       "      <th>2</th>\n",
       "      <td>1950-04-30</td>\n",
       "      <td>2011-04-11</td>\n",
       "    </tr>\n",
       "    <tr>\n",
       "      <th>3</th>\n",
       "      <td>1932-11-20</td>\n",
       "      <td>2011-06-11</td>\n",
       "    </tr>\n",
       "    <tr>\n",
       "      <th>4</th>\n",
       "      <td>1966-02-15</td>\n",
       "      <td>2012-11-03</td>\n",
       "    </tr>\n",
       "    <tr>\n",
       "      <th>...</th>\n",
       "      <td>...</td>\n",
       "      <td>...</td>\n",
       "    </tr>\n",
       "    <tr>\n",
       "      <th>62548</th>\n",
       "      <td>1935-02-19</td>\n",
       "      <td>2015-12-24</td>\n",
       "    </tr>\n",
       "    <tr>\n",
       "      <th>62549</th>\n",
       "      <td>1929-11-15</td>\n",
       "      <td>2015-12-25</td>\n",
       "    </tr>\n",
       "    <tr>\n",
       "      <th>62550</th>\n",
       "      <td>1926-10-02</td>\n",
       "      <td>2015-12-26</td>\n",
       "    </tr>\n",
       "    <tr>\n",
       "      <th>62551</th>\n",
       "      <td>1930-06-29</td>\n",
       "      <td>2015-12-27</td>\n",
       "    </tr>\n",
       "    <tr>\n",
       "      <th>62552</th>\n",
       "      <td>1953-11-18</td>\n",
       "      <td>2015-12-28</td>\n",
       "    </tr>\n",
       "  </tbody>\n",
       "</table>\n",
       "<p>62553 rows × 2 columns</p>\n",
       "</div>"
      ],
      "text/plain": [
       "      d_fecha_nac d_fecha_ocurr\n",
       "0      1952-12-28    2008-07-22\n",
       "1      1925-05-28    2010-07-28\n",
       "2      1950-04-30    2011-04-11\n",
       "3      1932-11-20    2011-06-11\n",
       "4      1966-02-15    2012-11-03\n",
       "...           ...           ...\n",
       "62548  1935-02-19    2015-12-24\n",
       "62549  1929-11-15    2015-12-25\n",
       "62550  1926-10-02    2015-12-26\n",
       "62551  1930-06-29    2015-12-27\n",
       "62552  1953-11-18    2015-12-28\n",
       "\n",
       "[62553 rows x 2 columns]"
      ]
     },
     "execution_count": 228,
     "metadata": {},
     "output_type": "execute_result"
    }
   ],
   "source": [
    "df.filter(like=\"d_\")"
   ]
  },
  {
   "cell_type": "markdown",
   "metadata": {
    "hidden": true,
    "id": "XupDEJmjHaCd"
   },
   "source": [
    "CONSISTENCIA INTEGRIDAD FECHA"
   ]
  },
  {
   "cell_type": "code",
   "execution_count": 229,
   "metadata": {
    "ExecuteTime": {
     "end_time": "2023-08-09T00:21:33.752281Z",
     "start_time": "2023-08-09T00:21:33.746924Z"
    },
    "hidden": true,
    "id": "n_cr7yL9HaCe",
    "outputId": "afef6647-19ee-435b-fa8d-a95a222f9ce4"
   },
   "outputs": [
    {
     "data": {
      "text/html": [
       "<div>\n",
       "<style scoped>\n",
       "    .dataframe tbody tr th:only-of-type {\n",
       "        vertical-align: middle;\n",
       "    }\n",
       "\n",
       "    .dataframe tbody tr th {\n",
       "        vertical-align: top;\n",
       "    }\n",
       "\n",
       "    .dataframe thead th {\n",
       "        text-align: right;\n",
       "    }\n",
       "</style>\n",
       "<table border=\"1\" class=\"dataframe\">\n",
       "  <thead>\n",
       "    <tr style=\"text-align: right;\">\n",
       "      <th></th>\n",
       "      <th>c_edad</th>\n",
       "      <th>c_minutos</th>\n",
       "      <th>c_monto_de_apoyo</th>\n",
       "      <th>c_horas</th>\n",
       "      <th>v_ent_regis</th>\n",
       "      <th>v_mun_regis</th>\n",
       "      <th>v_ent_resid</th>\n",
       "      <th>v_mun_resid</th>\n",
       "      <th>v_mun_ocurr</th>\n",
       "      <th>v_edo_civil</th>\n",
       "      <th>v_lugar_ocur</th>\n",
       "      <th>v_sitio_ocur</th>\n",
       "      <th>v_nacionalid</th>\n",
       "      <th>v_grupo</th>\n",
       "      <th>v_clave</th>\n",
       "      <th>d_fecha_nac</th>\n",
       "      <th>d_fecha_ocurr</th>\n",
       "      <th>t_programa_fondo</th>\n",
       "      <th>t_nombre_del_proyecto</th>\n",
       "      <th>t_nombre_del_beneficiario</th>\n",
       "      <th>c_salario</th>\n",
       "      <th>v_sexo</th>\n",
       "      <th>v_ocupacion</th>\n",
       "      <th>v_escolarida</th>\n",
       "    </tr>\n",
       "  </thead>\n",
       "  <tbody>\n",
       "  </tbody>\n",
       "</table>\n",
       "</div>"
      ],
      "text/plain": [
       "Empty DataFrame\n",
       "Columns: [c_edad, c_minutos, c_monto_de_apoyo, c_horas, v_ent_regis, v_mun_regis, v_ent_resid, v_mun_resid, v_mun_ocurr, v_edo_civil, v_lugar_ocur, v_sitio_ocur, v_nacionalid, v_grupo, v_clave, d_fecha_nac, d_fecha_ocurr, t_programa_fondo, t_nombre_del_proyecto, t_nombre_del_beneficiario, c_salario, v_sexo, v_ocupacion, v_escolarida]\n",
       "Index: []"
      ]
     },
     "execution_count": 229,
     "metadata": {},
     "output_type": "execute_result"
    }
   ],
   "source": [
    "#revisamos si hay casos donde la fecha de nacimiento es mayor a la fecha de ocurrencia\n",
    "df[df[\"d_fecha_nac\"]>df[\"d_fecha_ocurr\"]]"
   ]
  },
  {
   "cell_type": "code",
   "execution_count": 230,
   "metadata": {
    "ExecuteTime": {
     "end_time": "2023-08-09T00:21:34.164341Z",
     "start_time": "2023-08-09T00:21:34.160503Z"
    },
    "hidden": true,
    "id": "FHlqfTijHaCe",
    "outputId": "4397a4dd-01c6-49ec-ea7a-0d1d404c6ff9"
   },
   "outputs": [
    {
     "data": {
      "text/plain": [
       "0.0"
      ]
     },
     "execution_count": 230,
     "metadata": {},
     "output_type": "execute_result"
    }
   ],
   "source": [
    "df[df[\"d_fecha_nac\"]>df[\"d_fecha_ocurr\"]].shape[0]/df.shape[0]"
   ]
  },
  {
   "cell_type": "markdown",
   "metadata": {
    "heading_collapsed": true,
    "id": "xluEj8iIHaCf"
   },
   "source": [
    "##  <span style=\"background:#fe7f00\"> ANALISIS </span> "
   ]
  },
  {
   "cell_type": "code",
   "execution_count": 231,
   "metadata": {
    "ExecuteTime": {
     "end_time": "2023-08-09T00:21:45.233632Z",
     "start_time": "2023-08-09T00:21:45.224123Z"
    },
    "hidden": true
   },
   "outputs": [
    {
     "data": {
      "text/html": [
       "<div>\n",
       "<style scoped>\n",
       "    .dataframe tbody tr th:only-of-type {\n",
       "        vertical-align: middle;\n",
       "    }\n",
       "\n",
       "    .dataframe tbody tr th {\n",
       "        vertical-align: top;\n",
       "    }\n",
       "\n",
       "    .dataframe thead th {\n",
       "        text-align: right;\n",
       "    }\n",
       "</style>\n",
       "<table border=\"1\" class=\"dataframe\">\n",
       "  <thead>\n",
       "    <tr style=\"text-align: right;\">\n",
       "      <th></th>\n",
       "      <th>c_edad</th>\n",
       "      <th>c_minutos</th>\n",
       "      <th>c_monto_de_apoyo</th>\n",
       "      <th>c_horas</th>\n",
       "      <th>v_ent_regis</th>\n",
       "      <th>v_mun_regis</th>\n",
       "      <th>v_ent_resid</th>\n",
       "      <th>v_mun_resid</th>\n",
       "      <th>v_mun_ocurr</th>\n",
       "      <th>v_edo_civil</th>\n",
       "      <th>v_lugar_ocur</th>\n",
       "      <th>v_sitio_ocur</th>\n",
       "      <th>v_nacionalid</th>\n",
       "      <th>v_grupo</th>\n",
       "      <th>v_clave</th>\n",
       "      <th>d_fecha_nac</th>\n",
       "      <th>d_fecha_ocurr</th>\n",
       "      <th>t_programa_fondo</th>\n",
       "      <th>t_nombre_del_proyecto</th>\n",
       "      <th>t_nombre_del_beneficiario</th>\n",
       "      <th>c_salario</th>\n",
       "      <th>v_sexo</th>\n",
       "      <th>v_ocupacion</th>\n",
       "      <th>v_escolarida</th>\n",
       "    </tr>\n",
       "  </thead>\n",
       "  <tbody>\n",
       "    <tr>\n",
       "      <th>0</th>\n",
       "      <td>55.0</td>\n",
       "      <td>30.0</td>\n",
       "      <td>534650.0</td>\n",
       "      <td>10.0</td>\n",
       "      <td>25.0</td>\n",
       "      <td>12</td>\n",
       "      <td>2</td>\n",
       "      <td>2</td>\n",
       "      <td>12</td>\n",
       "      <td>NaN</td>\n",
       "      <td>8</td>\n",
       "      <td>12</td>\n",
       "      <td>1</td>\n",
       "      <td>16</td>\n",
       "      <td>6836</td>\n",
       "      <td>1952-12-28</td>\n",
       "      <td>2008-07-22</td>\n",
       "      <td>programa para el fomento de recursos humanos d...</td>\n",
       "      <td>becas singularity u mexico summit 4 0 industri...</td>\n",
       "      <td>4 0 industrial cluster a c</td>\n",
       "      <td>3000.0</td>\n",
       "      <td>Hombres</td>\n",
       "      <td>ocupaciones insuficientemente especificadas</td>\n",
       "      <td>Primaria</td>\n",
       "    </tr>\n",
       "    <tr>\n",
       "      <th>1</th>\n",
       "      <td>85.0</td>\n",
       "      <td>30.0</td>\n",
       "      <td>534650.0</td>\n",
       "      <td>14.0</td>\n",
       "      <td>25.0</td>\n",
       "      <td>12</td>\n",
       "      <td>25</td>\n",
       "      <td>12</td>\n",
       "      <td>12</td>\n",
       "      <td>NaN</td>\n",
       "      <td>88</td>\n",
       "      <td>3</td>\n",
       "      <td>1</td>\n",
       "      <td>3</td>\n",
       "      <td>6836</td>\n",
       "      <td>1925-05-28</td>\n",
       "      <td>2010-07-28</td>\n",
       "      <td>programa para el fomento de recursos humanos d...</td>\n",
       "      <td>becas singularity u mexico summit 4 0 industri...</td>\n",
       "      <td>4 0 industrial cluster a c</td>\n",
       "      <td>3000.0</td>\n",
       "      <td>Hombres</td>\n",
       "      <td>ocupacion no especificada</td>\n",
       "      <td>Primaria</td>\n",
       "    </tr>\n",
       "    <tr>\n",
       "      <th>2</th>\n",
       "      <td>61.0</td>\n",
       "      <td>30.0</td>\n",
       "      <td>534650.0</td>\n",
       "      <td>14.0</td>\n",
       "      <td>5.0</td>\n",
       "      <td>30</td>\n",
       "      <td>5</td>\n",
       "      <td>30</td>\n",
       "      <td>30</td>\n",
       "      <td>NaN</td>\n",
       "      <td>88</td>\n",
       "      <td>3</td>\n",
       "      <td>1</td>\n",
       "      <td>8</td>\n",
       "      <td>6836</td>\n",
       "      <td>1950-04-30</td>\n",
       "      <td>2011-04-11</td>\n",
       "      <td>programa para el fomento de recursos humanos d...</td>\n",
       "      <td>becas singularity u mexico summit 4 0 industri...</td>\n",
       "      <td>4 0 industrial cluster a c</td>\n",
       "      <td>3000.0</td>\n",
       "      <td>Mujeres</td>\n",
       "      <td>no trabaja</td>\n",
       "      <td>Secundaria</td>\n",
       "    </tr>\n",
       "    <tr>\n",
       "      <th>3</th>\n",
       "      <td>78.0</td>\n",
       "      <td>45.0</td>\n",
       "      <td>534650.0</td>\n",
       "      <td>14.0</td>\n",
       "      <td>NaN</td>\n",
       "      <td>11</td>\n",
       "      <td>25</td>\n",
       "      <td>11</td>\n",
       "      <td>11</td>\n",
       "      <td>NaN</td>\n",
       "      <td>88</td>\n",
       "      <td>1</td>\n",
       "      <td>1</td>\n",
       "      <td>7</td>\n",
       "      <td>6836</td>\n",
       "      <td>1932-11-20</td>\n",
       "      <td>2011-06-11</td>\n",
       "      <td>programa para el fomento de recursos humanos d...</td>\n",
       "      <td>becas singularity u mexico summit 4 0 industri...</td>\n",
       "      <td>4 0 industrial cluster a c</td>\n",
       "      <td>4500.0</td>\n",
       "      <td>Mujeres</td>\n",
       "      <td>no trabaja</td>\n",
       "      <td>Sin escolaridad</td>\n",
       "    </tr>\n",
       "    <tr>\n",
       "      <th>4</th>\n",
       "      <td>46.0</td>\n",
       "      <td>45.0</td>\n",
       "      <td>534650.0</td>\n",
       "      <td>17.0</td>\n",
       "      <td>30.0</td>\n",
       "      <td>121</td>\n",
       "      <td>30</td>\n",
       "      <td>13</td>\n",
       "      <td>121</td>\n",
       "      <td>NaN</td>\n",
       "      <td>4</td>\n",
       "      <td>10</td>\n",
       "      <td>1</td>\n",
       "      <td>17</td>\n",
       "      <td>6836</td>\n",
       "      <td>1966-02-15</td>\n",
       "      <td>2012-11-03</td>\n",
       "      <td>programa para el fomento de recursos humanos d...</td>\n",
       "      <td>becas singularity u mexico summit 4 0 industri...</td>\n",
       "      <td>4 0 industrial cluster a c</td>\n",
       "      <td>4500.0</td>\n",
       "      <td>Mujeres</td>\n",
       "      <td>ocupaciones insuficientemente especificadas</td>\n",
       "      <td>Secundaria</td>\n",
       "    </tr>\n",
       "  </tbody>\n",
       "</table>\n",
       "</div>"
      ],
      "text/plain": [
       "   c_edad  c_minutos  c_monto_de_apoyo  c_horas  v_ent_regis  v_mun_regis  \\\n",
       "0    55.0       30.0          534650.0     10.0         25.0           12   \n",
       "1    85.0       30.0          534650.0     14.0         25.0           12   \n",
       "2    61.0       30.0          534650.0     14.0          5.0           30   \n",
       "3    78.0       45.0          534650.0     14.0          NaN           11   \n",
       "4    46.0       45.0          534650.0     17.0         30.0          121   \n",
       "\n",
       "   v_ent_resid  v_mun_resid  v_mun_ocurr  v_edo_civil  v_lugar_ocur  \\\n",
       "0            2            2           12          NaN             8   \n",
       "1           25           12           12          NaN            88   \n",
       "2            5           30           30          NaN            88   \n",
       "3           25           11           11          NaN            88   \n",
       "4           30           13          121          NaN             4   \n",
       "\n",
       "   v_sitio_ocur  v_nacionalid  v_grupo  v_clave d_fecha_nac d_fecha_ocurr  \\\n",
       "0            12             1       16     6836  1952-12-28    2008-07-22   \n",
       "1             3             1        3     6836  1925-05-28    2010-07-28   \n",
       "2             3             1        8     6836  1950-04-30    2011-04-11   \n",
       "3             1             1        7     6836  1932-11-20    2011-06-11   \n",
       "4            10             1       17     6836  1966-02-15    2012-11-03   \n",
       "\n",
       "                                    t_programa_fondo  \\\n",
       "0  programa para el fomento de recursos humanos d...   \n",
       "1  programa para el fomento de recursos humanos d...   \n",
       "2  programa para el fomento de recursos humanos d...   \n",
       "3  programa para el fomento de recursos humanos d...   \n",
       "4  programa para el fomento de recursos humanos d...   \n",
       "\n",
       "                               t_nombre_del_proyecto  \\\n",
       "0  becas singularity u mexico summit 4 0 industri...   \n",
       "1  becas singularity u mexico summit 4 0 industri...   \n",
       "2  becas singularity u mexico summit 4 0 industri...   \n",
       "3  becas singularity u mexico summit 4 0 industri...   \n",
       "4  becas singularity u mexico summit 4 0 industri...   \n",
       "\n",
       "    t_nombre_del_beneficiario  c_salario   v_sexo  \\\n",
       "0  4 0 industrial cluster a c     3000.0  Hombres   \n",
       "1  4 0 industrial cluster a c     3000.0  Hombres   \n",
       "2  4 0 industrial cluster a c     3000.0  Mujeres   \n",
       "3  4 0 industrial cluster a c     4500.0  Mujeres   \n",
       "4  4 0 industrial cluster a c     4500.0  Mujeres   \n",
       "\n",
       "                                   v_ocupacion     v_escolarida  \n",
       "0  ocupaciones insuficientemente especificadas         Primaria  \n",
       "1                    ocupacion no especificada         Primaria  \n",
       "2                                   no trabaja       Secundaria  \n",
       "3                                   no trabaja  Sin escolaridad  \n",
       "4  ocupaciones insuficientemente especificadas       Secundaria  "
      ]
     },
     "execution_count": 231,
     "metadata": {},
     "output_type": "execute_result"
    }
   ],
   "source": [
    "df.head()"
   ]
  },
  {
   "cell_type": "code",
   "execution_count": 232,
   "metadata": {
    "ExecuteTime": {
     "end_time": "2023-08-09T00:21:45.714819Z",
     "start_time": "2023-08-09T00:21:45.703180Z"
    },
    "hidden": true,
    "id": "wWn8cjh-HaCg",
    "outputId": "e607c7f5-1614-4b91-e8db-1187062cb580",
    "scrolled": true
   },
   "outputs": [
    {
     "data": {
      "text/html": [
       "<div>\n",
       "<style scoped>\n",
       "    .dataframe tbody tr th:only-of-type {\n",
       "        vertical-align: middle;\n",
       "    }\n",
       "\n",
       "    .dataframe tbody tr th {\n",
       "        vertical-align: top;\n",
       "    }\n",
       "\n",
       "    .dataframe thead tr th {\n",
       "        text-align: left;\n",
       "    }\n",
       "\n",
       "    .dataframe thead tr:last-of-type th {\n",
       "        text-align: right;\n",
       "    }\n",
       "</style>\n",
       "<table border=\"1\" class=\"dataframe\">\n",
       "  <thead>\n",
       "    <tr>\n",
       "      <th></th>\n",
       "      <th colspan=\"2\" halign=\"left\">c_edad</th>\n",
       "    </tr>\n",
       "    <tr>\n",
       "      <th></th>\n",
       "      <th>mean</th>\n",
       "      <th>count</th>\n",
       "    </tr>\n",
       "    <tr>\n",
       "      <th>v_ocupacion</th>\n",
       "      <th></th>\n",
       "      <th></th>\n",
       "    </tr>\n",
       "  </thead>\n",
       "  <tbody>\n",
       "    <tr>\n",
       "      <th>comerciantes empleados en ventas y agentes de ventas</th>\n",
       "      <td>61.765777</td>\n",
       "      <td>3185</td>\n",
       "    </tr>\n",
       "    <tr>\n",
       "      <th>no aplica a menores de 5 anos</th>\n",
       "      <td>1.846626</td>\n",
       "      <td>489</td>\n",
       "    </tr>\n",
       "    <tr>\n",
       "      <th>no trabaja</th>\n",
       "      <td>70.012690</td>\n",
       "      <td>34595</td>\n",
       "    </tr>\n",
       "    <tr>\n",
       "      <th>ocupacion no especificada</th>\n",
       "      <td>60.592140</td>\n",
       "      <td>3028</td>\n",
       "    </tr>\n",
       "    <tr>\n",
       "      <th>ocupaciones insuficientemente especificadas</th>\n",
       "      <td>48.688476</td>\n",
       "      <td>2690</td>\n",
       "    </tr>\n",
       "    <tr>\n",
       "      <th>operadores de maquinaria industrial ensambladores choferes y conductores de transporte</th>\n",
       "      <td>53.739554</td>\n",
       "      <td>1436</td>\n",
       "    </tr>\n",
       "    <tr>\n",
       "      <th>otro</th>\n",
       "      <td>56.588517</td>\n",
       "      <td>627</td>\n",
       "    </tr>\n",
       "    <tr>\n",
       "      <th>profesionistas y tecnicos</th>\n",
       "      <td>59.171768</td>\n",
       "      <td>2777</td>\n",
       "    </tr>\n",
       "    <tr>\n",
       "      <th>trabajadores artesanales</th>\n",
       "      <td>58.744811</td>\n",
       "      <td>3758</td>\n",
       "    </tr>\n",
       "    <tr>\n",
       "      <th>trabajadores en actividades agricolas ganaderas forestales caza y pesca</th>\n",
       "      <td>69.982619</td>\n",
       "      <td>7019</td>\n",
       "    </tr>\n",
       "    <tr>\n",
       "      <th>trabajadores en actividades elementales y de apoyo</th>\n",
       "      <td>60.239678</td>\n",
       "      <td>1986</td>\n",
       "    </tr>\n",
       "    <tr>\n",
       "      <th>trabajadores en servicios personales y vigilancia</th>\n",
       "      <td>55.681205</td>\n",
       "      <td>963</td>\n",
       "    </tr>\n",
       "  </tbody>\n",
       "</table>\n",
       "</div>"
      ],
      "text/plain": [
       "                                                       c_edad       \n",
       "                                                         mean  count\n",
       "v_ocupacion                                                         \n",
       "comerciantes empleados en ventas y agentes de v...  61.765777   3185\n",
       "no aplica a menores de 5 anos                        1.846626    489\n",
       "no trabaja                                          70.012690  34595\n",
       "ocupacion no especificada                           60.592140   3028\n",
       "ocupaciones insuficientemente especificadas         48.688476   2690\n",
       "operadores de maquinaria industrial ensamblador...  53.739554   1436\n",
       "otro                                                56.588517    627\n",
       "profesionistas y tecnicos                           59.171768   2777\n",
       "trabajadores artesanales                            58.744811   3758\n",
       "trabajadores en actividades agricolas ganaderas...  69.982619   7019\n",
       "trabajadores en actividades elementales y de apoyo  60.239678   1986\n",
       "trabajadores en servicios personales y vigilancia   55.681205    963"
      ]
     },
     "execution_count": 232,
     "metadata": {},
     "output_type": "execute_result"
    }
   ],
   "source": [
    "df[[\"v_ocupacion\", \"c_edad\"]].groupby([\"v_ocupacion\"]).agg([\"mean\", \"count\"])"
   ]
  },
  {
   "cell_type": "code",
   "execution_count": 233,
   "metadata": {
    "ExecuteTime": {
     "end_time": "2023-08-09T00:21:55.991332Z",
     "start_time": "2023-08-09T00:21:55.961523Z"
    },
    "hidden": true,
    "id": "9mzoygVqHaCi",
    "outputId": "71fb7ba9-b7a0-43b8-9047-0b1fa7ee9c77",
    "scrolled": true
   },
   "outputs": [
    {
     "data": {
      "text/html": [
       "<div>\n",
       "<style scoped>\n",
       "    .dataframe tbody tr th:only-of-type {\n",
       "        vertical-align: middle;\n",
       "    }\n",
       "\n",
       "    .dataframe tbody tr th {\n",
       "        vertical-align: top;\n",
       "    }\n",
       "\n",
       "    .dataframe thead tr th {\n",
       "        text-align: left;\n",
       "    }\n",
       "\n",
       "    .dataframe thead tr:last-of-type th {\n",
       "        text-align: right;\n",
       "    }\n",
       "</style>\n",
       "<table border=\"1\" class=\"dataframe\">\n",
       "  <thead>\n",
       "    <tr>\n",
       "      <th></th>\n",
       "      <th></th>\n",
       "      <th colspan=\"4\" halign=\"left\">c_edad</th>\n",
       "    </tr>\n",
       "    <tr>\n",
       "      <th></th>\n",
       "      <th></th>\n",
       "      <th>mean</th>\n",
       "      <th>min</th>\n",
       "      <th>max</th>\n",
       "      <th>count</th>\n",
       "    </tr>\n",
       "    <tr>\n",
       "      <th>v_escolarida</th>\n",
       "      <th>v_sexo</th>\n",
       "      <th></th>\n",
       "      <th></th>\n",
       "      <th></th>\n",
       "      <th></th>\n",
       "    </tr>\n",
       "  </thead>\n",
       "  <tbody>\n",
       "    <tr>\n",
       "      <th rowspan=\"2\" valign=\"top\">Bachillerato o Preparatoria</th>\n",
       "      <th>Hombres</th>\n",
       "      <td>50.308430</td>\n",
       "      <td>15.0</td>\n",
       "      <td>97.0</td>\n",
       "      <td>2918</td>\n",
       "    </tr>\n",
       "    <tr>\n",
       "      <th>Mujeres</th>\n",
       "      <td>56.642644</td>\n",
       "      <td>15.0</td>\n",
       "      <td>97.0</td>\n",
       "      <td>1679</td>\n",
       "    </tr>\n",
       "    <tr>\n",
       "      <th rowspan=\"2\" valign=\"top\">No aplica a menores de 3 años</th>\n",
       "      <th>Hombres</th>\n",
       "      <td>1.319048</td>\n",
       "      <td>1.0</td>\n",
       "      <td>2.0</td>\n",
       "      <td>210</td>\n",
       "    </tr>\n",
       "    <tr>\n",
       "      <th>Mujeres</th>\n",
       "      <td>1.301282</td>\n",
       "      <td>1.0</td>\n",
       "      <td>2.0</td>\n",
       "      <td>156</td>\n",
       "    </tr>\n",
       "    <tr>\n",
       "      <th rowspan=\"2\" valign=\"top\">Preescolar</th>\n",
       "      <th>Hombres</th>\n",
       "      <td>27.519231</td>\n",
       "      <td>3.0</td>\n",
       "      <td>97.0</td>\n",
       "      <td>52</td>\n",
       "    </tr>\n",
       "    <tr>\n",
       "      <th>Mujeres</th>\n",
       "      <td>23.717391</td>\n",
       "      <td>3.0</td>\n",
       "      <td>92.0</td>\n",
       "      <td>46</td>\n",
       "    </tr>\n",
       "    <tr>\n",
       "      <th rowspan=\"2\" valign=\"top\">Primaria</th>\n",
       "      <th>Hombres</th>\n",
       "      <td>67.164677</td>\n",
       "      <td>6.0</td>\n",
       "      <td>97.0</td>\n",
       "      <td>15831</td>\n",
       "    </tr>\n",
       "    <tr>\n",
       "      <th>Mujeres</th>\n",
       "      <td>71.380316</td>\n",
       "      <td>6.0</td>\n",
       "      <td>97.0</td>\n",
       "      <td>13615</td>\n",
       "    </tr>\n",
       "    <tr>\n",
       "      <th rowspan=\"2\" valign=\"top\">Profesional</th>\n",
       "      <th>Hombres</th>\n",
       "      <td>61.778300</td>\n",
       "      <td>18.0</td>\n",
       "      <td>97.0</td>\n",
       "      <td>2977</td>\n",
       "    </tr>\n",
       "    <tr>\n",
       "      <th>Mujeres</th>\n",
       "      <td>62.407432</td>\n",
       "      <td>18.0</td>\n",
       "      <td>97.0</td>\n",
       "      <td>1480</td>\n",
       "    </tr>\n",
       "    <tr>\n",
       "      <th rowspan=\"2\" valign=\"top\">Secundaria</th>\n",
       "      <th>Hombres</th>\n",
       "      <td>49.048337</td>\n",
       "      <td>12.0</td>\n",
       "      <td>96.0</td>\n",
       "      <td>5172</td>\n",
       "    </tr>\n",
       "    <tr>\n",
       "      <th>Mujeres</th>\n",
       "      <td>57.324402</td>\n",
       "      <td>12.0</td>\n",
       "      <td>97.0</td>\n",
       "      <td>2799</td>\n",
       "    </tr>\n",
       "    <tr>\n",
       "      <th rowspan=\"2\" valign=\"top\">Sin escolaridad</th>\n",
       "      <th>Hombres</th>\n",
       "      <td>73.029498</td>\n",
       "      <td>3.0</td>\n",
       "      <td>97.0</td>\n",
       "      <td>5458</td>\n",
       "    </tr>\n",
       "    <tr>\n",
       "      <th>Mujeres</th>\n",
       "      <td>76.047550</td>\n",
       "      <td>3.0</td>\n",
       "      <td>97.0</td>\n",
       "      <td>6919</td>\n",
       "    </tr>\n",
       "  </tbody>\n",
       "</table>\n",
       "</div>"
      ],
      "text/plain": [
       "                                          c_edad                   \n",
       "                                            mean   min   max  count\n",
       "v_escolarida                  v_sexo                               \n",
       "Bachillerato o Preparatoria   Hombres  50.308430  15.0  97.0   2918\n",
       "                              Mujeres  56.642644  15.0  97.0   1679\n",
       "No aplica a menores de 3 años Hombres   1.319048   1.0   2.0    210\n",
       "                              Mujeres   1.301282   1.0   2.0    156\n",
       "Preescolar                    Hombres  27.519231   3.0  97.0     52\n",
       "                              Mujeres  23.717391   3.0  92.0     46\n",
       "Primaria                      Hombres  67.164677   6.0  97.0  15831\n",
       "                              Mujeres  71.380316   6.0  97.0  13615\n",
       "Profesional                   Hombres  61.778300  18.0  97.0   2977\n",
       "                              Mujeres  62.407432  18.0  97.0   1480\n",
       "Secundaria                    Hombres  49.048337  12.0  96.0   5172\n",
       "                              Mujeres  57.324402  12.0  97.0   2799\n",
       "Sin escolaridad               Hombres  73.029498   3.0  97.0   5458\n",
       "                              Mujeres  76.047550   3.0  97.0   6919"
      ]
     },
     "execution_count": 233,
     "metadata": {},
     "output_type": "execute_result"
    }
   ],
   "source": [
    "df[[\"c_edad\", \"v_escolarida\", \"v_sexo\"]].groupby([\"v_escolarida\", \"v_sexo\"]).agg([\"mean\", \"min\", \"max\", \"count\"])"
   ]
  },
  {
   "cell_type": "code",
   "execution_count": 234,
   "metadata": {
    "ExecuteTime": {
     "end_time": "2023-08-09T00:21:59.770217Z",
     "start_time": "2023-08-09T00:21:59.767093Z"
    },
    "hidden": true,
    "id": "qMCPPSPwHaCi",
    "outputId": "9e10bd92-5688-42e5-d4dc-46553dbc74f9"
   },
   "outputs": [
    {
     "data": {
      "text/plain": [
       "(62553, 24)"
      ]
     },
     "execution_count": 234,
     "metadata": {},
     "output_type": "execute_result"
    }
   ],
   "source": [
    "df.shape"
   ]
  },
  {
   "cell_type": "code",
   "execution_count": 235,
   "metadata": {
    "ExecuteTime": {
     "end_time": "2023-08-09T00:22:09.163115Z",
     "start_time": "2023-08-09T00:22:09.161105Z"
    },
    "hidden": true,
    "id": "fPt7U6ZlHaCj",
    "outputId": "263de5d1-91b1-45c6-f614-fc87a9279947"
   },
   "outputs": [],
   "source": [
    "n_rows=62553"
   ]
  },
  {
   "cell_type": "markdown",
   "metadata": {
    "id": "Oi9uKfaKHaCk"
   },
   "source": [
    "##  <span style=\"background:#fe7f00\"> RESUMEN </span> "
   ]
  },
  {
   "cell_type": "markdown",
   "metadata": {
    "ExecuteTime": {
     "end_time": "2023-08-09T00:05:48.603657Z",
     "start_time": "2023-08-09T00:05:48.600358Z"
    }
   },
   "source": [
    "**1.-Etiquetado de variables de acuerdo a su naturaleza**\n",
    "\n",
    "**2.-Revision de Duplicados**\n",
    "\n",
    "***2.1- De forma global, sin considerar la unidad muestral***\n",
    "\n",
    "***2.2- Identificando la unidad muestral y re-evaluando (2 opciones para mantener la mejor calidad)***\n",
    "\n",
    "**** 2.2.1- Limpieza de texto ****\n",
    "\n",
    "**** 2.2.2- Revisar si tenemos nombred duplicados ****\n",
    "\n",
    "**** 2.2.3- Limpieza de fecha ****\n",
    "\n",
    "**3.-Completitud**\n",
    "\n",
    "***3.1- Identificar y eliminar variables con arriba del 80% de nulos***\n",
    "\n",
    "**4.-Presicion/Orden**\n",
    "\n",
    "***4.1- Identificar y eliminar variables unitarias***\n",
    "\n",
    "***4.2- Revision variable por variable los posibles valores y limpieza/eliminacion de \"errores\"***\n",
    "\n",
    "**** 4.2.1- Normalizacion de variables categoricas (opcion \"OTROS\")****\n",
    "\n",
    "**5.-Consistencia**\n",
    "\n",
    "***5.1- Revisar variables fuera de rango, irregularidades, erores***\n"
   ]
  },
  {
   "cell_type": "code",
   "execution_count": null,
   "metadata": {},
   "outputs": [],
   "source": []
  }
 ],
 "metadata": {
  "colab": {
   "name": "Calidad de datos.ipynb",
   "provenance": []
  },
  "kernelspec": {
   "display_name": "diplomado",
   "language": "python",
   "name": "diplomado"
  },
  "language_info": {
   "codemirror_mode": {
    "name": "ipython",
    "version": 3
   },
   "file_extension": ".py",
   "mimetype": "text/x-python",
   "name": "python",
   "nbconvert_exporter": "python",
   "pygments_lexer": "ipython3",
   "version": "3.10.12"
  },
  "toc": {
   "base_numbering": 1,
   "nav_menu": {},
   "number_sections": false,
   "sideBar": true,
   "skip_h1_title": false,
   "title_cell": "Table of Contents",
   "title_sidebar": "Contents",
   "toc_cell": false,
   "toc_position": {
    "height": "calc(100% - 180px)",
    "left": "10px",
    "top": "150px",
    "width": "165px"
   },
   "toc_section_display": true,
   "toc_window_display": true
  },
  "varInspector": {
   "cols": {
    "lenName": 16,
    "lenType": 16,
    "lenVar": 40
   },
   "kernels_config": {
    "python": {
     "delete_cmd_postfix": "",
     "delete_cmd_prefix": "del ",
     "library": "var_list.py",
     "varRefreshCmd": "print(var_dic_list())"
    },
    "r": {
     "delete_cmd_postfix": ") ",
     "delete_cmd_prefix": "rm(",
     "library": "var_list.r",
     "varRefreshCmd": "cat(var_dic_list()) "
    }
   },
   "types_to_exclude": [
    "module",
    "function",
    "builtin_function_or_method",
    "instance",
    "_Feature"
   ],
   "window_display": false
  }
 },
 "nbformat": 4,
 "nbformat_minor": 1
}
